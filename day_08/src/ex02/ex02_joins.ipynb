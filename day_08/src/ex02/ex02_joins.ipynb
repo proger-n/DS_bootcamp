{
 "cells": [
  {
   "cell_type": "code",
   "execution_count": 1,
   "metadata": {},
   "outputs": [],
   "source": [
    "import pandas as pd\n",
    "import sqlite3"
   ]
  },
  {
   "cell_type": "markdown",
   "metadata": {},
   "source": [
    "What you need to do in this exercise (read the full task):\n",
    "\n",
    "- create a connection to the database using the library sqlite3\n",
    "- create a new table datamart in the database by joining the tables pageviews and\n",
    "- checker using only one query\n",
    "\n",
    "    - the table should have the following columns: uid, labname, first_commit_ts,\n",
    "    first_view_ts\n",
    "    - first_commit_ts is just a new name of the column timestamp from the checker\n",
    "    table, it shows the first commit from a particular lab and from a particular\n",
    "    user\n",
    "    - first_view_ts is the first visit of a user to the table pageviews, timestamp\n",
    "    when a user visited the newsfeed\n",
    "    - status = ’ready’ should still be a filter\n",
    "    - numTrials = 1 should still be a filter\n",
    "    - labnames should still be from the list: ’laba04’, ’laba04s’, ’laba05’, ’laba06’,\n",
    "    ’laba06s’, ’project1’\n",
    "    - the table should contain only the users (uids with user_*) and not the admins\n",
    "    - first_commit_ts and first_view_ts should be parsed as datetime64[ns]\n",
    "\n",
    "\n",
    "- using Pandas methods, create two dataframes: test and control\n",
    "\n",
    "    - test should have the users that have the values in first_view_ts\n",
    "    - control should have the users that have missing values in first_view_ts\n",
    "    - replace the missing values in the control with the average first_view_ts of the\n",
    "    test users, we will use this value for the future analysis\n",
    "    - save both tables into the database, you will use them in the next exercises\n",
    "\n",
    "\n",
    "- close the connection"
   ]
  },
  {
   "cell_type": "code",
   "execution_count": 67,
   "metadata": {},
   "outputs": [],
   "source": [
    "conn = sqlite3.connect('../data/checking-logs.sqlite')"
   ]
  },
  {
   "cell_type": "code",
   "execution_count": 61,
   "metadata": {},
   "outputs": [],
   "source": [
    "query = \"\"\"\n",
    "CREATE TABLE datamart AS\n",
    "SELECT checker.uid, \n",
    "        checker.labname, \n",
    "        checker.timestamp AS first_commit_ts, \n",
    "        MIN(pageviews.datetime) AS first_view_ts\n",
    "FROM checker\n",
    "LEFT JOIN pageviews USING(uid)\n",
    "WHERE checker.status = 'ready' \n",
    "    AND checker.numTrials = 1 \n",
    "    AND checker.labname IN ('laba04', 'laba04s', 'laba05', 'laba06', 'laba06s', 'project1')\n",
    "    AND checker.uid LIKE 'user_%'\n",
    "GROUP BY checker.uid, checker.labname;\n",
    "\"\"\"\n",
    "\n",
    "conn.execute(query)\n",
    "\n",
    "datamart = pd.io.sql.read_sql(\"SELECT * FROM datamart\", conn, parse_dates=['first_commit_ts', 'first_view_ts'])"
   ]
  },
  {
   "cell_type": "code",
   "execution_count": 68,
   "metadata": {},
   "outputs": [],
   "source": [
    "test_query = \"SELECT * FROM datamart WHERE first_view_ts IS NOT NULL;\"\n",
    "test = pd.io.sql.read_sql(test_query, conn, parse_dates=['first_view_ts'])"
   ]
  },
  {
   "cell_type": "code",
   "execution_count": 63,
   "metadata": {},
   "outputs": [],
   "source": [
    "control_query = \"SELECT * FROM datamart WHERE first_view_ts IS NULL;\"\n",
    "control = pd.io.sql.read_sql(control_query, conn)\n",
    "control['first_view_ts'] = test['first_view_ts'].mean()"
   ]
  },
  {
   "cell_type": "code",
   "execution_count": 64,
   "metadata": {},
   "outputs": [
    {
     "data": {
      "text/plain": [
       "81"
      ]
     },
     "execution_count": 64,
     "metadata": {},
     "output_type": "execute_result"
    }
   ],
   "source": [
    "test.to_sql('test', conn, if_exists='replace', index=False)\n",
    "control.to_sql('control', conn, if_exists='replace', index=False)"
   ]
  },
  {
   "cell_type": "code",
   "execution_count": 70,
   "metadata": {},
   "outputs": [],
   "source": [
    "conn.close()"
   ]
  }
 ],
 "metadata": {
  "kernelspec": {
   "display_name": "Python 3",
   "language": "python",
   "name": "python3"
  },
  "language_info": {
   "codemirror_mode": {
    "name": "ipython",
    "version": 3
   },
   "file_extension": ".py",
   "mimetype": "text/x-python",
   "name": "python",
   "nbconvert_exporter": "python",
   "pygments_lexer": "ipython3",
   "version": "3.10.12"
  }
 },
 "nbformat": 4,
 "nbformat_minor": 2
}
