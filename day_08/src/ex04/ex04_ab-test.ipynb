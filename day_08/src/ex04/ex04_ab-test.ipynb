{
 "cells": [
  {
   "cell_type": "code",
   "execution_count": 2,
   "metadata": {},
   "outputs": [],
   "source": [
    "import pandas as pd\n",
    "import sqlite3"
   ]
  },
  {
   "cell_type": "markdown",
   "metadata": {},
   "source": [
    "In more detail:\n",
    "\n",
    "- create a connection to the database using the library sqlite3\n",
    "- using only one query for each of the groups, create two dataframes: test_results\n",
    "and control_results with the columns time and avg_diff and only two rows\n",
    "\n",
    "    - time should have the values: after and before\n",
    "    - avg_diff contains the average delta among all the users for the time period\n",
    "    before each of them made their first visit to the page and afterward\n",
    "    - only take into account the users that have observations before and after\n",
    "\n",
    "\n",
    "- we still are not using the lab ’project1’\n",
    "- close the connection\n",
    "- have the answer: did the hypothesis turn out to be true and the page does affect\n",
    "the students’ behavior?"
   ]
  },
  {
   "cell_type": "code",
   "execution_count": 3,
   "metadata": {},
   "outputs": [],
   "source": [
    "conn = sqlite3.connect('../data/checking-logs.sqlite')"
   ]
  },
  {
   "cell_type": "code",
   "execution_count": 15,
   "metadata": {},
   "outputs": [
    {
     "data": {
      "text/html": [
       "<div>\n",
       "<style scoped>\n",
       "    .dataframe tbody tr th:only-of-type {\n",
       "        vertical-align: middle;\n",
       "    }\n",
       "\n",
       "    .dataframe tbody tr th {\n",
       "        vertical-align: top;\n",
       "    }\n",
       "\n",
       "    .dataframe thead th {\n",
       "        text-align: right;\n",
       "    }\n",
       "</style>\n",
       "<table border=\"1\" class=\"dataframe\">\n",
       "  <thead>\n",
       "    <tr style=\"text-align: right;\">\n",
       "      <th></th>\n",
       "      <th>time</th>\n",
       "      <th>avg_diff</th>\n",
       "    </tr>\n",
       "  </thead>\n",
       "  <tbody>\n",
       "    <tr>\n",
       "      <th>0</th>\n",
       "      <td>after</td>\n",
       "      <td>-117.636364</td>\n",
       "    </tr>\n",
       "    <tr>\n",
       "      <th>1</th>\n",
       "      <td>before</td>\n",
       "      <td>-99.464286</td>\n",
       "    </tr>\n",
       "  </tbody>\n",
       "</table>\n",
       "</div>"
      ],
      "text/plain": [
       "     time    avg_diff\n",
       "0   after -117.636364\n",
       "1  before  -99.464286"
      ]
     },
     "execution_count": 15,
     "metadata": {},
     "output_type": "execute_result"
    }
   ],
   "source": [
    "control_query = \"\"\"\n",
    "SELECT \n",
    "    'before' AS time, \n",
    "    AVG(CAST((julianday(control.first_commit_ts)- julianday(datetime(deadlines.deadlines, 'unixepoch'))) * 24 AS INTEGER)) AS avg_diff\n",
    "FROM control\n",
    "    JOIN deadlines ON control.labname = deadlines.labs\n",
    "WHERE control.labname != 'project1' \n",
    "    AND control.first_view_ts > control.first_commit_ts\n",
    "    AND uid IN(SELECT uid FROM control \n",
    "               WHERE labname != 'project1' \n",
    "                     AND first_view_ts <= first_commit_ts)\n",
    "UNION\n",
    "SELECT \n",
    "    'after' AS time, \n",
    "    AVG(CAST((julianday(control.first_commit_ts)- julianday(datetime(deadlines.deadlines, 'unixepoch'))) * 24 AS INTEGER)) AS avg_diff\n",
    "FROM control\n",
    "JOIN deadlines ON control.labname = deadlines.labs\n",
    "WHERE control.labname != 'project1' \n",
    "    AND control.first_view_ts <= control.first_commit_ts\n",
    "    AND uid IN(SELECT uid FROM control \n",
    "               WHERE labname != 'project1' \n",
    "                     AND first_view_ts > first_commit_ts);\n",
    "\"\"\"\n",
    "control_results = pd.io.sql.read_sql(control_query, conn)\n",
    "control_results"
   ]
  },
  {
   "cell_type": "code",
   "execution_count": 13,
   "metadata": {},
   "outputs": [
    {
     "data": {
      "text/html": [
       "<div>\n",
       "<style scoped>\n",
       "    .dataframe tbody tr th:only-of-type {\n",
       "        vertical-align: middle;\n",
       "    }\n",
       "\n",
       "    .dataframe tbody tr th {\n",
       "        vertical-align: top;\n",
       "    }\n",
       "\n",
       "    .dataframe thead th {\n",
       "        text-align: right;\n",
       "    }\n",
       "</style>\n",
       "<table border=\"1\" class=\"dataframe\">\n",
       "  <thead>\n",
       "    <tr style=\"text-align: right;\">\n",
       "      <th></th>\n",
       "      <th>time</th>\n",
       "      <th>avg_diff</th>\n",
       "    </tr>\n",
       "  </thead>\n",
       "  <tbody>\n",
       "    <tr>\n",
       "      <th>0</th>\n",
       "      <td>after</td>\n",
       "      <td>-104.6000</td>\n",
       "    </tr>\n",
       "    <tr>\n",
       "      <th>1</th>\n",
       "      <td>before</td>\n",
       "      <td>-60.5625</td>\n",
       "    </tr>\n",
       "  </tbody>\n",
       "</table>\n",
       "</div>"
      ],
      "text/plain": [
       "     time  avg_diff\n",
       "0   after -104.6000\n",
       "1  before  -60.5625"
      ]
     },
     "execution_count": 13,
     "metadata": {},
     "output_type": "execute_result"
    }
   ],
   "source": [
    "test_query = \"\"\"\n",
    "SELECT 'before' AS time, AVG(CAST((julianday(test.first_commit_ts)- julianday(datetime(deadlines.deadlines, 'unixepoch'))) * 24 AS INTEGER)) AS avg_diff\n",
    "FROM test\n",
    "JOIN deadlines ON test.labname = deadlines.labs\n",
    "WHERE test.labname != 'project1' AND test.first_view_ts > test.first_commit_ts\n",
    "AND uid IN(SELECT uid FROM test \n",
    "               WHERE labname != 'project1' \n",
    "                     AND first_view_ts <= first_commit_ts)\n",
    "UNION\n",
    "SELECT 'after' AS time, AVG(CAST((julianday(test.first_commit_ts)- julianday(datetime(deadlines.deadlines, 'unixepoch'))) * 24 AS INTEGER)) AS avg_diff\n",
    "FROM test\n",
    "JOIN deadlines ON test.labname = deadlines.labs\n",
    "WHERE test.labname != 'project1' AND test.first_view_ts <= test.first_commit_ts\n",
    "AND uid IN(SELECT uid FROM test \n",
    "               WHERE labname != 'project1' \n",
    "                     AND first_view_ts > first_commit_ts);\n",
    "\"\"\"\n",
    "test_results = pd.io.sql.read_sql(test_query, conn)\n",
    "test_results"
   ]
  },
  {
   "cell_type": "code",
   "execution_count": 16,
   "metadata": {},
   "outputs": [],
   "source": [
    "conn.close()\n"
   ]
  },
  {
   "cell_type": "markdown",
   "metadata": {},
   "source": [
    "have the answer: did the hypothesis turn out to be true and the page does affect\n",
    "the students’ behavior?  \n",
    "ANSWER: Да повлияла"
   ]
  }
 ],
 "metadata": {
  "kernelspec": {
   "display_name": "Python 3",
   "language": "python",
   "name": "python3"
  },
  "language_info": {
   "codemirror_mode": {
    "name": "ipython",
    "version": 3
   },
   "file_extension": ".py",
   "mimetype": "text/x-python",
   "name": "python",
   "nbconvert_exporter": "python",
   "pygments_lexer": "ipython3",
   "version": "3.10.12"
  }
 },
 "nbformat": 4,
 "nbformat_minor": 2
}
