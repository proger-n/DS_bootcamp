{
 "cells": [
  {
   "cell_type": "code",
   "execution_count": 1,
   "metadata": {},
   "outputs": [],
   "source": [
    "import pandas as pd\n",
    "import sqlite3"
   ]
  },
  {
   "cell_type": "markdown",
   "metadata": {},
   "source": [
    "- analyze only the users and not the admins\n",
    "- the fontsize and the figsize remain the same\n",
    "- for each hour, calculate the average number of commits on working days and on\n",
    "weekends (if there were no commits in an hour, do not use it to calculate the\n",
    "average) use these values for your graph, for example: Mon, 17-18: 5 commits, Tue,\n",
    "17-18: 6 commits, Wed, 17-18: 7 commits\n",
    "- choose a palette that you really enjoy, you do not have to replicate it from the graph\n",
    "above\n",
    "- at the end of your Jupyter Notebook, create a markdown cell and insert the question\n",
    "\n",
    "    - “Is the dynamic different on working days and weekends?”, for the answer\n",
    "    include the hour when the number of commits is the largest during working days and the hour when it is the largest during the weekend."
   ]
  },
  {
   "cell_type": "code",
   "execution_count": 104,
   "metadata": {},
   "outputs": [],
   "source": [
    "conn = sqlite3.connect('../data/checking-logs.sqlite')"
   ]
  },
  {
   "cell_type": "code",
   "execution_count": 97,
   "metadata": {},
   "outputs": [],
   "source": [
    "df = pd.io.sql.read_sql(\n",
    "    \"\"\"\n",
    "    SELECT\n",
    "        day_type,\n",
    "        hour,\n",
    "        AVG(count_of_commits) AS avg\n",
    "    FROM (SELECT\n",
    "        strftime('%d', timestamp) AS day_num,\n",
    "        strftime('%H', timestamp) AS hour,\n",
    "        CASE\n",
    "            WHEN strftime('%w', timestamp) IN('0', '6') THEN 'weekend'\n",
    "            ELSE 'workday'\n",
    "        END AS day_type,\n",
    "        COUNT(*) AS count_of_commits\n",
    "    FROM checker \n",
    "    WHERE uid LIKE 'user_%'\n",
    "    GROUP BY 1, 2, 3) t\n",
    "    GROUP BY 1, 2\n",
    "    \"\"\", \n",
    "    conn)"
   ]
  },
  {
   "cell_type": "code",
   "execution_count": 98,
   "metadata": {},
   "outputs": [
    {
     "data": {
      "text/html": [
       "<div>\n",
       "<style scoped>\n",
       "    .dataframe tbody tr th:only-of-type {\n",
       "        vertical-align: middle;\n",
       "    }\n",
       "\n",
       "    .dataframe tbody tr th {\n",
       "        vertical-align: top;\n",
       "    }\n",
       "\n",
       "    .dataframe thead th {\n",
       "        text-align: right;\n",
       "    }\n",
       "</style>\n",
       "<table border=\"1\" class=\"dataframe\">\n",
       "  <thead>\n",
       "    <tr style=\"text-align: right;\">\n",
       "      <th>day_type</th>\n",
       "      <th>weekend</th>\n",
       "      <th>workday</th>\n",
       "    </tr>\n",
       "    <tr>\n",
       "      <th>hour</th>\n",
       "      <th></th>\n",
       "      <th></th>\n",
       "    </tr>\n",
       "  </thead>\n",
       "  <tbody>\n",
       "    <tr>\n",
       "      <th>00</th>\n",
       "      <td>2.000000</td>\n",
       "      <td>3.000000</td>\n",
       "    </tr>\n",
       "    <tr>\n",
       "      <th>01</th>\n",
       "      <td>6.000000</td>\n",
       "      <td>0.000000</td>\n",
       "    </tr>\n",
       "    <tr>\n",
       "      <th>03</th>\n",
       "      <td>1.000000</td>\n",
       "      <td>2.000000</td>\n",
       "    </tr>\n",
       "    <tr>\n",
       "      <th>05</th>\n",
       "      <td>2.000000</td>\n",
       "      <td>7.500000</td>\n",
       "    </tr>\n",
       "    <tr>\n",
       "      <th>06</th>\n",
       "      <td>0.000000</td>\n",
       "      <td>1.500000</td>\n",
       "    </tr>\n",
       "    <tr>\n",
       "      <th>07</th>\n",
       "      <td>4.000000</td>\n",
       "      <td>5.166667</td>\n",
       "    </tr>\n",
       "    <tr>\n",
       "      <th>08</th>\n",
       "      <td>7.000000</td>\n",
       "      <td>3.700000</td>\n",
       "    </tr>\n",
       "    <tr>\n",
       "      <th>09</th>\n",
       "      <td>3.666667</td>\n",
       "      <td>6.000000</td>\n",
       "    </tr>\n",
       "    <tr>\n",
       "      <th>10</th>\n",
       "      <td>7.000000</td>\n",
       "      <td>13.200000</td>\n",
       "    </tr>\n",
       "    <tr>\n",
       "      <th>11</th>\n",
       "      <td>23.600000</td>\n",
       "      <td>6.769231</td>\n",
       "    </tr>\n",
       "    <tr>\n",
       "      <th>12</th>\n",
       "      <td>9.500000</td>\n",
       "      <td>7.181818</td>\n",
       "    </tr>\n",
       "    <tr>\n",
       "      <th>13</th>\n",
       "      <td>18.000000</td>\n",
       "      <td>8.111111</td>\n",
       "    </tr>\n",
       "    <tr>\n",
       "      <th>14</th>\n",
       "      <td>12.428571</td>\n",
       "      <td>11.090909</td>\n",
       "    </tr>\n",
       "    <tr>\n",
       "      <th>15</th>\n",
       "      <td>14.250000</td>\n",
       "      <td>14.100000</td>\n",
       "    </tr>\n",
       "    <tr>\n",
       "      <th>16</th>\n",
       "      <td>14.800000</td>\n",
       "      <td>18.888889</td>\n",
       "    </tr>\n",
       "    <tr>\n",
       "      <th>17</th>\n",
       "      <td>7.142857</td>\n",
       "      <td>17.454545</td>\n",
       "    </tr>\n",
       "    <tr>\n",
       "      <th>18</th>\n",
       "      <td>9.714286</td>\n",
       "      <td>16.700000</td>\n",
       "    </tr>\n",
       "    <tr>\n",
       "      <th>19</th>\n",
       "      <td>13.125000</td>\n",
       "      <td>19.454545</td>\n",
       "    </tr>\n",
       "    <tr>\n",
       "      <th>20</th>\n",
       "      <td>13.000000</td>\n",
       "      <td>15.250000</td>\n",
       "    </tr>\n",
       "    <tr>\n",
       "      <th>21</th>\n",
       "      <td>10.285714</td>\n",
       "      <td>24.333333</td>\n",
       "    </tr>\n",
       "    <tr>\n",
       "      <th>22</th>\n",
       "      <td>9.833333</td>\n",
       "      <td>3.750000</td>\n",
       "    </tr>\n",
       "    <tr>\n",
       "      <th>23</th>\n",
       "      <td>6.400000</td>\n",
       "      <td>5.000000</td>\n",
       "    </tr>\n",
       "  </tbody>\n",
       "</table>\n",
       "</div>"
      ],
      "text/plain": [
       "day_type    weekend    workday\n",
       "hour                          \n",
       "00         2.000000   3.000000\n",
       "01         6.000000   0.000000\n",
       "03         1.000000   2.000000\n",
       "05         2.000000   7.500000\n",
       "06         0.000000   1.500000\n",
       "07         4.000000   5.166667\n",
       "08         7.000000   3.700000\n",
       "09         3.666667   6.000000\n",
       "10         7.000000  13.200000\n",
       "11        23.600000   6.769231\n",
       "12         9.500000   7.181818\n",
       "13        18.000000   8.111111\n",
       "14        12.428571  11.090909\n",
       "15        14.250000  14.100000\n",
       "16        14.800000  18.888889\n",
       "17         7.142857  17.454545\n",
       "18         9.714286  16.700000\n",
       "19        13.125000  19.454545\n",
       "20        13.000000  15.250000\n",
       "21        10.285714  24.333333\n",
       "22         9.833333   3.750000\n",
       "23         6.400000   5.000000"
      ]
     },
     "execution_count": 98,
     "metadata": {},
     "output_type": "execute_result"
    }
   ],
   "source": [
    "df_pivot = pd.pivot_table(df, values='avg', index=['hour'],\n",
    "               columns=['day_type'], fill_value=0)\n",
    "df_pivot"
   ]
  },
  {
   "cell_type": "code",
   "execution_count": 102,
   "metadata": {},
   "outputs": [
    {
     "data": {
      "text/plain": [
       "array([<Axes: title={'center': 'weekend'}, xlabel='hour'>,\n",
       "       <Axes: title={'center': 'workday'}, xlabel='hour'>], dtype=object)"
      ]
     },
     "execution_count": 102,
     "metadata": {},
     "output_type": "execute_result"
    },
    {
     "data": {
      "image/png": "[encoded data removed]",
      "text/plain": [
       "<Figure size 1500x800 with 2 Axes>"
      ]
     },
     "metadata": {},
     "output_type": "display_data"
    }
   ],
   "source": [
    "df_pivot.plot(kind='bar', \n",
    "        title='commits per day',\n",
    "        rot=90, \n",
    "        figsize=(15, 8), \n",
    "        fontsize=8,\n",
    "        color=['y', 'black'],\n",
    "        subplots=True)"
   ]
  },
  {
   "cell_type": "code",
   "execution_count": 106,
   "metadata": {},
   "outputs": [],
   "source": [
    "conn.close()"
   ]
  },
  {
   "cell_type": "markdown",
   "metadata": {},
   "source": [
    "“Is the dynamic different on working days and weekends?”, for the answer\n",
    "    include the hour when the number of commits is the largest during working days and the hour when it is the largest during the weekend. \n",
    "     \n",
    "ANSWER: \n",
    "- weekend 11  \n",
    "- workday 21"
   ]
  }
 ],
 "metadata": {
  "kernelspec": {
   "display_name": "Python 3",
   "language": "python",
   "name": "python3"
  },
  "language_info": {
   "codemirror_mode": {
    "name": "ipython",
    "version": 3
   },
   "file_extension": ".py",
   "mimetype": "text/x-python",
   "name": "python",
   "nbconvert_exporter": "python",
   "pygments_lexer": "ipython3",
   "version": "3.10.12"
  }
 },
 "nbformat": 4,
 "nbformat_minor": 2
}
