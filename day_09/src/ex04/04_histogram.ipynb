{
 "cells": [
  {
   "cell_type": "code",
   "execution_count": 2,
   "metadata": {},
   "outputs": [],
   "source": [
    "import pandas as pd\n",
    "import sqlite3\n",
    "import matplotlib.pyplot as plt"
   ]
  },
  {
   "cell_type": "markdown",
   "metadata": {},
   "source": [
    "- analyze only the users and not the admins\n",
    "- create two lists of values (for working days and for weekends) for the histogram\n",
    "input\n",
    "- the figsize is still the same, you can choose the fontsize as well as the color palette\n",
    "- use a level of transparency for the histogram in front equal to 0.7\n",
    "- at the end of your Jupyter Notebook, create a markdown cell and insert the question:\n",
    "    - “Are there hours when the total number of commits was higher on weekends than\n",
    "    on working days?” In your answer, put the top-4 examples."
   ]
  },
  {
   "cell_type": "code",
   "execution_count": 44,
   "metadata": {},
   "outputs": [],
   "source": [
    "conn = sqlite3.connect('../data/checking-logs.sqlite')"
   ]
  },
  {
   "cell_type": "code",
   "execution_count": 46,
   "metadata": {},
   "outputs": [],
   "source": [
    "df = pd.io.sql.read_sql(\n",
    "    \"\"\"\n",
    "    SELECT\n",
    "        CAST(strftime('%H', timestamp) AS INTEGER) AS hour,\n",
    "        CASE\n",
    "            WHEN strftime('%w', timestamp) IN('0', '6') THEN 'weekend'\n",
    "            ELSE 'workday'\n",
    "        END AS day_type\n",
    "    FROM checker \n",
    "    WHERE uid LIKE 'user_%'\n",
    "    \"\"\", \n",
    "    conn,\n",
    "    dtype={'hour': 'int'})"
   ]
  },
  {
   "cell_type": "code",
   "execution_count": 48,
   "metadata": {},
   "outputs": [],
   "source": [
    "df_weekend = df[df.day_type == 'weekend']\n",
    "df_workday = df[df.day_type == 'workday']"
   ]
  },
  {
   "cell_type": "code",
   "execution_count": 50,
   "metadata": {},
   "outputs": [
    {
     "data": {
      "image/png": "[encoded data removed]",
      "text/plain": [
       "<Figure size 1500x800 with 1 Axes>"
      ]
     },
     "metadata": {},
     "output_type": "display_data"
    }
   ],
   "source": [
    "fig, ax = plt.subplots(figsize=(15, 8))\n",
    "ax.hist(df_workday['hour'],\n",
    "        bins=24,\n",
    "        label='workday',\n",
    "        color='c')\n",
    "ax.hist(df_weekend['hour'],\n",
    "        bins=24,\n",
    "        label='weekend',\n",
    "        color='r',\n",
    "        alpha=0.7)\n",
    "ax.set_xlim(0, 23)\n",
    "ax.legend(loc='upper left', fontsize='8')\n",
    "plt.show()"
   ]
  },
  {
   "cell_type": "markdown",
   "metadata": {},
   "source": [
    "“Are there hours when the total number of commits was higher on weekends than\n",
    "    on working days?” In your answer, put the top-4 examples.  \n",
    "ANSWER: YES-11,13,22,23"
   ]
  },
  {
   "cell_type": "code",
   "execution_count": 77,
   "metadata": {},
   "outputs": [
    {
     "data": {
      "text/html": [
       "<div>\n",
       "<style scoped>\n",
       "    .dataframe tbody tr th:only-of-type {\n",
       "        vertical-align: middle;\n",
       "    }\n",
       "\n",
       "    .dataframe tbody tr th {\n",
       "        vertical-align: top;\n",
       "    }\n",
       "\n",
       "    .dataframe thead th {\n",
       "        text-align: right;\n",
       "    }\n",
       "</style>\n",
       "<table border=\"1\" class=\"dataframe\">\n",
       "  <thead>\n",
       "    <tr style=\"text-align: right;\">\n",
       "      <th></th>\n",
       "      <th>hour</th>\n",
       "      <th>comm_count</th>\n",
       "    </tr>\n",
       "  </thead>\n",
       "  <tbody>\n",
       "    <tr>\n",
       "      <th>8</th>\n",
       "      <td>11</td>\n",
       "      <td>118</td>\n",
       "    </tr>\n",
       "    <tr>\n",
       "      <th>10</th>\n",
       "      <td>13</td>\n",
       "      <td>108</td>\n",
       "    </tr>\n",
       "    <tr>\n",
       "      <th>19</th>\n",
       "      <td>22</td>\n",
       "      <td>59</td>\n",
       "    </tr>\n",
       "    <tr>\n",
       "      <th>20</th>\n",
       "      <td>23</td>\n",
       "      <td>32</td>\n",
       "    </tr>\n",
       "    <tr>\n",
       "      <th>1</th>\n",
       "      <td>1</td>\n",
       "      <td>6</td>\n",
       "    </tr>\n",
       "  </tbody>\n",
       "</table>\n",
       "</div>"
      ],
      "text/plain": [
       "    hour  comm_count\n",
       "8     11         118\n",
       "10    13         108\n",
       "19    22          59\n",
       "20    23          32\n",
       "1      1           6"
      ]
     },
     "execution_count": 77,
     "metadata": {},
     "output_type": "execute_result"
    }
   ],
   "source": [
    "df_we = df_weekend.groupby('hour').count().reset_index()\n",
    "df_wd = df_workday.groupby('hour').count().reset_index()\n",
    "\n",
    "df_we[df_we['day_type'] > df_wd['day_type']] \\\n",
    "    .sort_values(by='day_type', ascending=False) \\\n",
    "        .rename(columns={'day_type': 'comm_count'})"
   ]
  },
  {
   "cell_type": "code",
   "execution_count": 79,
   "metadata": {},
   "outputs": [],
   "source": [
    "conn.close()"
   ]
  }
 ],
 "metadata": {
  "kernelspec": {
   "display_name": "Python 3",
   "language": "python",
   "name": "python3"
  },
  "language_info": {
   "codemirror_mode": {
    "name": "ipython",
    "version": 3
   },
   "file_extension": ".py",
   "mimetype": "text/x-python",
   "name": "python",
   "nbconvert_exporter": "python",
   "pygments_lexer": "ipython3",
   "version": "3.10.12"
  }
 },
 "nbformat": 4,
 "nbformat_minor": 2
}
