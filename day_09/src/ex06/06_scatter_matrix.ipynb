{
 "cells": [
  {
   "cell_type": "code",
   "execution_count": 2,
   "metadata": {},
   "outputs": [],
   "source": [
    "import pandas as pd\n",
    "import sqlite3\n",
    "from pandas.plotting import scatter_matrix"
   ]
  },
  {
   "cell_type": "markdown",
   "metadata": {},
   "source": [
    "- create a dataframe where each user of the test group has the average difference,\n",
    "number of pageviews and number of commits\n",
    "- do not take project1 into account for calculations of the average difference and the\n",
    "number of commits\n",
    "- take the number of commits from the checker table\n",
    "- the figsize is still the same, you can choose whatever fontsize you like as well as the\n",
    "color palette\n",
    "- the size of the dots should be 200\n",
    "- the width of the lines of the diagonal graphs (kde) should be 3\n",
    "- at the end of your Jupyter Notebook, create a markdown cell and insert the questions:\n",
    "\n",
    "    - “Can we say that if a user has a low number of pageviews then they likely\n",
    "    have a low number of commits?” The answer: yes or no.\n",
    "    - “Can we say that if a user has a low number of pageviews then they likely have\n",
    "    a small average difference between the first commit and the lab deadline?” The\n",
    "    answer: yes or no.\n",
    "    - “Can we say that there are many users with a low number of commits and a\n",
    "    few with a high number of commits”? The answer: yes or no.\n",
    "    - “Can we say that there are many users with a small average difference and a\n",
    "    few with a large average difference”? The answer: yes or no."
   ]
  },
  {
   "cell_type": "code",
   "execution_count": 3,
   "metadata": {},
   "outputs": [],
   "source": [
    "conn = sqlite3.connect('../data/checking-logs.sqlite')"
   ]
  },
  {
   "cell_type": "code",
   "execution_count": 4,
   "metadata": {},
   "outputs": [
    {
     "name": "stdout",
     "output_type": "stream",
     "text": [
      "   cid             name  type  notnull dflt_value  pk\n",
      "0    0              uid  TEXT        0       None   0\n",
      "1    1          labname  TEXT        0       None   0\n",
      "2    2  first_commit_ts   NUM        0       None   0\n",
      "3    3    first_view_ts              0       None   0\n"
     ]
    }
   ],
   "source": [
    "schema_query = \"PRAGMA table_info(datamart);\"\n",
    "schema = pd.io.sql.read_sql(schema_query, conn)\n",
    "print(schema)"
   ]
  },
  {
   "cell_type": "code",
   "execution_count": 7,
   "metadata": {},
   "outputs": [
    {
     "data": {
      "text/html": [
       "<div>\n",
       "<style scoped>\n",
       "    .dataframe tbody tr th:only-of-type {\n",
       "        vertical-align: middle;\n",
       "    }\n",
       "\n",
       "    .dataframe tbody tr th {\n",
       "        vertical-align: top;\n",
       "    }\n",
       "\n",
       "    .dataframe thead th {\n",
       "        text-align: right;\n",
       "    }\n",
       "</style>\n",
       "<table border=\"1\" class=\"dataframe\">\n",
       "  <thead>\n",
       "    <tr style=\"text-align: right;\">\n",
       "      <th></th>\n",
       "      <th>num_commits</th>\n",
       "    </tr>\n",
       "    <tr>\n",
       "      <th>uid</th>\n",
       "      <th></th>\n",
       "    </tr>\n",
       "  </thead>\n",
       "  <tbody>\n",
       "    <tr>\n",
       "      <th>user_0</th>\n",
       "      <td>3</td>\n",
       "    </tr>\n",
       "    <tr>\n",
       "      <th>user_1</th>\n",
       "      <td>62</td>\n",
       "    </tr>\n",
       "    <tr>\n",
       "      <th>user_10</th>\n",
       "      <td>20</td>\n",
       "    </tr>\n",
       "    <tr>\n",
       "      <th>user_11</th>\n",
       "      <td>7</td>\n",
       "    </tr>\n",
       "    <tr>\n",
       "      <th>user_12</th>\n",
       "      <td>86</td>\n",
       "    </tr>\n",
       "  </tbody>\n",
       "</table>\n",
       "</div>"
      ],
      "text/plain": [
       "         num_commits\n",
       "uid                 \n",
       "user_0             3\n",
       "user_1            62\n",
       "user_10           20\n",
       "user_11            7\n",
       "user_12           86"
      ]
     },
     "execution_count": 7,
     "metadata": {},
     "output_type": "execute_result"
    }
   ],
   "source": [
    "num_commits = pd.io.sql.read_sql(\n",
    "    \"\"\"\n",
    "    SELECT\n",
    "        uid,\n",
    "        COUNT(*) num_commits\n",
    "    FROM checker \n",
    "    WHERE uid LIKE 'user_%' AND labname <> 'project1'\n",
    "    GROUP BY 1\n",
    "    \"\"\", \n",
    "    conn, index_col='uid')\n",
    "num_commits.head(5)"
   ]
  },
  {
   "cell_type": "code",
   "execution_count": 8,
   "metadata": {},
   "outputs": [
    {
     "data": {
      "text/html": [
       "<div>\n",
       "<style scoped>\n",
       "    .dataframe tbody tr th:only-of-type {\n",
       "        vertical-align: middle;\n",
       "    }\n",
       "\n",
       "    .dataframe tbody tr th {\n",
       "        vertical-align: top;\n",
       "    }\n",
       "\n",
       "    .dataframe thead th {\n",
       "        text-align: right;\n",
       "    }\n",
       "</style>\n",
       "<table border=\"1\" class=\"dataframe\">\n",
       "  <thead>\n",
       "    <tr style=\"text-align: right;\">\n",
       "      <th></th>\n",
       "      <th>pageviews</th>\n",
       "    </tr>\n",
       "    <tr>\n",
       "      <th>uid</th>\n",
       "      <th></th>\n",
       "    </tr>\n",
       "  </thead>\n",
       "  <tbody>\n",
       "    <tr>\n",
       "      <th>user_1</th>\n",
       "      <td>28</td>\n",
       "    </tr>\n",
       "    <tr>\n",
       "      <th>user_10</th>\n",
       "      <td>89</td>\n",
       "    </tr>\n",
       "    <tr>\n",
       "      <th>user_14</th>\n",
       "      <td>143</td>\n",
       "    </tr>\n",
       "    <tr>\n",
       "      <th>user_17</th>\n",
       "      <td>47</td>\n",
       "    </tr>\n",
       "    <tr>\n",
       "      <th>user_18</th>\n",
       "      <td>3</td>\n",
       "    </tr>\n",
       "  </tbody>\n",
       "</table>\n",
       "</div>"
      ],
      "text/plain": [
       "         pageviews\n",
       "uid               \n",
       "user_1          28\n",
       "user_10         89\n",
       "user_14        143\n",
       "user_17         47\n",
       "user_18          3"
      ]
     },
     "execution_count": 8,
     "metadata": {},
     "output_type": "execute_result"
    }
   ],
   "source": [
    "query = '''\n",
    "SELECT uid, COUNT(*) AS pageviews\n",
    "FROM pageviews\n",
    "WHERE uid LIKE 'user_%'\n",
    "GROUP BY 1\n",
    "'''\n",
    "pageviews = pd.io.sql.read_sql(query, conn, index_col='uid')\n",
    "pageviews.head(5)"
   ]
  },
  {
   "cell_type": "code",
   "execution_count": 14,
   "metadata": {},
   "outputs": [
    {
     "data": {
      "text/html": [
       "<div>\n",
       "<style scoped>\n",
       "    .dataframe tbody tr th:only-of-type {\n",
       "        vertical-align: middle;\n",
       "    }\n",
       "\n",
       "    .dataframe tbody tr th {\n",
       "        vertical-align: top;\n",
       "    }\n",
       "\n",
       "    .dataframe thead th {\n",
       "        text-align: right;\n",
       "    }\n",
       "</style>\n",
       "<table border=\"1\" class=\"dataframe\">\n",
       "  <thead>\n",
       "    <tr style=\"text-align: right;\">\n",
       "      <th></th>\n",
       "      <th>avg_diff</th>\n",
       "    </tr>\n",
       "    <tr>\n",
       "      <th>uid</th>\n",
       "      <th></th>\n",
       "    </tr>\n",
       "  </thead>\n",
       "  <tbody>\n",
       "    <tr>\n",
       "      <th>user_1</th>\n",
       "      <td>-64.4</td>\n",
       "    </tr>\n",
       "    <tr>\n",
       "      <th>user_10</th>\n",
       "      <td>-74.8</td>\n",
       "    </tr>\n",
       "    <tr>\n",
       "      <th>user_14</th>\n",
       "      <td>-159.0</td>\n",
       "    </tr>\n",
       "  </tbody>\n",
       "</table>\n",
       "</div>"
      ],
      "text/plain": [
       "         avg_diff\n",
       "uid              \n",
       "user_1      -64.4\n",
       "user_10     -74.8\n",
       "user_14    -159.0"
      ]
     },
     "execution_count": 14,
     "metadata": {},
     "output_type": "execute_result"
    }
   ],
   "source": [
    "corr_query = \"\"\"\n",
    "SELECT uid, \n",
    "    AVG(diff) AS avg_diff \n",
    "FROM (SELECT test.uid, \n",
    "        CAST((julianday(test.first_commit_ts)- julianday(datetime(deadlines.deadlines, 'unixepoch'))) * 24 AS INTEGER) AS diff\n",
    "    FROM test\n",
    "        LEFT JOIN deadlines ON test.labname = deadlines.labs\n",
    "    WHERE test.labname != 'project1') t\n",
    "    JOIN pageviews USING(uid)\n",
    "GROUP BY uid;\n",
    "\"\"\"\n",
    "avg_diff = pd.io.sql.read_sql(corr_query, conn, index_col='uid')\n",
    "avg_diff.head(3)"
   ]
  },
  {
   "cell_type": "code",
   "execution_count": 22,
   "metadata": {},
   "outputs": [
    {
     "name": "stdout",
     "output_type": "stream",
     "text": [
      "<class 'pandas.core.frame.DataFrame'>\n",
      "Index: 13 entries, user_1 to user_9\n",
      "Data columns (total 1 columns):\n",
      " #   Column     Non-Null Count  Dtype\n",
      "---  ------     --------------  -----\n",
      " 0   pageviews  13 non-null     int64\n",
      "dtypes: int64(1)\n",
      "memory usage: 764.0+ bytes\n"
     ]
    }
   ],
   "source": [
    "pageviews.info()"
   ]
  },
  {
   "cell_type": "code",
   "execution_count": 25,
   "metadata": {},
   "outputs": [
    {
     "data": {
      "text/html": [
       "<div>\n",
       "<style scoped>\n",
       "    .dataframe tbody tr th:only-of-type {\n",
       "        vertical-align: middle;\n",
       "    }\n",
       "\n",
       "    .dataframe tbody tr th {\n",
       "        vertical-align: top;\n",
       "    }\n",
       "\n",
       "    .dataframe thead th {\n",
       "        text-align: right;\n",
       "    }\n",
       "</style>\n",
       "<table border=\"1\" class=\"dataframe\">\n",
       "  <thead>\n",
       "    <tr style=\"text-align: right;\">\n",
       "      <th></th>\n",
       "      <th>avg_diff</th>\n",
       "      <th>pageviews</th>\n",
       "      <th>num_commits</th>\n",
       "    </tr>\n",
       "    <tr>\n",
       "      <th>uid</th>\n",
       "      <th></th>\n",
       "      <th></th>\n",
       "      <th></th>\n",
       "    </tr>\n",
       "  </thead>\n",
       "  <tbody>\n",
       "    <tr>\n",
       "      <th>user_1</th>\n",
       "      <td>-64.400000</td>\n",
       "      <td>28</td>\n",
       "      <td>62</td>\n",
       "    </tr>\n",
       "    <tr>\n",
       "      <th>user_10</th>\n",
       "      <td>-74.800000</td>\n",
       "      <td>89</td>\n",
       "      <td>20</td>\n",
       "    </tr>\n",
       "    <tr>\n",
       "      <th>user_14</th>\n",
       "      <td>-159.000000</td>\n",
       "      <td>143</td>\n",
       "      <td>61</td>\n",
       "    </tr>\n",
       "    <tr>\n",
       "      <th>user_17</th>\n",
       "      <td>-61.600000</td>\n",
       "      <td>47</td>\n",
       "      <td>51</td>\n",
       "    </tr>\n",
       "    <tr>\n",
       "      <th>user_18</th>\n",
       "      <td>-5.666667</td>\n",
       "      <td>3</td>\n",
       "      <td>5</td>\n",
       "    </tr>\n",
       "    <tr>\n",
       "      <th>user_19</th>\n",
       "      <td>-98.750000</td>\n",
       "      <td>16</td>\n",
       "      <td>118</td>\n",
       "    </tr>\n",
       "    <tr>\n",
       "      <th>user_21</th>\n",
       "      <td>-95.500000</td>\n",
       "      <td>10</td>\n",
       "      <td>65</td>\n",
       "    </tr>\n",
       "    <tr>\n",
       "      <th>user_25</th>\n",
       "      <td>-92.600000</td>\n",
       "      <td>179</td>\n",
       "      <td>79</td>\n",
       "    </tr>\n",
       "    <tr>\n",
       "      <th>user_28</th>\n",
       "      <td>-86.400000</td>\n",
       "      <td>149</td>\n",
       "      <td>60</td>\n",
       "    </tr>\n",
       "    <tr>\n",
       "      <th>user_3</th>\n",
       "      <td>-105.400000</td>\n",
       "      <td>317</td>\n",
       "      <td>18</td>\n",
       "    </tr>\n",
       "    <tr>\n",
       "      <th>user_30</th>\n",
       "      <td>-145.250000</td>\n",
       "      <td>3</td>\n",
       "      <td>34</td>\n",
       "    </tr>\n",
       "  </tbody>\n",
       "</table>\n",
       "</div>"
      ],
      "text/plain": [
       "           avg_diff  pageviews  num_commits\n",
       "uid                                        \n",
       "user_1   -64.400000         28           62\n",
       "user_10  -74.800000         89           20\n",
       "user_14 -159.000000        143           61\n",
       "user_17  -61.600000         47           51\n",
       "user_18   -5.666667          3            5\n",
       "user_19  -98.750000         16          118\n",
       "user_21  -95.500000         10           65\n",
       "user_25  -92.600000        179           79\n",
       "user_28  -86.400000        149           60\n",
       "user_3  -105.400000        317           18\n",
       "user_30 -145.250000          3           34"
      ]
     },
     "execution_count": 25,
     "metadata": {},
     "output_type": "execute_result"
    }
   ],
   "source": [
    "df_merged = pd.concat([avg_diff, pageviews, num_commits], axis=1, join='inner')\n",
    "df_merged"
   ]
  },
  {
   "cell_type": "code",
   "execution_count": 33,
   "metadata": {},
   "outputs": [
    {
     "data": {
      "image/png": "[encoded data removed]",
      "text/plain": [
       "<Figure size 1500x800 with 9 Axes>"
      ]
     },
     "metadata": {},
     "output_type": "display_data"
    }
   ],
   "source": [
    "ax = scatter_matrix(df_merged,\n",
    "                    figsize=(15, 8),\n",
    "                    diagonal='kde',\n",
    "                    density_kwds=dict(color='violet', linewidth=3),\n",
    "                    s=200,\n",
    "                    color='red')"
   ]
  },
  {
   "cell_type": "code",
   "execution_count": 34,
   "metadata": {},
   "outputs": [],
   "source": [
    "conn.close()"
   ]
  },
  {
   "cell_type": "markdown",
   "metadata": {},
   "source": [
    "- “Can we say that if a user has a low number of pageviews then they likely\n",
    "have a low number of commits?” \n",
    "    - The answer: no.\n",
    "- “Can we say that if a user has a low number of pageviews then they likely have\n",
    "a small average difference between the first commit and the lab deadline?” \n",
    "    - The answer: no.\n",
    "- “Can we say that there are many users with a low number of commits and a\n",
    "few with a high number of commits”? \n",
    "    - The answer: yes.\n",
    "- “Can we say that there are many users with a small average difference and a\n",
    "few with a large average difference”? \n",
    "    - The answer: no."
   ]
  }
 ],
 "metadata": {
  "kernelspec": {
   "display_name": "Python 3",
   "language": "python",
   "name": "python3"
  },
  "language_info": {
   "codemirror_mode": {
    "name": "ipython",
    "version": 3
   },
   "file_extension": ".py",
   "mimetype": "text/x-python",
   "name": "python",
   "nbconvert_exporter": "python",
   "pygments_lexer": "ipython3",
   "version": "3.10.12"
  }
 },
 "nbformat": 4,
 "nbformat_minor": 2
}
