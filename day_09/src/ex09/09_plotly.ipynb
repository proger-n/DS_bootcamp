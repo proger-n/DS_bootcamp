{
 "cells": [
  {
   "cell_type": "code",
   "execution_count": 3,
   "metadata": {},
   "outputs": [],
   "source": [
    "import sqlite3\n",
    "import pandas as pd\n",
    "import numpy as np\n",
    "import plotly.graph_objects as go"
   ]
  },
  {
   "cell_type": "code",
   "execution_count": 4,
   "metadata": {},
   "outputs": [],
   "source": [
    "conn = sqlite3.connect('../data/checking-logs.sqlite')"
   ]
  },
  {
   "cell_type": "code",
   "execution_count": 15,
   "metadata": {},
   "outputs": [
    {
     "data": {
      "text/html": [
       "<div>\n",
       "<style scoped>\n",
       "    .dataframe tbody tr th:only-of-type {\n",
       "        vertical-align: middle;\n",
       "    }\n",
       "\n",
       "    .dataframe tbody tr th {\n",
       "        vertical-align: top;\n",
       "    }\n",
       "\n",
       "    .dataframe thead th {\n",
       "        text-align: right;\n",
       "    }\n",
       "</style>\n",
       "<table border=\"1\" class=\"dataframe\">\n",
       "  <thead>\n",
       "    <tr style=\"text-align: right;\">\n",
       "      <th></th>\n",
       "      <th>uid</th>\n",
       "      <th>numTrials</th>\n",
       "      <th>timestamp</th>\n",
       "    </tr>\n",
       "  </thead>\n",
       "  <tbody>\n",
       "    <tr>\n",
       "      <th>0</th>\n",
       "      <td>user_1</td>\n",
       "      <td>1</td>\n",
       "      <td>2020-05-14 20:56:08.898880</td>\n",
       "    </tr>\n",
       "    <tr>\n",
       "      <th>1</th>\n",
       "      <td>user_1</td>\n",
       "      <td>2</td>\n",
       "      <td>2020-05-14 20:58:02.313690</td>\n",
       "    </tr>\n",
       "    <tr>\n",
       "      <th>2</th>\n",
       "      <td>user_1</td>\n",
       "      <td>3</td>\n",
       "      <td>2020-05-14 20:58:46.322457</td>\n",
       "    </tr>\n",
       "    <tr>\n",
       "      <th>3</th>\n",
       "      <td>user_1</td>\n",
       "      <td>4</td>\n",
       "      <td>2020-05-14 21:08:15.434237</td>\n",
       "    </tr>\n",
       "    <tr>\n",
       "      <th>4</th>\n",
       "      <td>user_1</td>\n",
       "      <td>5</td>\n",
       "      <td>2020-05-14 21:10:14.867603</td>\n",
       "    </tr>\n",
       "  </tbody>\n",
       "</table>\n",
       "</div>"
      ],
      "text/plain": [
       "      uid  numTrials                  timestamp\n",
       "0  user_1          1 2020-05-14 20:56:08.898880\n",
       "1  user_1          2 2020-05-14 20:58:02.313690\n",
       "2  user_1          3 2020-05-14 20:58:46.322457\n",
       "3  user_1          4 2020-05-14 21:08:15.434237\n",
       "4  user_1          5 2020-05-14 21:10:14.867603"
      ]
     },
     "execution_count": 15,
     "metadata": {},
     "output_type": "execute_result"
    }
   ],
   "source": [
    "query = '''\n",
    "SELECT uid, numTrials, timestamp\n",
    "FROM checker\n",
    "WHERE uid LIKE 'user_%'\n",
    "      AND status='ready'\n",
    "      AND labname='project1'\n",
    "ORDER BY uid\n",
    "'''\n",
    "data = pd.io.sql.read_sql(query, conn, parse_dates=['timestamp'])\n",
    "data.head()"
   ]
  },
  {
   "cell_type": "code",
   "execution_count": 16,
   "metadata": {},
   "outputs": [],
   "source": [
    "data['date'] = data['timestamp'].dt.date\n",
    "data.drop('timestamp', axis=1, inplace=True)"
   ]
  },
  {
   "cell_type": "code",
   "execution_count": 19,
   "metadata": {},
   "outputs": [
    {
     "name": "stderr",
     "output_type": "stream",
     "text": [
      "/tmp/ipykernel_14924/319034841.py:4: FutureWarning: DataFrame.fillna with 'method' is deprecated and will raise in a future version. Use obj.ffill() or obj.bfill() instead.\n",
      "  df = df.fillna(method='pad', axis=0)\n"
     ]
    }
   ],
   "source": [
    "df = data.groupby(['date', 'uid']).max()['numTrials'].unstack()\n",
    "df.index = np.arange(len(df.index))\n",
    "df.iloc[0] = df.iloc[0].fillna(0)\n",
    "df = df.fillna(method='pad', axis=0)\n",
    "df = df.transpose()"
   ]
  },
  {
   "cell_type": "code",
   "execution_count": 20,
   "metadata": {},
   "outputs": [],
   "source": [
    "initial_data = [go.Scatter(x=np.array([]), y=np.array([]),\n",
    "                           mode='lines+markers', name=name)\n",
    "                for name in df.index]"
   ]
  },
  {
   "cell_type": "code",
   "execution_count": 21,
   "metadata": {},
   "outputs": [],
   "source": [
    "frames = [go.Frame(data=[go.Scatter(\n",
    "    x=np.arange(i + 1), y=np.array(df.iloc[j, :i + 1]),\n",
    "    mode='lines+markers', name=df.index[j]\n",
    "    ) for j in range(len(df.index))]) for i in range(len(df.columns) + 1)]"
   ]
  },
  {
   "cell_type": "code",
   "execution_count": null,
   "metadata": {},
   "outputs": [
    {
     "data": {
      "application/vnd.plotly.v1+json": {
       "config": {
        "plotlyServerURL": "https://plot.ly"
       },
       "data": [
        {
         "mode": "lines+markers",
         "name": "user_1",
         "type": "scatter",
         "x": [],
         "y": []
        },
        {
         "mode": "lines+markers",
         "name": "user_10",
         "type": "scatter",
         "x": [],
         "y": []
        },
        {
         "mode": "lines+markers",
         "name": "user_11",
         "type": "scatter",
         "x": [],
         "y": []
        },
        {
         "mode": "lines+markers",
         "name": "user_12",
         "type": "scatter",
         "x": [],
         "y": []
        },
        {
         "mode": "lines+markers",
         "name": "user_13",
         "type": "scatter",
         "x": [],
         "y": []
        },
        {
         "mode": "lines+markers",
         "name": "user_14",
         "type": "scatter",
         "x": [],
         "y": []
        },
        {
         "mode": "lines+markers",
         "name": "user_15",
         "type": "scatter",
         "x": [],
         "y": []
        },
        {
         "mode": "lines+markers",
         "name": "user_16",
         "type": "scatter",
         "x": [],
         "y": []
        },
        {
         "mode": "lines+markers",
         "name": "user_17",
         "type": "scatter",
         "x": [],
         "y": []
        },
        {
         "mode": "lines+markers",
         "name": "user_18",
         "type": "scatter",
         "x": [],
         "y": []
        },
        {
         "mode": "lines+markers",
         "name": "user_19",
         "type": "scatter",
         "x": [],
         "y": []
        },
        {
         "mode": "lines+markers",
         "name": "user_2",
         "type": "scatter",
         "x": [],
         "y": []
        },
        {
         "mode": "lines+markers",
         "name": "user_20",
         "type": "scatter",
         "x": [],
         "y": []
        },
        {
         "mode": "lines+markers",
         "name": "user_21",
         "type": "scatter",
         "x": [],
         "y": []
        },
        {
         "mode": "lines+markers",
         "name": "user_22",
         "type": "scatter",
         "x": [],
         "y": []
        },
        {
         "mode": "lines+markers",
         "name": "user_24",
         "type": "scatter",
         "x": [],
         "y": []
        },
        {
         "mode": "lines+markers",
         "name": "user_25",
         "type": "scatter",
         "x": [],
         "y": []
        },
        {
         "mode": "lines+markers",
         "name": "user_26",
         "type": "scatter",
         "x": [],
         "y": []
        },
        {
         "mode": "lines+markers",
         "name": "user_27",
         "type": "scatter",
         "x": [],
         "y": []
        },
        {
         "mode": "lines+markers",
         "name": "user_28",
         "type": "scatter",
         "x": [],
         "y": []
        },
        {
         "mode": "lines+markers",
         "name": "user_29",
         "type": "scatter",
         "x": [],
         "y": []
        },
        {
         "mode": "lines+markers",
         "name": "user_3",
         "type": "scatter",
         "x": [],
         "y": []
        },
        {
         "mode": "lines+markers",
         "name": "user_30",
         "type": "scatter",
         "x": [],
         "y": []
        },
        {
         "mode": "lines+markers",
         "name": "user_31",
         "type": "scatter",
         "x": [],
         "y": []
        },
        {
         "mode": "lines+markers",
         "name": "user_4",
         "type": "scatter",
         "x": [],
         "y": []
        },
        {
         "mode": "lines+markers",
         "name": "user_6",
         "type": "scatter",
         "x": [],
         "y": []
        },
        {
         "mode": "lines+markers",
         "name": "user_8",
         "type": "scatter",
         "x": [],
         "y": []
        }
       ],
       "frames": [
        {
         "data": [
          {
           "mode": "lines+markers",
           "name": "user_1",
           "type": "scatter",
           "x": [
            0
           ],
           "y": [
            0
           ]
          },
          {
           "mode": "lines+markers",
           "name": "user_10",
           "type": "scatter",
           "x": [
            0
           ],
           "y": [
            0
           ]
          },
          {
           "mode": "lines+markers",
           "name": "user_11",
           "type": "scatter",
           "x": [
            0
           ],
           "y": [
            0
           ]
          },
          {
           "mode": "lines+markers",
           "name": "user_12",
           "type": "scatter",
           "x": [
            0
           ],
           "y": [
            0
           ]
          },
          {
           "mode": "lines+markers",
           "name": "user_13",
           "type": "scatter",
           "x": [
            0
           ],
           "y": [
            0
           ]
          },
          {
           "mode": "lines+markers",
           "name": "user_14",
           "type": "scatter",
           "x": [
            0
           ],
           "y": [
            0
           ]
          },
          {
           "mode": "lines+markers",
           "name": "user_15",
           "type": "scatter",
           "x": [
            0
           ],
           "y": [
            0
           ]
          },
          {
           "mode": "lines+markers",
           "name": "user_16",
           "type": "scatter",
           "x": [
            0
           ],
           "y": [
            0
           ]
          },
          {
           "mode": "lines+markers",
           "name": "user_17",
           "type": "scatter",
           "x": [
            0
           ],
           "y": [
            0
           ]
          },
          {
           "mode": "lines+markers",
           "name": "user_18",
           "type": "scatter",
           "x": [
            0
           ],
           "y": [
            0
           ]
          },
          {
           "mode": "lines+markers",
           "name": "user_19",
           "type": "scatter",
           "x": [
            0
           ],
           "y": [
            0
           ]
          },
          {
           "mode": "lines+markers",
           "name": "user_2",
           "type": "scatter",
           "x": [
            0
           ],
           "y": [
            0
           ]
          },
          {
           "mode": "lines+markers",
           "name": "user_20",
           "type": "scatter",
           "x": [
            0
           ],
           "y": [
            0
           ]
          },
          {
           "mode": "lines+markers",
           "name": "user_21",
           "type": "scatter",
           "x": [
            0
           ],
           "y": [
            0
           ]
          },
          {
           "mode": "lines+markers",
           "name": "user_22",
           "type": "scatter",
           "x": [
            0
           ],
           "y": [
            0
           ]
          },
          {
           "mode": "lines+markers",
           "name": "user_24",
           "type": "scatter",
           "x": [
            0
           ],
           "y": [
            0
           ]
          },
          {
           "mode": "lines+markers",
           "name": "user_25",
           "type": "scatter",
           "x": [
            0
           ],
           "y": [
            0
           ]
          },
          {
           "mode": "lines+markers",
           "name": "user_26",
           "type": "scatter",
           "x": [
            0
           ],
           "y": [
            0
           ]
          },
          {
           "mode": "lines+markers",
           "name": "user_27",
           "type": "scatter",
           "x": [
            0
           ],
           "y": [
            0
           ]
          },
          {
           "mode": "lines+markers",
           "name": "user_28",
           "type": "scatter",
           "x": [
            0
           ],
           "y": [
            0
           ]
          },
          {
           "mode": "lines+markers",
           "name": "user_29",
           "type": "scatter",
           "x": [
            0
           ],
           "y": [
            0
           ]
          },
          {
           "mode": "lines+markers",
           "name": "user_3",
           "type": "scatter",
           "x": [
            0
           ],
           "y": [
            0
           ]
          },
          {
           "mode": "lines+markers",
           "name": "user_30",
           "type": "scatter",
           "x": [
            0
           ],
           "y": [
            0
           ]
          },
          {
           "mode": "lines+markers",
           "name": "user_31",
           "type": "scatter",
           "x": [
            0
           ],
           "y": [
            0
           ]
          },
          {
           "mode": "lines+markers",
           "name": "user_4",
           "type": "scatter",
           "x": [
            0
           ],
           "y": [
            7
           ]
          },
          {
           "mode": "lines+markers",
           "name": "user_6",
           "type": "scatter",
           "x": [
            0
           ],
           "y": [
            0
           ]
          },
          {
           "mode": "lines+markers",
           "name": "user_8",
           "type": "scatter",
           "x": [
            0
           ],
           "y": [
            0
           ]
          }
         ]
        },
        {
         "data": [
          {
           "mode": "lines+markers",
           "name": "user_1",
           "type": "scatter",
           "x": [
            0,
            1
           ],
           "y": [
            0,
            0
           ]
          },
          {
           "mode": "lines+markers",
           "name": "user_10",
           "type": "scatter",
           "x": [
            0,
            1
           ],
           "y": [
            0,
            0
           ]
          },
          {
           "mode": "lines+markers",
           "name": "user_11",
           "type": "scatter",
           "x": [
            0,
            1
           ],
           "y": [
            0,
            0
           ]
          },
          {
           "mode": "lines+markers",
           "name": "user_12",
           "type": "scatter",
           "x": [
            0,
            1
           ],
           "y": [
            0,
            0
           ]
          },
          {
           "mode": "lines+markers",
           "name": "user_13",
           "type": "scatter",
           "x": [
            0,
            1
           ],
           "y": [
            0,
            0
           ]
          },
          {
           "mode": "lines+markers",
           "name": "user_14",
           "type": "scatter",
           "x": [
            0,
            1
           ],
           "y": [
            0,
            0
           ]
          },
          {
           "mode": "lines+markers",
           "name": "user_15",
           "type": "scatter",
           "x": [
            0,
            1
           ],
           "y": [
            0,
            0
           ]
          },
          {
           "mode": "lines+markers",
           "name": "user_16",
           "type": "scatter",
           "x": [
            0,
            1
           ],
           "y": [
            0,
            0
           ]
          },
          {
           "mode": "lines+markers",
           "name": "user_17",
           "type": "scatter",
           "x": [
            0,
            1
           ],
           "y": [
            0,
            1
           ]
          },
          {
           "mode": "lines+markers",
           "name": "user_18",
           "type": "scatter",
           "x": [
            0,
            1
           ],
           "y": [
            0,
            0
           ]
          },
          {
           "mode": "lines+markers",
           "name": "user_19",
           "type": "scatter",
           "x": [
            0,
            1
           ],
           "y": [
            0,
            0
           ]
          },
          {
           "mode": "lines+markers",
           "name": "user_2",
           "type": "scatter",
           "x": [
            0,
            1
           ],
           "y": [
            0,
            0
           ]
          },
          {
           "mode": "lines+markers",
           "name": "user_20",
           "type": "scatter",
           "x": [
            0,
            1
           ],
           "y": [
            0,
            0
           ]
          },
          {
           "mode": "lines+markers",
           "name": "user_21",
           "type": "scatter",
           "x": [
            0,
            1
           ],
           "y": [
            0,
            0
           ]
          },
          {
           "mode": "lines+markers",
           "name": "user_22",
           "type": "scatter",
           "x": [
            0,
            1
           ],
           "y": [
            0,
            0
           ]
          },
          {
           "mode": "lines+markers",
           "name": "user_24",
           "type": "scatter",
           "x": [
            0,
            1
           ],
           "y": [
            0,
            0
           ]
          },
          {
           "mode": "lines+markers",
           "name": "user_25",
           "type": "scatter",
           "x": [
            0,
            1
           ],
           "y": [
            0,
            0
           ]
          },
          {
           "mode": "lines+markers",
           "name": "user_26",
           "type": "scatter",
           "x": [
            0,
            1
           ],
           "y": [
            0,
            0
           ]
          },
          {
           "mode": "lines+markers",
           "name": "user_27",
           "type": "scatter",
           "x": [
            0,
            1
           ],
           "y": [
            0,
            0
           ]
          },
          {
           "mode": "lines+markers",
           "name": "user_28",
           "type": "scatter",
           "x": [
            0,
            1
           ],
           "y": [
            0,
            0
           ]
          },
          {
           "mode": "lines+markers",
           "name": "user_29",
           "type": "scatter",
           "x": [
            0,
            1
           ],
           "y": [
            0,
            0
           ]
          },
          {
           "mode": "lines+markers",
           "name": "user_3",
           "type": "scatter",
           "x": [
            0,
            1
           ],
           "y": [
            0,
            0
           ]
          },
          {
           "mode": "lines+markers",
           "name": "user_30",
           "type": "scatter",
           "x": [
            0,
            1
           ],
           "y": [
            0,
            0
           ]
          },
          {
           "mode": "lines+markers",
           "name": "user_31",
           "type": "scatter",
           "x": [
            0,
            1
           ],
           "y": [
            0,
            0
           ]
          },
          {
           "mode": "lines+markers",
           "name": "user_4",
           "type": "scatter",
           "x": [
            0,
            1
           ],
           "y": [
            7,
            7
           ]
          },
          {
           "mode": "lines+markers",
           "name": "user_6",
           "type": "scatter",
           "x": [
            0,
            1
           ],
           "y": [
            0,
            0
           ]
          },
          {
           "mode": "lines+markers",
           "name": "user_8",
           "type": "scatter",
           "x": [
            0,
            1
           ],
           "y": [
            0,
            0
           ]
          }
         ]
        },
        {
         "data": [
          {
           "mode": "lines+markers",
           "name": "user_1",
           "type": "scatter",
           "x": [
            0,
            1,
            2
           ],
           "y": [
            0,
            0,
            0
           ]
          },
          {
           "mode": "lines+markers",
           "name": "user_10",
           "type": "scatter",
           "x": [
            0,
            1,
            2
           ],
           "y": [
            0,
            0,
            0
           ]
          },
          {
           "mode": "lines+markers",
           "name": "user_11",
           "type": "scatter",
           "x": [
            0,
            1,
            2
           ],
           "y": [
            0,
            0,
            0
           ]
          },
          {
           "mode": "lines+markers",
           "name": "user_12",
           "type": "scatter",
           "x": [
            0,
            1,
            2
           ],
           "y": [
            0,
            0,
            0
           ]
          },
          {
           "mode": "lines+markers",
           "name": "user_13",
           "type": "scatter",
           "x": [
            0,
            1,
            2
           ],
           "y": [
            0,
            0,
            0
           ]
          },
          {
           "mode": "lines+markers",
           "name": "user_14",
           "type": "scatter",
           "x": [
            0,
            1,
            2
           ],
           "y": [
            0,
            0,
            0
           ]
          },
          {
           "mode": "lines+markers",
           "name": "user_15",
           "type": "scatter",
           "x": [
            0,
            1,
            2
           ],
           "y": [
            0,
            0,
            0
           ]
          },
          {
           "mode": "lines+markers",
           "name": "user_16",
           "type": "scatter",
           "x": [
            0,
            1,
            2
           ],
           "y": [
            0,
            0,
            0
           ]
          },
          {
           "mode": "lines+markers",
           "name": "user_17",
           "type": "scatter",
           "x": [
            0,
            1,
            2
           ],
           "y": [
            0,
            1,
            1
           ]
          },
          {
           "mode": "lines+markers",
           "name": "user_18",
           "type": "scatter",
           "x": [
            0,
            1,
            2
           ],
           "y": [
            0,
            0,
            0
           ]
          },
          {
           "mode": "lines+markers",
           "name": "user_19",
           "type": "scatter",
           "x": [
            0,
            1,
            2
           ],
           "y": [
            0,
            0,
            0
           ]
          },
          {
           "mode": "lines+markers",
           "name": "user_2",
           "type": "scatter",
           "x": [
            0,
            1,
            2
           ],
           "y": [
            0,
            0,
            0
           ]
          },
          {
           "mode": "lines+markers",
           "name": "user_20",
           "type": "scatter",
           "x": [
            0,
            1,
            2
           ],
           "y": [
            0,
            0,
            0
           ]
          },
          {
           "mode": "lines+markers",
           "name": "user_21",
           "type": "scatter",
           "x": [
            0,
            1,
            2
           ],
           "y": [
            0,
            0,
            0
           ]
          },
          {
           "mode": "lines+markers",
           "name": "user_22",
           "type": "scatter",
           "x": [
            0,
            1,
            2
           ],
           "y": [
            0,
            0,
            0
           ]
          },
          {
           "mode": "lines+markers",
           "name": "user_24",
           "type": "scatter",
           "x": [
            0,
            1,
            2
           ],
           "y": [
            0,
            0,
            0
           ]
          },
          {
           "mode": "lines+markers",
           "name": "user_25",
           "type": "scatter",
           "x": [
            0,
            1,
            2
           ],
           "y": [
            0,
            0,
            0
           ]
          },
          {
           "mode": "lines+markers",
           "name": "user_26",
           "type": "scatter",
           "x": [
            0,
            1,
            2
           ],
           "y": [
            0,
            0,
            0
           ]
          },
          {
           "mode": "lines+markers",
           "name": "user_27",
           "type": "scatter",
           "x": [
            0,
            1,
            2
           ],
           "y": [
            0,
            0,
            0
           ]
          },
          {
           "mode": "lines+markers",
           "name": "user_28",
           "type": "scatter",
           "x": [
            0,
            1,
            2
           ],
           "y": [
            0,
            0,
            0
           ]
          },
          {
           "mode": "lines+markers",
           "name": "user_29",
           "type": "scatter",
           "x": [
            0,
            1,
            2
           ],
           "y": [
            0,
            0,
            0
           ]
          },
          {
           "mode": "lines+markers",
           "name": "user_3",
           "type": "scatter",
           "x": [
            0,
            1,
            2
           ],
           "y": [
            0,
            0,
            0
           ]
          },
          {
           "mode": "lines+markers",
           "name": "user_30",
           "type": "scatter",
           "x": [
            0,
            1,
            2
           ],
           "y": [
            0,
            0,
            0
           ]
          },
          {
           "mode": "lines+markers",
           "name": "user_31",
           "type": "scatter",
           "x": [
            0,
            1,
            2
           ],
           "y": [
            0,
            0,
            0
           ]
          },
          {
           "mode": "lines+markers",
           "name": "user_4",
           "type": "scatter",
           "x": [
            0,
            1,
            2
           ],
           "y": [
            7,
            7,
            11
           ]
          },
          {
           "mode": "lines+markers",
           "name": "user_6",
           "type": "scatter",
           "x": [
            0,
            1,
            2
           ],
           "y": [
            0,
            0,
            0
           ]
          },
          {
           "mode": "lines+markers",
           "name": "user_8",
           "type": "scatter",
           "x": [
            0,
            1,
            2
           ],
           "y": [
            0,
            0,
            0
           ]
          }
         ]
        },
        {
         "data": [
          {
           "mode": "lines+markers",
           "name": "user_1",
           "type": "scatter",
           "x": [
            0,
            1,
            2,
            3
           ],
           "y": [
            0,
            0,
            0,
            0
           ]
          },
          {
           "mode": "lines+markers",
           "name": "user_10",
           "type": "scatter",
           "x": [
            0,
            1,
            2,
            3
           ],
           "y": [
            0,
            0,
            0,
            0
           ]
          },
          {
           "mode": "lines+markers",
           "name": "user_11",
           "type": "scatter",
           "x": [
            0,
            1,
            2,
            3
           ],
           "y": [
            0,
            0,
            0,
            0
           ]
          },
          {
           "mode": "lines+markers",
           "name": "user_12",
           "type": "scatter",
           "x": [
            0,
            1,
            2,
            3
           ],
           "y": [
            0,
            0,
            0,
            0
           ]
          },
          {
           "mode": "lines+markers",
           "name": "user_13",
           "type": "scatter",
           "x": [
            0,
            1,
            2,
            3
           ],
           "y": [
            0,
            0,
            0,
            0
           ]
          },
          {
           "mode": "lines+markers",
           "name": "user_14",
           "type": "scatter",
           "x": [
            0,
            1,
            2,
            3
           ],
           "y": [
            0,
            0,
            0,
            0
           ]
          },
          {
           "mode": "lines+markers",
           "name": "user_15",
           "type": "scatter",
           "x": [
            0,
            1,
            2,
            3
           ],
           "y": [
            0,
            0,
            0,
            0
           ]
          },
          {
           "mode": "lines+markers",
           "name": "user_16",
           "type": "scatter",
           "x": [
            0,
            1,
            2,
            3
           ],
           "y": [
            0,
            0,
            0,
            0
           ]
          },
          {
           "mode": "lines+markers",
           "name": "user_17",
           "type": "scatter",
           "x": [
            0,
            1,
            2,
            3
           ],
           "y": [
            0,
            1,
            1,
            1
           ]
          },
          {
           "mode": "lines+markers",
           "name": "user_18",
           "type": "scatter",
           "x": [
            0,
            1,
            2,
            3
           ],
           "y": [
            0,
            0,
            0,
            0
           ]
          },
          {
           "mode": "lines+markers",
           "name": "user_19",
           "type": "scatter",
           "x": [
            0,
            1,
            2,
            3
           ],
           "y": [
            0,
            0,
            0,
            0
           ]
          },
          {
           "mode": "lines+markers",
           "name": "user_2",
           "type": "scatter",
           "x": [
            0,
            1,
            2,
            3
           ],
           "y": [
            0,
            0,
            0,
            0
           ]
          },
          {
           "mode": "lines+markers",
           "name": "user_20",
           "type": "scatter",
           "x": [
            0,
            1,
            2,
            3
           ],
           "y": [
            0,
            0,
            0,
            0
           ]
          },
          {
           "mode": "lines+markers",
           "name": "user_21",
           "type": "scatter",
           "x": [
            0,
            1,
            2,
            3
           ],
           "y": [
            0,
            0,
            0,
            0
           ]
          },
          {
           "mode": "lines+markers",
           "name": "user_22",
           "type": "scatter",
           "x": [
            0,
            1,
            2,
            3
           ],
           "y": [
            0,
            0,
            0,
            0
           ]
          },
          {
           "mode": "lines+markers",
           "name": "user_24",
           "type": "scatter",
           "x": [
            0,
            1,
            2,
            3
           ],
           "y": [
            0,
            0,
            0,
            0
           ]
          },
          {
           "mode": "lines+markers",
           "name": "user_25",
           "type": "scatter",
           "x": [
            0,
            1,
            2,
            3
           ],
           "y": [
            0,
            0,
            0,
            0
           ]
          },
          {
           "mode": "lines+markers",
           "name": "user_26",
           "type": "scatter",
           "x": [
            0,
            1,
            2,
            3
           ],
           "y": [
            0,
            0,
            0,
            0
           ]
          },
          {
           "mode": "lines+markers",
           "name": "user_27",
           "type": "scatter",
           "x": [
            0,
            1,
            2,
            3
           ],
           "y": [
            0,
            0,
            0,
            0
           ]
          },
          {
           "mode": "lines+markers",
           "name": "user_28",
           "type": "scatter",
           "x": [
            0,
            1,
            2,
            3
           ],
           "y": [
            0,
            0,
            0,
            0
           ]
          },
          {
           "mode": "lines+markers",
           "name": "user_29",
           "type": "scatter",
           "x": [
            0,
            1,
            2,
            3
           ],
           "y": [
            0,
            0,
            0,
            0
           ]
          },
          {
           "mode": "lines+markers",
           "name": "user_3",
           "type": "scatter",
           "x": [
            0,
            1,
            2,
            3
           ],
           "y": [
            0,
            0,
            0,
            0
           ]
          },
          {
           "mode": "lines+markers",
           "name": "user_30",
           "type": "scatter",
           "x": [
            0,
            1,
            2,
            3
           ],
           "y": [
            0,
            0,
            0,
            1
           ]
          },
          {
           "mode": "lines+markers",
           "name": "user_31",
           "type": "scatter",
           "x": [
            0,
            1,
            2,
            3
           ],
           "y": [
            0,
            0,
            0,
            0
           ]
          },
          {
           "mode": "lines+markers",
           "name": "user_4",
           "type": "scatter",
           "x": [
            0,
            1,
            2,
            3
           ],
           "y": [
            7,
            7,
            11,
            11
           ]
          },
          {
           "mode": "lines+markers",
           "name": "user_6",
           "type": "scatter",
           "x": [
            0,
            1,
            2,
            3
           ],
           "y": [
            0,
            0,
            0,
            0
           ]
          },
          {
           "mode": "lines+markers",
           "name": "user_8",
           "type": "scatter",
           "x": [
            0,
            1,
            2,
            3
           ],
           "y": [
            0,
            0,
            0,
            0
           ]
          }
         ]
        },
        {
         "data": [
          {
           "mode": "lines+markers",
           "name": "user_1",
           "type": "scatter",
           "x": [
            0,
            1,
            2,
            3,
            4
           ],
           "y": [
            0,
            0,
            0,
            0,
            0
           ]
          },
          {
           "mode": "lines+markers",
           "name": "user_10",
           "type": "scatter",
           "x": [
            0,
            1,
            2,
            3,
            4
           ],
           "y": [
            0,
            0,
            0,
            0,
            0
           ]
          },
          {
           "mode": "lines+markers",
           "name": "user_11",
           "type": "scatter",
           "x": [
            0,
            1,
            2,
            3,
            4
           ],
           "y": [
            0,
            0,
            0,
            0,
            0
           ]
          },
          {
           "mode": "lines+markers",
           "name": "user_12",
           "type": "scatter",
           "x": [
            0,
            1,
            2,
            3,
            4
           ],
           "y": [
            0,
            0,
            0,
            0,
            0
           ]
          },
          {
           "mode": "lines+markers",
           "name": "user_13",
           "type": "scatter",
           "x": [
            0,
            1,
            2,
            3,
            4
           ],
           "y": [
            0,
            0,
            0,
            0,
            0
           ]
          },
          {
           "mode": "lines+markers",
           "name": "user_14",
           "type": "scatter",
           "x": [
            0,
            1,
            2,
            3,
            4
           ],
           "y": [
            0,
            0,
            0,
            0,
            0
           ]
          },
          {
           "mode": "lines+markers",
           "name": "user_15",
           "type": "scatter",
           "x": [
            0,
            1,
            2,
            3,
            4
           ],
           "y": [
            0,
            0,
            0,
            0,
            0
           ]
          },
          {
           "mode": "lines+markers",
           "name": "user_16",
           "type": "scatter",
           "x": [
            0,
            1,
            2,
            3,
            4
           ],
           "y": [
            0,
            0,
            0,
            0,
            0
           ]
          },
          {
           "mode": "lines+markers",
           "name": "user_17",
           "type": "scatter",
           "x": [
            0,
            1,
            2,
            3,
            4
           ],
           "y": [
            0,
            1,
            1,
            1,
            1
           ]
          },
          {
           "mode": "lines+markers",
           "name": "user_18",
           "type": "scatter",
           "x": [
            0,
            1,
            2,
            3,
            4
           ],
           "y": [
            0,
            0,
            0,
            0,
            0
           ]
          },
          {
           "mode": "lines+markers",
           "name": "user_19",
           "type": "scatter",
           "x": [
            0,
            1,
            2,
            3,
            4
           ],
           "y": [
            0,
            0,
            0,
            0,
            0
           ]
          },
          {
           "mode": "lines+markers",
           "name": "user_2",
           "type": "scatter",
           "x": [
            0,
            1,
            2,
            3,
            4
           ],
           "y": [
            0,
            0,
            0,
            0,
            0
           ]
          },
          {
           "mode": "lines+markers",
           "name": "user_20",
           "type": "scatter",
           "x": [
            0,
            1,
            2,
            3,
            4
           ],
           "y": [
            0,
            0,
            0,
            0,
            0
           ]
          },
          {
           "mode": "lines+markers",
           "name": "user_21",
           "type": "scatter",
           "x": [
            0,
            1,
            2,
            3,
            4
           ],
           "y": [
            0,
            0,
            0,
            0,
            0
           ]
          },
          {
           "mode": "lines+markers",
           "name": "user_22",
           "type": "scatter",
           "x": [
            0,
            1,
            2,
            3,
            4
           ],
           "y": [
            0,
            0,
            0,
            0,
            0
           ]
          },
          {
           "mode": "lines+markers",
           "name": "user_24",
           "type": "scatter",
           "x": [
            0,
            1,
            2,
            3,
            4
           ],
           "y": [
            0,
            0,
            0,
            0,
            0
           ]
          },
          {
           "mode": "lines+markers",
           "name": "user_25",
           "type": "scatter",
           "x": [
            0,
            1,
            2,
            3,
            4
           ],
           "y": [
            0,
            0,
            0,
            0,
            0
           ]
          },
          {
           "mode": "lines+markers",
           "name": "user_26",
           "type": "scatter",
           "x": [
            0,
            1,
            2,
            3,
            4
           ],
           "y": [
            0,
            0,
            0,
            0,
            0
           ]
          },
          {
           "mode": "lines+markers",
           "name": "user_27",
           "type": "scatter",
           "x": [
            0,
            1,
            2,
            3,
            4
           ],
           "y": [
            0,
            0,
            0,
            0,
            0
           ]
          },
          {
           "mode": "lines+markers",
           "name": "user_28",
           "type": "scatter",
           "x": [
            0,
            1,
            2,
            3,
            4
           ],
           "y": [
            0,
            0,
            0,
            0,
            0
           ]
          },
          {
           "mode": "lines+markers",
           "name": "user_29",
           "type": "scatter",
           "x": [
            0,
            1,
            2,
            3,
            4
           ],
           "y": [
            0,
            0,
            0,
            0,
            0
           ]
          },
          {
           "mode": "lines+markers",
           "name": "user_3",
           "type": "scatter",
           "x": [
            0,
            1,
            2,
            3,
            4
           ],
           "y": [
            0,
            0,
            0,
            0,
            0
           ]
          },
          {
           "mode": "lines+markers",
           "name": "user_30",
           "type": "scatter",
           "x": [
            0,
            1,
            2,
            3,
            4
           ],
           "y": [
            0,
            0,
            0,
            1,
            2
           ]
          },
          {
           "mode": "lines+markers",
           "name": "user_31",
           "type": "scatter",
           "x": [
            0,
            1,
            2,
            3,
            4
           ],
           "y": [
            0,
            0,
            0,
            0,
            0
           ]
          },
          {
           "mode": "lines+markers",
           "name": "user_4",
           "type": "scatter",
           "x": [
            0,
            1,
            2,
            3,
            4
           ],
           "y": [
            7,
            7,
            11,
            11,
            20
           ]
          },
          {
           "mode": "lines+markers",
           "name": "user_6",
           "type": "scatter",
           "x": [
            0,
            1,
            2,
            3,
            4
           ],
           "y": [
            0,
            0,
            0,
            0,
            0
           ]
          },
          {
           "mode": "lines+markers",
           "name": "user_8",
           "type": "scatter",
           "x": [
            0,
            1,
            2,
            3,
            4
           ],
           "y": [
            0,
            0,
            0,
            0,
            0
           ]
          }
         ]
        },
        {
         "data": [
          {
           "mode": "lines+markers",
           "name": "user_1",
           "type": "scatter",
           "x": [
            0,
            1,
            2,
            3,
            4,
            5
           ],
           "y": [
            0,
            0,
            0,
            0,
            0,
            0
           ]
          },
          {
           "mode": "lines+markers",
           "name": "user_10",
           "type": "scatter",
           "x": [
            0,
            1,
            2,
            3,
            4,
            5
           ],
           "y": [
            0,
            0,
            0,
            0,
            0,
            0
           ]
          },
          {
           "mode": "lines+markers",
           "name": "user_11",
           "type": "scatter",
           "x": [
            0,
            1,
            2,
            3,
            4,
            5
           ],
           "y": [
            0,
            0,
            0,
            0,
            0,
            0
           ]
          },
          {
           "mode": "lines+markers",
           "name": "user_12",
           "type": "scatter",
           "x": [
            0,
            1,
            2,
            3,
            4,
            5
           ],
           "y": [
            0,
            0,
            0,
            0,
            0,
            0
           ]
          },
          {
           "mode": "lines+markers",
           "name": "user_13",
           "type": "scatter",
           "x": [
            0,
            1,
            2,
            3,
            4,
            5
           ],
           "y": [
            0,
            0,
            0,
            0,
            0,
            0
           ]
          },
          {
           "mode": "lines+markers",
           "name": "user_14",
           "type": "scatter",
           "x": [
            0,
            1,
            2,
            3,
            4,
            5
           ],
           "y": [
            0,
            0,
            0,
            0,
            0,
            0
           ]
          },
          {
           "mode": "lines+markers",
           "name": "user_15",
           "type": "scatter",
           "x": [
            0,
            1,
            2,
            3,
            4,
            5
           ],
           "y": [
            0,
            0,
            0,
            0,
            0,
            0
           ]
          },
          {
           "mode": "lines+markers",
           "name": "user_16",
           "type": "scatter",
           "x": [
            0,
            1,
            2,
            3,
            4,
            5
           ],
           "y": [
            0,
            0,
            0,
            0,
            0,
            0
           ]
          },
          {
           "mode": "lines+markers",
           "name": "user_17",
           "type": "scatter",
           "x": [
            0,
            1,
            2,
            3,
            4,
            5
           ],
           "y": [
            0,
            1,
            1,
            1,
            1,
            1
           ]
          },
          {
           "mode": "lines+markers",
           "name": "user_18",
           "type": "scatter",
           "x": [
            0,
            1,
            2,
            3,
            4,
            5
           ],
           "y": [
            0,
            0,
            0,
            0,
            0,
            0
           ]
          },
          {
           "mode": "lines+markers",
           "name": "user_19",
           "type": "scatter",
           "x": [
            0,
            1,
            2,
            3,
            4,
            5
           ],
           "y": [
            0,
            0,
            0,
            0,
            0,
            0
           ]
          },
          {
           "mode": "lines+markers",
           "name": "user_2",
           "type": "scatter",
           "x": [
            0,
            1,
            2,
            3,
            4,
            5
           ],
           "y": [
            0,
            0,
            0,
            0,
            0,
            0
           ]
          },
          {
           "mode": "lines+markers",
           "name": "user_20",
           "type": "scatter",
           "x": [
            0,
            1,
            2,
            3,
            4,
            5
           ],
           "y": [
            0,
            0,
            0,
            0,
            0,
            0
           ]
          },
          {
           "mode": "lines+markers",
           "name": "user_21",
           "type": "scatter",
           "x": [
            0,
            1,
            2,
            3,
            4,
            5
           ],
           "y": [
            0,
            0,
            0,
            0,
            0,
            0
           ]
          },
          {
           "mode": "lines+markers",
           "name": "user_22",
           "type": "scatter",
           "x": [
            0,
            1,
            2,
            3,
            4,
            5
           ],
           "y": [
            0,
            0,
            0,
            0,
            0,
            0
           ]
          },
          {
           "mode": "lines+markers",
           "name": "user_24",
           "type": "scatter",
           "x": [
            0,
            1,
            2,
            3,
            4,
            5
           ],
           "y": [
            0,
            0,
            0,
            0,
            0,
            0
           ]
          },
          {
           "mode": "lines+markers",
           "name": "user_25",
           "type": "scatter",
           "x": [
            0,
            1,
            2,
            3,
            4,
            5
           ],
           "y": [
            0,
            0,
            0,
            0,
            0,
            0
           ]
          },
          {
           "mode": "lines+markers",
           "name": "user_26",
           "type": "scatter",
           "x": [
            0,
            1,
            2,
            3,
            4,
            5
           ],
           "y": [
            0,
            0,
            0,
            0,
            0,
            0
           ]
          },
          {
           "mode": "lines+markers",
           "name": "user_27",
           "type": "scatter",
           "x": [
            0,
            1,
            2,
            3,
            4,
            5
           ],
           "y": [
            0,
            0,
            0,
            0,
            0,
            0
           ]
          },
          {
           "mode": "lines+markers",
           "name": "user_28",
           "type": "scatter",
           "x": [
            0,
            1,
            2,
            3,
            4,
            5
           ],
           "y": [
            0,
            0,
            0,
            0,
            0,
            0
           ]
          },
          {
           "mode": "lines+markers",
           "name": "user_29",
           "type": "scatter",
           "x": [
            0,
            1,
            2,
            3,
            4,
            5
           ],
           "y": [
            0,
            0,
            0,
            0,
            0,
            0
           ]
          },
          {
           "mode": "lines+markers",
           "name": "user_3",
           "type": "scatter",
           "x": [
            0,
            1,
            2,
            3,
            4,
            5
           ],
           "y": [
            0,
            0,
            0,
            0,
            0,
            0
           ]
          },
          {
           "mode": "lines+markers",
           "name": "user_30",
           "type": "scatter",
           "x": [
            0,
            1,
            2,
            3,
            4,
            5
           ],
           "y": [
            0,
            0,
            0,
            1,
            2,
            2
           ]
          },
          {
           "mode": "lines+markers",
           "name": "user_31",
           "type": "scatter",
           "x": [
            0,
            1,
            2,
            3,
            4,
            5
           ],
           "y": [
            0,
            0,
            0,
            0,
            0,
            0
           ]
          },
          {
           "mode": "lines+markers",
           "name": "user_4",
           "type": "scatter",
           "x": [
            0,
            1,
            2,
            3,
            4,
            5
           ],
           "y": [
            7,
            7,
            11,
            11,
            20,
            27
           ]
          },
          {
           "mode": "lines+markers",
           "name": "user_6",
           "type": "scatter",
           "x": [
            0,
            1,
            2,
            3,
            4,
            5
           ],
           "y": [
            0,
            0,
            0,
            0,
            0,
            0
           ]
          },
          {
           "mode": "lines+markers",
           "name": "user_8",
           "type": "scatter",
           "x": [
            0,
            1,
            2,
            3,
            4,
            5
           ],
           "y": [
            0,
            0,
            0,
            0,
            0,
            0
           ]
          }
         ]
        },
        {
         "data": [
          {
           "mode": "lines+markers",
           "name": "user_1",
           "type": "scatter",
           "x": [
            0,
            1,
            2,
            3,
            4,
            5,
            6
           ],
           "y": [
            0,
            0,
            0,
            0,
            0,
            0,
            0
           ]
          },
          {
           "mode": "lines+markers",
           "name": "user_10",
           "type": "scatter",
           "x": [
            0,
            1,
            2,
            3,
            4,
            5,
            6
           ],
           "y": [
            0,
            0,
            0,
            0,
            0,
            0,
            0
           ]
          },
          {
           "mode": "lines+markers",
           "name": "user_11",
           "type": "scatter",
           "x": [
            0,
            1,
            2,
            3,
            4,
            5,
            6
           ],
           "y": [
            0,
            0,
            0,
            0,
            0,
            0,
            1
           ]
          },
          {
           "mode": "lines+markers",
           "name": "user_12",
           "type": "scatter",
           "x": [
            0,
            1,
            2,
            3,
            4,
            5,
            6
           ],
           "y": [
            0,
            0,
            0,
            0,
            0,
            0,
            0
           ]
          },
          {
           "mode": "lines+markers",
           "name": "user_13",
           "type": "scatter",
           "x": [
            0,
            1,
            2,
            3,
            4,
            5,
            6
           ],
           "y": [
            0,
            0,
            0,
            0,
            0,
            0,
            0
           ]
          },
          {
           "mode": "lines+markers",
           "name": "user_14",
           "type": "scatter",
           "x": [
            0,
            1,
            2,
            3,
            4,
            5,
            6
           ],
           "y": [
            0,
            0,
            0,
            0,
            0,
            0,
            0
           ]
          },
          {
           "mode": "lines+markers",
           "name": "user_15",
           "type": "scatter",
           "x": [
            0,
            1,
            2,
            3,
            4,
            5,
            6
           ],
           "y": [
            0,
            0,
            0,
            0,
            0,
            0,
            0
           ]
          },
          {
           "mode": "lines+markers",
           "name": "user_16",
           "type": "scatter",
           "x": [
            0,
            1,
            2,
            3,
            4,
            5,
            6
           ],
           "y": [
            0,
            0,
            0,
            0,
            0,
            0,
            0
           ]
          },
          {
           "mode": "lines+markers",
           "name": "user_17",
           "type": "scatter",
           "x": [
            0,
            1,
            2,
            3,
            4,
            5,
            6
           ],
           "y": [
            0,
            1,
            1,
            1,
            1,
            1,
            1
           ]
          },
          {
           "mode": "lines+markers",
           "name": "user_18",
           "type": "scatter",
           "x": [
            0,
            1,
            2,
            3,
            4,
            5,
            6
           ],
           "y": [
            0,
            0,
            0,
            0,
            0,
            0,
            0
           ]
          },
          {
           "mode": "lines+markers",
           "name": "user_19",
           "type": "scatter",
           "x": [
            0,
            1,
            2,
            3,
            4,
            5,
            6
           ],
           "y": [
            0,
            0,
            0,
            0,
            0,
            0,
            0
           ]
          },
          {
           "mode": "lines+markers",
           "name": "user_2",
           "type": "scatter",
           "x": [
            0,
            1,
            2,
            3,
            4,
            5,
            6
           ],
           "y": [
            0,
            0,
            0,
            0,
            0,
            0,
            0
           ]
          },
          {
           "mode": "lines+markers",
           "name": "user_20",
           "type": "scatter",
           "x": [
            0,
            1,
            2,
            3,
            4,
            5,
            6
           ],
           "y": [
            0,
            0,
            0,
            0,
            0,
            0,
            0
           ]
          },
          {
           "mode": "lines+markers",
           "name": "user_21",
           "type": "scatter",
           "x": [
            0,
            1,
            2,
            3,
            4,
            5,
            6
           ],
           "y": [
            0,
            0,
            0,
            0,
            0,
            0,
            0
           ]
          },
          {
           "mode": "lines+markers",
           "name": "user_22",
           "type": "scatter",
           "x": [
            0,
            1,
            2,
            3,
            4,
            5,
            6
           ],
           "y": [
            0,
            0,
            0,
            0,
            0,
            0,
            1
           ]
          },
          {
           "mode": "lines+markers",
           "name": "user_24",
           "type": "scatter",
           "x": [
            0,
            1,
            2,
            3,
            4,
            5,
            6
           ],
           "y": [
            0,
            0,
            0,
            0,
            0,
            0,
            0
           ]
          },
          {
           "mode": "lines+markers",
           "name": "user_25",
           "type": "scatter",
           "x": [
            0,
            1,
            2,
            3,
            4,
            5,
            6
           ],
           "y": [
            0,
            0,
            0,
            0,
            0,
            0,
            0
           ]
          },
          {
           "mode": "lines+markers",
           "name": "user_26",
           "type": "scatter",
           "x": [
            0,
            1,
            2,
            3,
            4,
            5,
            6
           ],
           "y": [
            0,
            0,
            0,
            0,
            0,
            0,
            0
           ]
          },
          {
           "mode": "lines+markers",
           "name": "user_27",
           "type": "scatter",
           "x": [
            0,
            1,
            2,
            3,
            4,
            5,
            6
           ],
           "y": [
            0,
            0,
            0,
            0,
            0,
            0,
            0
           ]
          },
          {
           "mode": "lines+markers",
           "name": "user_28",
           "type": "scatter",
           "x": [
            0,
            1,
            2,
            3,
            4,
            5,
            6
           ],
           "y": [
            0,
            0,
            0,
            0,
            0,
            0,
            0
           ]
          },
          {
           "mode": "lines+markers",
           "name": "user_29",
           "type": "scatter",
           "x": [
            0,
            1,
            2,
            3,
            4,
            5,
            6
           ],
           "y": [
            0,
            0,
            0,
            0,
            0,
            0,
            0
           ]
          },
          {
           "mode": "lines+markers",
           "name": "user_3",
           "type": "scatter",
           "x": [
            0,
            1,
            2,
            3,
            4,
            5,
            6
           ],
           "y": [
            0,
            0,
            0,
            0,
            0,
            0,
            0
           ]
          },
          {
           "mode": "lines+markers",
           "name": "user_30",
           "type": "scatter",
           "x": [
            0,
            1,
            2,
            3,
            4,
            5,
            6
           ],
           "y": [
            0,
            0,
            0,
            1,
            2,
            2,
            4
           ]
          },
          {
           "mode": "lines+markers",
           "name": "user_31",
           "type": "scatter",
           "x": [
            0,
            1,
            2,
            3,
            4,
            5,
            6
           ],
           "y": [
            0,
            0,
            0,
            0,
            0,
            0,
            0
           ]
          },
          {
           "mode": "lines+markers",
           "name": "user_4",
           "type": "scatter",
           "x": [
            0,
            1,
            2,
            3,
            4,
            5,
            6
           ],
           "y": [
            7,
            7,
            11,
            11,
            20,
            27,
            35
           ]
          },
          {
           "mode": "lines+markers",
           "name": "user_6",
           "type": "scatter",
           "x": [
            0,
            1,
            2,
            3,
            4,
            5,
            6
           ],
           "y": [
            0,
            0,
            0,
            0,
            0,
            0,
            0
           ]
          },
          {
           "mode": "lines+markers",
           "name": "user_8",
           "type": "scatter",
           "x": [
            0,
            1,
            2,
            3,
            4,
            5,
            6
           ],
           "y": [
            0,
            0,
            0,
            0,
            0,
            0,
            0
           ]
          }
         ]
        },
        {
         "data": [
          {
           "mode": "lines+markers",
           "name": "user_1",
           "type": "scatter",
           "x": [
            0,
            1,
            2,
            3,
            4,
            5,
            6,
            7
           ],
           "y": [
            0,
            0,
            0,
            0,
            0,
            0,
            0,
            0
           ]
          },
          {
           "mode": "lines+markers",
           "name": "user_10",
           "type": "scatter",
           "x": [
            0,
            1,
            2,
            3,
            4,
            5,
            6,
            7
           ],
           "y": [
            0,
            0,
            0,
            0,
            0,
            0,
            0,
            0
           ]
          },
          {
           "mode": "lines+markers",
           "name": "user_11",
           "type": "scatter",
           "x": [
            0,
            1,
            2,
            3,
            4,
            5,
            6,
            7
           ],
           "y": [
            0,
            0,
            0,
            0,
            0,
            0,
            1,
            1
           ]
          },
          {
           "mode": "lines+markers",
           "name": "user_12",
           "type": "scatter",
           "x": [
            0,
            1,
            2,
            3,
            4,
            5,
            6,
            7
           ],
           "y": [
            0,
            0,
            0,
            0,
            0,
            0,
            0,
            0
           ]
          },
          {
           "mode": "lines+markers",
           "name": "user_13",
           "type": "scatter",
           "x": [
            0,
            1,
            2,
            3,
            4,
            5,
            6,
            7
           ],
           "y": [
            0,
            0,
            0,
            0,
            0,
            0,
            0,
            0
           ]
          },
          {
           "mode": "lines+markers",
           "name": "user_14",
           "type": "scatter",
           "x": [
            0,
            1,
            2,
            3,
            4,
            5,
            6,
            7
           ],
           "y": [
            0,
            0,
            0,
            0,
            0,
            0,
            0,
            0
           ]
          },
          {
           "mode": "lines+markers",
           "name": "user_15",
           "type": "scatter",
           "x": [
            0,
            1,
            2,
            3,
            4,
            5,
            6,
            7
           ],
           "y": [
            0,
            0,
            0,
            0,
            0,
            0,
            0,
            0
           ]
          },
          {
           "mode": "lines+markers",
           "name": "user_16",
           "type": "scatter",
           "x": [
            0,
            1,
            2,
            3,
            4,
            5,
            6,
            7
           ],
           "y": [
            0,
            0,
            0,
            0,
            0,
            0,
            0,
            0
           ]
          },
          {
           "mode": "lines+markers",
           "name": "user_17",
           "type": "scatter",
           "x": [
            0,
            1,
            2,
            3,
            4,
            5,
            6,
            7
           ],
           "y": [
            0,
            1,
            1,
            1,
            1,
            1,
            1,
            1
           ]
          },
          {
           "mode": "lines+markers",
           "name": "user_18",
           "type": "scatter",
           "x": [
            0,
            1,
            2,
            3,
            4,
            5,
            6,
            7
           ],
           "y": [
            0,
            0,
            0,
            0,
            0,
            0,
            0,
            0
           ]
          },
          {
           "mode": "lines+markers",
           "name": "user_19",
           "type": "scatter",
           "x": [
            0,
            1,
            2,
            3,
            4,
            5,
            6,
            7
           ],
           "y": [
            0,
            0,
            0,
            0,
            0,
            0,
            0,
            0
           ]
          },
          {
           "mode": "lines+markers",
           "name": "user_2",
           "type": "scatter",
           "x": [
            0,
            1,
            2,
            3,
            4,
            5,
            6,
            7
           ],
           "y": [
            0,
            0,
            0,
            0,
            0,
            0,
            0,
            0
           ]
          },
          {
           "mode": "lines+markers",
           "name": "user_20",
           "type": "scatter",
           "x": [
            0,
            1,
            2,
            3,
            4,
            5,
            6,
            7
           ],
           "y": [
            0,
            0,
            0,
            0,
            0,
            0,
            0,
            0
           ]
          },
          {
           "mode": "lines+markers",
           "name": "user_21",
           "type": "scatter",
           "x": [
            0,
            1,
            2,
            3,
            4,
            5,
            6,
            7
           ],
           "y": [
            0,
            0,
            0,
            0,
            0,
            0,
            0,
            0
           ]
          },
          {
           "mode": "lines+markers",
           "name": "user_22",
           "type": "scatter",
           "x": [
            0,
            1,
            2,
            3,
            4,
            5,
            6,
            7
           ],
           "y": [
            0,
            0,
            0,
            0,
            0,
            0,
            1,
            1
           ]
          },
          {
           "mode": "lines+markers",
           "name": "user_24",
           "type": "scatter",
           "x": [
            0,
            1,
            2,
            3,
            4,
            5,
            6,
            7
           ],
           "y": [
            0,
            0,
            0,
            0,
            0,
            0,
            0,
            0
           ]
          },
          {
           "mode": "lines+markers",
           "name": "user_25",
           "type": "scatter",
           "x": [
            0,
            1,
            2,
            3,
            4,
            5,
            6,
            7
           ],
           "y": [
            0,
            0,
            0,
            0,
            0,
            0,
            0,
            0
           ]
          },
          {
           "mode": "lines+markers",
           "name": "user_26",
           "type": "scatter",
           "x": [
            0,
            1,
            2,
            3,
            4,
            5,
            6,
            7
           ],
           "y": [
            0,
            0,
            0,
            0,
            0,
            0,
            0,
            0
           ]
          },
          {
           "mode": "lines+markers",
           "name": "user_27",
           "type": "scatter",
           "x": [
            0,
            1,
            2,
            3,
            4,
            5,
            6,
            7
           ],
           "y": [
            0,
            0,
            0,
            0,
            0,
            0,
            0,
            0
           ]
          },
          {
           "mode": "lines+markers",
           "name": "user_28",
           "type": "scatter",
           "x": [
            0,
            1,
            2,
            3,
            4,
            5,
            6,
            7
           ],
           "y": [
            0,
            0,
            0,
            0,
            0,
            0,
            0,
            0
           ]
          },
          {
           "mode": "lines+markers",
           "name": "user_29",
           "type": "scatter",
           "x": [
            0,
            1,
            2,
            3,
            4,
            5,
            6,
            7
           ],
           "y": [
            0,
            0,
            0,
            0,
            0,
            0,
            0,
            0
           ]
          },
          {
           "mode": "lines+markers",
           "name": "user_3",
           "type": "scatter",
           "x": [
            0,
            1,
            2,
            3,
            4,
            5,
            6,
            7
           ],
           "y": [
            0,
            0,
            0,
            0,
            0,
            0,
            0,
            0
           ]
          },
          {
           "mode": "lines+markers",
           "name": "user_30",
           "type": "scatter",
           "x": [
            0,
            1,
            2,
            3,
            4,
            5,
            6,
            7
           ],
           "y": [
            0,
            0,
            0,
            1,
            2,
            2,
            4,
            5
           ]
          },
          {
           "mode": "lines+markers",
           "name": "user_31",
           "type": "scatter",
           "x": [
            0,
            1,
            2,
            3,
            4,
            5,
            6,
            7
           ],
           "y": [
            0,
            0,
            0,
            0,
            0,
            0,
            0,
            0
           ]
          },
          {
           "mode": "lines+markers",
           "name": "user_4",
           "type": "scatter",
           "x": [
            0,
            1,
            2,
            3,
            4,
            5,
            6,
            7
           ],
           "y": [
            7,
            7,
            11,
            11,
            20,
            27,
            35,
            48
           ]
          },
          {
           "mode": "lines+markers",
           "name": "user_6",
           "type": "scatter",
           "x": [
            0,
            1,
            2,
            3,
            4,
            5,
            6,
            7
           ],
           "y": [
            0,
            0,
            0,
            0,
            0,
            0,
            0,
            0
           ]
          },
          {
           "mode": "lines+markers",
           "name": "user_8",
           "type": "scatter",
           "x": [
            0,
            1,
            2,
            3,
            4,
            5,
            6,
            7
           ],
           "y": [
            0,
            0,
            0,
            0,
            0,
            0,
            0,
            0
           ]
          }
         ]
        },
        {
         "data": [
          {
           "mode": "lines+markers",
           "name": "user_1",
           "type": "scatter",
           "x": [
            0,
            1,
            2,
            3,
            4,
            5,
            6,
            7,
            8
           ],
           "y": [
            0,
            0,
            0,
            0,
            0,
            0,
            0,
            0,
            0
           ]
          },
          {
           "mode": "lines+markers",
           "name": "user_10",
           "type": "scatter",
           "x": [
            0,
            1,
            2,
            3,
            4,
            5,
            6,
            7,
            8
           ],
           "y": [
            0,
            0,
            0,
            0,
            0,
            0,
            0,
            0,
            0
           ]
          },
          {
           "mode": "lines+markers",
           "name": "user_11",
           "type": "scatter",
           "x": [
            0,
            1,
            2,
            3,
            4,
            5,
            6,
            7,
            8
           ],
           "y": [
            0,
            0,
            0,
            0,
            0,
            0,
            1,
            1,
            1
           ]
          },
          {
           "mode": "lines+markers",
           "name": "user_12",
           "type": "scatter",
           "x": [
            0,
            1,
            2,
            3,
            4,
            5,
            6,
            7,
            8
           ],
           "y": [
            0,
            0,
            0,
            0,
            0,
            0,
            0,
            0,
            0
           ]
          },
          {
           "mode": "lines+markers",
           "name": "user_13",
           "type": "scatter",
           "x": [
            0,
            1,
            2,
            3,
            4,
            5,
            6,
            7,
            8
           ],
           "y": [
            0,
            0,
            0,
            0,
            0,
            0,
            0,
            0,
            0
           ]
          },
          {
           "mode": "lines+markers",
           "name": "user_14",
           "type": "scatter",
           "x": [
            0,
            1,
            2,
            3,
            4,
            5,
            6,
            7,
            8
           ],
           "y": [
            0,
            0,
            0,
            0,
            0,
            0,
            0,
            0,
            1
           ]
          },
          {
           "mode": "lines+markers",
           "name": "user_15",
           "type": "scatter",
           "x": [
            0,
            1,
            2,
            3,
            4,
            5,
            6,
            7,
            8
           ],
           "y": [
            0,
            0,
            0,
            0,
            0,
            0,
            0,
            0,
            0
           ]
          },
          {
           "mode": "lines+markers",
           "name": "user_16",
           "type": "scatter",
           "x": [
            0,
            1,
            2,
            3,
            4,
            5,
            6,
            7,
            8
           ],
           "y": [
            0,
            0,
            0,
            0,
            0,
            0,
            0,
            0,
            0
           ]
          },
          {
           "mode": "lines+markers",
           "name": "user_17",
           "type": "scatter",
           "x": [
            0,
            1,
            2,
            3,
            4,
            5,
            6,
            7,
            8
           ],
           "y": [
            0,
            1,
            1,
            1,
            1,
            1,
            1,
            1,
            1
           ]
          },
          {
           "mode": "lines+markers",
           "name": "user_18",
           "type": "scatter",
           "x": [
            0,
            1,
            2,
            3,
            4,
            5,
            6,
            7,
            8
           ],
           "y": [
            0,
            0,
            0,
            0,
            0,
            0,
            0,
            0,
            0
           ]
          },
          {
           "mode": "lines+markers",
           "name": "user_19",
           "type": "scatter",
           "x": [
            0,
            1,
            2,
            3,
            4,
            5,
            6,
            7,
            8
           ],
           "y": [
            0,
            0,
            0,
            0,
            0,
            0,
            0,
            0,
            0
           ]
          },
          {
           "mode": "lines+markers",
           "name": "user_2",
           "type": "scatter",
           "x": [
            0,
            1,
            2,
            3,
            4,
            5,
            6,
            7,
            8
           ],
           "y": [
            0,
            0,
            0,
            0,
            0,
            0,
            0,
            0,
            57
           ]
          },
          {
           "mode": "lines+markers",
           "name": "user_20",
           "type": "scatter",
           "x": [
            0,
            1,
            2,
            3,
            4,
            5,
            6,
            7,
            8
           ],
           "y": [
            0,
            0,
            0,
            0,
            0,
            0,
            0,
            0,
            0
           ]
          },
          {
           "mode": "lines+markers",
           "name": "user_21",
           "type": "scatter",
           "x": [
            0,
            1,
            2,
            3,
            4,
            5,
            6,
            7,
            8
           ],
           "y": [
            0,
            0,
            0,
            0,
            0,
            0,
            0,
            0,
            0
           ]
          },
          {
           "mode": "lines+markers",
           "name": "user_22",
           "type": "scatter",
           "x": [
            0,
            1,
            2,
            3,
            4,
            5,
            6,
            7,
            8
           ],
           "y": [
            0,
            0,
            0,
            0,
            0,
            0,
            1,
            1,
            1
           ]
          },
          {
           "mode": "lines+markers",
           "name": "user_24",
           "type": "scatter",
           "x": [
            0,
            1,
            2,
            3,
            4,
            5,
            6,
            7,
            8
           ],
           "y": [
            0,
            0,
            0,
            0,
            0,
            0,
            0,
            0,
            0
           ]
          },
          {
           "mode": "lines+markers",
           "name": "user_25",
           "type": "scatter",
           "x": [
            0,
            1,
            2,
            3,
            4,
            5,
            6,
            7,
            8
           ],
           "y": [
            0,
            0,
            0,
            0,
            0,
            0,
            0,
            0,
            0
           ]
          },
          {
           "mode": "lines+markers",
           "name": "user_26",
           "type": "scatter",
           "x": [
            0,
            1,
            2,
            3,
            4,
            5,
            6,
            7,
            8
           ],
           "y": [
            0,
            0,
            0,
            0,
            0,
            0,
            0,
            0,
            0
           ]
          },
          {
           "mode": "lines+markers",
           "name": "user_27",
           "type": "scatter",
           "x": [
            0,
            1,
            2,
            3,
            4,
            5,
            6,
            7,
            8
           ],
           "y": [
            0,
            0,
            0,
            0,
            0,
            0,
            0,
            0,
            0
           ]
          },
          {
           "mode": "lines+markers",
           "name": "user_28",
           "type": "scatter",
           "x": [
            0,
            1,
            2,
            3,
            4,
            5,
            6,
            7,
            8
           ],
           "y": [
            0,
            0,
            0,
            0,
            0,
            0,
            0,
            0,
            0
           ]
          },
          {
           "mode": "lines+markers",
           "name": "user_29",
           "type": "scatter",
           "x": [
            0,
            1,
            2,
            3,
            4,
            5,
            6,
            7,
            8
           ],
           "y": [
            0,
            0,
            0,
            0,
            0,
            0,
            0,
            0,
            0
           ]
          },
          {
           "mode": "lines+markers",
           "name": "user_3",
           "type": "scatter",
           "x": [
            0,
            1,
            2,
            3,
            4,
            5,
            6,
            7,
            8
           ],
           "y": [
            0,
            0,
            0,
            0,
            0,
            0,
            0,
            0,
            0
           ]
          },
          {
           "mode": "lines+markers",
           "name": "user_30",
           "type": "scatter",
           "x": [
            0,
            1,
            2,
            3,
            4,
            5,
            6,
            7,
            8
           ],
           "y": [
            0,
            0,
            0,
            1,
            2,
            2,
            4,
            5,
            5
           ]
          },
          {
           "mode": "lines+markers",
           "name": "user_31",
           "type": "scatter",
           "x": [
            0,
            1,
            2,
            3,
            4,
            5,
            6,
            7,
            8
           ],
           "y": [
            0,
            0,
            0,
            0,
            0,
            0,
            0,
            0,
            0
           ]
          },
          {
           "mode": "lines+markers",
           "name": "user_4",
           "type": "scatter",
           "x": [
            0,
            1,
            2,
            3,
            4,
            5,
            6,
            7,
            8
           ],
           "y": [
            7,
            7,
            11,
            11,
            20,
            27,
            35,
            48,
            53
           ]
          },
          {
           "mode": "lines+markers",
           "name": "user_6",
           "type": "scatter",
           "x": [
            0,
            1,
            2,
            3,
            4,
            5,
            6,
            7,
            8
           ],
           "y": [
            0,
            0,
            0,
            0,
            0,
            0,
            0,
            0,
            0
           ]
          },
          {
           "mode": "lines+markers",
           "name": "user_8",
           "type": "scatter",
           "x": [
            0,
            1,
            2,
            3,
            4,
            5,
            6,
            7,
            8
           ],
           "y": [
            0,
            0,
            0,
            0,
            0,
            0,
            0,
            0,
            0
           ]
          }
         ]
        },
        {
         "data": [
          {
           "mode": "lines+markers",
           "name": "user_1",
           "type": "scatter",
           "x": [
            0,
            1,
            2,
            3,
            4,
            5,
            6,
            7,
            8,
            9
           ],
           "y": [
            0,
            0,
            0,
            0,
            0,
            0,
            0,
            0,
            0,
            0
           ]
          },
          {
           "mode": "lines+markers",
           "name": "user_10",
           "type": "scatter",
           "x": [
            0,
            1,
            2,
            3,
            4,
            5,
            6,
            7,
            8,
            9
           ],
           "y": [
            0,
            0,
            0,
            0,
            0,
            0,
            0,
            0,
            0,
            0
           ]
          },
          {
           "mode": "lines+markers",
           "name": "user_11",
           "type": "scatter",
           "x": [
            0,
            1,
            2,
            3,
            4,
            5,
            6,
            7,
            8,
            9
           ],
           "y": [
            0,
            0,
            0,
            0,
            0,
            0,
            1,
            1,
            1,
            1
           ]
          },
          {
           "mode": "lines+markers",
           "name": "user_12",
           "type": "scatter",
           "x": [
            0,
            1,
            2,
            3,
            4,
            5,
            6,
            7,
            8,
            9
           ],
           "y": [
            0,
            0,
            0,
            0,
            0,
            0,
            0,
            0,
            0,
            0
           ]
          },
          {
           "mode": "lines+markers",
           "name": "user_13",
           "type": "scatter",
           "x": [
            0,
            1,
            2,
            3,
            4,
            5,
            6,
            7,
            8,
            9
           ],
           "y": [
            0,
            0,
            0,
            0,
            0,
            0,
            0,
            0,
            0,
            0
           ]
          },
          {
           "mode": "lines+markers",
           "name": "user_14",
           "type": "scatter",
           "x": [
            0,
            1,
            2,
            3,
            4,
            5,
            6,
            7,
            8,
            9
           ],
           "y": [
            0,
            0,
            0,
            0,
            0,
            0,
            0,
            0,
            1,
            1
           ]
          },
          {
           "mode": "lines+markers",
           "name": "user_15",
           "type": "scatter",
           "x": [
            0,
            1,
            2,
            3,
            4,
            5,
            6,
            7,
            8,
            9
           ],
           "y": [
            0,
            0,
            0,
            0,
            0,
            0,
            0,
            0,
            0,
            0
           ]
          },
          {
           "mode": "lines+markers",
           "name": "user_16",
           "type": "scatter",
           "x": [
            0,
            1,
            2,
            3,
            4,
            5,
            6,
            7,
            8,
            9
           ],
           "y": [
            0,
            0,
            0,
            0,
            0,
            0,
            0,
            0,
            0,
            0
           ]
          },
          {
           "mode": "lines+markers",
           "name": "user_17",
           "type": "scatter",
           "x": [
            0,
            1,
            2,
            3,
            4,
            5,
            6,
            7,
            8,
            9
           ],
           "y": [
            0,
            1,
            1,
            1,
            1,
            1,
            1,
            1,
            1,
            1
           ]
          },
          {
           "mode": "lines+markers",
           "name": "user_18",
           "type": "scatter",
           "x": [
            0,
            1,
            2,
            3,
            4,
            5,
            6,
            7,
            8,
            9
           ],
           "y": [
            0,
            0,
            0,
            0,
            0,
            0,
            0,
            0,
            0,
            0
           ]
          },
          {
           "mode": "lines+markers",
           "name": "user_19",
           "type": "scatter",
           "x": [
            0,
            1,
            2,
            3,
            4,
            5,
            6,
            7,
            8,
            9
           ],
           "y": [
            0,
            0,
            0,
            0,
            0,
            0,
            0,
            0,
            0,
            0
           ]
          },
          {
           "mode": "lines+markers",
           "name": "user_2",
           "type": "scatter",
           "x": [
            0,
            1,
            2,
            3,
            4,
            5,
            6,
            7,
            8,
            9
           ],
           "y": [
            0,
            0,
            0,
            0,
            0,
            0,
            0,
            0,
            57,
            58
           ]
          },
          {
           "mode": "lines+markers",
           "name": "user_20",
           "type": "scatter",
           "x": [
            0,
            1,
            2,
            3,
            4,
            5,
            6,
            7,
            8,
            9
           ],
           "y": [
            0,
            0,
            0,
            0,
            0,
            0,
            0,
            0,
            0,
            0
           ]
          },
          {
           "mode": "lines+markers",
           "name": "user_21",
           "type": "scatter",
           "x": [
            0,
            1,
            2,
            3,
            4,
            5,
            6,
            7,
            8,
            9
           ],
           "y": [
            0,
            0,
            0,
            0,
            0,
            0,
            0,
            0,
            0,
            0
           ]
          },
          {
           "mode": "lines+markers",
           "name": "user_22",
           "type": "scatter",
           "x": [
            0,
            1,
            2,
            3,
            4,
            5,
            6,
            7,
            8,
            9
           ],
           "y": [
            0,
            0,
            0,
            0,
            0,
            0,
            1,
            1,
            1,
            1
           ]
          },
          {
           "mode": "lines+markers",
           "name": "user_24",
           "type": "scatter",
           "x": [
            0,
            1,
            2,
            3,
            4,
            5,
            6,
            7,
            8,
            9
           ],
           "y": [
            0,
            0,
            0,
            0,
            0,
            0,
            0,
            0,
            0,
            0
           ]
          },
          {
           "mode": "lines+markers",
           "name": "user_25",
           "type": "scatter",
           "x": [
            0,
            1,
            2,
            3,
            4,
            5,
            6,
            7,
            8,
            9
           ],
           "y": [
            0,
            0,
            0,
            0,
            0,
            0,
            0,
            0,
            0,
            0
           ]
          },
          {
           "mode": "lines+markers",
           "name": "user_26",
           "type": "scatter",
           "x": [
            0,
            1,
            2,
            3,
            4,
            5,
            6,
            7,
            8,
            9
           ],
           "y": [
            0,
            0,
            0,
            0,
            0,
            0,
            0,
            0,
            0,
            0
           ]
          },
          {
           "mode": "lines+markers",
           "name": "user_27",
           "type": "scatter",
           "x": [
            0,
            1,
            2,
            3,
            4,
            5,
            6,
            7,
            8,
            9
           ],
           "y": [
            0,
            0,
            0,
            0,
            0,
            0,
            0,
            0,
            0,
            0
           ]
          },
          {
           "mode": "lines+markers",
           "name": "user_28",
           "type": "scatter",
           "x": [
            0,
            1,
            2,
            3,
            4,
            5,
            6,
            7,
            8,
            9
           ],
           "y": [
            0,
            0,
            0,
            0,
            0,
            0,
            0,
            0,
            0,
            0
           ]
          },
          {
           "mode": "lines+markers",
           "name": "user_29",
           "type": "scatter",
           "x": [
            0,
            1,
            2,
            3,
            4,
            5,
            6,
            7,
            8,
            9
           ],
           "y": [
            0,
            0,
            0,
            0,
            0,
            0,
            0,
            0,
            0,
            0
           ]
          },
          {
           "mode": "lines+markers",
           "name": "user_3",
           "type": "scatter",
           "x": [
            0,
            1,
            2,
            3,
            4,
            5,
            6,
            7,
            8,
            9
           ],
           "y": [
            0,
            0,
            0,
            0,
            0,
            0,
            0,
            0,
            0,
            0
           ]
          },
          {
           "mode": "lines+markers",
           "name": "user_30",
           "type": "scatter",
           "x": [
            0,
            1,
            2,
            3,
            4,
            5,
            6,
            7,
            8,
            9
           ],
           "y": [
            0,
            0,
            0,
            1,
            2,
            2,
            4,
            5,
            5,
            5
           ]
          },
          {
           "mode": "lines+markers",
           "name": "user_31",
           "type": "scatter",
           "x": [
            0,
            1,
            2,
            3,
            4,
            5,
            6,
            7,
            8,
            9
           ],
           "y": [
            0,
            0,
            0,
            0,
            0,
            0,
            0,
            0,
            0,
            0
           ]
          },
          {
           "mode": "lines+markers",
           "name": "user_4",
           "type": "scatter",
           "x": [
            0,
            1,
            2,
            3,
            4,
            5,
            6,
            7,
            8,
            9
           ],
           "y": [
            7,
            7,
            11,
            11,
            20,
            27,
            35,
            48,
            53,
            53
           ]
          },
          {
           "mode": "lines+markers",
           "name": "user_6",
           "type": "scatter",
           "x": [
            0,
            1,
            2,
            3,
            4,
            5,
            6,
            7,
            8,
            9
           ],
           "y": [
            0,
            0,
            0,
            0,
            0,
            0,
            0,
            0,
            0,
            0
           ]
          },
          {
           "mode": "lines+markers",
           "name": "user_8",
           "type": "scatter",
           "x": [
            0,
            1,
            2,
            3,
            4,
            5,
            6,
            7,
            8,
            9
           ],
           "y": [
            0,
            0,
            0,
            0,
            0,
            0,
            0,
            0,
            0,
            0
           ]
          }
         ]
        },
        {
         "data": [
          {
           "mode": "lines+markers",
           "name": "user_1",
           "type": "scatter",
           "x": [
            0,
            1,
            2,
            3,
            4,
            5,
            6,
            7,
            8,
            9,
            10
           ],
           "y": [
            0,
            0,
            0,
            0,
            0,
            0,
            0,
            0,
            0,
            0,
            0
           ]
          },
          {
           "mode": "lines+markers",
           "name": "user_10",
           "type": "scatter",
           "x": [
            0,
            1,
            2,
            3,
            4,
            5,
            6,
            7,
            8,
            9,
            10
           ],
           "y": [
            0,
            0,
            0,
            0,
            0,
            0,
            0,
            0,
            0,
            0,
            0
           ]
          },
          {
           "mode": "lines+markers",
           "name": "user_11",
           "type": "scatter",
           "x": [
            0,
            1,
            2,
            3,
            4,
            5,
            6,
            7,
            8,
            9,
            10
           ],
           "y": [
            0,
            0,
            0,
            0,
            0,
            0,
            1,
            1,
            1,
            1,
            1
           ]
          },
          {
           "mode": "lines+markers",
           "name": "user_12",
           "type": "scatter",
           "x": [
            0,
            1,
            2,
            3,
            4,
            5,
            6,
            7,
            8,
            9,
            10
           ],
           "y": [
            0,
            0,
            0,
            0,
            0,
            0,
            0,
            0,
            0,
            0,
            0
           ]
          },
          {
           "mode": "lines+markers",
           "name": "user_13",
           "type": "scatter",
           "x": [
            0,
            1,
            2,
            3,
            4,
            5,
            6,
            7,
            8,
            9,
            10
           ],
           "y": [
            0,
            0,
            0,
            0,
            0,
            0,
            0,
            0,
            0,
            0,
            0
           ]
          },
          {
           "mode": "lines+markers",
           "name": "user_14",
           "type": "scatter",
           "x": [
            0,
            1,
            2,
            3,
            4,
            5,
            6,
            7,
            8,
            9,
            10
           ],
           "y": [
            0,
            0,
            0,
            0,
            0,
            0,
            0,
            0,
            1,
            1,
            1
           ]
          },
          {
           "mode": "lines+markers",
           "name": "user_15",
           "type": "scatter",
           "x": [
            0,
            1,
            2,
            3,
            4,
            5,
            6,
            7,
            8,
            9,
            10
           ],
           "y": [
            0,
            0,
            0,
            0,
            0,
            0,
            0,
            0,
            0,
            0,
            0
           ]
          },
          {
           "mode": "lines+markers",
           "name": "user_16",
           "type": "scatter",
           "x": [
            0,
            1,
            2,
            3,
            4,
            5,
            6,
            7,
            8,
            9,
            10
           ],
           "y": [
            0,
            0,
            0,
            0,
            0,
            0,
            0,
            0,
            0,
            0,
            0
           ]
          },
          {
           "mode": "lines+markers",
           "name": "user_17",
           "type": "scatter",
           "x": [
            0,
            1,
            2,
            3,
            4,
            5,
            6,
            7,
            8,
            9,
            10
           ],
           "y": [
            0,
            1,
            1,
            1,
            1,
            1,
            1,
            1,
            1,
            1,
            1
           ]
          },
          {
           "mode": "lines+markers",
           "name": "user_18",
           "type": "scatter",
           "x": [
            0,
            1,
            2,
            3,
            4,
            5,
            6,
            7,
            8,
            9,
            10
           ],
           "y": [
            0,
            0,
            0,
            0,
            0,
            0,
            0,
            0,
            0,
            0,
            0
           ]
          },
          {
           "mode": "lines+markers",
           "name": "user_19",
           "type": "scatter",
           "x": [
            0,
            1,
            2,
            3,
            4,
            5,
            6,
            7,
            8,
            9,
            10
           ],
           "y": [
            0,
            0,
            0,
            0,
            0,
            0,
            0,
            0,
            0,
            0,
            0
           ]
          },
          {
           "mode": "lines+markers",
           "name": "user_2",
           "type": "scatter",
           "x": [
            0,
            1,
            2,
            3,
            4,
            5,
            6,
            7,
            8,
            9,
            10
           ],
           "y": [
            0,
            0,
            0,
            0,
            0,
            0,
            0,
            0,
            57,
            58,
            58
           ]
          },
          {
           "mode": "lines+markers",
           "name": "user_20",
           "type": "scatter",
           "x": [
            0,
            1,
            2,
            3,
            4,
            5,
            6,
            7,
            8,
            9,
            10
           ],
           "y": [
            0,
            0,
            0,
            0,
            0,
            0,
            0,
            0,
            0,
            0,
            0
           ]
          },
          {
           "mode": "lines+markers",
           "name": "user_21",
           "type": "scatter",
           "x": [
            0,
            1,
            2,
            3,
            4,
            5,
            6,
            7,
            8,
            9,
            10
           ],
           "y": [
            0,
            0,
            0,
            0,
            0,
            0,
            0,
            0,
            0,
            0,
            0
           ]
          },
          {
           "mode": "lines+markers",
           "name": "user_22",
           "type": "scatter",
           "x": [
            0,
            1,
            2,
            3,
            4,
            5,
            6,
            7,
            8,
            9,
            10
           ],
           "y": [
            0,
            0,
            0,
            0,
            0,
            0,
            1,
            1,
            1,
            1,
            1
           ]
          },
          {
           "mode": "lines+markers",
           "name": "user_24",
           "type": "scatter",
           "x": [
            0,
            1,
            2,
            3,
            4,
            5,
            6,
            7,
            8,
            9,
            10
           ],
           "y": [
            0,
            0,
            0,
            0,
            0,
            0,
            0,
            0,
            0,
            0,
            0
           ]
          },
          {
           "mode": "lines+markers",
           "name": "user_25",
           "type": "scatter",
           "x": [
            0,
            1,
            2,
            3,
            4,
            5,
            6,
            7,
            8,
            9,
            10
           ],
           "y": [
            0,
            0,
            0,
            0,
            0,
            0,
            0,
            0,
            0,
            0,
            0
           ]
          },
          {
           "mode": "lines+markers",
           "name": "user_26",
           "type": "scatter",
           "x": [
            0,
            1,
            2,
            3,
            4,
            5,
            6,
            7,
            8,
            9,
            10
           ],
           "y": [
            0,
            0,
            0,
            0,
            0,
            0,
            0,
            0,
            0,
            0,
            0
           ]
          },
          {
           "mode": "lines+markers",
           "name": "user_27",
           "type": "scatter",
           "x": [
            0,
            1,
            2,
            3,
            4,
            5,
            6,
            7,
            8,
            9,
            10
           ],
           "y": [
            0,
            0,
            0,
            0,
            0,
            0,
            0,
            0,
            0,
            0,
            0
           ]
          },
          {
           "mode": "lines+markers",
           "name": "user_28",
           "type": "scatter",
           "x": [
            0,
            1,
            2,
            3,
            4,
            5,
            6,
            7,
            8,
            9,
            10
           ],
           "y": [
            0,
            0,
            0,
            0,
            0,
            0,
            0,
            0,
            0,
            0,
            0
           ]
          },
          {
           "mode": "lines+markers",
           "name": "user_29",
           "type": "scatter",
           "x": [
            0,
            1,
            2,
            3,
            4,
            5,
            6,
            7,
            8,
            9,
            10
           ],
           "y": [
            0,
            0,
            0,
            0,
            0,
            0,
            0,
            0,
            0,
            0,
            0
           ]
          },
          {
           "mode": "lines+markers",
           "name": "user_3",
           "type": "scatter",
           "x": [
            0,
            1,
            2,
            3,
            4,
            5,
            6,
            7,
            8,
            9,
            10
           ],
           "y": [
            0,
            0,
            0,
            0,
            0,
            0,
            0,
            0,
            0,
            0,
            1
           ]
          },
          {
           "mode": "lines+markers",
           "name": "user_30",
           "type": "scatter",
           "x": [
            0,
            1,
            2,
            3,
            4,
            5,
            6,
            7,
            8,
            9,
            10
           ],
           "y": [
            0,
            0,
            0,
            1,
            2,
            2,
            4,
            5,
            5,
            5,
            12
           ]
          },
          {
           "mode": "lines+markers",
           "name": "user_31",
           "type": "scatter",
           "x": [
            0,
            1,
            2,
            3,
            4,
            5,
            6,
            7,
            8,
            9,
            10
           ],
           "y": [
            0,
            0,
            0,
            0,
            0,
            0,
            0,
            0,
            0,
            0,
            1
           ]
          },
          {
           "mode": "lines+markers",
           "name": "user_4",
           "type": "scatter",
           "x": [
            0,
            1,
            2,
            3,
            4,
            5,
            6,
            7,
            8,
            9,
            10
           ],
           "y": [
            7,
            7,
            11,
            11,
            20,
            27,
            35,
            48,
            53,
            53,
            71
           ]
          },
          {
           "mode": "lines+markers",
           "name": "user_6",
           "type": "scatter",
           "x": [
            0,
            1,
            2,
            3,
            4,
            5,
            6,
            7,
            8,
            9,
            10
           ],
           "y": [
            0,
            0,
            0,
            0,
            0,
            0,
            0,
            0,
            0,
            0,
            0
           ]
          },
          {
           "mode": "lines+markers",
           "name": "user_8",
           "type": "scatter",
           "x": [
            0,
            1,
            2,
            3,
            4,
            5,
            6,
            7,
            8,
            9,
            10
           ],
           "y": [
            0,
            0,
            0,
            0,
            0,
            0,
            0,
            0,
            0,
            0,
            0
           ]
          }
         ]
        },
        {
         "data": [
          {
           "mode": "lines+markers",
           "name": "user_1",
           "type": "scatter",
           "x": [
            0,
            1,
            2,
            3,
            4,
            5,
            6,
            7,
            8,
            9,
            10,
            11
           ],
           "y": [
            0,
            0,
            0,
            0,
            0,
            0,
            0,
            0,
            0,
            0,
            0,
            0
           ]
          },
          {
           "mode": "lines+markers",
           "name": "user_10",
           "type": "scatter",
           "x": [
            0,
            1,
            2,
            3,
            4,
            5,
            6,
            7,
            8,
            9,
            10,
            11
           ],
           "y": [
            0,
            0,
            0,
            0,
            0,
            0,
            0,
            0,
            0,
            0,
            0,
            0
           ]
          },
          {
           "mode": "lines+markers",
           "name": "user_11",
           "type": "scatter",
           "x": [
            0,
            1,
            2,
            3,
            4,
            5,
            6,
            7,
            8,
            9,
            10,
            11
           ],
           "y": [
            0,
            0,
            0,
            0,
            0,
            0,
            1,
            1,
            1,
            1,
            1,
            1
           ]
          },
          {
           "mode": "lines+markers",
           "name": "user_12",
           "type": "scatter",
           "x": [
            0,
            1,
            2,
            3,
            4,
            5,
            6,
            7,
            8,
            9,
            10,
            11
           ],
           "y": [
            0,
            0,
            0,
            0,
            0,
            0,
            0,
            0,
            0,
            0,
            0,
            0
           ]
          },
          {
           "mode": "lines+markers",
           "name": "user_13",
           "type": "scatter",
           "x": [
            0,
            1,
            2,
            3,
            4,
            5,
            6,
            7,
            8,
            9,
            10,
            11
           ],
           "y": [
            0,
            0,
            0,
            0,
            0,
            0,
            0,
            0,
            0,
            0,
            0,
            0
           ]
          },
          {
           "mode": "lines+markers",
           "name": "user_14",
           "type": "scatter",
           "x": [
            0,
            1,
            2,
            3,
            4,
            5,
            6,
            7,
            8,
            9,
            10,
            11
           ],
           "y": [
            0,
            0,
            0,
            0,
            0,
            0,
            0,
            0,
            1,
            1,
            1,
            1
           ]
          },
          {
           "mode": "lines+markers",
           "name": "user_15",
           "type": "scatter",
           "x": [
            0,
            1,
            2,
            3,
            4,
            5,
            6,
            7,
            8,
            9,
            10,
            11
           ],
           "y": [
            0,
            0,
            0,
            0,
            0,
            0,
            0,
            0,
            0,
            0,
            0,
            0
           ]
          },
          {
           "mode": "lines+markers",
           "name": "user_16",
           "type": "scatter",
           "x": [
            0,
            1,
            2,
            3,
            4,
            5,
            6,
            7,
            8,
            9,
            10,
            11
           ],
           "y": [
            0,
            0,
            0,
            0,
            0,
            0,
            0,
            0,
            0,
            0,
            0,
            0
           ]
          },
          {
           "mode": "lines+markers",
           "name": "user_17",
           "type": "scatter",
           "x": [
            0,
            1,
            2,
            3,
            4,
            5,
            6,
            7,
            8,
            9,
            10,
            11
           ],
           "y": [
            0,
            1,
            1,
            1,
            1,
            1,
            1,
            1,
            1,
            1,
            1,
            1
           ]
          },
          {
           "mode": "lines+markers",
           "name": "user_18",
           "type": "scatter",
           "x": [
            0,
            1,
            2,
            3,
            4,
            5,
            6,
            7,
            8,
            9,
            10,
            11
           ],
           "y": [
            0,
            0,
            0,
            0,
            0,
            0,
            0,
            0,
            0,
            0,
            0,
            0
           ]
          },
          {
           "mode": "lines+markers",
           "name": "user_19",
           "type": "scatter",
           "x": [
            0,
            1,
            2,
            3,
            4,
            5,
            6,
            7,
            8,
            9,
            10,
            11
           ],
           "y": [
            0,
            0,
            0,
            0,
            0,
            0,
            0,
            0,
            0,
            0,
            0,
            0
           ]
          },
          {
           "mode": "lines+markers",
           "name": "user_2",
           "type": "scatter",
           "x": [
            0,
            1,
            2,
            3,
            4,
            5,
            6,
            7,
            8,
            9,
            10,
            11
           ],
           "y": [
            0,
            0,
            0,
            0,
            0,
            0,
            0,
            0,
            57,
            58,
            58,
            58
           ]
          },
          {
           "mode": "lines+markers",
           "name": "user_20",
           "type": "scatter",
           "x": [
            0,
            1,
            2,
            3,
            4,
            5,
            6,
            7,
            8,
            9,
            10,
            11
           ],
           "y": [
            0,
            0,
            0,
            0,
            0,
            0,
            0,
            0,
            0,
            0,
            0,
            0
           ]
          },
          {
           "mode": "lines+markers",
           "name": "user_21",
           "type": "scatter",
           "x": [
            0,
            1,
            2,
            3,
            4,
            5,
            6,
            7,
            8,
            9,
            10,
            11
           ],
           "y": [
            0,
            0,
            0,
            0,
            0,
            0,
            0,
            0,
            0,
            0,
            0,
            0
           ]
          },
          {
           "mode": "lines+markers",
           "name": "user_22",
           "type": "scatter",
           "x": [
            0,
            1,
            2,
            3,
            4,
            5,
            6,
            7,
            8,
            9,
            10,
            11
           ],
           "y": [
            0,
            0,
            0,
            0,
            0,
            0,
            1,
            1,
            1,
            1,
            1,
            1
           ]
          },
          {
           "mode": "lines+markers",
           "name": "user_24",
           "type": "scatter",
           "x": [
            0,
            1,
            2,
            3,
            4,
            5,
            6,
            7,
            8,
            9,
            10,
            11
           ],
           "y": [
            0,
            0,
            0,
            0,
            0,
            0,
            0,
            0,
            0,
            0,
            0,
            0
           ]
          },
          {
           "mode": "lines+markers",
           "name": "user_25",
           "type": "scatter",
           "x": [
            0,
            1,
            2,
            3,
            4,
            5,
            6,
            7,
            8,
            9,
            10,
            11
           ],
           "y": [
            0,
            0,
            0,
            0,
            0,
            0,
            0,
            0,
            0,
            0,
            0,
            5
           ]
          },
          {
           "mode": "lines+markers",
           "name": "user_26",
           "type": "scatter",
           "x": [
            0,
            1,
            2,
            3,
            4,
            5,
            6,
            7,
            8,
            9,
            10,
            11
           ],
           "y": [
            0,
            0,
            0,
            0,
            0,
            0,
            0,
            0,
            0,
            0,
            0,
            0
           ]
          },
          {
           "mode": "lines+markers",
           "name": "user_27",
           "type": "scatter",
           "x": [
            0,
            1,
            2,
            3,
            4,
            5,
            6,
            7,
            8,
            9,
            10,
            11
           ],
           "y": [
            0,
            0,
            0,
            0,
            0,
            0,
            0,
            0,
            0,
            0,
            0,
            0
           ]
          },
          {
           "mode": "lines+markers",
           "name": "user_28",
           "type": "scatter",
           "x": [
            0,
            1,
            2,
            3,
            4,
            5,
            6,
            7,
            8,
            9,
            10,
            11
           ],
           "y": [
            0,
            0,
            0,
            0,
            0,
            0,
            0,
            0,
            0,
            0,
            0,
            0
           ]
          },
          {
           "mode": "lines+markers",
           "name": "user_29",
           "type": "scatter",
           "x": [
            0,
            1,
            2,
            3,
            4,
            5,
            6,
            7,
            8,
            9,
            10,
            11
           ],
           "y": [
            0,
            0,
            0,
            0,
            0,
            0,
            0,
            0,
            0,
            0,
            0,
            0
           ]
          },
          {
           "mode": "lines+markers",
           "name": "user_3",
           "type": "scatter",
           "x": [
            0,
            1,
            2,
            3,
            4,
            5,
            6,
            7,
            8,
            9,
            10,
            11
           ],
           "y": [
            0,
            0,
            0,
            0,
            0,
            0,
            0,
            0,
            0,
            0,
            1,
            28
           ]
          },
          {
           "mode": "lines+markers",
           "name": "user_30",
           "type": "scatter",
           "x": [
            0,
            1,
            2,
            3,
            4,
            5,
            6,
            7,
            8,
            9,
            10,
            11
           ],
           "y": [
            0,
            0,
            0,
            1,
            2,
            2,
            4,
            5,
            5,
            5,
            12,
            12
           ]
          },
          {
           "mode": "lines+markers",
           "name": "user_31",
           "type": "scatter",
           "x": [
            0,
            1,
            2,
            3,
            4,
            5,
            6,
            7,
            8,
            9,
            10,
            11
           ],
           "y": [
            0,
            0,
            0,
            0,
            0,
            0,
            0,
            0,
            0,
            0,
            1,
            1
           ]
          },
          {
           "mode": "lines+markers",
           "name": "user_4",
           "type": "scatter",
           "x": [
            0,
            1,
            2,
            3,
            4,
            5,
            6,
            7,
            8,
            9,
            10,
            11
           ],
           "y": [
            7,
            7,
            11,
            11,
            20,
            27,
            35,
            48,
            53,
            53,
            71,
            83
           ]
          },
          {
           "mode": "lines+markers",
           "name": "user_6",
           "type": "scatter",
           "x": [
            0,
            1,
            2,
            3,
            4,
            5,
            6,
            7,
            8,
            9,
            10,
            11
           ],
           "y": [
            0,
            0,
            0,
            0,
            0,
            0,
            0,
            0,
            0,
            0,
            0,
            0
           ]
          },
          {
           "mode": "lines+markers",
           "name": "user_8",
           "type": "scatter",
           "x": [
            0,
            1,
            2,
            3,
            4,
            5,
            6,
            7,
            8,
            9,
            10,
            11
           ],
           "y": [
            0,
            0,
            0,
            0,
            0,
            0,
            0,
            0,
            0,
            0,
            0,
            0
           ]
          }
         ]
        },
        {
         "data": [
          {
           "mode": "lines+markers",
           "name": "user_1",
           "type": "scatter",
           "x": [
            0,
            1,
            2,
            3,
            4,
            5,
            6,
            7,
            8,
            9,
            10,
            11,
            12
           ],
           "y": [
            0,
            0,
            0,
            0,
            0,
            0,
            0,
            0,
            0,
            0,
            0,
            0,
            0
           ]
          },
          {
           "mode": "lines+markers",
           "name": "user_10",
           "type": "scatter",
           "x": [
            0,
            1,
            2,
            3,
            4,
            5,
            6,
            7,
            8,
            9,
            10,
            11,
            12
           ],
           "y": [
            0,
            0,
            0,
            0,
            0,
            0,
            0,
            0,
            0,
            0,
            0,
            0,
            0
           ]
          },
          {
           "mode": "lines+markers",
           "name": "user_11",
           "type": "scatter",
           "x": [
            0,
            1,
            2,
            3,
            4,
            5,
            6,
            7,
            8,
            9,
            10,
            11,
            12
           ],
           "y": [
            0,
            0,
            0,
            0,
            0,
            0,
            1,
            1,
            1,
            1,
            1,
            1,
            1
           ]
          },
          {
           "mode": "lines+markers",
           "name": "user_12",
           "type": "scatter",
           "x": [
            0,
            1,
            2,
            3,
            4,
            5,
            6,
            7,
            8,
            9,
            10,
            11,
            12
           ],
           "y": [
            0,
            0,
            0,
            0,
            0,
            0,
            0,
            0,
            0,
            0,
            0,
            0,
            0
           ]
          },
          {
           "mode": "lines+markers",
           "name": "user_13",
           "type": "scatter",
           "x": [
            0,
            1,
            2,
            3,
            4,
            5,
            6,
            7,
            8,
            9,
            10,
            11,
            12
           ],
           "y": [
            0,
            0,
            0,
            0,
            0,
            0,
            0,
            0,
            0,
            0,
            0,
            0,
            0
           ]
          },
          {
           "mode": "lines+markers",
           "name": "user_14",
           "type": "scatter",
           "x": [
            0,
            1,
            2,
            3,
            4,
            5,
            6,
            7,
            8,
            9,
            10,
            11,
            12
           ],
           "y": [
            0,
            0,
            0,
            0,
            0,
            0,
            0,
            0,
            1,
            1,
            1,
            1,
            18
           ]
          },
          {
           "mode": "lines+markers",
           "name": "user_15",
           "type": "scatter",
           "x": [
            0,
            1,
            2,
            3,
            4,
            5,
            6,
            7,
            8,
            9,
            10,
            11,
            12
           ],
           "y": [
            0,
            0,
            0,
            0,
            0,
            0,
            0,
            0,
            0,
            0,
            0,
            0,
            0
           ]
          },
          {
           "mode": "lines+markers",
           "name": "user_16",
           "type": "scatter",
           "x": [
            0,
            1,
            2,
            3,
            4,
            5,
            6,
            7,
            8,
            9,
            10,
            11,
            12
           ],
           "y": [
            0,
            0,
            0,
            0,
            0,
            0,
            0,
            0,
            0,
            0,
            0,
            0,
            0
           ]
          },
          {
           "mode": "lines+markers",
           "name": "user_17",
           "type": "scatter",
           "x": [
            0,
            1,
            2,
            3,
            4,
            5,
            6,
            7,
            8,
            9,
            10,
            11,
            12
           ],
           "y": [
            0,
            1,
            1,
            1,
            1,
            1,
            1,
            1,
            1,
            1,
            1,
            1,
            1
           ]
          },
          {
           "mode": "lines+markers",
           "name": "user_18",
           "type": "scatter",
           "x": [
            0,
            1,
            2,
            3,
            4,
            5,
            6,
            7,
            8,
            9,
            10,
            11,
            12
           ],
           "y": [
            0,
            0,
            0,
            0,
            0,
            0,
            0,
            0,
            0,
            0,
            0,
            0,
            0
           ]
          },
          {
           "mode": "lines+markers",
           "name": "user_19",
           "type": "scatter",
           "x": [
            0,
            1,
            2,
            3,
            4,
            5,
            6,
            7,
            8,
            9,
            10,
            11,
            12
           ],
           "y": [
            0,
            0,
            0,
            0,
            0,
            0,
            0,
            0,
            0,
            0,
            0,
            0,
            0
           ]
          },
          {
           "mode": "lines+markers",
           "name": "user_2",
           "type": "scatter",
           "x": [
            0,
            1,
            2,
            3,
            4,
            5,
            6,
            7,
            8,
            9,
            10,
            11,
            12
           ],
           "y": [
            0,
            0,
            0,
            0,
            0,
            0,
            0,
            0,
            57,
            58,
            58,
            58,
            58
           ]
          },
          {
           "mode": "lines+markers",
           "name": "user_20",
           "type": "scatter",
           "x": [
            0,
            1,
            2,
            3,
            4,
            5,
            6,
            7,
            8,
            9,
            10,
            11,
            12
           ],
           "y": [
            0,
            0,
            0,
            0,
            0,
            0,
            0,
            0,
            0,
            0,
            0,
            0,
            0
           ]
          },
          {
           "mode": "lines+markers",
           "name": "user_21",
           "type": "scatter",
           "x": [
            0,
            1,
            2,
            3,
            4,
            5,
            6,
            7,
            8,
            9,
            10,
            11,
            12
           ],
           "y": [
            0,
            0,
            0,
            0,
            0,
            0,
            0,
            0,
            0,
            0,
            0,
            0,
            0
           ]
          },
          {
           "mode": "lines+markers",
           "name": "user_22",
           "type": "scatter",
           "x": [
            0,
            1,
            2,
            3,
            4,
            5,
            6,
            7,
            8,
            9,
            10,
            11,
            12
           ],
           "y": [
            0,
            0,
            0,
            0,
            0,
            0,
            1,
            1,
            1,
            1,
            1,
            1,
            1
           ]
          },
          {
           "mode": "lines+markers",
           "name": "user_24",
           "type": "scatter",
           "x": [
            0,
            1,
            2,
            3,
            4,
            5,
            6,
            7,
            8,
            9,
            10,
            11,
            12
           ],
           "y": [
            0,
            0,
            0,
            0,
            0,
            0,
            0,
            0,
            0,
            0,
            0,
            0,
            0
           ]
          },
          {
           "mode": "lines+markers",
           "name": "user_25",
           "type": "scatter",
           "x": [
            0,
            1,
            2,
            3,
            4,
            5,
            6,
            7,
            8,
            9,
            10,
            11,
            12
           ],
           "y": [
            0,
            0,
            0,
            0,
            0,
            0,
            0,
            0,
            0,
            0,
            0,
            5,
            27
           ]
          },
          {
           "mode": "lines+markers",
           "name": "user_26",
           "type": "scatter",
           "x": [
            0,
            1,
            2,
            3,
            4,
            5,
            6,
            7,
            8,
            9,
            10,
            11,
            12
           ],
           "y": [
            0,
            0,
            0,
            0,
            0,
            0,
            0,
            0,
            0,
            0,
            0,
            0,
            0
           ]
          },
          {
           "mode": "lines+markers",
           "name": "user_27",
           "type": "scatter",
           "x": [
            0,
            1,
            2,
            3,
            4,
            5,
            6,
            7,
            8,
            9,
            10,
            11,
            12
           ],
           "y": [
            0,
            0,
            0,
            0,
            0,
            0,
            0,
            0,
            0,
            0,
            0,
            0,
            0
           ]
          },
          {
           "mode": "lines+markers",
           "name": "user_28",
           "type": "scatter",
           "x": [
            0,
            1,
            2,
            3,
            4,
            5,
            6,
            7,
            8,
            9,
            10,
            11,
            12
           ],
           "y": [
            0,
            0,
            0,
            0,
            0,
            0,
            0,
            0,
            0,
            0,
            0,
            0,
            0
           ]
          },
          {
           "mode": "lines+markers",
           "name": "user_29",
           "type": "scatter",
           "x": [
            0,
            1,
            2,
            3,
            4,
            5,
            6,
            7,
            8,
            9,
            10,
            11,
            12
           ],
           "y": [
            0,
            0,
            0,
            0,
            0,
            0,
            0,
            0,
            0,
            0,
            0,
            0,
            0
           ]
          },
          {
           "mode": "lines+markers",
           "name": "user_3",
           "type": "scatter",
           "x": [
            0,
            1,
            2,
            3,
            4,
            5,
            6,
            7,
            8,
            9,
            10,
            11,
            12
           ],
           "y": [
            0,
            0,
            0,
            0,
            0,
            0,
            0,
            0,
            0,
            0,
            1,
            28,
            29
           ]
          },
          {
           "mode": "lines+markers",
           "name": "user_30",
           "type": "scatter",
           "x": [
            0,
            1,
            2,
            3,
            4,
            5,
            6,
            7,
            8,
            9,
            10,
            11,
            12
           ],
           "y": [
            0,
            0,
            0,
            1,
            2,
            2,
            4,
            5,
            5,
            5,
            12,
            12,
            12
           ]
          },
          {
           "mode": "lines+markers",
           "name": "user_31",
           "type": "scatter",
           "x": [
            0,
            1,
            2,
            3,
            4,
            5,
            6,
            7,
            8,
            9,
            10,
            11,
            12
           ],
           "y": [
            0,
            0,
            0,
            0,
            0,
            0,
            0,
            0,
            0,
            0,
            1,
            1,
            4
           ]
          },
          {
           "mode": "lines+markers",
           "name": "user_4",
           "type": "scatter",
           "x": [
            0,
            1,
            2,
            3,
            4,
            5,
            6,
            7,
            8,
            9,
            10,
            11,
            12
           ],
           "y": [
            7,
            7,
            11,
            11,
            20,
            27,
            35,
            48,
            53,
            53,
            71,
            83,
            83
           ]
          },
          {
           "mode": "lines+markers",
           "name": "user_6",
           "type": "scatter",
           "x": [
            0,
            1,
            2,
            3,
            4,
            5,
            6,
            7,
            8,
            9,
            10,
            11,
            12
           ],
           "y": [
            0,
            0,
            0,
            0,
            0,
            0,
            0,
            0,
            0,
            0,
            0,
            0,
            0
           ]
          },
          {
           "mode": "lines+markers",
           "name": "user_8",
           "type": "scatter",
           "x": [
            0,
            1,
            2,
            3,
            4,
            5,
            6,
            7,
            8,
            9,
            10,
            11,
            12
           ],
           "y": [
            0,
            0,
            0,
            0,
            0,
            0,
            0,
            0,
            0,
            0,
            0,
            0,
            0
           ]
          }
         ]
        },
        {
         "data": [
          {
           "mode": "lines+markers",
           "name": "user_1",
           "type": "scatter",
           "x": [
            0,
            1,
            2,
            3,
            4,
            5,
            6,
            7,
            8,
            9,
            10,
            11,
            12,
            13
           ],
           "y": [
            0,
            0,
            0,
            0,
            0,
            0,
            0,
            0,
            0,
            0,
            0,
            0,
            0,
            0
           ]
          },
          {
           "mode": "lines+markers",
           "name": "user_10",
           "type": "scatter",
           "x": [
            0,
            1,
            2,
            3,
            4,
            5,
            6,
            7,
            8,
            9,
            10,
            11,
            12,
            13
           ],
           "y": [
            0,
            0,
            0,
            0,
            0,
            0,
            0,
            0,
            0,
            0,
            0,
            0,
            0,
            0
           ]
          },
          {
           "mode": "lines+markers",
           "name": "user_11",
           "type": "scatter",
           "x": [
            0,
            1,
            2,
            3,
            4,
            5,
            6,
            7,
            8,
            9,
            10,
            11,
            12,
            13
           ],
           "y": [
            0,
            0,
            0,
            0,
            0,
            0,
            1,
            1,
            1,
            1,
            1,
            1,
            1,
            1
           ]
          },
          {
           "mode": "lines+markers",
           "name": "user_12",
           "type": "scatter",
           "x": [
            0,
            1,
            2,
            3,
            4,
            5,
            6,
            7,
            8,
            9,
            10,
            11,
            12,
            13
           ],
           "y": [
            0,
            0,
            0,
            0,
            0,
            0,
            0,
            0,
            0,
            0,
            0,
            0,
            0,
            0
           ]
          },
          {
           "mode": "lines+markers",
           "name": "user_13",
           "type": "scatter",
           "x": [
            0,
            1,
            2,
            3,
            4,
            5,
            6,
            7,
            8,
            9,
            10,
            11,
            12,
            13
           ],
           "y": [
            0,
            0,
            0,
            0,
            0,
            0,
            0,
            0,
            0,
            0,
            0,
            0,
            0,
            0
           ]
          },
          {
           "mode": "lines+markers",
           "name": "user_14",
           "type": "scatter",
           "x": [
            0,
            1,
            2,
            3,
            4,
            5,
            6,
            7,
            8,
            9,
            10,
            11,
            12,
            13
           ],
           "y": [
            0,
            0,
            0,
            0,
            0,
            0,
            0,
            0,
            1,
            1,
            1,
            1,
            18,
            25
           ]
          },
          {
           "mode": "lines+markers",
           "name": "user_15",
           "type": "scatter",
           "x": [
            0,
            1,
            2,
            3,
            4,
            5,
            6,
            7,
            8,
            9,
            10,
            11,
            12,
            13
           ],
           "y": [
            0,
            0,
            0,
            0,
            0,
            0,
            0,
            0,
            0,
            0,
            0,
            0,
            0,
            0
           ]
          },
          {
           "mode": "lines+markers",
           "name": "user_16",
           "type": "scatter",
           "x": [
            0,
            1,
            2,
            3,
            4,
            5,
            6,
            7,
            8,
            9,
            10,
            11,
            12,
            13
           ],
           "y": [
            0,
            0,
            0,
            0,
            0,
            0,
            0,
            0,
            0,
            0,
            0,
            0,
            0,
            0
           ]
          },
          {
           "mode": "lines+markers",
           "name": "user_17",
           "type": "scatter",
           "x": [
            0,
            1,
            2,
            3,
            4,
            5,
            6,
            7,
            8,
            9,
            10,
            11,
            12,
            13
           ],
           "y": [
            0,
            1,
            1,
            1,
            1,
            1,
            1,
            1,
            1,
            1,
            1,
            1,
            1,
            1
           ]
          },
          {
           "mode": "lines+markers",
           "name": "user_18",
           "type": "scatter",
           "x": [
            0,
            1,
            2,
            3,
            4,
            5,
            6,
            7,
            8,
            9,
            10,
            11,
            12,
            13
           ],
           "y": [
            0,
            0,
            0,
            0,
            0,
            0,
            0,
            0,
            0,
            0,
            0,
            0,
            0,
            0
           ]
          },
          {
           "mode": "lines+markers",
           "name": "user_19",
           "type": "scatter",
           "x": [
            0,
            1,
            2,
            3,
            4,
            5,
            6,
            7,
            8,
            9,
            10,
            11,
            12,
            13
           ],
           "y": [
            0,
            0,
            0,
            0,
            0,
            0,
            0,
            0,
            0,
            0,
            0,
            0,
            0,
            0
           ]
          },
          {
           "mode": "lines+markers",
           "name": "user_2",
           "type": "scatter",
           "x": [
            0,
            1,
            2,
            3,
            4,
            5,
            6,
            7,
            8,
            9,
            10,
            11,
            12,
            13
           ],
           "y": [
            0,
            0,
            0,
            0,
            0,
            0,
            0,
            0,
            57,
            58,
            58,
            58,
            58,
            62
           ]
          },
          {
           "mode": "lines+markers",
           "name": "user_20",
           "type": "scatter",
           "x": [
            0,
            1,
            2,
            3,
            4,
            5,
            6,
            7,
            8,
            9,
            10,
            11,
            12,
            13
           ],
           "y": [
            0,
            0,
            0,
            0,
            0,
            0,
            0,
            0,
            0,
            0,
            0,
            0,
            0,
            0
           ]
          },
          {
           "mode": "lines+markers",
           "name": "user_21",
           "type": "scatter",
           "x": [
            0,
            1,
            2,
            3,
            4,
            5,
            6,
            7,
            8,
            9,
            10,
            11,
            12,
            13
           ],
           "y": [
            0,
            0,
            0,
            0,
            0,
            0,
            0,
            0,
            0,
            0,
            0,
            0,
            0,
            7
           ]
          },
          {
           "mode": "lines+markers",
           "name": "user_22",
           "type": "scatter",
           "x": [
            0,
            1,
            2,
            3,
            4,
            5,
            6,
            7,
            8,
            9,
            10,
            11,
            12,
            13
           ],
           "y": [
            0,
            0,
            0,
            0,
            0,
            0,
            1,
            1,
            1,
            1,
            1,
            1,
            1,
            1
           ]
          },
          {
           "mode": "lines+markers",
           "name": "user_24",
           "type": "scatter",
           "x": [
            0,
            1,
            2,
            3,
            4,
            5,
            6,
            7,
            8,
            9,
            10,
            11,
            12,
            13
           ],
           "y": [
            0,
            0,
            0,
            0,
            0,
            0,
            0,
            0,
            0,
            0,
            0,
            0,
            0,
            0
           ]
          },
          {
           "mode": "lines+markers",
           "name": "user_25",
           "type": "scatter",
           "x": [
            0,
            1,
            2,
            3,
            4,
            5,
            6,
            7,
            8,
            9,
            10,
            11,
            12,
            13
           ],
           "y": [
            0,
            0,
            0,
            0,
            0,
            0,
            0,
            0,
            0,
            0,
            0,
            5,
            27,
            29
           ]
          },
          {
           "mode": "lines+markers",
           "name": "user_26",
           "type": "scatter",
           "x": [
            0,
            1,
            2,
            3,
            4,
            5,
            6,
            7,
            8,
            9,
            10,
            11,
            12,
            13
           ],
           "y": [
            0,
            0,
            0,
            0,
            0,
            0,
            0,
            0,
            0,
            0,
            0,
            0,
            0,
            35
           ]
          },
          {
           "mode": "lines+markers",
           "name": "user_27",
           "type": "scatter",
           "x": [
            0,
            1,
            2,
            3,
            4,
            5,
            6,
            7,
            8,
            9,
            10,
            11,
            12,
            13
           ],
           "y": [
            0,
            0,
            0,
            0,
            0,
            0,
            0,
            0,
            0,
            0,
            0,
            0,
            0,
            0
           ]
          },
          {
           "mode": "lines+markers",
           "name": "user_28",
           "type": "scatter",
           "x": [
            0,
            1,
            2,
            3,
            4,
            5,
            6,
            7,
            8,
            9,
            10,
            11,
            12,
            13
           ],
           "y": [
            0,
            0,
            0,
            0,
            0,
            0,
            0,
            0,
            0,
            0,
            0,
            0,
            0,
            0
           ]
          },
          {
           "mode": "lines+markers",
           "name": "user_29",
           "type": "scatter",
           "x": [
            0,
            1,
            2,
            3,
            4,
            5,
            6,
            7,
            8,
            9,
            10,
            11,
            12,
            13
           ],
           "y": [
            0,
            0,
            0,
            0,
            0,
            0,
            0,
            0,
            0,
            0,
            0,
            0,
            0,
            0
           ]
          },
          {
           "mode": "lines+markers",
           "name": "user_3",
           "type": "scatter",
           "x": [
            0,
            1,
            2,
            3,
            4,
            5,
            6,
            7,
            8,
            9,
            10,
            11,
            12,
            13
           ],
           "y": [
            0,
            0,
            0,
            0,
            0,
            0,
            0,
            0,
            0,
            0,
            1,
            28,
            29,
            31
           ]
          },
          {
           "mode": "lines+markers",
           "name": "user_30",
           "type": "scatter",
           "x": [
            0,
            1,
            2,
            3,
            4,
            5,
            6,
            7,
            8,
            9,
            10,
            11,
            12,
            13
           ],
           "y": [
            0,
            0,
            0,
            1,
            2,
            2,
            4,
            5,
            5,
            5,
            12,
            12,
            12,
            17
           ]
          },
          {
           "mode": "lines+markers",
           "name": "user_31",
           "type": "scatter",
           "x": [
            0,
            1,
            2,
            3,
            4,
            5,
            6,
            7,
            8,
            9,
            10,
            11,
            12,
            13
           ],
           "y": [
            0,
            0,
            0,
            0,
            0,
            0,
            0,
            0,
            0,
            0,
            1,
            1,
            4,
            4
           ]
          },
          {
           "mode": "lines+markers",
           "name": "user_4",
           "type": "scatter",
           "x": [
            0,
            1,
            2,
            3,
            4,
            5,
            6,
            7,
            8,
            9,
            10,
            11,
            12,
            13
           ],
           "y": [
            7,
            7,
            11,
            11,
            20,
            27,
            35,
            48,
            53,
            53,
            71,
            83,
            83,
            83
           ]
          },
          {
           "mode": "lines+markers",
           "name": "user_6",
           "type": "scatter",
           "x": [
            0,
            1,
            2,
            3,
            4,
            5,
            6,
            7,
            8,
            9,
            10,
            11,
            12,
            13
           ],
           "y": [
            0,
            0,
            0,
            0,
            0,
            0,
            0,
            0,
            0,
            0,
            0,
            0,
            0,
            0
           ]
          },
          {
           "mode": "lines+markers",
           "name": "user_8",
           "type": "scatter",
           "x": [
            0,
            1,
            2,
            3,
            4,
            5,
            6,
            7,
            8,
            9,
            10,
            11,
            12,
            13
           ],
           "y": [
            0,
            0,
            0,
            0,
            0,
            0,
            0,
            0,
            0,
            0,
            0,
            0,
            0,
            0
           ]
          }
         ]
        },
        {
         "data": [
          {
           "mode": "lines+markers",
           "name": "user_1",
           "type": "scatter",
           "x": [
            0,
            1,
            2,
            3,
            4,
            5,
            6,
            7,
            8,
            9,
            10,
            11,
            12,
            13,
            14
           ],
           "y": [
            0,
            0,
            0,
            0,
            0,
            0,
            0,
            0,
            0,
            0,
            0,
            0,
            0,
            0,
            0
           ]
          },
          {
           "mode": "lines+markers",
           "name": "user_10",
           "type": "scatter",
           "x": [
            0,
            1,
            2,
            3,
            4,
            5,
            6,
            7,
            8,
            9,
            10,
            11,
            12,
            13,
            14
           ],
           "y": [
            0,
            0,
            0,
            0,
            0,
            0,
            0,
            0,
            0,
            0,
            0,
            0,
            0,
            0,
            0
           ]
          },
          {
           "mode": "lines+markers",
           "name": "user_11",
           "type": "scatter",
           "x": [
            0,
            1,
            2,
            3,
            4,
            5,
            6,
            7,
            8,
            9,
            10,
            11,
            12,
            13,
            14
           ],
           "y": [
            0,
            0,
            0,
            0,
            0,
            0,
            1,
            1,
            1,
            1,
            1,
            1,
            1,
            1,
            1
           ]
          },
          {
           "mode": "lines+markers",
           "name": "user_12",
           "type": "scatter",
           "x": [
            0,
            1,
            2,
            3,
            4,
            5,
            6,
            7,
            8,
            9,
            10,
            11,
            12,
            13,
            14
           ],
           "y": [
            0,
            0,
            0,
            0,
            0,
            0,
            0,
            0,
            0,
            0,
            0,
            0,
            0,
            0,
            0
           ]
          },
          {
           "mode": "lines+markers",
           "name": "user_13",
           "type": "scatter",
           "x": [
            0,
            1,
            2,
            3,
            4,
            5,
            6,
            7,
            8,
            9,
            10,
            11,
            12,
            13,
            14
           ],
           "y": [
            0,
            0,
            0,
            0,
            0,
            0,
            0,
            0,
            0,
            0,
            0,
            0,
            0,
            0,
            2
           ]
          },
          {
           "mode": "lines+markers",
           "name": "user_14",
           "type": "scatter",
           "x": [
            0,
            1,
            2,
            3,
            4,
            5,
            6,
            7,
            8,
            9,
            10,
            11,
            12,
            13,
            14
           ],
           "y": [
            0,
            0,
            0,
            0,
            0,
            0,
            0,
            0,
            1,
            1,
            1,
            1,
            18,
            25,
            49
           ]
          },
          {
           "mode": "lines+markers",
           "name": "user_15",
           "type": "scatter",
           "x": [
            0,
            1,
            2,
            3,
            4,
            5,
            6,
            7,
            8,
            9,
            10,
            11,
            12,
            13,
            14
           ],
           "y": [
            0,
            0,
            0,
            0,
            0,
            0,
            0,
            0,
            0,
            0,
            0,
            0,
            0,
            0,
            0
           ]
          },
          {
           "mode": "lines+markers",
           "name": "user_16",
           "type": "scatter",
           "x": [
            0,
            1,
            2,
            3,
            4,
            5,
            6,
            7,
            8,
            9,
            10,
            11,
            12,
            13,
            14
           ],
           "y": [
            0,
            0,
            0,
            0,
            0,
            0,
            0,
            0,
            0,
            0,
            0,
            0,
            0,
            0,
            0
           ]
          },
          {
           "mode": "lines+markers",
           "name": "user_17",
           "type": "scatter",
           "x": [
            0,
            1,
            2,
            3,
            4,
            5,
            6,
            7,
            8,
            9,
            10,
            11,
            12,
            13,
            14
           ],
           "y": [
            0,
            1,
            1,
            1,
            1,
            1,
            1,
            1,
            1,
            1,
            1,
            1,
            1,
            1,
            1
           ]
          },
          {
           "mode": "lines+markers",
           "name": "user_18",
           "type": "scatter",
           "x": [
            0,
            1,
            2,
            3,
            4,
            5,
            6,
            7,
            8,
            9,
            10,
            11,
            12,
            13,
            14
           ],
           "y": [
            0,
            0,
            0,
            0,
            0,
            0,
            0,
            0,
            0,
            0,
            0,
            0,
            0,
            0,
            7
           ]
          },
          {
           "mode": "lines+markers",
           "name": "user_19",
           "type": "scatter",
           "x": [
            0,
            1,
            2,
            3,
            4,
            5,
            6,
            7,
            8,
            9,
            10,
            11,
            12,
            13,
            14
           ],
           "y": [
            0,
            0,
            0,
            0,
            0,
            0,
            0,
            0,
            0,
            0,
            0,
            0,
            0,
            0,
            0
           ]
          },
          {
           "mode": "lines+markers",
           "name": "user_2",
           "type": "scatter",
           "x": [
            0,
            1,
            2,
            3,
            4,
            5,
            6,
            7,
            8,
            9,
            10,
            11,
            12,
            13,
            14
           ],
           "y": [
            0,
            0,
            0,
            0,
            0,
            0,
            0,
            0,
            57,
            58,
            58,
            58,
            58,
            62,
            74
           ]
          },
          {
           "mode": "lines+markers",
           "name": "user_20",
           "type": "scatter",
           "x": [
            0,
            1,
            2,
            3,
            4,
            5,
            6,
            7,
            8,
            9,
            10,
            11,
            12,
            13,
            14
           ],
           "y": [
            0,
            0,
            0,
            0,
            0,
            0,
            0,
            0,
            0,
            0,
            0,
            0,
            0,
            0,
            11
           ]
          },
          {
           "mode": "lines+markers",
           "name": "user_21",
           "type": "scatter",
           "x": [
            0,
            1,
            2,
            3,
            4,
            5,
            6,
            7,
            8,
            9,
            10,
            11,
            12,
            13,
            14
           ],
           "y": [
            0,
            0,
            0,
            0,
            0,
            0,
            0,
            0,
            0,
            0,
            0,
            0,
            0,
            7,
            7
           ]
          },
          {
           "mode": "lines+markers",
           "name": "user_22",
           "type": "scatter",
           "x": [
            0,
            1,
            2,
            3,
            4,
            5,
            6,
            7,
            8,
            9,
            10,
            11,
            12,
            13,
            14
           ],
           "y": [
            0,
            0,
            0,
            0,
            0,
            0,
            1,
            1,
            1,
            1,
            1,
            1,
            1,
            1,
            1
           ]
          },
          {
           "mode": "lines+markers",
           "name": "user_24",
           "type": "scatter",
           "x": [
            0,
            1,
            2,
            3,
            4,
            5,
            6,
            7,
            8,
            9,
            10,
            11,
            12,
            13,
            14
           ],
           "y": [
            0,
            0,
            0,
            0,
            0,
            0,
            0,
            0,
            0,
            0,
            0,
            0,
            0,
            0,
            0
           ]
          },
          {
           "mode": "lines+markers",
           "name": "user_25",
           "type": "scatter",
           "x": [
            0,
            1,
            2,
            3,
            4,
            5,
            6,
            7,
            8,
            9,
            10,
            11,
            12,
            13,
            14
           ],
           "y": [
            0,
            0,
            0,
            0,
            0,
            0,
            0,
            0,
            0,
            0,
            0,
            5,
            27,
            29,
            33
           ]
          },
          {
           "mode": "lines+markers",
           "name": "user_26",
           "type": "scatter",
           "x": [
            0,
            1,
            2,
            3,
            4,
            5,
            6,
            7,
            8,
            9,
            10,
            11,
            12,
            13,
            14
           ],
           "y": [
            0,
            0,
            0,
            0,
            0,
            0,
            0,
            0,
            0,
            0,
            0,
            0,
            0,
            35,
            35
           ]
          },
          {
           "mode": "lines+markers",
           "name": "user_27",
           "type": "scatter",
           "x": [
            0,
            1,
            2,
            3,
            4,
            5,
            6,
            7,
            8,
            9,
            10,
            11,
            12,
            13,
            14
           ],
           "y": [
            0,
            0,
            0,
            0,
            0,
            0,
            0,
            0,
            0,
            0,
            0,
            0,
            0,
            0,
            0
           ]
          },
          {
           "mode": "lines+markers",
           "name": "user_28",
           "type": "scatter",
           "x": [
            0,
            1,
            2,
            3,
            4,
            5,
            6,
            7,
            8,
            9,
            10,
            11,
            12,
            13,
            14
           ],
           "y": [
            0,
            0,
            0,
            0,
            0,
            0,
            0,
            0,
            0,
            0,
            0,
            0,
            0,
            0,
            0
           ]
          },
          {
           "mode": "lines+markers",
           "name": "user_29",
           "type": "scatter",
           "x": [
            0,
            1,
            2,
            3,
            4,
            5,
            6,
            7,
            8,
            9,
            10,
            11,
            12,
            13,
            14
           ],
           "y": [
            0,
            0,
            0,
            0,
            0,
            0,
            0,
            0,
            0,
            0,
            0,
            0,
            0,
            0,
            5
           ]
          },
          {
           "mode": "lines+markers",
           "name": "user_3",
           "type": "scatter",
           "x": [
            0,
            1,
            2,
            3,
            4,
            5,
            6,
            7,
            8,
            9,
            10,
            11,
            12,
            13,
            14
           ],
           "y": [
            0,
            0,
            0,
            0,
            0,
            0,
            0,
            0,
            0,
            0,
            1,
            28,
            29,
            31,
            54
           ]
          },
          {
           "mode": "lines+markers",
           "name": "user_30",
           "type": "scatter",
           "x": [
            0,
            1,
            2,
            3,
            4,
            5,
            6,
            7,
            8,
            9,
            10,
            11,
            12,
            13,
            14
           ],
           "y": [
            0,
            0,
            0,
            1,
            2,
            2,
            4,
            5,
            5,
            5,
            12,
            12,
            12,
            17,
            17
           ]
          },
          {
           "mode": "lines+markers",
           "name": "user_31",
           "type": "scatter",
           "x": [
            0,
            1,
            2,
            3,
            4,
            5,
            6,
            7,
            8,
            9,
            10,
            11,
            12,
            13,
            14
           ],
           "y": [
            0,
            0,
            0,
            0,
            0,
            0,
            0,
            0,
            0,
            0,
            1,
            1,
            4,
            4,
            6
           ]
          },
          {
           "mode": "lines+markers",
           "name": "user_4",
           "type": "scatter",
           "x": [
            0,
            1,
            2,
            3,
            4,
            5,
            6,
            7,
            8,
            9,
            10,
            11,
            12,
            13,
            14
           ],
           "y": [
            7,
            7,
            11,
            11,
            20,
            27,
            35,
            48,
            53,
            53,
            71,
            83,
            83,
            83,
            87
           ]
          },
          {
           "mode": "lines+markers",
           "name": "user_6",
           "type": "scatter",
           "x": [
            0,
            1,
            2,
            3,
            4,
            5,
            6,
            7,
            8,
            9,
            10,
            11,
            12,
            13,
            14
           ],
           "y": [
            0,
            0,
            0,
            0,
            0,
            0,
            0,
            0,
            0,
            0,
            0,
            0,
            0,
            0,
            0
           ]
          },
          {
           "mode": "lines+markers",
           "name": "user_8",
           "type": "scatter",
           "x": [
            0,
            1,
            2,
            3,
            4,
            5,
            6,
            7,
            8,
            9,
            10,
            11,
            12,
            13,
            14
           ],
           "y": [
            0,
            0,
            0,
            0,
            0,
            0,
            0,
            0,
            0,
            0,
            0,
            0,
            0,
            0,
            0
           ]
          }
         ]
        },
        {
         "data": [
          {
           "mode": "lines+markers",
           "name": "user_1",
           "type": "scatter",
           "x": [
            0,
            1,
            2,
            3,
            4,
            5,
            6,
            7,
            8,
            9,
            10,
            11,
            12,
            13,
            14,
            15
           ],
           "y": [
            0,
            0,
            0,
            0,
            0,
            0,
            0,
            0,
            0,
            0,
            0,
            0,
            0,
            0,
            0,
            0
           ]
          },
          {
           "mode": "lines+markers",
           "name": "user_10",
           "type": "scatter",
           "x": [
            0,
            1,
            2,
            3,
            4,
            5,
            6,
            7,
            8,
            9,
            10,
            11,
            12,
            13,
            14,
            15
           ],
           "y": [
            0,
            0,
            0,
            0,
            0,
            0,
            0,
            0,
            0,
            0,
            0,
            0,
            0,
            0,
            0,
            7
           ]
          },
          {
           "mode": "lines+markers",
           "name": "user_11",
           "type": "scatter",
           "x": [
            0,
            1,
            2,
            3,
            4,
            5,
            6,
            7,
            8,
            9,
            10,
            11,
            12,
            13,
            14,
            15
           ],
           "y": [
            0,
            0,
            0,
            0,
            0,
            0,
            1,
            1,
            1,
            1,
            1,
            1,
            1,
            1,
            1,
            1
           ]
          },
          {
           "mode": "lines+markers",
           "name": "user_12",
           "type": "scatter",
           "x": [
            0,
            1,
            2,
            3,
            4,
            5,
            6,
            7,
            8,
            9,
            10,
            11,
            12,
            13,
            14,
            15
           ],
           "y": [
            0,
            0,
            0,
            0,
            0,
            0,
            0,
            0,
            0,
            0,
            0,
            0,
            0,
            0,
            0,
            0
           ]
          },
          {
           "mode": "lines+markers",
           "name": "user_13",
           "type": "scatter",
           "x": [
            0,
            1,
            2,
            3,
            4,
            5,
            6,
            7,
            8,
            9,
            10,
            11,
            12,
            13,
            14,
            15
           ],
           "y": [
            0,
            0,
            0,
            0,
            0,
            0,
            0,
            0,
            0,
            0,
            0,
            0,
            0,
            0,
            2,
            30
           ]
          },
          {
           "mode": "lines+markers",
           "name": "user_14",
           "type": "scatter",
           "x": [
            0,
            1,
            2,
            3,
            4,
            5,
            6,
            7,
            8,
            9,
            10,
            11,
            12,
            13,
            14,
            15
           ],
           "y": [
            0,
            0,
            0,
            0,
            0,
            0,
            0,
            0,
            1,
            1,
            1,
            1,
            18,
            25,
            49,
            92
           ]
          },
          {
           "mode": "lines+markers",
           "name": "user_15",
           "type": "scatter",
           "x": [
            0,
            1,
            2,
            3,
            4,
            5,
            6,
            7,
            8,
            9,
            10,
            11,
            12,
            13,
            14,
            15
           ],
           "y": [
            0,
            0,
            0,
            0,
            0,
            0,
            0,
            0,
            0,
            0,
            0,
            0,
            0,
            0,
            0,
            0
           ]
          },
          {
           "mode": "lines+markers",
           "name": "user_16",
           "type": "scatter",
           "x": [
            0,
            1,
            2,
            3,
            4,
            5,
            6,
            7,
            8,
            9,
            10,
            11,
            12,
            13,
            14,
            15
           ],
           "y": [
            0,
            0,
            0,
            0,
            0,
            0,
            0,
            0,
            0,
            0,
            0,
            0,
            0,
            0,
            0,
            3
           ]
          },
          {
           "mode": "lines+markers",
           "name": "user_17",
           "type": "scatter",
           "x": [
            0,
            1,
            2,
            3,
            4,
            5,
            6,
            7,
            8,
            9,
            10,
            11,
            12,
            13,
            14,
            15
           ],
           "y": [
            0,
            1,
            1,
            1,
            1,
            1,
            1,
            1,
            1,
            1,
            1,
            1,
            1,
            1,
            1,
            3
           ]
          },
          {
           "mode": "lines+markers",
           "name": "user_18",
           "type": "scatter",
           "x": [
            0,
            1,
            2,
            3,
            4,
            5,
            6,
            7,
            8,
            9,
            10,
            11,
            12,
            13,
            14,
            15
           ],
           "y": [
            0,
            0,
            0,
            0,
            0,
            0,
            0,
            0,
            0,
            0,
            0,
            0,
            0,
            0,
            7,
            7
           ]
          },
          {
           "mode": "lines+markers",
           "name": "user_19",
           "type": "scatter",
           "x": [
            0,
            1,
            2,
            3,
            4,
            5,
            6,
            7,
            8,
            9,
            10,
            11,
            12,
            13,
            14,
            15
           ],
           "y": [
            0,
            0,
            0,
            0,
            0,
            0,
            0,
            0,
            0,
            0,
            0,
            0,
            0,
            0,
            0,
            0
           ]
          },
          {
           "mode": "lines+markers",
           "name": "user_2",
           "type": "scatter",
           "x": [
            0,
            1,
            2,
            3,
            4,
            5,
            6,
            7,
            8,
            9,
            10,
            11,
            12,
            13,
            14,
            15
           ],
           "y": [
            0,
            0,
            0,
            0,
            0,
            0,
            0,
            0,
            57,
            58,
            58,
            58,
            58,
            62,
            74,
            78
           ]
          },
          {
           "mode": "lines+markers",
           "name": "user_20",
           "type": "scatter",
           "x": [
            0,
            1,
            2,
            3,
            4,
            5,
            6,
            7,
            8,
            9,
            10,
            11,
            12,
            13,
            14,
            15
           ],
           "y": [
            0,
            0,
            0,
            0,
            0,
            0,
            0,
            0,
            0,
            0,
            0,
            0,
            0,
            0,
            11,
            11
           ]
          },
          {
           "mode": "lines+markers",
           "name": "user_21",
           "type": "scatter",
           "x": [
            0,
            1,
            2,
            3,
            4,
            5,
            6,
            7,
            8,
            9,
            10,
            11,
            12,
            13,
            14,
            15
           ],
           "y": [
            0,
            0,
            0,
            0,
            0,
            0,
            0,
            0,
            0,
            0,
            0,
            0,
            0,
            7,
            7,
            7
           ]
          },
          {
           "mode": "lines+markers",
           "name": "user_22",
           "type": "scatter",
           "x": [
            0,
            1,
            2,
            3,
            4,
            5,
            6,
            7,
            8,
            9,
            10,
            11,
            12,
            13,
            14,
            15
           ],
           "y": [
            0,
            0,
            0,
            0,
            0,
            0,
            1,
            1,
            1,
            1,
            1,
            1,
            1,
            1,
            1,
            1
           ]
          },
          {
           "mode": "lines+markers",
           "name": "user_24",
           "type": "scatter",
           "x": [
            0,
            1,
            2,
            3,
            4,
            5,
            6,
            7,
            8,
            9,
            10,
            11,
            12,
            13,
            14,
            15
           ],
           "y": [
            0,
            0,
            0,
            0,
            0,
            0,
            0,
            0,
            0,
            0,
            0,
            0,
            0,
            0,
            0,
            0
           ]
          },
          {
           "mode": "lines+markers",
           "name": "user_25",
           "type": "scatter",
           "x": [
            0,
            1,
            2,
            3,
            4,
            5,
            6,
            7,
            8,
            9,
            10,
            11,
            12,
            13,
            14,
            15
           ],
           "y": [
            0,
            0,
            0,
            0,
            0,
            0,
            0,
            0,
            0,
            0,
            0,
            5,
            27,
            29,
            33,
            54
           ]
          },
          {
           "mode": "lines+markers",
           "name": "user_26",
           "type": "scatter",
           "x": [
            0,
            1,
            2,
            3,
            4,
            5,
            6,
            7,
            8,
            9,
            10,
            11,
            12,
            13,
            14,
            15
           ],
           "y": [
            0,
            0,
            0,
            0,
            0,
            0,
            0,
            0,
            0,
            0,
            0,
            0,
            0,
            35,
            35,
            35
           ]
          },
          {
           "mode": "lines+markers",
           "name": "user_27",
           "type": "scatter",
           "x": [
            0,
            1,
            2,
            3,
            4,
            5,
            6,
            7,
            8,
            9,
            10,
            11,
            12,
            13,
            14,
            15
           ],
           "y": [
            0,
            0,
            0,
            0,
            0,
            0,
            0,
            0,
            0,
            0,
            0,
            0,
            0,
            0,
            0,
            0
           ]
          },
          {
           "mode": "lines+markers",
           "name": "user_28",
           "type": "scatter",
           "x": [
            0,
            1,
            2,
            3,
            4,
            5,
            6,
            7,
            8,
            9,
            10,
            11,
            12,
            13,
            14,
            15
           ],
           "y": [
            0,
            0,
            0,
            0,
            0,
            0,
            0,
            0,
            0,
            0,
            0,
            0,
            0,
            0,
            0,
            2
           ]
          },
          {
           "mode": "lines+markers",
           "name": "user_29",
           "type": "scatter",
           "x": [
            0,
            1,
            2,
            3,
            4,
            5,
            6,
            7,
            8,
            9,
            10,
            11,
            12,
            13,
            14,
            15
           ],
           "y": [
            0,
            0,
            0,
            0,
            0,
            0,
            0,
            0,
            0,
            0,
            0,
            0,
            0,
            0,
            5,
            18
           ]
          },
          {
           "mode": "lines+markers",
           "name": "user_3",
           "type": "scatter",
           "x": [
            0,
            1,
            2,
            3,
            4,
            5,
            6,
            7,
            8,
            9,
            10,
            11,
            12,
            13,
            14,
            15
           ],
           "y": [
            0,
            0,
            0,
            0,
            0,
            0,
            0,
            0,
            0,
            0,
            1,
            28,
            29,
            31,
            54,
            56
           ]
          },
          {
           "mode": "lines+markers",
           "name": "user_30",
           "type": "scatter",
           "x": [
            0,
            1,
            2,
            3,
            4,
            5,
            6,
            7,
            8,
            9,
            10,
            11,
            12,
            13,
            14,
            15
           ],
           "y": [
            0,
            0,
            0,
            1,
            2,
            2,
            4,
            5,
            5,
            5,
            12,
            12,
            12,
            17,
            17,
            17
           ]
          },
          {
           "mode": "lines+markers",
           "name": "user_31",
           "type": "scatter",
           "x": [
            0,
            1,
            2,
            3,
            4,
            5,
            6,
            7,
            8,
            9,
            10,
            11,
            12,
            13,
            14,
            15
           ],
           "y": [
            0,
            0,
            0,
            0,
            0,
            0,
            0,
            0,
            0,
            0,
            1,
            1,
            4,
            4,
            6,
            6
           ]
          },
          {
           "mode": "lines+markers",
           "name": "user_4",
           "type": "scatter",
           "x": [
            0,
            1,
            2,
            3,
            4,
            5,
            6,
            7,
            8,
            9,
            10,
            11,
            12,
            13,
            14,
            15
           ],
           "y": [
            7,
            7,
            11,
            11,
            20,
            27,
            35,
            48,
            53,
            53,
            71,
            83,
            83,
            83,
            87,
            125
           ]
          },
          {
           "mode": "lines+markers",
           "name": "user_6",
           "type": "scatter",
           "x": [
            0,
            1,
            2,
            3,
            4,
            5,
            6,
            7,
            8,
            9,
            10,
            11,
            12,
            13,
            14,
            15
           ],
           "y": [
            0,
            0,
            0,
            0,
            0,
            0,
            0,
            0,
            0,
            0,
            0,
            0,
            0,
            0,
            0,
            0
           ]
          },
          {
           "mode": "lines+markers",
           "name": "user_8",
           "type": "scatter",
           "x": [
            0,
            1,
            2,
            3,
            4,
            5,
            6,
            7,
            8,
            9,
            10,
            11,
            12,
            13,
            14,
            15
           ],
           "y": [
            0,
            0,
            0,
            0,
            0,
            0,
            0,
            0,
            0,
            0,
            0,
            0,
            0,
            0,
            0,
            0
           ]
          }
         ]
        },
        {
         "data": [
          {
           "mode": "lines+markers",
           "name": "user_1",
           "type": "scatter",
           "x": [
            0,
            1,
            2,
            3,
            4,
            5,
            6,
            7,
            8,
            9,
            10,
            11,
            12,
            13,
            14,
            15,
            16
           ],
           "y": [
            0,
            0,
            0,
            0,
            0,
            0,
            0,
            0,
            0,
            0,
            0,
            0,
            0,
            0,
            0,
            0,
            0
           ]
          },
          {
           "mode": "lines+markers",
           "name": "user_10",
           "type": "scatter",
           "x": [
            0,
            1,
            2,
            3,
            4,
            5,
            6,
            7,
            8,
            9,
            10,
            11,
            12,
            13,
            14,
            15,
            16
           ],
           "y": [
            0,
            0,
            0,
            0,
            0,
            0,
            0,
            0,
            0,
            0,
            0,
            0,
            0,
            0,
            0,
            7,
            21
           ]
          },
          {
           "mode": "lines+markers",
           "name": "user_11",
           "type": "scatter",
           "x": [
            0,
            1,
            2,
            3,
            4,
            5,
            6,
            7,
            8,
            9,
            10,
            11,
            12,
            13,
            14,
            15,
            16
           ],
           "y": [
            0,
            0,
            0,
            0,
            0,
            0,
            1,
            1,
            1,
            1,
            1,
            1,
            1,
            1,
            1,
            1,
            1
           ]
          },
          {
           "mode": "lines+markers",
           "name": "user_12",
           "type": "scatter",
           "x": [
            0,
            1,
            2,
            3,
            4,
            5,
            6,
            7,
            8,
            9,
            10,
            11,
            12,
            13,
            14,
            15,
            16
           ],
           "y": [
            0,
            0,
            0,
            0,
            0,
            0,
            0,
            0,
            0,
            0,
            0,
            0,
            0,
            0,
            0,
            0,
            0
           ]
          },
          {
           "mode": "lines+markers",
           "name": "user_13",
           "type": "scatter",
           "x": [
            0,
            1,
            2,
            3,
            4,
            5,
            6,
            7,
            8,
            9,
            10,
            11,
            12,
            13,
            14,
            15,
            16
           ],
           "y": [
            0,
            0,
            0,
            0,
            0,
            0,
            0,
            0,
            0,
            0,
            0,
            0,
            0,
            0,
            2,
            30,
            30
           ]
          },
          {
           "mode": "lines+markers",
           "name": "user_14",
           "type": "scatter",
           "x": [
            0,
            1,
            2,
            3,
            4,
            5,
            6,
            7,
            8,
            9,
            10,
            11,
            12,
            13,
            14,
            15,
            16
           ],
           "y": [
            0,
            0,
            0,
            0,
            0,
            0,
            0,
            0,
            1,
            1,
            1,
            1,
            18,
            25,
            49,
            92,
            92
           ]
          },
          {
           "mode": "lines+markers",
           "name": "user_15",
           "type": "scatter",
           "x": [
            0,
            1,
            2,
            3,
            4,
            5,
            6,
            7,
            8,
            9,
            10,
            11,
            12,
            13,
            14,
            15,
            16
           ],
           "y": [
            0,
            0,
            0,
            0,
            0,
            0,
            0,
            0,
            0,
            0,
            0,
            0,
            0,
            0,
            0,
            0,
            0
           ]
          },
          {
           "mode": "lines+markers",
           "name": "user_16",
           "type": "scatter",
           "x": [
            0,
            1,
            2,
            3,
            4,
            5,
            6,
            7,
            8,
            9,
            10,
            11,
            12,
            13,
            14,
            15,
            16
           ],
           "y": [
            0,
            0,
            0,
            0,
            0,
            0,
            0,
            0,
            0,
            0,
            0,
            0,
            0,
            0,
            0,
            3,
            3
           ]
          },
          {
           "mode": "lines+markers",
           "name": "user_17",
           "type": "scatter",
           "x": [
            0,
            1,
            2,
            3,
            4,
            5,
            6,
            7,
            8,
            9,
            10,
            11,
            12,
            13,
            14,
            15,
            16
           ],
           "y": [
            0,
            1,
            1,
            1,
            1,
            1,
            1,
            1,
            1,
            1,
            1,
            1,
            1,
            1,
            1,
            3,
            3
           ]
          },
          {
           "mode": "lines+markers",
           "name": "user_18",
           "type": "scatter",
           "x": [
            0,
            1,
            2,
            3,
            4,
            5,
            6,
            7,
            8,
            9,
            10,
            11,
            12,
            13,
            14,
            15,
            16
           ],
           "y": [
            0,
            0,
            0,
            0,
            0,
            0,
            0,
            0,
            0,
            0,
            0,
            0,
            0,
            0,
            7,
            7,
            8
           ]
          },
          {
           "mode": "lines+markers",
           "name": "user_19",
           "type": "scatter",
           "x": [
            0,
            1,
            2,
            3,
            4,
            5,
            6,
            7,
            8,
            9,
            10,
            11,
            12,
            13,
            14,
            15,
            16
           ],
           "y": [
            0,
            0,
            0,
            0,
            0,
            0,
            0,
            0,
            0,
            0,
            0,
            0,
            0,
            0,
            0,
            0,
            0
           ]
          },
          {
           "mode": "lines+markers",
           "name": "user_2",
           "type": "scatter",
           "x": [
            0,
            1,
            2,
            3,
            4,
            5,
            6,
            7,
            8,
            9,
            10,
            11,
            12,
            13,
            14,
            15,
            16
           ],
           "y": [
            0,
            0,
            0,
            0,
            0,
            0,
            0,
            0,
            57,
            58,
            58,
            58,
            58,
            62,
            74,
            78,
            93
           ]
          },
          {
           "mode": "lines+markers",
           "name": "user_20",
           "type": "scatter",
           "x": [
            0,
            1,
            2,
            3,
            4,
            5,
            6,
            7,
            8,
            9,
            10,
            11,
            12,
            13,
            14,
            15,
            16
           ],
           "y": [
            0,
            0,
            0,
            0,
            0,
            0,
            0,
            0,
            0,
            0,
            0,
            0,
            0,
            0,
            11,
            11,
            11
           ]
          },
          {
           "mode": "lines+markers",
           "name": "user_21",
           "type": "scatter",
           "x": [
            0,
            1,
            2,
            3,
            4,
            5,
            6,
            7,
            8,
            9,
            10,
            11,
            12,
            13,
            14,
            15,
            16
           ],
           "y": [
            0,
            0,
            0,
            0,
            0,
            0,
            0,
            0,
            0,
            0,
            0,
            0,
            0,
            7,
            7,
            7,
            7
           ]
          },
          {
           "mode": "lines+markers",
           "name": "user_22",
           "type": "scatter",
           "x": [
            0,
            1,
            2,
            3,
            4,
            5,
            6,
            7,
            8,
            9,
            10,
            11,
            12,
            13,
            14,
            15,
            16
           ],
           "y": [
            0,
            0,
            0,
            0,
            0,
            0,
            1,
            1,
            1,
            1,
            1,
            1,
            1,
            1,
            1,
            1,
            1
           ]
          },
          {
           "mode": "lines+markers",
           "name": "user_24",
           "type": "scatter",
           "x": [
            0,
            1,
            2,
            3,
            4,
            5,
            6,
            7,
            8,
            9,
            10,
            11,
            12,
            13,
            14,
            15,
            16
           ],
           "y": [
            0,
            0,
            0,
            0,
            0,
            0,
            0,
            0,
            0,
            0,
            0,
            0,
            0,
            0,
            0,
            0,
            9
           ]
          },
          {
           "mode": "lines+markers",
           "name": "user_25",
           "type": "scatter",
           "x": [
            0,
            1,
            2,
            3,
            4,
            5,
            6,
            7,
            8,
            9,
            10,
            11,
            12,
            13,
            14,
            15,
            16
           ],
           "y": [
            0,
            0,
            0,
            0,
            0,
            0,
            0,
            0,
            0,
            0,
            0,
            5,
            27,
            29,
            33,
            54,
            57
           ]
          },
          {
           "mode": "lines+markers",
           "name": "user_26",
           "type": "scatter",
           "x": [
            0,
            1,
            2,
            3,
            4,
            5,
            6,
            7,
            8,
            9,
            10,
            11,
            12,
            13,
            14,
            15,
            16
           ],
           "y": [
            0,
            0,
            0,
            0,
            0,
            0,
            0,
            0,
            0,
            0,
            0,
            0,
            0,
            35,
            35,
            35,
            52
           ]
          },
          {
           "mode": "lines+markers",
           "name": "user_27",
           "type": "scatter",
           "x": [
            0,
            1,
            2,
            3,
            4,
            5,
            6,
            7,
            8,
            9,
            10,
            11,
            12,
            13,
            14,
            15,
            16
           ],
           "y": [
            0,
            0,
            0,
            0,
            0,
            0,
            0,
            0,
            0,
            0,
            0,
            0,
            0,
            0,
            0,
            0,
            0
           ]
          },
          {
           "mode": "lines+markers",
           "name": "user_28",
           "type": "scatter",
           "x": [
            0,
            1,
            2,
            3,
            4,
            5,
            6,
            7,
            8,
            9,
            10,
            11,
            12,
            13,
            14,
            15,
            16
           ],
           "y": [
            0,
            0,
            0,
            0,
            0,
            0,
            0,
            0,
            0,
            0,
            0,
            0,
            0,
            0,
            0,
            2,
            20
           ]
          },
          {
           "mode": "lines+markers",
           "name": "user_29",
           "type": "scatter",
           "x": [
            0,
            1,
            2,
            3,
            4,
            5,
            6,
            7,
            8,
            9,
            10,
            11,
            12,
            13,
            14,
            15,
            16
           ],
           "y": [
            0,
            0,
            0,
            0,
            0,
            0,
            0,
            0,
            0,
            0,
            0,
            0,
            0,
            0,
            5,
            18,
            34
           ]
          },
          {
           "mode": "lines+markers",
           "name": "user_3",
           "type": "scatter",
           "x": [
            0,
            1,
            2,
            3,
            4,
            5,
            6,
            7,
            8,
            9,
            10,
            11,
            12,
            13,
            14,
            15,
            16
           ],
           "y": [
            0,
            0,
            0,
            0,
            0,
            0,
            0,
            0,
            0,
            0,
            1,
            28,
            29,
            31,
            54,
            56,
            56
           ]
          },
          {
           "mode": "lines+markers",
           "name": "user_30",
           "type": "scatter",
           "x": [
            0,
            1,
            2,
            3,
            4,
            5,
            6,
            7,
            8,
            9,
            10,
            11,
            12,
            13,
            14,
            15,
            16
           ],
           "y": [
            0,
            0,
            0,
            1,
            2,
            2,
            4,
            5,
            5,
            5,
            12,
            12,
            12,
            17,
            17,
            17,
            17
           ]
          },
          {
           "mode": "lines+markers",
           "name": "user_31",
           "type": "scatter",
           "x": [
            0,
            1,
            2,
            3,
            4,
            5,
            6,
            7,
            8,
            9,
            10,
            11,
            12,
            13,
            14,
            15,
            16
           ],
           "y": [
            0,
            0,
            0,
            0,
            0,
            0,
            0,
            0,
            0,
            0,
            1,
            1,
            4,
            4,
            6,
            6,
            6
           ]
          },
          {
           "mode": "lines+markers",
           "name": "user_4",
           "type": "scatter",
           "x": [
            0,
            1,
            2,
            3,
            4,
            5,
            6,
            7,
            8,
            9,
            10,
            11,
            12,
            13,
            14,
            15,
            16
           ],
           "y": [
            7,
            7,
            11,
            11,
            20,
            27,
            35,
            48,
            53,
            53,
            71,
            83,
            83,
            83,
            87,
            125,
            137
           ]
          },
          {
           "mode": "lines+markers",
           "name": "user_6",
           "type": "scatter",
           "x": [
            0,
            1,
            2,
            3,
            4,
            5,
            6,
            7,
            8,
            9,
            10,
            11,
            12,
            13,
            14,
            15,
            16
           ],
           "y": [
            0,
            0,
            0,
            0,
            0,
            0,
            0,
            0,
            0,
            0,
            0,
            0,
            0,
            0,
            0,
            0,
            1
           ]
          },
          {
           "mode": "lines+markers",
           "name": "user_8",
           "type": "scatter",
           "x": [
            0,
            1,
            2,
            3,
            4,
            5,
            6,
            7,
            8,
            9,
            10,
            11,
            12,
            13,
            14,
            15,
            16
           ],
           "y": [
            0,
            0,
            0,
            0,
            0,
            0,
            0,
            0,
            0,
            0,
            0,
            0,
            0,
            0,
            0,
            0,
            0
           ]
          }
         ]
        },
        {
         "data": [
          {
           "mode": "lines+markers",
           "name": "user_1",
           "type": "scatter",
           "x": [
            0,
            1,
            2,
            3,
            4,
            5,
            6,
            7,
            8,
            9,
            10,
            11,
            12,
            13,
            14,
            15,
            16,
            17
           ],
           "y": [
            0,
            0,
            0,
            0,
            0,
            0,
            0,
            0,
            0,
            0,
            0,
            0,
            0,
            0,
            0,
            0,
            0,
            11
           ]
          },
          {
           "mode": "lines+markers",
           "name": "user_10",
           "type": "scatter",
           "x": [
            0,
            1,
            2,
            3,
            4,
            5,
            6,
            7,
            8,
            9,
            10,
            11,
            12,
            13,
            14,
            15,
            16,
            17
           ],
           "y": [
            0,
            0,
            0,
            0,
            0,
            0,
            0,
            0,
            0,
            0,
            0,
            0,
            0,
            0,
            0,
            7,
            21,
            59
           ]
          },
          {
           "mode": "lines+markers",
           "name": "user_11",
           "type": "scatter",
           "x": [
            0,
            1,
            2,
            3,
            4,
            5,
            6,
            7,
            8,
            9,
            10,
            11,
            12,
            13,
            14,
            15,
            16,
            17
           ],
           "y": [
            0,
            0,
            0,
            0,
            0,
            0,
            1,
            1,
            1,
            1,
            1,
            1,
            1,
            1,
            1,
            1,
            1,
            1
           ]
          },
          {
           "mode": "lines+markers",
           "name": "user_12",
           "type": "scatter",
           "x": [
            0,
            1,
            2,
            3,
            4,
            5,
            6,
            7,
            8,
            9,
            10,
            11,
            12,
            13,
            14,
            15,
            16,
            17
           ],
           "y": [
            0,
            0,
            0,
            0,
            0,
            0,
            0,
            0,
            0,
            0,
            0,
            0,
            0,
            0,
            0,
            0,
            0,
            4
           ]
          },
          {
           "mode": "lines+markers",
           "name": "user_13",
           "type": "scatter",
           "x": [
            0,
            1,
            2,
            3,
            4,
            5,
            6,
            7,
            8,
            9,
            10,
            11,
            12,
            13,
            14,
            15,
            16,
            17
           ],
           "y": [
            0,
            0,
            0,
            0,
            0,
            0,
            0,
            0,
            0,
            0,
            0,
            0,
            0,
            0,
            2,
            30,
            30,
            32
           ]
          },
          {
           "mode": "lines+markers",
           "name": "user_14",
           "type": "scatter",
           "x": [
            0,
            1,
            2,
            3,
            4,
            5,
            6,
            7,
            8,
            9,
            10,
            11,
            12,
            13,
            14,
            15,
            16,
            17
           ],
           "y": [
            0,
            0,
            0,
            0,
            0,
            0,
            0,
            0,
            1,
            1,
            1,
            1,
            18,
            25,
            49,
            92,
            92,
            99
           ]
          },
          {
           "mode": "lines+markers",
           "name": "user_15",
           "type": "scatter",
           "x": [
            0,
            1,
            2,
            3,
            4,
            5,
            6,
            7,
            8,
            9,
            10,
            11,
            12,
            13,
            14,
            15,
            16,
            17
           ],
           "y": [
            0,
            0,
            0,
            0,
            0,
            0,
            0,
            0,
            0,
            0,
            0,
            0,
            0,
            0,
            0,
            0,
            0,
            3
           ]
          },
          {
           "mode": "lines+markers",
           "name": "user_16",
           "type": "scatter",
           "x": [
            0,
            1,
            2,
            3,
            4,
            5,
            6,
            7,
            8,
            9,
            10,
            11,
            12,
            13,
            14,
            15,
            16,
            17
           ],
           "y": [
            0,
            0,
            0,
            0,
            0,
            0,
            0,
            0,
            0,
            0,
            0,
            0,
            0,
            0,
            0,
            3,
            3,
            10
           ]
          },
          {
           "mode": "lines+markers",
           "name": "user_17",
           "type": "scatter",
           "x": [
            0,
            1,
            2,
            3,
            4,
            5,
            6,
            7,
            8,
            9,
            10,
            11,
            12,
            13,
            14,
            15,
            16,
            17
           ],
           "y": [
            0,
            1,
            1,
            1,
            1,
            1,
            1,
            1,
            1,
            1,
            1,
            1,
            1,
            1,
            1,
            3,
            3,
            6
           ]
          },
          {
           "mode": "lines+markers",
           "name": "user_18",
           "type": "scatter",
           "x": [
            0,
            1,
            2,
            3,
            4,
            5,
            6,
            7,
            8,
            9,
            10,
            11,
            12,
            13,
            14,
            15,
            16,
            17
           ],
           "y": [
            0,
            0,
            0,
            0,
            0,
            0,
            0,
            0,
            0,
            0,
            0,
            0,
            0,
            0,
            7,
            7,
            8,
            31
           ]
          },
          {
           "mode": "lines+markers",
           "name": "user_19",
           "type": "scatter",
           "x": [
            0,
            1,
            2,
            3,
            4,
            5,
            6,
            7,
            8,
            9,
            10,
            11,
            12,
            13,
            14,
            15,
            16,
            17
           ],
           "y": [
            0,
            0,
            0,
            0,
            0,
            0,
            0,
            0,
            0,
            0,
            0,
            0,
            0,
            0,
            0,
            0,
            0,
            25
           ]
          },
          {
           "mode": "lines+markers",
           "name": "user_2",
           "type": "scatter",
           "x": [
            0,
            1,
            2,
            3,
            4,
            5,
            6,
            7,
            8,
            9,
            10,
            11,
            12,
            13,
            14,
            15,
            16,
            17
           ],
           "y": [
            0,
            0,
            0,
            0,
            0,
            0,
            0,
            0,
            57,
            58,
            58,
            58,
            58,
            62,
            74,
            78,
            93,
            95
           ]
          },
          {
           "mode": "lines+markers",
           "name": "user_20",
           "type": "scatter",
           "x": [
            0,
            1,
            2,
            3,
            4,
            5,
            6,
            7,
            8,
            9,
            10,
            11,
            12,
            13,
            14,
            15,
            16,
            17
           ],
           "y": [
            0,
            0,
            0,
            0,
            0,
            0,
            0,
            0,
            0,
            0,
            0,
            0,
            0,
            0,
            11,
            11,
            11,
            54
           ]
          },
          {
           "mode": "lines+markers",
           "name": "user_21",
           "type": "scatter",
           "x": [
            0,
            1,
            2,
            3,
            4,
            5,
            6,
            7,
            8,
            9,
            10,
            11,
            12,
            13,
            14,
            15,
            16,
            17
           ],
           "y": [
            0,
            0,
            0,
            0,
            0,
            0,
            0,
            0,
            0,
            0,
            0,
            0,
            0,
            7,
            7,
            7,
            7,
            9
           ]
          },
          {
           "mode": "lines+markers",
           "name": "user_22",
           "type": "scatter",
           "x": [
            0,
            1,
            2,
            3,
            4,
            5,
            6,
            7,
            8,
            9,
            10,
            11,
            12,
            13,
            14,
            15,
            16,
            17
           ],
           "y": [
            0,
            0,
            0,
            0,
            0,
            0,
            1,
            1,
            1,
            1,
            1,
            1,
            1,
            1,
            1,
            1,
            1,
            2
           ]
          },
          {
           "mode": "lines+markers",
           "name": "user_24",
           "type": "scatter",
           "x": [
            0,
            1,
            2,
            3,
            4,
            5,
            6,
            7,
            8,
            9,
            10,
            11,
            12,
            13,
            14,
            15,
            16,
            17
           ],
           "y": [
            0,
            0,
            0,
            0,
            0,
            0,
            0,
            0,
            0,
            0,
            0,
            0,
            0,
            0,
            0,
            0,
            9,
            34
           ]
          },
          {
           "mode": "lines+markers",
           "name": "user_25",
           "type": "scatter",
           "x": [
            0,
            1,
            2,
            3,
            4,
            5,
            6,
            7,
            8,
            9,
            10,
            11,
            12,
            13,
            14,
            15,
            16,
            17
           ],
           "y": [
            0,
            0,
            0,
            0,
            0,
            0,
            0,
            0,
            0,
            0,
            0,
            5,
            27,
            29,
            33,
            54,
            57,
            77
           ]
          },
          {
           "mode": "lines+markers",
           "name": "user_26",
           "type": "scatter",
           "x": [
            0,
            1,
            2,
            3,
            4,
            5,
            6,
            7,
            8,
            9,
            10,
            11,
            12,
            13,
            14,
            15,
            16,
            17
           ],
           "y": [
            0,
            0,
            0,
            0,
            0,
            0,
            0,
            0,
            0,
            0,
            0,
            0,
            0,
            35,
            35,
            35,
            52,
            67
           ]
          },
          {
           "mode": "lines+markers",
           "name": "user_27",
           "type": "scatter",
           "x": [
            0,
            1,
            2,
            3,
            4,
            5,
            6,
            7,
            8,
            9,
            10,
            11,
            12,
            13,
            14,
            15,
            16,
            17
           ],
           "y": [
            0,
            0,
            0,
            0,
            0,
            0,
            0,
            0,
            0,
            0,
            0,
            0,
            0,
            0,
            0,
            0,
            0,
            8
           ]
          },
          {
           "mode": "lines+markers",
           "name": "user_28",
           "type": "scatter",
           "x": [
            0,
            1,
            2,
            3,
            4,
            5,
            6,
            7,
            8,
            9,
            10,
            11,
            12,
            13,
            14,
            15,
            16,
            17
           ],
           "y": [
            0,
            0,
            0,
            0,
            0,
            0,
            0,
            0,
            0,
            0,
            0,
            0,
            0,
            0,
            0,
            2,
            20,
            26
           ]
          },
          {
           "mode": "lines+markers",
           "name": "user_29",
           "type": "scatter",
           "x": [
            0,
            1,
            2,
            3,
            4,
            5,
            6,
            7,
            8,
            9,
            10,
            11,
            12,
            13,
            14,
            15,
            16,
            17
           ],
           "y": [
            0,
            0,
            0,
            0,
            0,
            0,
            0,
            0,
            0,
            0,
            0,
            0,
            0,
            0,
            5,
            18,
            34,
            35
           ]
          },
          {
           "mode": "lines+markers",
           "name": "user_3",
           "type": "scatter",
           "x": [
            0,
            1,
            2,
            3,
            4,
            5,
            6,
            7,
            8,
            9,
            10,
            11,
            12,
            13,
            14,
            15,
            16,
            17
           ],
           "y": [
            0,
            0,
            0,
            0,
            0,
            0,
            0,
            0,
            0,
            0,
            1,
            28,
            29,
            31,
            54,
            56,
            56,
            58
           ]
          },
          {
           "mode": "lines+markers",
           "name": "user_30",
           "type": "scatter",
           "x": [
            0,
            1,
            2,
            3,
            4,
            5,
            6,
            7,
            8,
            9,
            10,
            11,
            12,
            13,
            14,
            15,
            16,
            17
           ],
           "y": [
            0,
            0,
            0,
            1,
            2,
            2,
            4,
            5,
            5,
            5,
            12,
            12,
            12,
            17,
            17,
            17,
            17,
            19
           ]
          },
          {
           "mode": "lines+markers",
           "name": "user_31",
           "type": "scatter",
           "x": [
            0,
            1,
            2,
            3,
            4,
            5,
            6,
            7,
            8,
            9,
            10,
            11,
            12,
            13,
            14,
            15,
            16,
            17
           ],
           "y": [
            0,
            0,
            0,
            0,
            0,
            0,
            0,
            0,
            0,
            0,
            1,
            1,
            4,
            4,
            6,
            6,
            6,
            8
           ]
          },
          {
           "mode": "lines+markers",
           "name": "user_4",
           "type": "scatter",
           "x": [
            0,
            1,
            2,
            3,
            4,
            5,
            6,
            7,
            8,
            9,
            10,
            11,
            12,
            13,
            14,
            15,
            16,
            17
           ],
           "y": [
            7,
            7,
            11,
            11,
            20,
            27,
            35,
            48,
            53,
            53,
            71,
            83,
            83,
            83,
            87,
            125,
            137,
            164
           ]
          },
          {
           "mode": "lines+markers",
           "name": "user_6",
           "type": "scatter",
           "x": [
            0,
            1,
            2,
            3,
            4,
            5,
            6,
            7,
            8,
            9,
            10,
            11,
            12,
            13,
            14,
            15,
            16,
            17
           ],
           "y": [
            0,
            0,
            0,
            0,
            0,
            0,
            0,
            0,
            0,
            0,
            0,
            0,
            0,
            0,
            0,
            0,
            1,
            2
           ]
          },
          {
           "mode": "lines+markers",
           "name": "user_8",
           "type": "scatter",
           "x": [
            0,
            1,
            2,
            3,
            4,
            5,
            6,
            7,
            8,
            9,
            10,
            11,
            12,
            13,
            14,
            15,
            16,
            17
           ],
           "y": [
            0,
            0,
            0,
            0,
            0,
            0,
            0,
            0,
            0,
            0,
            0,
            0,
            0,
            0,
            0,
            0,
            0,
            8
           ]
          }
         ]
        },
        {
         "data": [
          {
           "mode": "lines+markers",
           "name": "user_1",
           "type": "scatter",
           "x": [
            0,
            1,
            2,
            3,
            4,
            5,
            6,
            7,
            8,
            9,
            10,
            11,
            12,
            13,
            14,
            15,
            16,
            17,
            18
           ],
           "y": [
            0,
            0,
            0,
            0,
            0,
            0,
            0,
            0,
            0,
            0,
            0,
            0,
            0,
            0,
            0,
            0,
            0,
            11,
            11
           ]
          },
          {
           "mode": "lines+markers",
           "name": "user_10",
           "type": "scatter",
           "x": [
            0,
            1,
            2,
            3,
            4,
            5,
            6,
            7,
            8,
            9,
            10,
            11,
            12,
            13,
            14,
            15,
            16,
            17,
            18
           ],
           "y": [
            0,
            0,
            0,
            0,
            0,
            0,
            0,
            0,
            0,
            0,
            0,
            0,
            0,
            0,
            0,
            7,
            21,
            59,
            59
           ]
          },
          {
           "mode": "lines+markers",
           "name": "user_11",
           "type": "scatter",
           "x": [
            0,
            1,
            2,
            3,
            4,
            5,
            6,
            7,
            8,
            9,
            10,
            11,
            12,
            13,
            14,
            15,
            16,
            17,
            18
           ],
           "y": [
            0,
            0,
            0,
            0,
            0,
            0,
            1,
            1,
            1,
            1,
            1,
            1,
            1,
            1,
            1,
            1,
            1,
            1,
            1
           ]
          },
          {
           "mode": "lines+markers",
           "name": "user_12",
           "type": "scatter",
           "x": [
            0,
            1,
            2,
            3,
            4,
            5,
            6,
            7,
            8,
            9,
            10,
            11,
            12,
            13,
            14,
            15,
            16,
            17,
            18
           ],
           "y": [
            0,
            0,
            0,
            0,
            0,
            0,
            0,
            0,
            0,
            0,
            0,
            0,
            0,
            0,
            0,
            0,
            0,
            4,
            4
           ]
          },
          {
           "mode": "lines+markers",
           "name": "user_13",
           "type": "scatter",
           "x": [
            0,
            1,
            2,
            3,
            4,
            5,
            6,
            7,
            8,
            9,
            10,
            11,
            12,
            13,
            14,
            15,
            16,
            17,
            18
           ],
           "y": [
            0,
            0,
            0,
            0,
            0,
            0,
            0,
            0,
            0,
            0,
            0,
            0,
            0,
            0,
            2,
            30,
            30,
            32,
            32
           ]
          },
          {
           "mode": "lines+markers",
           "name": "user_14",
           "type": "scatter",
           "x": [
            0,
            1,
            2,
            3,
            4,
            5,
            6,
            7,
            8,
            9,
            10,
            11,
            12,
            13,
            14,
            15,
            16,
            17,
            18
           ],
           "y": [
            0,
            0,
            0,
            0,
            0,
            0,
            0,
            0,
            1,
            1,
            1,
            1,
            18,
            25,
            49,
            92,
            92,
            99,
            99
           ]
          },
          {
           "mode": "lines+markers",
           "name": "user_15",
           "type": "scatter",
           "x": [
            0,
            1,
            2,
            3,
            4,
            5,
            6,
            7,
            8,
            9,
            10,
            11,
            12,
            13,
            14,
            15,
            16,
            17,
            18
           ],
           "y": [
            0,
            0,
            0,
            0,
            0,
            0,
            0,
            0,
            0,
            0,
            0,
            0,
            0,
            0,
            0,
            0,
            0,
            3,
            3
           ]
          },
          {
           "mode": "lines+markers",
           "name": "user_16",
           "type": "scatter",
           "x": [
            0,
            1,
            2,
            3,
            4,
            5,
            6,
            7,
            8,
            9,
            10,
            11,
            12,
            13,
            14,
            15,
            16,
            17,
            18
           ],
           "y": [
            0,
            0,
            0,
            0,
            0,
            0,
            0,
            0,
            0,
            0,
            0,
            0,
            0,
            0,
            0,
            3,
            3,
            10,
            10
           ]
          },
          {
           "mode": "lines+markers",
           "name": "user_17",
           "type": "scatter",
           "x": [
            0,
            1,
            2,
            3,
            4,
            5,
            6,
            7,
            8,
            9,
            10,
            11,
            12,
            13,
            14,
            15,
            16,
            17,
            18
           ],
           "y": [
            0,
            1,
            1,
            1,
            1,
            1,
            1,
            1,
            1,
            1,
            1,
            1,
            1,
            1,
            1,
            3,
            3,
            6,
            6
           ]
          },
          {
           "mode": "lines+markers",
           "name": "user_18",
           "type": "scatter",
           "x": [
            0,
            1,
            2,
            3,
            4,
            5,
            6,
            7,
            8,
            9,
            10,
            11,
            12,
            13,
            14,
            15,
            16,
            17,
            18
           ],
           "y": [
            0,
            0,
            0,
            0,
            0,
            0,
            0,
            0,
            0,
            0,
            0,
            0,
            0,
            0,
            7,
            7,
            8,
            31,
            31
           ]
          },
          {
           "mode": "lines+markers",
           "name": "user_19",
           "type": "scatter",
           "x": [
            0,
            1,
            2,
            3,
            4,
            5,
            6,
            7,
            8,
            9,
            10,
            11,
            12,
            13,
            14,
            15,
            16,
            17,
            18
           ],
           "y": [
            0,
            0,
            0,
            0,
            0,
            0,
            0,
            0,
            0,
            0,
            0,
            0,
            0,
            0,
            0,
            0,
            0,
            25,
            29
           ]
          },
          {
           "mode": "lines+markers",
           "name": "user_2",
           "type": "scatter",
           "x": [
            0,
            1,
            2,
            3,
            4,
            5,
            6,
            7,
            8,
            9,
            10,
            11,
            12,
            13,
            14,
            15,
            16,
            17,
            18
           ],
           "y": [
            0,
            0,
            0,
            0,
            0,
            0,
            0,
            0,
            57,
            58,
            58,
            58,
            58,
            62,
            74,
            78,
            93,
            95,
            95
           ]
          },
          {
           "mode": "lines+markers",
           "name": "user_20",
           "type": "scatter",
           "x": [
            0,
            1,
            2,
            3,
            4,
            5,
            6,
            7,
            8,
            9,
            10,
            11,
            12,
            13,
            14,
            15,
            16,
            17,
            18
           ],
           "y": [
            0,
            0,
            0,
            0,
            0,
            0,
            0,
            0,
            0,
            0,
            0,
            0,
            0,
            0,
            11,
            11,
            11,
            54,
            54
           ]
          },
          {
           "mode": "lines+markers",
           "name": "user_21",
           "type": "scatter",
           "x": [
            0,
            1,
            2,
            3,
            4,
            5,
            6,
            7,
            8,
            9,
            10,
            11,
            12,
            13,
            14,
            15,
            16,
            17,
            18
           ],
           "y": [
            0,
            0,
            0,
            0,
            0,
            0,
            0,
            0,
            0,
            0,
            0,
            0,
            0,
            7,
            7,
            7,
            7,
            9,
            9
           ]
          },
          {
           "mode": "lines+markers",
           "name": "user_22",
           "type": "scatter",
           "x": [
            0,
            1,
            2,
            3,
            4,
            5,
            6,
            7,
            8,
            9,
            10,
            11,
            12,
            13,
            14,
            15,
            16,
            17,
            18
           ],
           "y": [
            0,
            0,
            0,
            0,
            0,
            0,
            1,
            1,
            1,
            1,
            1,
            1,
            1,
            1,
            1,
            1,
            1,
            2,
            2
           ]
          },
          {
           "mode": "lines+markers",
           "name": "user_24",
           "type": "scatter",
           "x": [
            0,
            1,
            2,
            3,
            4,
            5,
            6,
            7,
            8,
            9,
            10,
            11,
            12,
            13,
            14,
            15,
            16,
            17,
            18
           ],
           "y": [
            0,
            0,
            0,
            0,
            0,
            0,
            0,
            0,
            0,
            0,
            0,
            0,
            0,
            0,
            0,
            0,
            9,
            34,
            34
           ]
          },
          {
           "mode": "lines+markers",
           "name": "user_25",
           "type": "scatter",
           "x": [
            0,
            1,
            2,
            3,
            4,
            5,
            6,
            7,
            8,
            9,
            10,
            11,
            12,
            13,
            14,
            15,
            16,
            17,
            18
           ],
           "y": [
            0,
            0,
            0,
            0,
            0,
            0,
            0,
            0,
            0,
            0,
            0,
            5,
            27,
            29,
            33,
            54,
            57,
            77,
            77
           ]
          },
          {
           "mode": "lines+markers",
           "name": "user_26",
           "type": "scatter",
           "x": [
            0,
            1,
            2,
            3,
            4,
            5,
            6,
            7,
            8,
            9,
            10,
            11,
            12,
            13,
            14,
            15,
            16,
            17,
            18
           ],
           "y": [
            0,
            0,
            0,
            0,
            0,
            0,
            0,
            0,
            0,
            0,
            0,
            0,
            0,
            35,
            35,
            35,
            52,
            67,
            67
           ]
          },
          {
           "mode": "lines+markers",
           "name": "user_27",
           "type": "scatter",
           "x": [
            0,
            1,
            2,
            3,
            4,
            5,
            6,
            7,
            8,
            9,
            10,
            11,
            12,
            13,
            14,
            15,
            16,
            17,
            18
           ],
           "y": [
            0,
            0,
            0,
            0,
            0,
            0,
            0,
            0,
            0,
            0,
            0,
            0,
            0,
            0,
            0,
            0,
            0,
            8,
            8
           ]
          },
          {
           "mode": "lines+markers",
           "name": "user_28",
           "type": "scatter",
           "x": [
            0,
            1,
            2,
            3,
            4,
            5,
            6,
            7,
            8,
            9,
            10,
            11,
            12,
            13,
            14,
            15,
            16,
            17,
            18
           ],
           "y": [
            0,
            0,
            0,
            0,
            0,
            0,
            0,
            0,
            0,
            0,
            0,
            0,
            0,
            0,
            0,
            2,
            20,
            26,
            27
           ]
          },
          {
           "mode": "lines+markers",
           "name": "user_29",
           "type": "scatter",
           "x": [
            0,
            1,
            2,
            3,
            4,
            5,
            6,
            7,
            8,
            9,
            10,
            11,
            12,
            13,
            14,
            15,
            16,
            17,
            18
           ],
           "y": [
            0,
            0,
            0,
            0,
            0,
            0,
            0,
            0,
            0,
            0,
            0,
            0,
            0,
            0,
            5,
            18,
            34,
            35,
            35
           ]
          },
          {
           "mode": "lines+markers",
           "name": "user_3",
           "type": "scatter",
           "x": [
            0,
            1,
            2,
            3,
            4,
            5,
            6,
            7,
            8,
            9,
            10,
            11,
            12,
            13,
            14,
            15,
            16,
            17,
            18
           ],
           "y": [
            0,
            0,
            0,
            0,
            0,
            0,
            0,
            0,
            0,
            0,
            1,
            28,
            29,
            31,
            54,
            56,
            56,
            58,
            58
           ]
          },
          {
           "mode": "lines+markers",
           "name": "user_30",
           "type": "scatter",
           "x": [
            0,
            1,
            2,
            3,
            4,
            5,
            6,
            7,
            8,
            9,
            10,
            11,
            12,
            13,
            14,
            15,
            16,
            17,
            18
           ],
           "y": [
            0,
            0,
            0,
            1,
            2,
            2,
            4,
            5,
            5,
            5,
            12,
            12,
            12,
            17,
            17,
            17,
            17,
            19,
            19
           ]
          },
          {
           "mode": "lines+markers",
           "name": "user_31",
           "type": "scatter",
           "x": [
            0,
            1,
            2,
            3,
            4,
            5,
            6,
            7,
            8,
            9,
            10,
            11,
            12,
            13,
            14,
            15,
            16,
            17,
            18
           ],
           "y": [
            0,
            0,
            0,
            0,
            0,
            0,
            0,
            0,
            0,
            0,
            1,
            1,
            4,
            4,
            6,
            6,
            6,
            8,
            8
           ]
          },
          {
           "mode": "lines+markers",
           "name": "user_4",
           "type": "scatter",
           "x": [
            0,
            1,
            2,
            3,
            4,
            5,
            6,
            7,
            8,
            9,
            10,
            11,
            12,
            13,
            14,
            15,
            16,
            17,
            18
           ],
           "y": [
            7,
            7,
            11,
            11,
            20,
            27,
            35,
            48,
            53,
            53,
            71,
            83,
            83,
            83,
            87,
            125,
            137,
            164,
            164
           ]
          },
          {
           "mode": "lines+markers",
           "name": "user_6",
           "type": "scatter",
           "x": [
            0,
            1,
            2,
            3,
            4,
            5,
            6,
            7,
            8,
            9,
            10,
            11,
            12,
            13,
            14,
            15,
            16,
            17,
            18
           ],
           "y": [
            0,
            0,
            0,
            0,
            0,
            0,
            0,
            0,
            0,
            0,
            0,
            0,
            0,
            0,
            0,
            0,
            1,
            2,
            2
           ]
          },
          {
           "mode": "lines+markers",
           "name": "user_8",
           "type": "scatter",
           "x": [
            0,
            1,
            2,
            3,
            4,
            5,
            6,
            7,
            8,
            9,
            10,
            11,
            12,
            13,
            14,
            15,
            16,
            17,
            18
           ],
           "y": [
            0,
            0,
            0,
            0,
            0,
            0,
            0,
            0,
            0,
            0,
            0,
            0,
            0,
            0,
            0,
            0,
            0,
            8,
            8
           ]
          }
         ]
        },
        {
         "data": [
          {
           "mode": "lines+markers",
           "name": "user_1",
           "type": "scatter",
           "x": [
            0,
            1,
            2,
            3,
            4,
            5,
            6,
            7,
            8,
            9,
            10,
            11,
            12,
            13,
            14,
            15,
            16,
            17,
            18,
            19
           ],
           "y": [
            0,
            0,
            0,
            0,
            0,
            0,
            0,
            0,
            0,
            0,
            0,
            0,
            0,
            0,
            0,
            0,
            0,
            11,
            11
           ]
          },
          {
           "mode": "lines+markers",
           "name": "user_10",
           "type": "scatter",
           "x": [
            0,
            1,
            2,
            3,
            4,
            5,
            6,
            7,
            8,
            9,
            10,
            11,
            12,
            13,
            14,
            15,
            16,
            17,
            18,
            19
           ],
           "y": [
            0,
            0,
            0,
            0,
            0,
            0,
            0,
            0,
            0,
            0,
            0,
            0,
            0,
            0,
            0,
            7,
            21,
            59,
            59
           ]
          },
          {
           "mode": "lines+markers",
           "name": "user_11",
           "type": "scatter",
           "x": [
            0,
            1,
            2,
            3,
            4,
            5,
            6,
            7,
            8,
            9,
            10,
            11,
            12,
            13,
            14,
            15,
            16,
            17,
            18,
            19
           ],
           "y": [
            0,
            0,
            0,
            0,
            0,
            0,
            1,
            1,
            1,
            1,
            1,
            1,
            1,
            1,
            1,
            1,
            1,
            1,
            1
           ]
          },
          {
           "mode": "lines+markers",
           "name": "user_12",
           "type": "scatter",
           "x": [
            0,
            1,
            2,
            3,
            4,
            5,
            6,
            7,
            8,
            9,
            10,
            11,
            12,
            13,
            14,
            15,
            16,
            17,
            18,
            19
           ],
           "y": [
            0,
            0,
            0,
            0,
            0,
            0,
            0,
            0,
            0,
            0,
            0,
            0,
            0,
            0,
            0,
            0,
            0,
            4,
            4
           ]
          },
          {
           "mode": "lines+markers",
           "name": "user_13",
           "type": "scatter",
           "x": [
            0,
            1,
            2,
            3,
            4,
            5,
            6,
            7,
            8,
            9,
            10,
            11,
            12,
            13,
            14,
            15,
            16,
            17,
            18,
            19
           ],
           "y": [
            0,
            0,
            0,
            0,
            0,
            0,
            0,
            0,
            0,
            0,
            0,
            0,
            0,
            0,
            2,
            30,
            30,
            32,
            32
           ]
          },
          {
           "mode": "lines+markers",
           "name": "user_14",
           "type": "scatter",
           "x": [
            0,
            1,
            2,
            3,
            4,
            5,
            6,
            7,
            8,
            9,
            10,
            11,
            12,
            13,
            14,
            15,
            16,
            17,
            18,
            19
           ],
           "y": [
            0,
            0,
            0,
            0,
            0,
            0,
            0,
            0,
            1,
            1,
            1,
            1,
            18,
            25,
            49,
            92,
            92,
            99,
            99
           ]
          },
          {
           "mode": "lines+markers",
           "name": "user_15",
           "type": "scatter",
           "x": [
            0,
            1,
            2,
            3,
            4,
            5,
            6,
            7,
            8,
            9,
            10,
            11,
            12,
            13,
            14,
            15,
            16,
            17,
            18,
            19
           ],
           "y": [
            0,
            0,
            0,
            0,
            0,
            0,
            0,
            0,
            0,
            0,
            0,
            0,
            0,
            0,
            0,
            0,
            0,
            3,
            3
           ]
          },
          {
           "mode": "lines+markers",
           "name": "user_16",
           "type": "scatter",
           "x": [
            0,
            1,
            2,
            3,
            4,
            5,
            6,
            7,
            8,
            9,
            10,
            11,
            12,
            13,
            14,
            15,
            16,
            17,
            18,
            19
           ],
           "y": [
            0,
            0,
            0,
            0,
            0,
            0,
            0,
            0,
            0,
            0,
            0,
            0,
            0,
            0,
            0,
            3,
            3,
            10,
            10
           ]
          },
          {
           "mode": "lines+markers",
           "name": "user_17",
           "type": "scatter",
           "x": [
            0,
            1,
            2,
            3,
            4,
            5,
            6,
            7,
            8,
            9,
            10,
            11,
            12,
            13,
            14,
            15,
            16,
            17,
            18,
            19
           ],
           "y": [
            0,
            1,
            1,
            1,
            1,
            1,
            1,
            1,
            1,
            1,
            1,
            1,
            1,
            1,
            1,
            3,
            3,
            6,
            6
           ]
          },
          {
           "mode": "lines+markers",
           "name": "user_18",
           "type": "scatter",
           "x": [
            0,
            1,
            2,
            3,
            4,
            5,
            6,
            7,
            8,
            9,
            10,
            11,
            12,
            13,
            14,
            15,
            16,
            17,
            18,
            19
           ],
           "y": [
            0,
            0,
            0,
            0,
            0,
            0,
            0,
            0,
            0,
            0,
            0,
            0,
            0,
            0,
            7,
            7,
            8,
            31,
            31
           ]
          },
          {
           "mode": "lines+markers",
           "name": "user_19",
           "type": "scatter",
           "x": [
            0,
            1,
            2,
            3,
            4,
            5,
            6,
            7,
            8,
            9,
            10,
            11,
            12,
            13,
            14,
            15,
            16,
            17,
            18,
            19
           ],
           "y": [
            0,
            0,
            0,
            0,
            0,
            0,
            0,
            0,
            0,
            0,
            0,
            0,
            0,
            0,
            0,
            0,
            0,
            25,
            29
           ]
          },
          {
           "mode": "lines+markers",
           "name": "user_2",
           "type": "scatter",
           "x": [
            0,
            1,
            2,
            3,
            4,
            5,
            6,
            7,
            8,
            9,
            10,
            11,
            12,
            13,
            14,
            15,
            16,
            17,
            18,
            19
           ],
           "y": [
            0,
            0,
            0,
            0,
            0,
            0,
            0,
            0,
            57,
            58,
            58,
            58,
            58,
            62,
            74,
            78,
            93,
            95,
            95
           ]
          },
          {
           "mode": "lines+markers",
           "name": "user_20",
           "type": "scatter",
           "x": [
            0,
            1,
            2,
            3,
            4,
            5,
            6,
            7,
            8,
            9,
            10,
            11,
            12,
            13,
            14,
            15,
            16,
            17,
            18,
            19
           ],
           "y": [
            0,
            0,
            0,
            0,
            0,
            0,
            0,
            0,
            0,
            0,
            0,
            0,
            0,
            0,
            11,
            11,
            11,
            54,
            54
           ]
          },
          {
           "mode": "lines+markers",
           "name": "user_21",
           "type": "scatter",
           "x": [
            0,
            1,
            2,
            3,
            4,
            5,
            6,
            7,
            8,
            9,
            10,
            11,
            12,
            13,
            14,
            15,
            16,
            17,
            18,
            19
           ],
           "y": [
            0,
            0,
            0,
            0,
            0,
            0,
            0,
            0,
            0,
            0,
            0,
            0,
            0,
            7,
            7,
            7,
            7,
            9,
            9
           ]
          },
          {
           "mode": "lines+markers",
           "name": "user_22",
           "type": "scatter",
           "x": [
            0,
            1,
            2,
            3,
            4,
            5,
            6,
            7,
            8,
            9,
            10,
            11,
            12,
            13,
            14,
            15,
            16,
            17,
            18,
            19
           ],
           "y": [
            0,
            0,
            0,
            0,
            0,
            0,
            1,
            1,
            1,
            1,
            1,
            1,
            1,
            1,
            1,
            1,
            1,
            2,
            2
           ]
          },
          {
           "mode": "lines+markers",
           "name": "user_24",
           "type": "scatter",
           "x": [
            0,
            1,
            2,
            3,
            4,
            5,
            6,
            7,
            8,
            9,
            10,
            11,
            12,
            13,
            14,
            15,
            16,
            17,
            18,
            19
           ],
           "y": [
            0,
            0,
            0,
            0,
            0,
            0,
            0,
            0,
            0,
            0,
            0,
            0,
            0,
            0,
            0,
            0,
            9,
            34,
            34
           ]
          },
          {
           "mode": "lines+markers",
           "name": "user_25",
           "type": "scatter",
           "x": [
            0,
            1,
            2,
            3,
            4,
            5,
            6,
            7,
            8,
            9,
            10,
            11,
            12,
            13,
            14,
            15,
            16,
            17,
            18,
            19
           ],
           "y": [
            0,
            0,
            0,
            0,
            0,
            0,
            0,
            0,
            0,
            0,
            0,
            5,
            27,
            29,
            33,
            54,
            57,
            77,
            77
           ]
          },
          {
           "mode": "lines+markers",
           "name": "user_26",
           "type": "scatter",
           "x": [
            0,
            1,
            2,
            3,
            4,
            5,
            6,
            7,
            8,
            9,
            10,
            11,
            12,
            13,
            14,
            15,
            16,
            17,
            18,
            19
           ],
           "y": [
            0,
            0,
            0,
            0,
            0,
            0,
            0,
            0,
            0,
            0,
            0,
            0,
            0,
            35,
            35,
            35,
            52,
            67,
            67
           ]
          },
          {
           "mode": "lines+markers",
           "name": "user_27",
           "type": "scatter",
           "x": [
            0,
            1,
            2,
            3,
            4,
            5,
            6,
            7,
            8,
            9,
            10,
            11,
            12,
            13,
            14,
            15,
            16,
            17,
            18,
            19
           ],
           "y": [
            0,
            0,
            0,
            0,
            0,
            0,
            0,
            0,
            0,
            0,
            0,
            0,
            0,
            0,
            0,
            0,
            0,
            8,
            8
           ]
          },
          {
           "mode": "lines+markers",
           "name": "user_28",
           "type": "scatter",
           "x": [
            0,
            1,
            2,
            3,
            4,
            5,
            6,
            7,
            8,
            9,
            10,
            11,
            12,
            13,
            14,
            15,
            16,
            17,
            18,
            19
           ],
           "y": [
            0,
            0,
            0,
            0,
            0,
            0,
            0,
            0,
            0,
            0,
            0,
            0,
            0,
            0,
            0,
            2,
            20,
            26,
            27
           ]
          },
          {
           "mode": "lines+markers",
           "name": "user_29",
           "type": "scatter",
           "x": [
            0,
            1,
            2,
            3,
            4,
            5,
            6,
            7,
            8,
            9,
            10,
            11,
            12,
            13,
            14,
            15,
            16,
            17,
            18,
            19
           ],
           "y": [
            0,
            0,
            0,
            0,
            0,
            0,
            0,
            0,
            0,
            0,
            0,
            0,
            0,
            0,
            5,
            18,
            34,
            35,
            35
           ]
          },
          {
           "mode": "lines+markers",
           "name": "user_3",
           "type": "scatter",
           "x": [
            0,
            1,
            2,
            3,
            4,
            5,
            6,
            7,
            8,
            9,
            10,
            11,
            12,
            13,
            14,
            15,
            16,
            17,
            18,
            19
           ],
           "y": [
            0,
            0,
            0,
            0,
            0,
            0,
            0,
            0,
            0,
            0,
            1,
            28,
            29,
            31,
            54,
            56,
            56,
            58,
            58
           ]
          },
          {
           "mode": "lines+markers",
           "name": "user_30",
           "type": "scatter",
           "x": [
            0,
            1,
            2,
            3,
            4,
            5,
            6,
            7,
            8,
            9,
            10,
            11,
            12,
            13,
            14,
            15,
            16,
            17,
            18,
            19
           ],
           "y": [
            0,
            0,
            0,
            1,
            2,
            2,
            4,
            5,
            5,
            5,
            12,
            12,
            12,
            17,
            17,
            17,
            17,
            19,
            19
           ]
          },
          {
           "mode": "lines+markers",
           "name": "user_31",
           "type": "scatter",
           "x": [
            0,
            1,
            2,
            3,
            4,
            5,
            6,
            7,
            8,
            9,
            10,
            11,
            12,
            13,
            14,
            15,
            16,
            17,
            18,
            19
           ],
           "y": [
            0,
            0,
            0,
            0,
            0,
            0,
            0,
            0,
            0,
            0,
            1,
            1,
            4,
            4,
            6,
            6,
            6,
            8,
            8
           ]
          },
          {
           "mode": "lines+markers",
           "name": "user_4",
           "type": "scatter",
           "x": [
            0,
            1,
            2,
            3,
            4,
            5,
            6,
            7,
            8,
            9,
            10,
            11,
            12,
            13,
            14,
            15,
            16,
            17,
            18,
            19
           ],
           "y": [
            7,
            7,
            11,
            11,
            20,
            27,
            35,
            48,
            53,
            53,
            71,
            83,
            83,
            83,
            87,
            125,
            137,
            164,
            164
           ]
          },
          {
           "mode": "lines+markers",
           "name": "user_6",
           "type": "scatter",
           "x": [
            0,
            1,
            2,
            3,
            4,
            5,
            6,
            7,
            8,
            9,
            10,
            11,
            12,
            13,
            14,
            15,
            16,
            17,
            18,
            19
           ],
           "y": [
            0,
            0,
            0,
            0,
            0,
            0,
            0,
            0,
            0,
            0,
            0,
            0,
            0,
            0,
            0,
            0,
            1,
            2,
            2
           ]
          },
          {
           "mode": "lines+markers",
           "name": "user_8",
           "type": "scatter",
           "x": [
            0,
            1,
            2,
            3,
            4,
            5,
            6,
            7,
            8,
            9,
            10,
            11,
            12,
            13,
            14,
            15,
            16,
            17,
            18,
            19
           ],
           "y": [
            0,
            0,
            0,
            0,
            0,
            0,
            0,
            0,
            0,
            0,
            0,
            0,
            0,
            0,
            0,
            0,
            0,
            8,
            8
           ]
          }
         ]
        }
       ],
       "layout": {
        "height": 600,
        "template": {
         "data": {
          "bar": [
           {
            "error_x": {
             "color": "#2a3f5f"
            },
            "error_y": {
             "color": "#2a3f5f"
            },
            "marker": {
             "line": {
              "color": "#E5ECF6",
              "width": 0.5
             },
             "pattern": {
              "fillmode": "overlay",
              "size": 10,
              "solidity": 0.2
             }
            },
            "type": "bar"
           }
          ],
          "barpolar": [
           {
            "marker": {
             "line": {
              "color": "#E5ECF6",
              "width": 0.5
             },
             "pattern": {
              "fillmode": "overlay",
              "size": 10,
              "solidity": 0.2
             }
            },
            "type": "barpolar"
           }
          ],
          "carpet": [
           {
            "aaxis": {
             "endlinecolor": "#2a3f5f",
             "gridcolor": "white",
             "linecolor": "white",
             "minorgridcolor": "white",
             "startlinecolor": "#2a3f5f"
            },
            "baxis": {
             "endlinecolor": "#2a3f5f",
             "gridcolor": "white",
             "linecolor": "white",
             "minorgridcolor": "white",
             "startlinecolor": "#2a3f5f"
            },
            "type": "carpet"
           }
          ],
          "choropleth": [
           {
            "colorbar": {
             "outlinewidth": 0,
             "ticks": ""
            },
            "type": "choropleth"
           }
          ],
          "contour": [
           {
            "colorbar": {
             "outlinewidth": 0,
             "ticks": ""
            },
            "colorscale": [
             [
              0,
              "#0d0887"
             ],
             [
              0.1111111111111111,
              "#46039f"
             ],
             [
              0.2222222222222222,
              "#7201a8"
             ],
             [
              0.3333333333333333,
              "#9c179e"
             ],
             [
              0.4444444444444444,
              "#bd3786"
             ],
             [
              0.5555555555555556,
              "#d8576b"
             ],
             [
              0.6666666666666666,
              "#ed7953"
             ],
             [
              0.7777777777777778,
              "#fb9f3a"
             ],
             [
              0.8888888888888888,
              "#fdca26"
             ],
             [
              1,
              "#f0f921"
             ]
            ],
            "type": "contour"
           }
          ],
          "contourcarpet": [
           {
            "colorbar": {
             "outlinewidth": 0,
             "ticks": ""
            },
            "type": "contourcarpet"
           }
          ],
          "heatmap": [
           {
            "colorbar": {
             "outlinewidth": 0,
             "ticks": ""
            },
            "colorscale": [
             [
              0,
              "#0d0887"
             ],
             [
              0.1111111111111111,
              "#46039f"
             ],
             [
              0.2222222222222222,
              "#7201a8"
             ],
             [
              0.3333333333333333,
              "#9c179e"
             ],
             [
              0.4444444444444444,
              "#bd3786"
             ],
             [
              0.5555555555555556,
              "#d8576b"
             ],
             [
              0.6666666666666666,
              "#ed7953"
             ],
             [
              0.7777777777777778,
              "#fb9f3a"
             ],
             [
              0.8888888888888888,
              "#fdca26"
             ],
             [
              1,
              "#f0f921"
             ]
            ],
            "type": "heatmap"
           }
          ],
          "heatmapgl": [
           {
            "colorbar": {
             "outlinewidth": 0,
             "ticks": ""
            },
            "colorscale": [
             [
              0,
              "#0d0887"
             ],
             [
              0.1111111111111111,
              "#46039f"
             ],
             [
              0.2222222222222222,
              "#7201a8"
             ],
             [
              0.3333333333333333,
              "#9c179e"
             ],
             [
              0.4444444444444444,
              "#bd3786"
             ],
             [
              0.5555555555555556,
              "#d8576b"
             ],
             [
              0.6666666666666666,
              "#ed7953"
             ],
             [
              0.7777777777777778,
              "#fb9f3a"
             ],
             [
              0.8888888888888888,
              "#fdca26"
             ],
             [
              1,
              "#f0f921"
             ]
            ],
            "type": "heatmapgl"
           }
          ],
          "histogram": [
           {
            "marker": {
             "pattern": {
              "fillmode": "overlay",
              "size": 10,
              "solidity": 0.2
             }
            },
            "type": "histogram"
           }
          ],
          "histogram2d": [
           {
            "colorbar": {
             "outlinewidth": 0,
             "ticks": ""
            },
            "colorscale": [
             [
              0,
              "#0d0887"
             ],
             [
              0.1111111111111111,
              "#46039f"
             ],
             [
              0.2222222222222222,
              "#7201a8"
             ],
             [
              0.3333333333333333,
              "#9c179e"
             ],
             [
              0.4444444444444444,
              "#bd3786"
             ],
             [
              0.5555555555555556,
              "#d8576b"
             ],
             [
              0.6666666666666666,
              "#ed7953"
             ],
             [
              0.7777777777777778,
              "#fb9f3a"
             ],
             [
              0.8888888888888888,
              "#fdca26"
             ],
             [
              1,
              "#f0f921"
             ]
            ],
            "type": "histogram2d"
           }
          ],
          "histogram2dcontour": [
           {
            "colorbar": {
             "outlinewidth": 0,
             "ticks": ""
            },
            "colorscale": [
             [
              0,
              "#0d0887"
             ],
             [
              0.1111111111111111,
              "#46039f"
             ],
             [
              0.2222222222222222,
              "#7201a8"
             ],
             [
              0.3333333333333333,
              "#9c179e"
             ],
             [
              0.4444444444444444,
              "#bd3786"
             ],
             [
              0.5555555555555556,
              "#d8576b"
             ],
             [
              0.6666666666666666,
              "#ed7953"
             ],
             [
              0.7777777777777778,
              "#fb9f3a"
             ],
             [
              0.8888888888888888,
              "#fdca26"
             ],
             [
              1,
              "#f0f921"
             ]
            ],
            "type": "histogram2dcontour"
           }
          ],
          "mesh3d": [
           {
            "colorbar": {
             "outlinewidth": 0,
             "ticks": ""
            },
            "type": "mesh3d"
           }
          ],
          "parcoords": [
           {
            "line": {
             "colorbar": {
              "outlinewidth": 0,
              "ticks": ""
             }
            },
            "type": "parcoords"
           }
          ],
          "pie": [
           {
            "automargin": true,
            "type": "pie"
           }
          ],
          "scatter": [
           {
            "fillpattern": {
             "fillmode": "overlay",
             "size": 10,
             "solidity": 0.2
            },
            "type": "scatter"
           }
          ],
          "scatter3d": [
           {
            "line": {
             "colorbar": {
              "outlinewidth": 0,
              "ticks": ""
             }
            },
            "marker": {
             "colorbar": {
              "outlinewidth": 0,
              "ticks": ""
             }
            },
            "type": "scatter3d"
           }
          ],
          "scattercarpet": [
           {
            "marker": {
             "colorbar": {
              "outlinewidth": 0,
              "ticks": ""
             }
            },
            "type": "scattercarpet"
           }
          ],
          "scattergeo": [
           {
            "marker": {
             "colorbar": {
              "outlinewidth": 0,
              "ticks": ""
             }
            },
            "type": "scattergeo"
           }
          ],
          "scattergl": [
           {
            "marker": {
             "colorbar": {
              "outlinewidth": 0,
              "ticks": ""
             }
            },
            "type": "scattergl"
           }
          ],
          "scattermapbox": [
           {
            "marker": {
             "colorbar": {
              "outlinewidth": 0,
              "ticks": ""
             }
            },
            "type": "scattermapbox"
           }
          ],
          "scatterpolar": [
           {
            "marker": {
             "colorbar": {
              "outlinewidth": 0,
              "ticks": ""
             }
            },
            "type": "scatterpolar"
           }
          ],
          "scatterpolargl": [
           {
            "marker": {
             "colorbar": {
              "outlinewidth": 0,
              "ticks": ""
             }
            },
            "type": "scatterpolargl"
           }
          ],
          "scatterternary": [
           {
            "marker": {
             "colorbar": {
              "outlinewidth": 0,
              "ticks": ""
             }
            },
            "type": "scatterternary"
           }
          ],
          "surface": [
           {
            "colorbar": {
             "outlinewidth": 0,
             "ticks": ""
            },
            "colorscale": [
             [
              0,
              "#0d0887"
             ],
             [
              0.1111111111111111,
              "#46039f"
             ],
             [
              0.2222222222222222,
              "#7201a8"
             ],
             [
              0.3333333333333333,
              "#9c179e"
             ],
             [
              0.4444444444444444,
              "#bd3786"
             ],
             [
              0.5555555555555556,
              "#d8576b"
             ],
             [
              0.6666666666666666,
              "#ed7953"
             ],
             [
              0.7777777777777778,
              "#fb9f3a"
             ],
             [
              0.8888888888888888,
              "#fdca26"
             ],
             [
              1,
              "#f0f921"
             ]
            ],
            "type": "surface"
           }
          ],
          "table": [
           {
            "cells": {
             "fill": {
              "color": "#EBF0F8"
             },
             "line": {
              "color": "white"
             }
            },
            "header": {
             "fill": {
              "color": "#C8D4E3"
             },
             "line": {
              "color": "white"
             }
            },
            "type": "table"
           }
          ]
         },
         "layout": {
          "annotationdefaults": {
           "arrowcolor": "#2a3f5f",
           "arrowhead": 0,
           "arrowwidth": 1
          },
          "autotypenumbers": "strict",
          "coloraxis": {
           "colorbar": {
            "outlinewidth": 0,
            "ticks": ""
           }
          },
          "colorscale": {
           "diverging": [
            [
             0,
             "#8e0152"
            ],
            [
             0.1,
             "#c51b7d"
            ],
            [
             0.2,
             "#de77ae"
            ],
            [
             0.3,
             "#f1b6da"
            ],
            [
             0.4,
             "#fde0ef"
            ],
            [
             0.5,
             "#f7f7f7"
            ],
            [
             0.6,
             "#e6f5d0"
            ],
            [
             0.7,
             "#b8e186"
            ],
            [
             0.8,
             "#7fbc41"
            ],
            [
             0.9,
             "#4d9221"
            ],
            [
             1,
             "#276419"
            ]
           ],
           "sequential": [
            [
             0,
             "#0d0887"
            ],
            [
             0.1111111111111111,
             "#46039f"
            ],
            [
             0.2222222222222222,
             "#7201a8"
            ],
            [
             0.3333333333333333,
             "#9c179e"
            ],
            [
             0.4444444444444444,
             "#bd3786"
            ],
            [
             0.5555555555555556,
             "#d8576b"
            ],
            [
             0.6666666666666666,
             "#ed7953"
            ],
            [
             0.7777777777777778,
             "#fb9f3a"
            ],
            [
             0.8888888888888888,
             "#fdca26"
            ],
            [
             1,
             "#f0f921"
            ]
           ],
           "sequentialminus": [
            [
             0,
             "#0d0887"
            ],
            [
             0.1111111111111111,
             "#46039f"
            ],
            [
             0.2222222222222222,
             "#7201a8"
            ],
            [
             0.3333333333333333,
             "#9c179e"
            ],
            [
             0.4444444444444444,
             "#bd3786"
            ],
            [
             0.5555555555555556,
             "#d8576b"
            ],
            [
             0.6666666666666666,
             "#ed7953"
            ],
            [
             0.7777777777777778,
             "#fb9f3a"
            ],
            [
             0.8888888888888888,
             "#fdca26"
            ],
            [
             1,
             "#f0f921"
            ]
           ]
          },
          "colorway": [
           "#636efa",
           "#EF553B",
           "#00cc96",
           "#ab63fa",
           "#FFA15A",
           "#19d3f3",
           "#FF6692",
           "#B6E880",
           "#FF97FF",
           "#FECB52"
          ],
          "font": {
           "color": "#2a3f5f"
          },
          "geo": {
           "bgcolor": "white",
           "lakecolor": "white",
           "landcolor": "#E5ECF6",
           "showlakes": true,
           "showland": true,
           "subunitcolor": "white"
          },
          "hoverlabel": {
           "align": "left"
          },
          "hovermode": "closest",
          "mapbox": {
           "style": "light"
          },
          "paper_bgcolor": "white",
          "plot_bgcolor": "#E5ECF6",
          "polar": {
           "angularaxis": {
            "gridcolor": "white",
            "linecolor": "white",
            "ticks": ""
           },
           "bgcolor": "#E5ECF6",
           "radialaxis": {
            "gridcolor": "white",
            "linecolor": "white",
            "ticks": ""
           }
          },
          "scene": {
           "xaxis": {
            "backgroundcolor": "#E5ECF6",
            "gridcolor": "white",
            "gridwidth": 2,
            "linecolor": "white",
            "showbackground": true,
            "ticks": "",
            "zerolinecolor": "white"
           },
           "yaxis": {
            "backgroundcolor": "#E5ECF6",
            "gridcolor": "white",
            "gridwidth": 2,
            "linecolor": "white",
            "showbackground": true,
            "ticks": "",
            "zerolinecolor": "white"
           },
           "zaxis": {
            "backgroundcolor": "#E5ECF6",
            "gridcolor": "white",
            "gridwidth": 2,
            "linecolor": "white",
            "showbackground": true,
            "ticks": "",
            "zerolinecolor": "white"
           }
          },
          "shapedefaults": {
           "line": {
            "color": "#2a3f5f"
           }
          },
          "ternary": {
           "aaxis": {
            "gridcolor": "white",
            "linecolor": "white",
            "ticks": ""
           },
           "baxis": {
            "gridcolor": "white",
            "linecolor": "white",
            "ticks": ""
           },
           "bgcolor": "#E5ECF6",
           "caxis": {
            "gridcolor": "white",
            "linecolor": "white",
            "ticks": ""
           }
          },
          "title": {
           "x": 0.05
          },
          "xaxis": {
           "automargin": true,
           "gridcolor": "white",
           "linecolor": "white",
           "ticks": "",
           "title": {
            "standoff": 15
           },
           "zerolinecolor": "white",
           "zerolinewidth": 2
          },
          "yaxis": {
           "automargin": true,
           "gridcolor": "white",
           "linecolor": "white",
           "ticks": "",
           "title": {
            "standoff": 15
           },
           "zerolinecolor": "white",
           "zerolinewidth": 2
          }
         }
        },
        "title": {
         "text": "Dynamic of commits per user in project1"
        },
        "updatemenus": [
         {
          "buttons": [
           {
            "args": [
             null
            ],
            "label": "play",
            "method": "animate"
           }
          ],
          "type": "buttons"
         }
        ],
        "width": 1200,
        "xaxis": {
         "dtick": 2,
         "range": [
          0,
          20
         ]
        },
        "yaxis": {
         "range": [
          0,
          171
         ]
        }
       }
      },
      "text/html": [
       "<div>                            <div id=\"97dc8f19-970f-46cb-8e41-2d3c00e3a503\" class=\"plotly-graph-div\" style=\"height:600px; width:1200px;\"></div>            <script type=\"text/javascript\">                require([\"plotly\"], function(Plotly) {                    window.PLOTLYENV=window.PLOTLYENV || {};                                    if (document.getElementById(\"97dc8f19-970f-46cb-8e41-2d3c00e3a503\")) {                    Plotly.newPlot(                        \"97dc8f19-970f-46cb-8e41-2d3c00e3a503\",                        [{\"mode\":\"lines+markers\",\"name\":\"user_1\",\"x\":[],\"y\":[],\"type\":\"scatter\"},{\"mode\":\"lines+markers\",\"name\":\"user_10\",\"x\":[],\"y\":[],\"type\":\"scatter\"},{\"mode\":\"lines+markers\",\"name\":\"user_11\",\"x\":[],\"y\":[],\"type\":\"scatter\"},{\"mode\":\"lines+markers\",\"name\":\"user_12\",\"x\":[],\"y\":[],\"type\":\"scatter\"},{\"mode\":\"lines+markers\",\"name\":\"user_13\",\"x\":[],\"y\":[],\"type\":\"scatter\"},{\"mode\":\"lines+markers\",\"name\":\"user_14\",\"x\":[],\"y\":[],\"type\":\"scatter\"},{\"mode\":\"lines+markers\",\"name\":\"user_15\",\"x\":[],\"y\":[],\"type\":\"scatter\"},{\"mode\":\"lines+markers\",\"name\":\"user_16\",\"x\":[],\"y\":[],\"type\":\"scatter\"},{\"mode\":\"lines+markers\",\"name\":\"user_17\",\"x\":[],\"y\":[],\"type\":\"scatter\"},{\"mode\":\"lines+markers\",\"name\":\"user_18\",\"x\":[],\"y\":[],\"type\":\"scatter\"},{\"mode\":\"lines+markers\",\"name\":\"user_19\",\"x\":[],\"y\":[],\"type\":\"scatter\"},{\"mode\":\"lines+markers\",\"name\":\"user_2\",\"x\":[],\"y\":[],\"type\":\"scatter\"},{\"mode\":\"lines+markers\",\"name\":\"user_20\",\"x\":[],\"y\":[],\"type\":\"scatter\"},{\"mode\":\"lines+markers\",\"name\":\"user_21\",\"x\":[],\"y\":[],\"type\":\"scatter\"},{\"mode\":\"lines+markers\",\"name\":\"user_22\",\"x\":[],\"y\":[],\"type\":\"scatter\"},{\"mode\":\"lines+markers\",\"name\":\"user_24\",\"x\":[],\"y\":[],\"type\":\"scatter\"},{\"mode\":\"lines+markers\",\"name\":\"user_25\",\"x\":[],\"y\":[],\"type\":\"scatter\"},{\"mode\":\"lines+markers\",\"name\":\"user_26\",\"x\":[],\"y\":[],\"type\":\"scatter\"},{\"mode\":\"lines+markers\",\"name\":\"user_27\",\"x\":[],\"y\":[],\"type\":\"scatter\"},{\"mode\":\"lines+markers\",\"name\":\"user_28\",\"x\":[],\"y\":[],\"type\":\"scatter\"},{\"mode\":\"lines+markers\",\"name\":\"user_29\",\"x\":[],\"y\":[],\"type\":\"scatter\"},{\"mode\":\"lines+markers\",\"name\":\"user_3\",\"x\":[],\"y\":[],\"type\":\"scatter\"},{\"mode\":\"lines+markers\",\"name\":\"user_30\",\"x\":[],\"y\":[],\"type\":\"scatter\"},{\"mode\":\"lines+markers\",\"name\":\"user_31\",\"x\":[],\"y\":[],\"type\":\"scatter\"},{\"mode\":\"lines+markers\",\"name\":\"user_4\",\"x\":[],\"y\":[],\"type\":\"scatter\"},{\"mode\":\"lines+markers\",\"name\":\"user_6\",\"x\":[],\"y\":[],\"type\":\"scatter\"},{\"mode\":\"lines+markers\",\"name\":\"user_8\",\"x\":[],\"y\":[],\"type\":\"scatter\"}],                        {\"height\":600,\"title\":{\"text\":\"Dynamic of commits per user in project1\"},\"updatemenus\":[{\"buttons\":[{\"args\":[null],\"label\":\"play\",\"method\":\"animate\"}],\"type\":\"buttons\"}],\"width\":1200,\"xaxis\":{\"dtick\":2,\"range\":[0,20]},\"yaxis\":{\"range\":[0,171.0]},\"template\":{\"data\":{\"histogram2dcontour\":[{\"type\":\"histogram2dcontour\",\"colorbar\":{\"outlinewidth\":0,\"ticks\":\"\"},\"colorscale\":[[0.0,\"#0d0887\"],[0.1111111111111111,\"#46039f\"],[0.2222222222222222,\"#7201a8\"],[0.3333333333333333,\"#9c179e\"],[0.4444444444444444,\"#bd3786\"],[0.5555555555555556,\"#d8576b\"],[0.6666666666666666,\"#ed7953\"],[0.7777777777777778,\"#fb9f3a\"],[0.8888888888888888,\"#fdca26\"],[1.0,\"#f0f921\"]]}],\"choropleth\":[{\"type\":\"choropleth\",\"colorbar\":{\"outlinewidth\":0,\"ticks\":\"\"}}],\"histogram2d\":[{\"type\":\"histogram2d\",\"colorbar\":{\"outlinewidth\":0,\"ticks\":\"\"},\"colorscale\":[[0.0,\"#0d0887\"],[0.1111111111111111,\"#46039f\"],[0.2222222222222222,\"#7201a8\"],[0.3333333333333333,\"#9c179e\"],[0.4444444444444444,\"#bd3786\"],[0.5555555555555556,\"#d8576b\"],[0.6666666666666666,\"#ed7953\"],[0.7777777777777778,\"#fb9f3a\"],[0.8888888888888888,\"#fdca26\"],[1.0,\"#f0f921\"]]}],\"heatmap\":[{\"type\":\"heatmap\",\"colorbar\":{\"outlinewidth\":0,\"ticks\":\"\"},\"colorscale\":[[0.0,\"#0d0887\"],[0.1111111111111111,\"#46039f\"],[0.2222222222222222,\"#7201a8\"],[0.3333333333333333,\"#9c179e\"],[0.4444444444444444,\"#bd3786\"],[0.5555555555555556,\"#d8576b\"],[0.6666666666666666,\"#ed7953\"],[0.7777777777777778,\"#fb9f3a\"],[0.8888888888888888,\"#fdca26\"],[1.0,\"#f0f921\"]]}],\"heatmapgl\":[{\"type\":\"heatmapgl\",\"colorbar\":{\"outlinewidth\":0,\"ticks\":\"\"},\"colorscale\":[[0.0,\"#0d0887\"],[0.1111111111111111,\"#46039f\"],[0.2222222222222222,\"#7201a8\"],[0.3333333333333333,\"#9c179e\"],[0.4444444444444444,\"#bd3786\"],[0.5555555555555556,\"#d8576b\"],[0.6666666666666666,\"#ed7953\"],[0.7777777777777778,\"#fb9f3a\"],[0.8888888888888888,\"#fdca26\"],[1.0,\"#f0f921\"]]}],\"contourcarpet\":[{\"type\":\"contourcarpet\",\"colorbar\":{\"outlinewidth\":0,\"ticks\":\"\"}}],\"contour\":[{\"type\":\"contour\",\"colorbar\":{\"outlinewidth\":0,\"ticks\":\"\"},\"colorscale\":[[0.0,\"#0d0887\"],[0.1111111111111111,\"#46039f\"],[0.2222222222222222,\"#7201a8\"],[0.3333333333333333,\"#9c179e\"],[0.4444444444444444,\"#bd3786\"],[0.5555555555555556,\"#d8576b\"],[0.6666666666666666,\"#ed7953\"],[0.7777777777777778,\"#fb9f3a\"],[0.8888888888888888,\"#fdca26\"],[1.0,\"#f0f921\"]]}],\"surface\":[{\"type\":\"surface\",\"colorbar\":{\"outlinewidth\":0,\"ticks\":\"\"},\"colorscale\":[[0.0,\"#0d0887\"],[0.1111111111111111,\"#46039f\"],[0.2222222222222222,\"#7201a8\"],[0.3333333333333333,\"#9c179e\"],[0.4444444444444444,\"#bd3786\"],[0.5555555555555556,\"#d8576b\"],[0.6666666666666666,\"#ed7953\"],[0.7777777777777778,\"#fb9f3a\"],[0.8888888888888888,\"#fdca26\"],[1.0,\"#f0f921\"]]}],\"mesh3d\":[{\"type\":\"mesh3d\",\"colorbar\":{\"outlinewidth\":0,\"ticks\":\"\"}}],\"scatter\":[{\"fillpattern\":{\"fillmode\":\"overlay\",\"size\":10,\"solidity\":0.2},\"type\":\"scatter\"}],\"parcoords\":[{\"type\":\"parcoords\",\"line\":{\"colorbar\":{\"outlinewidth\":0,\"ticks\":\"\"}}}],\"scatterpolargl\":[{\"type\":\"scatterpolargl\",\"marker\":{\"colorbar\":{\"outlinewidth\":0,\"ticks\":\"\"}}}],\"bar\":[{\"error_x\":{\"color\":\"#2a3f5f\"},\"error_y\":{\"color\":\"#2a3f5f\"},\"marker\":{\"line\":{\"color\":\"#E5ECF6\",\"width\":0.5},\"pattern\":{\"fillmode\":\"overlay\",\"size\":10,\"solidity\":0.2}},\"type\":\"bar\"}],\"scattergeo\":[{\"type\":\"scattergeo\",\"marker\":{\"colorbar\":{\"outlinewidth\":0,\"ticks\":\"\"}}}],\"scatterpolar\":[{\"type\":\"scatterpolar\",\"marker\":{\"colorbar\":{\"outlinewidth\":0,\"ticks\":\"\"}}}],\"histogram\":[{\"marker\":{\"pattern\":{\"fillmode\":\"overlay\",\"size\":10,\"solidity\":0.2}},\"type\":\"histogram\"}],\"scattergl\":[{\"type\":\"scattergl\",\"marker\":{\"colorbar\":{\"outlinewidth\":0,\"ticks\":\"\"}}}],\"scatter3d\":[{\"type\":\"scatter3d\",\"line\":{\"colorbar\":{\"outlinewidth\":0,\"ticks\":\"\"}},\"marker\":{\"colorbar\":{\"outlinewidth\":0,\"ticks\":\"\"}}}],\"scattermapbox\":[{\"type\":\"scattermapbox\",\"marker\":{\"colorbar\":{\"outlinewidth\":0,\"ticks\":\"\"}}}],\"scatterternary\":[{\"type\":\"scatterternary\",\"marker\":{\"colorbar\":{\"outlinewidth\":0,\"ticks\":\"\"}}}],\"scattercarpet\":[{\"type\":\"scattercarpet\",\"marker\":{\"colorbar\":{\"outlinewidth\":0,\"ticks\":\"\"}}}],\"carpet\":[{\"aaxis\":{\"endlinecolor\":\"#2a3f5f\",\"gridcolor\":\"white\",\"linecolor\":\"white\",\"minorgridcolor\":\"white\",\"startlinecolor\":\"#2a3f5f\"},\"baxis\":{\"endlinecolor\":\"#2a3f5f\",\"gridcolor\":\"white\",\"linecolor\":\"white\",\"minorgridcolor\":\"white\",\"startlinecolor\":\"#2a3f5f\"},\"type\":\"carpet\"}],\"table\":[{\"cells\":{\"fill\":{\"color\":\"#EBF0F8\"},\"line\":{\"color\":\"white\"}},\"header\":{\"fill\":{\"color\":\"#C8D4E3\"},\"line\":{\"color\":\"white\"}},\"type\":\"table\"}],\"barpolar\":[{\"marker\":{\"line\":{\"color\":\"#E5ECF6\",\"width\":0.5},\"pattern\":{\"fillmode\":\"overlay\",\"size\":10,\"solidity\":0.2}},\"type\":\"barpolar\"}],\"pie\":[{\"automargin\":true,\"type\":\"pie\"}]},\"layout\":{\"autotypenumbers\":\"strict\",\"colorway\":[\"#636efa\",\"#EF553B\",\"#00cc96\",\"#ab63fa\",\"#FFA15A\",\"#19d3f3\",\"#FF6692\",\"#B6E880\",\"#FF97FF\",\"#FECB52\"],\"font\":{\"color\":\"#2a3f5f\"},\"hovermode\":\"closest\",\"hoverlabel\":{\"align\":\"left\"},\"paper_bgcolor\":\"white\",\"plot_bgcolor\":\"#E5ECF6\",\"polar\":{\"bgcolor\":\"#E5ECF6\",\"angularaxis\":{\"gridcolor\":\"white\",\"linecolor\":\"white\",\"ticks\":\"\"},\"radialaxis\":{\"gridcolor\":\"white\",\"linecolor\":\"white\",\"ticks\":\"\"}},\"ternary\":{\"bgcolor\":\"#E5ECF6\",\"aaxis\":{\"gridcolor\":\"white\",\"linecolor\":\"white\",\"ticks\":\"\"},\"baxis\":{\"gridcolor\":\"white\",\"linecolor\":\"white\",\"ticks\":\"\"},\"caxis\":{\"gridcolor\":\"white\",\"linecolor\":\"white\",\"ticks\":\"\"}},\"coloraxis\":{\"colorbar\":{\"outlinewidth\":0,\"ticks\":\"\"}},\"colorscale\":{\"sequential\":[[0.0,\"#0d0887\"],[0.1111111111111111,\"#46039f\"],[0.2222222222222222,\"#7201a8\"],[0.3333333333333333,\"#9c179e\"],[0.4444444444444444,\"#bd3786\"],[0.5555555555555556,\"#d8576b\"],[0.6666666666666666,\"#ed7953\"],[0.7777777777777778,\"#fb9f3a\"],[0.8888888888888888,\"#fdca26\"],[1.0,\"#f0f921\"]],\"sequentialminus\":[[0.0,\"#0d0887\"],[0.1111111111111111,\"#46039f\"],[0.2222222222222222,\"#7201a8\"],[0.3333333333333333,\"#9c179e\"],[0.4444444444444444,\"#bd3786\"],[0.5555555555555556,\"#d8576b\"],[0.6666666666666666,\"#ed7953\"],[0.7777777777777778,\"#fb9f3a\"],[0.8888888888888888,\"#fdca26\"],[1.0,\"#f0f921\"]],\"diverging\":[[0,\"#8e0152\"],[0.1,\"#c51b7d\"],[0.2,\"#de77ae\"],[0.3,\"#f1b6da\"],[0.4,\"#fde0ef\"],[0.5,\"#f7f7f7\"],[0.6,\"#e6f5d0\"],[0.7,\"#b8e186\"],[0.8,\"#7fbc41\"],[0.9,\"#4d9221\"],[1,\"#276419\"]]},\"xaxis\":{\"gridcolor\":\"white\",\"linecolor\":\"white\",\"ticks\":\"\",\"title\":{\"standoff\":15},\"zerolinecolor\":\"white\",\"automargin\":true,\"zerolinewidth\":2},\"yaxis\":{\"gridcolor\":\"white\",\"linecolor\":\"white\",\"ticks\":\"\",\"title\":{\"standoff\":15},\"zerolinecolor\":\"white\",\"automargin\":true,\"zerolinewidth\":2},\"scene\":{\"xaxis\":{\"backgroundcolor\":\"#E5ECF6\",\"gridcolor\":\"white\",\"linecolor\":\"white\",\"showbackground\":true,\"ticks\":\"\",\"zerolinecolor\":\"white\",\"gridwidth\":2},\"yaxis\":{\"backgroundcolor\":\"#E5ECF6\",\"gridcolor\":\"white\",\"linecolor\":\"white\",\"showbackground\":true,\"ticks\":\"\",\"zerolinecolor\":\"white\",\"gridwidth\":2},\"zaxis\":{\"backgroundcolor\":\"#E5ECF6\",\"gridcolor\":\"white\",\"linecolor\":\"white\",\"showbackground\":true,\"ticks\":\"\",\"zerolinecolor\":\"white\",\"gridwidth\":2}},\"shapedefaults\":{\"line\":{\"color\":\"#2a3f5f\"}},\"annotationdefaults\":{\"arrowcolor\":\"#2a3f5f\",\"arrowhead\":0,\"arrowwidth\":1},\"geo\":{\"bgcolor\":\"white\",\"landcolor\":\"#E5ECF6\",\"subunitcolor\":\"white\",\"showland\":true,\"showlakes\":true,\"lakecolor\":\"white\"},\"title\":{\"x\":0.05},\"mapbox\":{\"style\":\"light\"}}}},                        {\"responsive\": true}                    ).then(function(){\n",
       "                            Plotly.addFrames('97dc8f19-970f-46cb-8e41-2d3c00e3a503', [{\"data\":[{\"mode\":\"lines+markers\",\"name\":\"user_1\",\"x\":[0],\"y\":[0.0],\"type\":\"scatter\"},{\"mode\":\"lines+markers\",\"name\":\"user_10\",\"x\":[0],\"y\":[0.0],\"type\":\"scatter\"},{\"mode\":\"lines+markers\",\"name\":\"user_11\",\"x\":[0],\"y\":[0.0],\"type\":\"scatter\"},{\"mode\":\"lines+markers\",\"name\":\"user_12\",\"x\":[0],\"y\":[0.0],\"type\":\"scatter\"},{\"mode\":\"lines+markers\",\"name\":\"user_13\",\"x\":[0],\"y\":[0.0],\"type\":\"scatter\"},{\"mode\":\"lines+markers\",\"name\":\"user_14\",\"x\":[0],\"y\":[0.0],\"type\":\"scatter\"},{\"mode\":\"lines+markers\",\"name\":\"user_15\",\"x\":[0],\"y\":[0.0],\"type\":\"scatter\"},{\"mode\":\"lines+markers\",\"name\":\"user_16\",\"x\":[0],\"y\":[0.0],\"type\":\"scatter\"},{\"mode\":\"lines+markers\",\"name\":\"user_17\",\"x\":[0],\"y\":[0.0],\"type\":\"scatter\"},{\"mode\":\"lines+markers\",\"name\":\"user_18\",\"x\":[0],\"y\":[0.0],\"type\":\"scatter\"},{\"mode\":\"lines+markers\",\"name\":\"user_19\",\"x\":[0],\"y\":[0.0],\"type\":\"scatter\"},{\"mode\":\"lines+markers\",\"name\":\"user_2\",\"x\":[0],\"y\":[0.0],\"type\":\"scatter\"},{\"mode\":\"lines+markers\",\"name\":\"user_20\",\"x\":[0],\"y\":[0.0],\"type\":\"scatter\"},{\"mode\":\"lines+markers\",\"name\":\"user_21\",\"x\":[0],\"y\":[0.0],\"type\":\"scatter\"},{\"mode\":\"lines+markers\",\"name\":\"user_22\",\"x\":[0],\"y\":[0.0],\"type\":\"scatter\"},{\"mode\":\"lines+markers\",\"name\":\"user_24\",\"x\":[0],\"y\":[0.0],\"type\":\"scatter\"},{\"mode\":\"lines+markers\",\"name\":\"user_25\",\"x\":[0],\"y\":[0.0],\"type\":\"scatter\"},{\"mode\":\"lines+markers\",\"name\":\"user_26\",\"x\":[0],\"y\":[0.0],\"type\":\"scatter\"},{\"mode\":\"lines+markers\",\"name\":\"user_27\",\"x\":[0],\"y\":[0.0],\"type\":\"scatter\"},{\"mode\":\"lines+markers\",\"name\":\"user_28\",\"x\":[0],\"y\":[0.0],\"type\":\"scatter\"},{\"mode\":\"lines+markers\",\"name\":\"user_29\",\"x\":[0],\"y\":[0.0],\"type\":\"scatter\"},{\"mode\":\"lines+markers\",\"name\":\"user_3\",\"x\":[0],\"y\":[0.0],\"type\":\"scatter\"},{\"mode\":\"lines+markers\",\"name\":\"user_30\",\"x\":[0],\"y\":[0.0],\"type\":\"scatter\"},{\"mode\":\"lines+markers\",\"name\":\"user_31\",\"x\":[0],\"y\":[0.0],\"type\":\"scatter\"},{\"mode\":\"lines+markers\",\"name\":\"user_4\",\"x\":[0],\"y\":[7.0],\"type\":\"scatter\"},{\"mode\":\"lines+markers\",\"name\":\"user_6\",\"x\":[0],\"y\":[0.0],\"type\":\"scatter\"},{\"mode\":\"lines+markers\",\"name\":\"user_8\",\"x\":[0],\"y\":[0.0],\"type\":\"scatter\"}]},{\"data\":[{\"mode\":\"lines+markers\",\"name\":\"user_1\",\"x\":[0,1],\"y\":[0.0,0.0],\"type\":\"scatter\"},{\"mode\":\"lines+markers\",\"name\":\"user_10\",\"x\":[0,1],\"y\":[0.0,0.0],\"type\":\"scatter\"},{\"mode\":\"lines+markers\",\"name\":\"user_11\",\"x\":[0,1],\"y\":[0.0,0.0],\"type\":\"scatter\"},{\"mode\":\"lines+markers\",\"name\":\"user_12\",\"x\":[0,1],\"y\":[0.0,0.0],\"type\":\"scatter\"},{\"mode\":\"lines+markers\",\"name\":\"user_13\",\"x\":[0,1],\"y\":[0.0,0.0],\"type\":\"scatter\"},{\"mode\":\"lines+markers\",\"name\":\"user_14\",\"x\":[0,1],\"y\":[0.0,0.0],\"type\":\"scatter\"},{\"mode\":\"lines+markers\",\"name\":\"user_15\",\"x\":[0,1],\"y\":[0.0,0.0],\"type\":\"scatter\"},{\"mode\":\"lines+markers\",\"name\":\"user_16\",\"x\":[0,1],\"y\":[0.0,0.0],\"type\":\"scatter\"},{\"mode\":\"lines+markers\",\"name\":\"user_17\",\"x\":[0,1],\"y\":[0.0,1.0],\"type\":\"scatter\"},{\"mode\":\"lines+markers\",\"name\":\"user_18\",\"x\":[0,1],\"y\":[0.0,0.0],\"type\":\"scatter\"},{\"mode\":\"lines+markers\",\"name\":\"user_19\",\"x\":[0,1],\"y\":[0.0,0.0],\"type\":\"scatter\"},{\"mode\":\"lines+markers\",\"name\":\"user_2\",\"x\":[0,1],\"y\":[0.0,0.0],\"type\":\"scatter\"},{\"mode\":\"lines+markers\",\"name\":\"user_20\",\"x\":[0,1],\"y\":[0.0,0.0],\"type\":\"scatter\"},{\"mode\":\"lines+markers\",\"name\":\"user_21\",\"x\":[0,1],\"y\":[0.0,0.0],\"type\":\"scatter\"},{\"mode\":\"lines+markers\",\"name\":\"user_22\",\"x\":[0,1],\"y\":[0.0,0.0],\"type\":\"scatter\"},{\"mode\":\"lines+markers\",\"name\":\"user_24\",\"x\":[0,1],\"y\":[0.0,0.0],\"type\":\"scatter\"},{\"mode\":\"lines+markers\",\"name\":\"user_25\",\"x\":[0,1],\"y\":[0.0,0.0],\"type\":\"scatter\"},{\"mode\":\"lines+markers\",\"name\":\"user_26\",\"x\":[0,1],\"y\":[0.0,0.0],\"type\":\"scatter\"},{\"mode\":\"lines+markers\",\"name\":\"user_27\",\"x\":[0,1],\"y\":[0.0,0.0],\"type\":\"scatter\"},{\"mode\":\"lines+markers\",\"name\":\"user_28\",\"x\":[0,1],\"y\":[0.0,0.0],\"type\":\"scatter\"},{\"mode\":\"lines+markers\",\"name\":\"user_29\",\"x\":[0,1],\"y\":[0.0,0.0],\"type\":\"scatter\"},{\"mode\":\"lines+markers\",\"name\":\"user_3\",\"x\":[0,1],\"y\":[0.0,0.0],\"type\":\"scatter\"},{\"mode\":\"lines+markers\",\"name\":\"user_30\",\"x\":[0,1],\"y\":[0.0,0.0],\"type\":\"scatter\"},{\"mode\":\"lines+markers\",\"name\":\"user_31\",\"x\":[0,1],\"y\":[0.0,0.0],\"type\":\"scatter\"},{\"mode\":\"lines+markers\",\"name\":\"user_4\",\"x\":[0,1],\"y\":[7.0,7.0],\"type\":\"scatter\"},{\"mode\":\"lines+markers\",\"name\":\"user_6\",\"x\":[0,1],\"y\":[0.0,0.0],\"type\":\"scatter\"},{\"mode\":\"lines+markers\",\"name\":\"user_8\",\"x\":[0,1],\"y\":[0.0,0.0],\"type\":\"scatter\"}]},{\"data\":[{\"mode\":\"lines+markers\",\"name\":\"user_1\",\"x\":[0,1,2],\"y\":[0.0,0.0,0.0],\"type\":\"scatter\"},{\"mode\":\"lines+markers\",\"name\":\"user_10\",\"x\":[0,1,2],\"y\":[0.0,0.0,0.0],\"type\":\"scatter\"},{\"mode\":\"lines+markers\",\"name\":\"user_11\",\"x\":[0,1,2],\"y\":[0.0,0.0,0.0],\"type\":\"scatter\"},{\"mode\":\"lines+markers\",\"name\":\"user_12\",\"x\":[0,1,2],\"y\":[0.0,0.0,0.0],\"type\":\"scatter\"},{\"mode\":\"lines+markers\",\"name\":\"user_13\",\"x\":[0,1,2],\"y\":[0.0,0.0,0.0],\"type\":\"scatter\"},{\"mode\":\"lines+markers\",\"name\":\"user_14\",\"x\":[0,1,2],\"y\":[0.0,0.0,0.0],\"type\":\"scatter\"},{\"mode\":\"lines+markers\",\"name\":\"user_15\",\"x\":[0,1,2],\"y\":[0.0,0.0,0.0],\"type\":\"scatter\"},{\"mode\":\"lines+markers\",\"name\":\"user_16\",\"x\":[0,1,2],\"y\":[0.0,0.0,0.0],\"type\":\"scatter\"},{\"mode\":\"lines+markers\",\"name\":\"user_17\",\"x\":[0,1,2],\"y\":[0.0,1.0,1.0],\"type\":\"scatter\"},{\"mode\":\"lines+markers\",\"name\":\"user_18\",\"x\":[0,1,2],\"y\":[0.0,0.0,0.0],\"type\":\"scatter\"},{\"mode\":\"lines+markers\",\"name\":\"user_19\",\"x\":[0,1,2],\"y\":[0.0,0.0,0.0],\"type\":\"scatter\"},{\"mode\":\"lines+markers\",\"name\":\"user_2\",\"x\":[0,1,2],\"y\":[0.0,0.0,0.0],\"type\":\"scatter\"},{\"mode\":\"lines+markers\",\"name\":\"user_20\",\"x\":[0,1,2],\"y\":[0.0,0.0,0.0],\"type\":\"scatter\"},{\"mode\":\"lines+markers\",\"name\":\"user_21\",\"x\":[0,1,2],\"y\":[0.0,0.0,0.0],\"type\":\"scatter\"},{\"mode\":\"lines+markers\",\"name\":\"user_22\",\"x\":[0,1,2],\"y\":[0.0,0.0,0.0],\"type\":\"scatter\"},{\"mode\":\"lines+markers\",\"name\":\"user_24\",\"x\":[0,1,2],\"y\":[0.0,0.0,0.0],\"type\":\"scatter\"},{\"mode\":\"lines+markers\",\"name\":\"user_25\",\"x\":[0,1,2],\"y\":[0.0,0.0,0.0],\"type\":\"scatter\"},{\"mode\":\"lines+markers\",\"name\":\"user_26\",\"x\":[0,1,2],\"y\":[0.0,0.0,0.0],\"type\":\"scatter\"},{\"mode\":\"lines+markers\",\"name\":\"user_27\",\"x\":[0,1,2],\"y\":[0.0,0.0,0.0],\"type\":\"scatter\"},{\"mode\":\"lines+markers\",\"name\":\"user_28\",\"x\":[0,1,2],\"y\":[0.0,0.0,0.0],\"type\":\"scatter\"},{\"mode\":\"lines+markers\",\"name\":\"user_29\",\"x\":[0,1,2],\"y\":[0.0,0.0,0.0],\"type\":\"scatter\"},{\"mode\":\"lines+markers\",\"name\":\"user_3\",\"x\":[0,1,2],\"y\":[0.0,0.0,0.0],\"type\":\"scatter\"},{\"mode\":\"lines+markers\",\"name\":\"user_30\",\"x\":[0,1,2],\"y\":[0.0,0.0,0.0],\"type\":\"scatter\"},{\"mode\":\"lines+markers\",\"name\":\"user_31\",\"x\":[0,1,2],\"y\":[0.0,0.0,0.0],\"type\":\"scatter\"},{\"mode\":\"lines+markers\",\"name\":\"user_4\",\"x\":[0,1,2],\"y\":[7.0,7.0,11.0],\"type\":\"scatter\"},{\"mode\":\"lines+markers\",\"name\":\"user_6\",\"x\":[0,1,2],\"y\":[0.0,0.0,0.0],\"type\":\"scatter\"},{\"mode\":\"lines+markers\",\"name\":\"user_8\",\"x\":[0,1,2],\"y\":[0.0,0.0,0.0],\"type\":\"scatter\"}]},{\"data\":[{\"mode\":\"lines+markers\",\"name\":\"user_1\",\"x\":[0,1,2,3],\"y\":[0.0,0.0,0.0,0.0],\"type\":\"scatter\"},{\"mode\":\"lines+markers\",\"name\":\"user_10\",\"x\":[0,1,2,3],\"y\":[0.0,0.0,0.0,0.0],\"type\":\"scatter\"},{\"mode\":\"lines+markers\",\"name\":\"user_11\",\"x\":[0,1,2,3],\"y\":[0.0,0.0,0.0,0.0],\"type\":\"scatter\"},{\"mode\":\"lines+markers\",\"name\":\"user_12\",\"x\":[0,1,2,3],\"y\":[0.0,0.0,0.0,0.0],\"type\":\"scatter\"},{\"mode\":\"lines+markers\",\"name\":\"user_13\",\"x\":[0,1,2,3],\"y\":[0.0,0.0,0.0,0.0],\"type\":\"scatter\"},{\"mode\":\"lines+markers\",\"name\":\"user_14\",\"x\":[0,1,2,3],\"y\":[0.0,0.0,0.0,0.0],\"type\":\"scatter\"},{\"mode\":\"lines+markers\",\"name\":\"user_15\",\"x\":[0,1,2,3],\"y\":[0.0,0.0,0.0,0.0],\"type\":\"scatter\"},{\"mode\":\"lines+markers\",\"name\":\"user_16\",\"x\":[0,1,2,3],\"y\":[0.0,0.0,0.0,0.0],\"type\":\"scatter\"},{\"mode\":\"lines+markers\",\"name\":\"user_17\",\"x\":[0,1,2,3],\"y\":[0.0,1.0,1.0,1.0],\"type\":\"scatter\"},{\"mode\":\"lines+markers\",\"name\":\"user_18\",\"x\":[0,1,2,3],\"y\":[0.0,0.0,0.0,0.0],\"type\":\"scatter\"},{\"mode\":\"lines+markers\",\"name\":\"user_19\",\"x\":[0,1,2,3],\"y\":[0.0,0.0,0.0,0.0],\"type\":\"scatter\"},{\"mode\":\"lines+markers\",\"name\":\"user_2\",\"x\":[0,1,2,3],\"y\":[0.0,0.0,0.0,0.0],\"type\":\"scatter\"},{\"mode\":\"lines+markers\",\"name\":\"user_20\",\"x\":[0,1,2,3],\"y\":[0.0,0.0,0.0,0.0],\"type\":\"scatter\"},{\"mode\":\"lines+markers\",\"name\":\"user_21\",\"x\":[0,1,2,3],\"y\":[0.0,0.0,0.0,0.0],\"type\":\"scatter\"},{\"mode\":\"lines+markers\",\"name\":\"user_22\",\"x\":[0,1,2,3],\"y\":[0.0,0.0,0.0,0.0],\"type\":\"scatter\"},{\"mode\":\"lines+markers\",\"name\":\"user_24\",\"x\":[0,1,2,3],\"y\":[0.0,0.0,0.0,0.0],\"type\":\"scatter\"},{\"mode\":\"lines+markers\",\"name\":\"user_25\",\"x\":[0,1,2,3],\"y\":[0.0,0.0,0.0,0.0],\"type\":\"scatter\"},{\"mode\":\"lines+markers\",\"name\":\"user_26\",\"x\":[0,1,2,3],\"y\":[0.0,0.0,0.0,0.0],\"type\":\"scatter\"},{\"mode\":\"lines+markers\",\"name\":\"user_27\",\"x\":[0,1,2,3],\"y\":[0.0,0.0,0.0,0.0],\"type\":\"scatter\"},{\"mode\":\"lines+markers\",\"name\":\"user_28\",\"x\":[0,1,2,3],\"y\":[0.0,0.0,0.0,0.0],\"type\":\"scatter\"},{\"mode\":\"lines+markers\",\"name\":\"user_29\",\"x\":[0,1,2,3],\"y\":[0.0,0.0,0.0,0.0],\"type\":\"scatter\"},{\"mode\":\"lines+markers\",\"name\":\"user_3\",\"x\":[0,1,2,3],\"y\":[0.0,0.0,0.0,0.0],\"type\":\"scatter\"},{\"mode\":\"lines+markers\",\"name\":\"user_30\",\"x\":[0,1,2,3],\"y\":[0.0,0.0,0.0,1.0],\"type\":\"scatter\"},{\"mode\":\"lines+markers\",\"name\":\"user_31\",\"x\":[0,1,2,3],\"y\":[0.0,0.0,0.0,0.0],\"type\":\"scatter\"},{\"mode\":\"lines+markers\",\"name\":\"user_4\",\"x\":[0,1,2,3],\"y\":[7.0,7.0,11.0,11.0],\"type\":\"scatter\"},{\"mode\":\"lines+markers\",\"name\":\"user_6\",\"x\":[0,1,2,3],\"y\":[0.0,0.0,0.0,0.0],\"type\":\"scatter\"},{\"mode\":\"lines+markers\",\"name\":\"user_8\",\"x\":[0,1,2,3],\"y\":[0.0,0.0,0.0,0.0],\"type\":\"scatter\"}]},{\"data\":[{\"mode\":\"lines+markers\",\"name\":\"user_1\",\"x\":[0,1,2,3,4],\"y\":[0.0,0.0,0.0,0.0,0.0],\"type\":\"scatter\"},{\"mode\":\"lines+markers\",\"name\":\"user_10\",\"x\":[0,1,2,3,4],\"y\":[0.0,0.0,0.0,0.0,0.0],\"type\":\"scatter\"},{\"mode\":\"lines+markers\",\"name\":\"user_11\",\"x\":[0,1,2,3,4],\"y\":[0.0,0.0,0.0,0.0,0.0],\"type\":\"scatter\"},{\"mode\":\"lines+markers\",\"name\":\"user_12\",\"x\":[0,1,2,3,4],\"y\":[0.0,0.0,0.0,0.0,0.0],\"type\":\"scatter\"},{\"mode\":\"lines+markers\",\"name\":\"user_13\",\"x\":[0,1,2,3,4],\"y\":[0.0,0.0,0.0,0.0,0.0],\"type\":\"scatter\"},{\"mode\":\"lines+markers\",\"name\":\"user_14\",\"x\":[0,1,2,3,4],\"y\":[0.0,0.0,0.0,0.0,0.0],\"type\":\"scatter\"},{\"mode\":\"lines+markers\",\"name\":\"user_15\",\"x\":[0,1,2,3,4],\"y\":[0.0,0.0,0.0,0.0,0.0],\"type\":\"scatter\"},{\"mode\":\"lines+markers\",\"name\":\"user_16\",\"x\":[0,1,2,3,4],\"y\":[0.0,0.0,0.0,0.0,0.0],\"type\":\"scatter\"},{\"mode\":\"lines+markers\",\"name\":\"user_17\",\"x\":[0,1,2,3,4],\"y\":[0.0,1.0,1.0,1.0,1.0],\"type\":\"scatter\"},{\"mode\":\"lines+markers\",\"name\":\"user_18\",\"x\":[0,1,2,3,4],\"y\":[0.0,0.0,0.0,0.0,0.0],\"type\":\"scatter\"},{\"mode\":\"lines+markers\",\"name\":\"user_19\",\"x\":[0,1,2,3,4],\"y\":[0.0,0.0,0.0,0.0,0.0],\"type\":\"scatter\"},{\"mode\":\"lines+markers\",\"name\":\"user_2\",\"x\":[0,1,2,3,4],\"y\":[0.0,0.0,0.0,0.0,0.0],\"type\":\"scatter\"},{\"mode\":\"lines+markers\",\"name\":\"user_20\",\"x\":[0,1,2,3,4],\"y\":[0.0,0.0,0.0,0.0,0.0],\"type\":\"scatter\"},{\"mode\":\"lines+markers\",\"name\":\"user_21\",\"x\":[0,1,2,3,4],\"y\":[0.0,0.0,0.0,0.0,0.0],\"type\":\"scatter\"},{\"mode\":\"lines+markers\",\"name\":\"user_22\",\"x\":[0,1,2,3,4],\"y\":[0.0,0.0,0.0,0.0,0.0],\"type\":\"scatter\"},{\"mode\":\"lines+markers\",\"name\":\"user_24\",\"x\":[0,1,2,3,4],\"y\":[0.0,0.0,0.0,0.0,0.0],\"type\":\"scatter\"},{\"mode\":\"lines+markers\",\"name\":\"user_25\",\"x\":[0,1,2,3,4],\"y\":[0.0,0.0,0.0,0.0,0.0],\"type\":\"scatter\"},{\"mode\":\"lines+markers\",\"name\":\"user_26\",\"x\":[0,1,2,3,4],\"y\":[0.0,0.0,0.0,0.0,0.0],\"type\":\"scatter\"},{\"mode\":\"lines+markers\",\"name\":\"user_27\",\"x\":[0,1,2,3,4],\"y\":[0.0,0.0,0.0,0.0,0.0],\"type\":\"scatter\"},{\"mode\":\"lines+markers\",\"name\":\"user_28\",\"x\":[0,1,2,3,4],\"y\":[0.0,0.0,0.0,0.0,0.0],\"type\":\"scatter\"},{\"mode\":\"lines+markers\",\"name\":\"user_29\",\"x\":[0,1,2,3,4],\"y\":[0.0,0.0,0.0,0.0,0.0],\"type\":\"scatter\"},{\"mode\":\"lines+markers\",\"name\":\"user_3\",\"x\":[0,1,2,3,4],\"y\":[0.0,0.0,0.0,0.0,0.0],\"type\":\"scatter\"},{\"mode\":\"lines+markers\",\"name\":\"user_30\",\"x\":[0,1,2,3,4],\"y\":[0.0,0.0,0.0,1.0,2.0],\"type\":\"scatter\"},{\"mode\":\"lines+markers\",\"name\":\"user_31\",\"x\":[0,1,2,3,4],\"y\":[0.0,0.0,0.0,0.0,0.0],\"type\":\"scatter\"},{\"mode\":\"lines+markers\",\"name\":\"user_4\",\"x\":[0,1,2,3,4],\"y\":[7.0,7.0,11.0,11.0,20.0],\"type\":\"scatter\"},{\"mode\":\"lines+markers\",\"name\":\"user_6\",\"x\":[0,1,2,3,4],\"y\":[0.0,0.0,0.0,0.0,0.0],\"type\":\"scatter\"},{\"mode\":\"lines+markers\",\"name\":\"user_8\",\"x\":[0,1,2,3,4],\"y\":[0.0,0.0,0.0,0.0,0.0],\"type\":\"scatter\"}]},{\"data\":[{\"mode\":\"lines+markers\",\"name\":\"user_1\",\"x\":[0,1,2,3,4,5],\"y\":[0.0,0.0,0.0,0.0,0.0,0.0],\"type\":\"scatter\"},{\"mode\":\"lines+markers\",\"name\":\"user_10\",\"x\":[0,1,2,3,4,5],\"y\":[0.0,0.0,0.0,0.0,0.0,0.0],\"type\":\"scatter\"},{\"mode\":\"lines+markers\",\"name\":\"user_11\",\"x\":[0,1,2,3,4,5],\"y\":[0.0,0.0,0.0,0.0,0.0,0.0],\"type\":\"scatter\"},{\"mode\":\"lines+markers\",\"name\":\"user_12\",\"x\":[0,1,2,3,4,5],\"y\":[0.0,0.0,0.0,0.0,0.0,0.0],\"type\":\"scatter\"},{\"mode\":\"lines+markers\",\"name\":\"user_13\",\"x\":[0,1,2,3,4,5],\"y\":[0.0,0.0,0.0,0.0,0.0,0.0],\"type\":\"scatter\"},{\"mode\":\"lines+markers\",\"name\":\"user_14\",\"x\":[0,1,2,3,4,5],\"y\":[0.0,0.0,0.0,0.0,0.0,0.0],\"type\":\"scatter\"},{\"mode\":\"lines+markers\",\"name\":\"user_15\",\"x\":[0,1,2,3,4,5],\"y\":[0.0,0.0,0.0,0.0,0.0,0.0],\"type\":\"scatter\"},{\"mode\":\"lines+markers\",\"name\":\"user_16\",\"x\":[0,1,2,3,4,5],\"y\":[0.0,0.0,0.0,0.0,0.0,0.0],\"type\":\"scatter\"},{\"mode\":\"lines+markers\",\"name\":\"user_17\",\"x\":[0,1,2,3,4,5],\"y\":[0.0,1.0,1.0,1.0,1.0,1.0],\"type\":\"scatter\"},{\"mode\":\"lines+markers\",\"name\":\"user_18\",\"x\":[0,1,2,3,4,5],\"y\":[0.0,0.0,0.0,0.0,0.0,0.0],\"type\":\"scatter\"},{\"mode\":\"lines+markers\",\"name\":\"user_19\",\"x\":[0,1,2,3,4,5],\"y\":[0.0,0.0,0.0,0.0,0.0,0.0],\"type\":\"scatter\"},{\"mode\":\"lines+markers\",\"name\":\"user_2\",\"x\":[0,1,2,3,4,5],\"y\":[0.0,0.0,0.0,0.0,0.0,0.0],\"type\":\"scatter\"},{\"mode\":\"lines+markers\",\"name\":\"user_20\",\"x\":[0,1,2,3,4,5],\"y\":[0.0,0.0,0.0,0.0,0.0,0.0],\"type\":\"scatter\"},{\"mode\":\"lines+markers\",\"name\":\"user_21\",\"x\":[0,1,2,3,4,5],\"y\":[0.0,0.0,0.0,0.0,0.0,0.0],\"type\":\"scatter\"},{\"mode\":\"lines+markers\",\"name\":\"user_22\",\"x\":[0,1,2,3,4,5],\"y\":[0.0,0.0,0.0,0.0,0.0,0.0],\"type\":\"scatter\"},{\"mode\":\"lines+markers\",\"name\":\"user_24\",\"x\":[0,1,2,3,4,5],\"y\":[0.0,0.0,0.0,0.0,0.0,0.0],\"type\":\"scatter\"},{\"mode\":\"lines+markers\",\"name\":\"user_25\",\"x\":[0,1,2,3,4,5],\"y\":[0.0,0.0,0.0,0.0,0.0,0.0],\"type\":\"scatter\"},{\"mode\":\"lines+markers\",\"name\":\"user_26\",\"x\":[0,1,2,3,4,5],\"y\":[0.0,0.0,0.0,0.0,0.0,0.0],\"type\":\"scatter\"},{\"mode\":\"lines+markers\",\"name\":\"user_27\",\"x\":[0,1,2,3,4,5],\"y\":[0.0,0.0,0.0,0.0,0.0,0.0],\"type\":\"scatter\"},{\"mode\":\"lines+markers\",\"name\":\"user_28\",\"x\":[0,1,2,3,4,5],\"y\":[0.0,0.0,0.0,0.0,0.0,0.0],\"type\":\"scatter\"},{\"mode\":\"lines+markers\",\"name\":\"user_29\",\"x\":[0,1,2,3,4,5],\"y\":[0.0,0.0,0.0,0.0,0.0,0.0],\"type\":\"scatter\"},{\"mode\":\"lines+markers\",\"name\":\"user_3\",\"x\":[0,1,2,3,4,5],\"y\":[0.0,0.0,0.0,0.0,0.0,0.0],\"type\":\"scatter\"},{\"mode\":\"lines+markers\",\"name\":\"user_30\",\"x\":[0,1,2,3,4,5],\"y\":[0.0,0.0,0.0,1.0,2.0,2.0],\"type\":\"scatter\"},{\"mode\":\"lines+markers\",\"name\":\"user_31\",\"x\":[0,1,2,3,4,5],\"y\":[0.0,0.0,0.0,0.0,0.0,0.0],\"type\":\"scatter\"},{\"mode\":\"lines+markers\",\"name\":\"user_4\",\"x\":[0,1,2,3,4,5],\"y\":[7.0,7.0,11.0,11.0,20.0,27.0],\"type\":\"scatter\"},{\"mode\":\"lines+markers\",\"name\":\"user_6\",\"x\":[0,1,2,3,4,5],\"y\":[0.0,0.0,0.0,0.0,0.0,0.0],\"type\":\"scatter\"},{\"mode\":\"lines+markers\",\"name\":\"user_8\",\"x\":[0,1,2,3,4,5],\"y\":[0.0,0.0,0.0,0.0,0.0,0.0],\"type\":\"scatter\"}]},{\"data\":[{\"mode\":\"lines+markers\",\"name\":\"user_1\",\"x\":[0,1,2,3,4,5,6],\"y\":[0.0,0.0,0.0,0.0,0.0,0.0,0.0],\"type\":\"scatter\"},{\"mode\":\"lines+markers\",\"name\":\"user_10\",\"x\":[0,1,2,3,4,5,6],\"y\":[0.0,0.0,0.0,0.0,0.0,0.0,0.0],\"type\":\"scatter\"},{\"mode\":\"lines+markers\",\"name\":\"user_11\",\"x\":[0,1,2,3,4,5,6],\"y\":[0.0,0.0,0.0,0.0,0.0,0.0,1.0],\"type\":\"scatter\"},{\"mode\":\"lines+markers\",\"name\":\"user_12\",\"x\":[0,1,2,3,4,5,6],\"y\":[0.0,0.0,0.0,0.0,0.0,0.0,0.0],\"type\":\"scatter\"},{\"mode\":\"lines+markers\",\"name\":\"user_13\",\"x\":[0,1,2,3,4,5,6],\"y\":[0.0,0.0,0.0,0.0,0.0,0.0,0.0],\"type\":\"scatter\"},{\"mode\":\"lines+markers\",\"name\":\"user_14\",\"x\":[0,1,2,3,4,5,6],\"y\":[0.0,0.0,0.0,0.0,0.0,0.0,0.0],\"type\":\"scatter\"},{\"mode\":\"lines+markers\",\"name\":\"user_15\",\"x\":[0,1,2,3,4,5,6],\"y\":[0.0,0.0,0.0,0.0,0.0,0.0,0.0],\"type\":\"scatter\"},{\"mode\":\"lines+markers\",\"name\":\"user_16\",\"x\":[0,1,2,3,4,5,6],\"y\":[0.0,0.0,0.0,0.0,0.0,0.0,0.0],\"type\":\"scatter\"},{\"mode\":\"lines+markers\",\"name\":\"user_17\",\"x\":[0,1,2,3,4,5,6],\"y\":[0.0,1.0,1.0,1.0,1.0,1.0,1.0],\"type\":\"scatter\"},{\"mode\":\"lines+markers\",\"name\":\"user_18\",\"x\":[0,1,2,3,4,5,6],\"y\":[0.0,0.0,0.0,0.0,0.0,0.0,0.0],\"type\":\"scatter\"},{\"mode\":\"lines+markers\",\"name\":\"user_19\",\"x\":[0,1,2,3,4,5,6],\"y\":[0.0,0.0,0.0,0.0,0.0,0.0,0.0],\"type\":\"scatter\"},{\"mode\":\"lines+markers\",\"name\":\"user_2\",\"x\":[0,1,2,3,4,5,6],\"y\":[0.0,0.0,0.0,0.0,0.0,0.0,0.0],\"type\":\"scatter\"},{\"mode\":\"lines+markers\",\"name\":\"user_20\",\"x\":[0,1,2,3,4,5,6],\"y\":[0.0,0.0,0.0,0.0,0.0,0.0,0.0],\"type\":\"scatter\"},{\"mode\":\"lines+markers\",\"name\":\"user_21\",\"x\":[0,1,2,3,4,5,6],\"y\":[0.0,0.0,0.0,0.0,0.0,0.0,0.0],\"type\":\"scatter\"},{\"mode\":\"lines+markers\",\"name\":\"user_22\",\"x\":[0,1,2,3,4,5,6],\"y\":[0.0,0.0,0.0,0.0,0.0,0.0,1.0],\"type\":\"scatter\"},{\"mode\":\"lines+markers\",\"name\":\"user_24\",\"x\":[0,1,2,3,4,5,6],\"y\":[0.0,0.0,0.0,0.0,0.0,0.0,0.0],\"type\":\"scatter\"},{\"mode\":\"lines+markers\",\"name\":\"user_25\",\"x\":[0,1,2,3,4,5,6],\"y\":[0.0,0.0,0.0,0.0,0.0,0.0,0.0],\"type\":\"scatter\"},{\"mode\":\"lines+markers\",\"name\":\"user_26\",\"x\":[0,1,2,3,4,5,6],\"y\":[0.0,0.0,0.0,0.0,0.0,0.0,0.0],\"type\":\"scatter\"},{\"mode\":\"lines+markers\",\"name\":\"user_27\",\"x\":[0,1,2,3,4,5,6],\"y\":[0.0,0.0,0.0,0.0,0.0,0.0,0.0],\"type\":\"scatter\"},{\"mode\":\"lines+markers\",\"name\":\"user_28\",\"x\":[0,1,2,3,4,5,6],\"y\":[0.0,0.0,0.0,0.0,0.0,0.0,0.0],\"type\":\"scatter\"},{\"mode\":\"lines+markers\",\"name\":\"user_29\",\"x\":[0,1,2,3,4,5,6],\"y\":[0.0,0.0,0.0,0.0,0.0,0.0,0.0],\"type\":\"scatter\"},{\"mode\":\"lines+markers\",\"name\":\"user_3\",\"x\":[0,1,2,3,4,5,6],\"y\":[0.0,0.0,0.0,0.0,0.0,0.0,0.0],\"type\":\"scatter\"},{\"mode\":\"lines+markers\",\"name\":\"user_30\",\"x\":[0,1,2,3,4,5,6],\"y\":[0.0,0.0,0.0,1.0,2.0,2.0,4.0],\"type\":\"scatter\"},{\"mode\":\"lines+markers\",\"name\":\"user_31\",\"x\":[0,1,2,3,4,5,6],\"y\":[0.0,0.0,0.0,0.0,0.0,0.0,0.0],\"type\":\"scatter\"},{\"mode\":\"lines+markers\",\"name\":\"user_4\",\"x\":[0,1,2,3,4,5,6],\"y\":[7.0,7.0,11.0,11.0,20.0,27.0,35.0],\"type\":\"scatter\"},{\"mode\":\"lines+markers\",\"name\":\"user_6\",\"x\":[0,1,2,3,4,5,6],\"y\":[0.0,0.0,0.0,0.0,0.0,0.0,0.0],\"type\":\"scatter\"},{\"mode\":\"lines+markers\",\"name\":\"user_8\",\"x\":[0,1,2,3,4,5,6],\"y\":[0.0,0.0,0.0,0.0,0.0,0.0,0.0],\"type\":\"scatter\"}]},{\"data\":[{\"mode\":\"lines+markers\",\"name\":\"user_1\",\"x\":[0,1,2,3,4,5,6,7],\"y\":[0.0,0.0,0.0,0.0,0.0,0.0,0.0,0.0],\"type\":\"scatter\"},{\"mode\":\"lines+markers\",\"name\":\"user_10\",\"x\":[0,1,2,3,4,5,6,7],\"y\":[0.0,0.0,0.0,0.0,0.0,0.0,0.0,0.0],\"type\":\"scatter\"},{\"mode\":\"lines+markers\",\"name\":\"user_11\",\"x\":[0,1,2,3,4,5,6,7],\"y\":[0.0,0.0,0.0,0.0,0.0,0.0,1.0,1.0],\"type\":\"scatter\"},{\"mode\":\"lines+markers\",\"name\":\"user_12\",\"x\":[0,1,2,3,4,5,6,7],\"y\":[0.0,0.0,0.0,0.0,0.0,0.0,0.0,0.0],\"type\":\"scatter\"},{\"mode\":\"lines+markers\",\"name\":\"user_13\",\"x\":[0,1,2,3,4,5,6,7],\"y\":[0.0,0.0,0.0,0.0,0.0,0.0,0.0,0.0],\"type\":\"scatter\"},{\"mode\":\"lines+markers\",\"name\":\"user_14\",\"x\":[0,1,2,3,4,5,6,7],\"y\":[0.0,0.0,0.0,0.0,0.0,0.0,0.0,0.0],\"type\":\"scatter\"},{\"mode\":\"lines+markers\",\"name\":\"user_15\",\"x\":[0,1,2,3,4,5,6,7],\"y\":[0.0,0.0,0.0,0.0,0.0,0.0,0.0,0.0],\"type\":\"scatter\"},{\"mode\":\"lines+markers\",\"name\":\"user_16\",\"x\":[0,1,2,3,4,5,6,7],\"y\":[0.0,0.0,0.0,0.0,0.0,0.0,0.0,0.0],\"type\":\"scatter\"},{\"mode\":\"lines+markers\",\"name\":\"user_17\",\"x\":[0,1,2,3,4,5,6,7],\"y\":[0.0,1.0,1.0,1.0,1.0,1.0,1.0,1.0],\"type\":\"scatter\"},{\"mode\":\"lines+markers\",\"name\":\"user_18\",\"x\":[0,1,2,3,4,5,6,7],\"y\":[0.0,0.0,0.0,0.0,0.0,0.0,0.0,0.0],\"type\":\"scatter\"},{\"mode\":\"lines+markers\",\"name\":\"user_19\",\"x\":[0,1,2,3,4,5,6,7],\"y\":[0.0,0.0,0.0,0.0,0.0,0.0,0.0,0.0],\"type\":\"scatter\"},{\"mode\":\"lines+markers\",\"name\":\"user_2\",\"x\":[0,1,2,3,4,5,6,7],\"y\":[0.0,0.0,0.0,0.0,0.0,0.0,0.0,0.0],\"type\":\"scatter\"},{\"mode\":\"lines+markers\",\"name\":\"user_20\",\"x\":[0,1,2,3,4,5,6,7],\"y\":[0.0,0.0,0.0,0.0,0.0,0.0,0.0,0.0],\"type\":\"scatter\"},{\"mode\":\"lines+markers\",\"name\":\"user_21\",\"x\":[0,1,2,3,4,5,6,7],\"y\":[0.0,0.0,0.0,0.0,0.0,0.0,0.0,0.0],\"type\":\"scatter\"},{\"mode\":\"lines+markers\",\"name\":\"user_22\",\"x\":[0,1,2,3,4,5,6,7],\"y\":[0.0,0.0,0.0,0.0,0.0,0.0,1.0,1.0],\"type\":\"scatter\"},{\"mode\":\"lines+markers\",\"name\":\"user_24\",\"x\":[0,1,2,3,4,5,6,7],\"y\":[0.0,0.0,0.0,0.0,0.0,0.0,0.0,0.0],\"type\":\"scatter\"},{\"mode\":\"lines+markers\",\"name\":\"user_25\",\"x\":[0,1,2,3,4,5,6,7],\"y\":[0.0,0.0,0.0,0.0,0.0,0.0,0.0,0.0],\"type\":\"scatter\"},{\"mode\":\"lines+markers\",\"name\":\"user_26\",\"x\":[0,1,2,3,4,5,6,7],\"y\":[0.0,0.0,0.0,0.0,0.0,0.0,0.0,0.0],\"type\":\"scatter\"},{\"mode\":\"lines+markers\",\"name\":\"user_27\",\"x\":[0,1,2,3,4,5,6,7],\"y\":[0.0,0.0,0.0,0.0,0.0,0.0,0.0,0.0],\"type\":\"scatter\"},{\"mode\":\"lines+markers\",\"name\":\"user_28\",\"x\":[0,1,2,3,4,5,6,7],\"y\":[0.0,0.0,0.0,0.0,0.0,0.0,0.0,0.0],\"type\":\"scatter\"},{\"mode\":\"lines+markers\",\"name\":\"user_29\",\"x\":[0,1,2,3,4,5,6,7],\"y\":[0.0,0.0,0.0,0.0,0.0,0.0,0.0,0.0],\"type\":\"scatter\"},{\"mode\":\"lines+markers\",\"name\":\"user_3\",\"x\":[0,1,2,3,4,5,6,7],\"y\":[0.0,0.0,0.0,0.0,0.0,0.0,0.0,0.0],\"type\":\"scatter\"},{\"mode\":\"lines+markers\",\"name\":\"user_30\",\"x\":[0,1,2,3,4,5,6,7],\"y\":[0.0,0.0,0.0,1.0,2.0,2.0,4.0,5.0],\"type\":\"scatter\"},{\"mode\":\"lines+markers\",\"name\":\"user_31\",\"x\":[0,1,2,3,4,5,6,7],\"y\":[0.0,0.0,0.0,0.0,0.0,0.0,0.0,0.0],\"type\":\"scatter\"},{\"mode\":\"lines+markers\",\"name\":\"user_4\",\"x\":[0,1,2,3,4,5,6,7],\"y\":[7.0,7.0,11.0,11.0,20.0,27.0,35.0,48.0],\"type\":\"scatter\"},{\"mode\":\"lines+markers\",\"name\":\"user_6\",\"x\":[0,1,2,3,4,5,6,7],\"y\":[0.0,0.0,0.0,0.0,0.0,0.0,0.0,0.0],\"type\":\"scatter\"},{\"mode\":\"lines+markers\",\"name\":\"user_8\",\"x\":[0,1,2,3,4,5,6,7],\"y\":[0.0,0.0,0.0,0.0,0.0,0.0,0.0,0.0],\"type\":\"scatter\"}]},{\"data\":[{\"mode\":\"lines+markers\",\"name\":\"user_1\",\"x\":[0,1,2,3,4,5,6,7,8],\"y\":[0.0,0.0,0.0,0.0,0.0,0.0,0.0,0.0,0.0],\"type\":\"scatter\"},{\"mode\":\"lines+markers\",\"name\":\"user_10\",\"x\":[0,1,2,3,4,5,6,7,8],\"y\":[0.0,0.0,0.0,0.0,0.0,0.0,0.0,0.0,0.0],\"type\":\"scatter\"},{\"mode\":\"lines+markers\",\"name\":\"user_11\",\"x\":[0,1,2,3,4,5,6,7,8],\"y\":[0.0,0.0,0.0,0.0,0.0,0.0,1.0,1.0,1.0],\"type\":\"scatter\"},{\"mode\":\"lines+markers\",\"name\":\"user_12\",\"x\":[0,1,2,3,4,5,6,7,8],\"y\":[0.0,0.0,0.0,0.0,0.0,0.0,0.0,0.0,0.0],\"type\":\"scatter\"},{\"mode\":\"lines+markers\",\"name\":\"user_13\",\"x\":[0,1,2,3,4,5,6,7,8],\"y\":[0.0,0.0,0.0,0.0,0.0,0.0,0.0,0.0,0.0],\"type\":\"scatter\"},{\"mode\":\"lines+markers\",\"name\":\"user_14\",\"x\":[0,1,2,3,4,5,6,7,8],\"y\":[0.0,0.0,0.0,0.0,0.0,0.0,0.0,0.0,1.0],\"type\":\"scatter\"},{\"mode\":\"lines+markers\",\"name\":\"user_15\",\"x\":[0,1,2,3,4,5,6,7,8],\"y\":[0.0,0.0,0.0,0.0,0.0,0.0,0.0,0.0,0.0],\"type\":\"scatter\"},{\"mode\":\"lines+markers\",\"name\":\"user_16\",\"x\":[0,1,2,3,4,5,6,7,8],\"y\":[0.0,0.0,0.0,0.0,0.0,0.0,0.0,0.0,0.0],\"type\":\"scatter\"},{\"mode\":\"lines+markers\",\"name\":\"user_17\",\"x\":[0,1,2,3,4,5,6,7,8],\"y\":[0.0,1.0,1.0,1.0,1.0,1.0,1.0,1.0,1.0],\"type\":\"scatter\"},{\"mode\":\"lines+markers\",\"name\":\"user_18\",\"x\":[0,1,2,3,4,5,6,7,8],\"y\":[0.0,0.0,0.0,0.0,0.0,0.0,0.0,0.0,0.0],\"type\":\"scatter\"},{\"mode\":\"lines+markers\",\"name\":\"user_19\",\"x\":[0,1,2,3,4,5,6,7,8],\"y\":[0.0,0.0,0.0,0.0,0.0,0.0,0.0,0.0,0.0],\"type\":\"scatter\"},{\"mode\":\"lines+markers\",\"name\":\"user_2\",\"x\":[0,1,2,3,4,5,6,7,8],\"y\":[0.0,0.0,0.0,0.0,0.0,0.0,0.0,0.0,57.0],\"type\":\"scatter\"},{\"mode\":\"lines+markers\",\"name\":\"user_20\",\"x\":[0,1,2,3,4,5,6,7,8],\"y\":[0.0,0.0,0.0,0.0,0.0,0.0,0.0,0.0,0.0],\"type\":\"scatter\"},{\"mode\":\"lines+markers\",\"name\":\"user_21\",\"x\":[0,1,2,3,4,5,6,7,8],\"y\":[0.0,0.0,0.0,0.0,0.0,0.0,0.0,0.0,0.0],\"type\":\"scatter\"},{\"mode\":\"lines+markers\",\"name\":\"user_22\",\"x\":[0,1,2,3,4,5,6,7,8],\"y\":[0.0,0.0,0.0,0.0,0.0,0.0,1.0,1.0,1.0],\"type\":\"scatter\"},{\"mode\":\"lines+markers\",\"name\":\"user_24\",\"x\":[0,1,2,3,4,5,6,7,8],\"y\":[0.0,0.0,0.0,0.0,0.0,0.0,0.0,0.0,0.0],\"type\":\"scatter\"},{\"mode\":\"lines+markers\",\"name\":\"user_25\",\"x\":[0,1,2,3,4,5,6,7,8],\"y\":[0.0,0.0,0.0,0.0,0.0,0.0,0.0,0.0,0.0],\"type\":\"scatter\"},{\"mode\":\"lines+markers\",\"name\":\"user_26\",\"x\":[0,1,2,3,4,5,6,7,8],\"y\":[0.0,0.0,0.0,0.0,0.0,0.0,0.0,0.0,0.0],\"type\":\"scatter\"},{\"mode\":\"lines+markers\",\"name\":\"user_27\",\"x\":[0,1,2,3,4,5,6,7,8],\"y\":[0.0,0.0,0.0,0.0,0.0,0.0,0.0,0.0,0.0],\"type\":\"scatter\"},{\"mode\":\"lines+markers\",\"name\":\"user_28\",\"x\":[0,1,2,3,4,5,6,7,8],\"y\":[0.0,0.0,0.0,0.0,0.0,0.0,0.0,0.0,0.0],\"type\":\"scatter\"},{\"mode\":\"lines+markers\",\"name\":\"user_29\",\"x\":[0,1,2,3,4,5,6,7,8],\"y\":[0.0,0.0,0.0,0.0,0.0,0.0,0.0,0.0,0.0],\"type\":\"scatter\"},{\"mode\":\"lines+markers\",\"name\":\"user_3\",\"x\":[0,1,2,3,4,5,6,7,8],\"y\":[0.0,0.0,0.0,0.0,0.0,0.0,0.0,0.0,0.0],\"type\":\"scatter\"},{\"mode\":\"lines+markers\",\"name\":\"user_30\",\"x\":[0,1,2,3,4,5,6,7,8],\"y\":[0.0,0.0,0.0,1.0,2.0,2.0,4.0,5.0,5.0],\"type\":\"scatter\"},{\"mode\":\"lines+markers\",\"name\":\"user_31\",\"x\":[0,1,2,3,4,5,6,7,8],\"y\":[0.0,0.0,0.0,0.0,0.0,0.0,0.0,0.0,0.0],\"type\":\"scatter\"},{\"mode\":\"lines+markers\",\"name\":\"user_4\",\"x\":[0,1,2,3,4,5,6,7,8],\"y\":[7.0,7.0,11.0,11.0,20.0,27.0,35.0,48.0,53.0],\"type\":\"scatter\"},{\"mode\":\"lines+markers\",\"name\":\"user_6\",\"x\":[0,1,2,3,4,5,6,7,8],\"y\":[0.0,0.0,0.0,0.0,0.0,0.0,0.0,0.0,0.0],\"type\":\"scatter\"},{\"mode\":\"lines+markers\",\"name\":\"user_8\",\"x\":[0,1,2,3,4,5,6,7,8],\"y\":[0.0,0.0,0.0,0.0,0.0,0.0,0.0,0.0,0.0],\"type\":\"scatter\"}]},{\"data\":[{\"mode\":\"lines+markers\",\"name\":\"user_1\",\"x\":[0,1,2,3,4,5,6,7,8,9],\"y\":[0.0,0.0,0.0,0.0,0.0,0.0,0.0,0.0,0.0,0.0],\"type\":\"scatter\"},{\"mode\":\"lines+markers\",\"name\":\"user_10\",\"x\":[0,1,2,3,4,5,6,7,8,9],\"y\":[0.0,0.0,0.0,0.0,0.0,0.0,0.0,0.0,0.0,0.0],\"type\":\"scatter\"},{\"mode\":\"lines+markers\",\"name\":\"user_11\",\"x\":[0,1,2,3,4,5,6,7,8,9],\"y\":[0.0,0.0,0.0,0.0,0.0,0.0,1.0,1.0,1.0,1.0],\"type\":\"scatter\"},{\"mode\":\"lines+markers\",\"name\":\"user_12\",\"x\":[0,1,2,3,4,5,6,7,8,9],\"y\":[0.0,0.0,0.0,0.0,0.0,0.0,0.0,0.0,0.0,0.0],\"type\":\"scatter\"},{\"mode\":\"lines+markers\",\"name\":\"user_13\",\"x\":[0,1,2,3,4,5,6,7,8,9],\"y\":[0.0,0.0,0.0,0.0,0.0,0.0,0.0,0.0,0.0,0.0],\"type\":\"scatter\"},{\"mode\":\"lines+markers\",\"name\":\"user_14\",\"x\":[0,1,2,3,4,5,6,7,8,9],\"y\":[0.0,0.0,0.0,0.0,0.0,0.0,0.0,0.0,1.0,1.0],\"type\":\"scatter\"},{\"mode\":\"lines+markers\",\"name\":\"user_15\",\"x\":[0,1,2,3,4,5,6,7,8,9],\"y\":[0.0,0.0,0.0,0.0,0.0,0.0,0.0,0.0,0.0,0.0],\"type\":\"scatter\"},{\"mode\":\"lines+markers\",\"name\":\"user_16\",\"x\":[0,1,2,3,4,5,6,7,8,9],\"y\":[0.0,0.0,0.0,0.0,0.0,0.0,0.0,0.0,0.0,0.0],\"type\":\"scatter\"},{\"mode\":\"lines+markers\",\"name\":\"user_17\",\"x\":[0,1,2,3,4,5,6,7,8,9],\"y\":[0.0,1.0,1.0,1.0,1.0,1.0,1.0,1.0,1.0,1.0],\"type\":\"scatter\"},{\"mode\":\"lines+markers\",\"name\":\"user_18\",\"x\":[0,1,2,3,4,5,6,7,8,9],\"y\":[0.0,0.0,0.0,0.0,0.0,0.0,0.0,0.0,0.0,0.0],\"type\":\"scatter\"},{\"mode\":\"lines+markers\",\"name\":\"user_19\",\"x\":[0,1,2,3,4,5,6,7,8,9],\"y\":[0.0,0.0,0.0,0.0,0.0,0.0,0.0,0.0,0.0,0.0],\"type\":\"scatter\"},{\"mode\":\"lines+markers\",\"name\":\"user_2\",\"x\":[0,1,2,3,4,5,6,7,8,9],\"y\":[0.0,0.0,0.0,0.0,0.0,0.0,0.0,0.0,57.0,58.0],\"type\":\"scatter\"},{\"mode\":\"lines+markers\",\"name\":\"user_20\",\"x\":[0,1,2,3,4,5,6,7,8,9],\"y\":[0.0,0.0,0.0,0.0,0.0,0.0,0.0,0.0,0.0,0.0],\"type\":\"scatter\"},{\"mode\":\"lines+markers\",\"name\":\"user_21\",\"x\":[0,1,2,3,4,5,6,7,8,9],\"y\":[0.0,0.0,0.0,0.0,0.0,0.0,0.0,0.0,0.0,0.0],\"type\":\"scatter\"},{\"mode\":\"lines+markers\",\"name\":\"user_22\",\"x\":[0,1,2,3,4,5,6,7,8,9],\"y\":[0.0,0.0,0.0,0.0,0.0,0.0,1.0,1.0,1.0,1.0],\"type\":\"scatter\"},{\"mode\":\"lines+markers\",\"name\":\"user_24\",\"x\":[0,1,2,3,4,5,6,7,8,9],\"y\":[0.0,0.0,0.0,0.0,0.0,0.0,0.0,0.0,0.0,0.0],\"type\":\"scatter\"},{\"mode\":\"lines+markers\",\"name\":\"user_25\",\"x\":[0,1,2,3,4,5,6,7,8,9],\"y\":[0.0,0.0,0.0,0.0,0.0,0.0,0.0,0.0,0.0,0.0],\"type\":\"scatter\"},{\"mode\":\"lines+markers\",\"name\":\"user_26\",\"x\":[0,1,2,3,4,5,6,7,8,9],\"y\":[0.0,0.0,0.0,0.0,0.0,0.0,0.0,0.0,0.0,0.0],\"type\":\"scatter\"},{\"mode\":\"lines+markers\",\"name\":\"user_27\",\"x\":[0,1,2,3,4,5,6,7,8,9],\"y\":[0.0,0.0,0.0,0.0,0.0,0.0,0.0,0.0,0.0,0.0],\"type\":\"scatter\"},{\"mode\":\"lines+markers\",\"name\":\"user_28\",\"x\":[0,1,2,3,4,5,6,7,8,9],\"y\":[0.0,0.0,0.0,0.0,0.0,0.0,0.0,0.0,0.0,0.0],\"type\":\"scatter\"},{\"mode\":\"lines+markers\",\"name\":\"user_29\",\"x\":[0,1,2,3,4,5,6,7,8,9],\"y\":[0.0,0.0,0.0,0.0,0.0,0.0,0.0,0.0,0.0,0.0],\"type\":\"scatter\"},{\"mode\":\"lines+markers\",\"name\":\"user_3\",\"x\":[0,1,2,3,4,5,6,7,8,9],\"y\":[0.0,0.0,0.0,0.0,0.0,0.0,0.0,0.0,0.0,0.0],\"type\":\"scatter\"},{\"mode\":\"lines+markers\",\"name\":\"user_30\",\"x\":[0,1,2,3,4,5,6,7,8,9],\"y\":[0.0,0.0,0.0,1.0,2.0,2.0,4.0,5.0,5.0,5.0],\"type\":\"scatter\"},{\"mode\":\"lines+markers\",\"name\":\"user_31\",\"x\":[0,1,2,3,4,5,6,7,8,9],\"y\":[0.0,0.0,0.0,0.0,0.0,0.0,0.0,0.0,0.0,0.0],\"type\":\"scatter\"},{\"mode\":\"lines+markers\",\"name\":\"user_4\",\"x\":[0,1,2,3,4,5,6,7,8,9],\"y\":[7.0,7.0,11.0,11.0,20.0,27.0,35.0,48.0,53.0,53.0],\"type\":\"scatter\"},{\"mode\":\"lines+markers\",\"name\":\"user_6\",\"x\":[0,1,2,3,4,5,6,7,8,9],\"y\":[0.0,0.0,0.0,0.0,0.0,0.0,0.0,0.0,0.0,0.0],\"type\":\"scatter\"},{\"mode\":\"lines+markers\",\"name\":\"user_8\",\"x\":[0,1,2,3,4,5,6,7,8,9],\"y\":[0.0,0.0,0.0,0.0,0.0,0.0,0.0,0.0,0.0,0.0],\"type\":\"scatter\"}]},{\"data\":[{\"mode\":\"lines+markers\",\"name\":\"user_1\",\"x\":[0,1,2,3,4,5,6,7,8,9,10],\"y\":[0.0,0.0,0.0,0.0,0.0,0.0,0.0,0.0,0.0,0.0,0.0],\"type\":\"scatter\"},{\"mode\":\"lines+markers\",\"name\":\"user_10\",\"x\":[0,1,2,3,4,5,6,7,8,9,10],\"y\":[0.0,0.0,0.0,0.0,0.0,0.0,0.0,0.0,0.0,0.0,0.0],\"type\":\"scatter\"},{\"mode\":\"lines+markers\",\"name\":\"user_11\",\"x\":[0,1,2,3,4,5,6,7,8,9,10],\"y\":[0.0,0.0,0.0,0.0,0.0,0.0,1.0,1.0,1.0,1.0,1.0],\"type\":\"scatter\"},{\"mode\":\"lines+markers\",\"name\":\"user_12\",\"x\":[0,1,2,3,4,5,6,7,8,9,10],\"y\":[0.0,0.0,0.0,0.0,0.0,0.0,0.0,0.0,0.0,0.0,0.0],\"type\":\"scatter\"},{\"mode\":\"lines+markers\",\"name\":\"user_13\",\"x\":[0,1,2,3,4,5,6,7,8,9,10],\"y\":[0.0,0.0,0.0,0.0,0.0,0.0,0.0,0.0,0.0,0.0,0.0],\"type\":\"scatter\"},{\"mode\":\"lines+markers\",\"name\":\"user_14\",\"x\":[0,1,2,3,4,5,6,7,8,9,10],\"y\":[0.0,0.0,0.0,0.0,0.0,0.0,0.0,0.0,1.0,1.0,1.0],\"type\":\"scatter\"},{\"mode\":\"lines+markers\",\"name\":\"user_15\",\"x\":[0,1,2,3,4,5,6,7,8,9,10],\"y\":[0.0,0.0,0.0,0.0,0.0,0.0,0.0,0.0,0.0,0.0,0.0],\"type\":\"scatter\"},{\"mode\":\"lines+markers\",\"name\":\"user_16\",\"x\":[0,1,2,3,4,5,6,7,8,9,10],\"y\":[0.0,0.0,0.0,0.0,0.0,0.0,0.0,0.0,0.0,0.0,0.0],\"type\":\"scatter\"},{\"mode\":\"lines+markers\",\"name\":\"user_17\",\"x\":[0,1,2,3,4,5,6,7,8,9,10],\"y\":[0.0,1.0,1.0,1.0,1.0,1.0,1.0,1.0,1.0,1.0,1.0],\"type\":\"scatter\"},{\"mode\":\"lines+markers\",\"name\":\"user_18\",\"x\":[0,1,2,3,4,5,6,7,8,9,10],\"y\":[0.0,0.0,0.0,0.0,0.0,0.0,0.0,0.0,0.0,0.0,0.0],\"type\":\"scatter\"},{\"mode\":\"lines+markers\",\"name\":\"user_19\",\"x\":[0,1,2,3,4,5,6,7,8,9,10],\"y\":[0.0,0.0,0.0,0.0,0.0,0.0,0.0,0.0,0.0,0.0,0.0],\"type\":\"scatter\"},{\"mode\":\"lines+markers\",\"name\":\"user_2\",\"x\":[0,1,2,3,4,5,6,7,8,9,10],\"y\":[0.0,0.0,0.0,0.0,0.0,0.0,0.0,0.0,57.0,58.0,58.0],\"type\":\"scatter\"},{\"mode\":\"lines+markers\",\"name\":\"user_20\",\"x\":[0,1,2,3,4,5,6,7,8,9,10],\"y\":[0.0,0.0,0.0,0.0,0.0,0.0,0.0,0.0,0.0,0.0,0.0],\"type\":\"scatter\"},{\"mode\":\"lines+markers\",\"name\":\"user_21\",\"x\":[0,1,2,3,4,5,6,7,8,9,10],\"y\":[0.0,0.0,0.0,0.0,0.0,0.0,0.0,0.0,0.0,0.0,0.0],\"type\":\"scatter\"},{\"mode\":\"lines+markers\",\"name\":\"user_22\",\"x\":[0,1,2,3,4,5,6,7,8,9,10],\"y\":[0.0,0.0,0.0,0.0,0.0,0.0,1.0,1.0,1.0,1.0,1.0],\"type\":\"scatter\"},{\"mode\":\"lines+markers\",\"name\":\"user_24\",\"x\":[0,1,2,3,4,5,6,7,8,9,10],\"y\":[0.0,0.0,0.0,0.0,0.0,0.0,0.0,0.0,0.0,0.0,0.0],\"type\":\"scatter\"},{\"mode\":\"lines+markers\",\"name\":\"user_25\",\"x\":[0,1,2,3,4,5,6,7,8,9,10],\"y\":[0.0,0.0,0.0,0.0,0.0,0.0,0.0,0.0,0.0,0.0,0.0],\"type\":\"scatter\"},{\"mode\":\"lines+markers\",\"name\":\"user_26\",\"x\":[0,1,2,3,4,5,6,7,8,9,10],\"y\":[0.0,0.0,0.0,0.0,0.0,0.0,0.0,0.0,0.0,0.0,0.0],\"type\":\"scatter\"},{\"mode\":\"lines+markers\",\"name\":\"user_27\",\"x\":[0,1,2,3,4,5,6,7,8,9,10],\"y\":[0.0,0.0,0.0,0.0,0.0,0.0,0.0,0.0,0.0,0.0,0.0],\"type\":\"scatter\"},{\"mode\":\"lines+markers\",\"name\":\"user_28\",\"x\":[0,1,2,3,4,5,6,7,8,9,10],\"y\":[0.0,0.0,0.0,0.0,0.0,0.0,0.0,0.0,0.0,0.0,0.0],\"type\":\"scatter\"},{\"mode\":\"lines+markers\",\"name\":\"user_29\",\"x\":[0,1,2,3,4,5,6,7,8,9,10],\"y\":[0.0,0.0,0.0,0.0,0.0,0.0,0.0,0.0,0.0,0.0,0.0],\"type\":\"scatter\"},{\"mode\":\"lines+markers\",\"name\":\"user_3\",\"x\":[0,1,2,3,4,5,6,7,8,9,10],\"y\":[0.0,0.0,0.0,0.0,0.0,0.0,0.0,0.0,0.0,0.0,1.0],\"type\":\"scatter\"},{\"mode\":\"lines+markers\",\"name\":\"user_30\",\"x\":[0,1,2,3,4,5,6,7,8,9,10],\"y\":[0.0,0.0,0.0,1.0,2.0,2.0,4.0,5.0,5.0,5.0,12.0],\"type\":\"scatter\"},{\"mode\":\"lines+markers\",\"name\":\"user_31\",\"x\":[0,1,2,3,4,5,6,7,8,9,10],\"y\":[0.0,0.0,0.0,0.0,0.0,0.0,0.0,0.0,0.0,0.0,1.0],\"type\":\"scatter\"},{\"mode\":\"lines+markers\",\"name\":\"user_4\",\"x\":[0,1,2,3,4,5,6,7,8,9,10],\"y\":[7.0,7.0,11.0,11.0,20.0,27.0,35.0,48.0,53.0,53.0,71.0],\"type\":\"scatter\"},{\"mode\":\"lines+markers\",\"name\":\"user_6\",\"x\":[0,1,2,3,4,5,6,7,8,9,10],\"y\":[0.0,0.0,0.0,0.0,0.0,0.0,0.0,0.0,0.0,0.0,0.0],\"type\":\"scatter\"},{\"mode\":\"lines+markers\",\"name\":\"user_8\",\"x\":[0,1,2,3,4,5,6,7,8,9,10],\"y\":[0.0,0.0,0.0,0.0,0.0,0.0,0.0,0.0,0.0,0.0,0.0],\"type\":\"scatter\"}]},{\"data\":[{\"mode\":\"lines+markers\",\"name\":\"user_1\",\"x\":[0,1,2,3,4,5,6,7,8,9,10,11],\"y\":[0.0,0.0,0.0,0.0,0.0,0.0,0.0,0.0,0.0,0.0,0.0,0.0],\"type\":\"scatter\"},{\"mode\":\"lines+markers\",\"name\":\"user_10\",\"x\":[0,1,2,3,4,5,6,7,8,9,10,11],\"y\":[0.0,0.0,0.0,0.0,0.0,0.0,0.0,0.0,0.0,0.0,0.0,0.0],\"type\":\"scatter\"},{\"mode\":\"lines+markers\",\"name\":\"user_11\",\"x\":[0,1,2,3,4,5,6,7,8,9,10,11],\"y\":[0.0,0.0,0.0,0.0,0.0,0.0,1.0,1.0,1.0,1.0,1.0,1.0],\"type\":\"scatter\"},{\"mode\":\"lines+markers\",\"name\":\"user_12\",\"x\":[0,1,2,3,4,5,6,7,8,9,10,11],\"y\":[0.0,0.0,0.0,0.0,0.0,0.0,0.0,0.0,0.0,0.0,0.0,0.0],\"type\":\"scatter\"},{\"mode\":\"lines+markers\",\"name\":\"user_13\",\"x\":[0,1,2,3,4,5,6,7,8,9,10,11],\"y\":[0.0,0.0,0.0,0.0,0.0,0.0,0.0,0.0,0.0,0.0,0.0,0.0],\"type\":\"scatter\"},{\"mode\":\"lines+markers\",\"name\":\"user_14\",\"x\":[0,1,2,3,4,5,6,7,8,9,10,11],\"y\":[0.0,0.0,0.0,0.0,0.0,0.0,0.0,0.0,1.0,1.0,1.0,1.0],\"type\":\"scatter\"},{\"mode\":\"lines+markers\",\"name\":\"user_15\",\"x\":[0,1,2,3,4,5,6,7,8,9,10,11],\"y\":[0.0,0.0,0.0,0.0,0.0,0.0,0.0,0.0,0.0,0.0,0.0,0.0],\"type\":\"scatter\"},{\"mode\":\"lines+markers\",\"name\":\"user_16\",\"x\":[0,1,2,3,4,5,6,7,8,9,10,11],\"y\":[0.0,0.0,0.0,0.0,0.0,0.0,0.0,0.0,0.0,0.0,0.0,0.0],\"type\":\"scatter\"},{\"mode\":\"lines+markers\",\"name\":\"user_17\",\"x\":[0,1,2,3,4,5,6,7,8,9,10,11],\"y\":[0.0,1.0,1.0,1.0,1.0,1.0,1.0,1.0,1.0,1.0,1.0,1.0],\"type\":\"scatter\"},{\"mode\":\"lines+markers\",\"name\":\"user_18\",\"x\":[0,1,2,3,4,5,6,7,8,9,10,11],\"y\":[0.0,0.0,0.0,0.0,0.0,0.0,0.0,0.0,0.0,0.0,0.0,0.0],\"type\":\"scatter\"},{\"mode\":\"lines+markers\",\"name\":\"user_19\",\"x\":[0,1,2,3,4,5,6,7,8,9,10,11],\"y\":[0.0,0.0,0.0,0.0,0.0,0.0,0.0,0.0,0.0,0.0,0.0,0.0],\"type\":\"scatter\"},{\"mode\":\"lines+markers\",\"name\":\"user_2\",\"x\":[0,1,2,3,4,5,6,7,8,9,10,11],\"y\":[0.0,0.0,0.0,0.0,0.0,0.0,0.0,0.0,57.0,58.0,58.0,58.0],\"type\":\"scatter\"},{\"mode\":\"lines+markers\",\"name\":\"user_20\",\"x\":[0,1,2,3,4,5,6,7,8,9,10,11],\"y\":[0.0,0.0,0.0,0.0,0.0,0.0,0.0,0.0,0.0,0.0,0.0,0.0],\"type\":\"scatter\"},{\"mode\":\"lines+markers\",\"name\":\"user_21\",\"x\":[0,1,2,3,4,5,6,7,8,9,10,11],\"y\":[0.0,0.0,0.0,0.0,0.0,0.0,0.0,0.0,0.0,0.0,0.0,0.0],\"type\":\"scatter\"},{\"mode\":\"lines+markers\",\"name\":\"user_22\",\"x\":[0,1,2,3,4,5,6,7,8,9,10,11],\"y\":[0.0,0.0,0.0,0.0,0.0,0.0,1.0,1.0,1.0,1.0,1.0,1.0],\"type\":\"scatter\"},{\"mode\":\"lines+markers\",\"name\":\"user_24\",\"x\":[0,1,2,3,4,5,6,7,8,9,10,11],\"y\":[0.0,0.0,0.0,0.0,0.0,0.0,0.0,0.0,0.0,0.0,0.0,0.0],\"type\":\"scatter\"},{\"mode\":\"lines+markers\",\"name\":\"user_25\",\"x\":[0,1,2,3,4,5,6,7,8,9,10,11],\"y\":[0.0,0.0,0.0,0.0,0.0,0.0,0.0,0.0,0.0,0.0,0.0,5.0],\"type\":\"scatter\"},{\"mode\":\"lines+markers\",\"name\":\"user_26\",\"x\":[0,1,2,3,4,5,6,7,8,9,10,11],\"y\":[0.0,0.0,0.0,0.0,0.0,0.0,0.0,0.0,0.0,0.0,0.0,0.0],\"type\":\"scatter\"},{\"mode\":\"lines+markers\",\"name\":\"user_27\",\"x\":[0,1,2,3,4,5,6,7,8,9,10,11],\"y\":[0.0,0.0,0.0,0.0,0.0,0.0,0.0,0.0,0.0,0.0,0.0,0.0],\"type\":\"scatter\"},{\"mode\":\"lines+markers\",\"name\":\"user_28\",\"x\":[0,1,2,3,4,5,6,7,8,9,10,11],\"y\":[0.0,0.0,0.0,0.0,0.0,0.0,0.0,0.0,0.0,0.0,0.0,0.0],\"type\":\"scatter\"},{\"mode\":\"lines+markers\",\"name\":\"user_29\",\"x\":[0,1,2,3,4,5,6,7,8,9,10,11],\"y\":[0.0,0.0,0.0,0.0,0.0,0.0,0.0,0.0,0.0,0.0,0.0,0.0],\"type\":\"scatter\"},{\"mode\":\"lines+markers\",\"name\":\"user_3\",\"x\":[0,1,2,3,4,5,6,7,8,9,10,11],\"y\":[0.0,0.0,0.0,0.0,0.0,0.0,0.0,0.0,0.0,0.0,1.0,28.0],\"type\":\"scatter\"},{\"mode\":\"lines+markers\",\"name\":\"user_30\",\"x\":[0,1,2,3,4,5,6,7,8,9,10,11],\"y\":[0.0,0.0,0.0,1.0,2.0,2.0,4.0,5.0,5.0,5.0,12.0,12.0],\"type\":\"scatter\"},{\"mode\":\"lines+markers\",\"name\":\"user_31\",\"x\":[0,1,2,3,4,5,6,7,8,9,10,11],\"y\":[0.0,0.0,0.0,0.0,0.0,0.0,0.0,0.0,0.0,0.0,1.0,1.0],\"type\":\"scatter\"},{\"mode\":\"lines+markers\",\"name\":\"user_4\",\"x\":[0,1,2,3,4,5,6,7,8,9,10,11],\"y\":[7.0,7.0,11.0,11.0,20.0,27.0,35.0,48.0,53.0,53.0,71.0,83.0],\"type\":\"scatter\"},{\"mode\":\"lines+markers\",\"name\":\"user_6\",\"x\":[0,1,2,3,4,5,6,7,8,9,10,11],\"y\":[0.0,0.0,0.0,0.0,0.0,0.0,0.0,0.0,0.0,0.0,0.0,0.0],\"type\":\"scatter\"},{\"mode\":\"lines+markers\",\"name\":\"user_8\",\"x\":[0,1,2,3,4,5,6,7,8,9,10,11],\"y\":[0.0,0.0,0.0,0.0,0.0,0.0,0.0,0.0,0.0,0.0,0.0,0.0],\"type\":\"scatter\"}]},{\"data\":[{\"mode\":\"lines+markers\",\"name\":\"user_1\",\"x\":[0,1,2,3,4,5,6,7,8,9,10,11,12],\"y\":[0.0,0.0,0.0,0.0,0.0,0.0,0.0,0.0,0.0,0.0,0.0,0.0,0.0],\"type\":\"scatter\"},{\"mode\":\"lines+markers\",\"name\":\"user_10\",\"x\":[0,1,2,3,4,5,6,7,8,9,10,11,12],\"y\":[0.0,0.0,0.0,0.0,0.0,0.0,0.0,0.0,0.0,0.0,0.0,0.0,0.0],\"type\":\"scatter\"},{\"mode\":\"lines+markers\",\"name\":\"user_11\",\"x\":[0,1,2,3,4,5,6,7,8,9,10,11,12],\"y\":[0.0,0.0,0.0,0.0,0.0,0.0,1.0,1.0,1.0,1.0,1.0,1.0,1.0],\"type\":\"scatter\"},{\"mode\":\"lines+markers\",\"name\":\"user_12\",\"x\":[0,1,2,3,4,5,6,7,8,9,10,11,12],\"y\":[0.0,0.0,0.0,0.0,0.0,0.0,0.0,0.0,0.0,0.0,0.0,0.0,0.0],\"type\":\"scatter\"},{\"mode\":\"lines+markers\",\"name\":\"user_13\",\"x\":[0,1,2,3,4,5,6,7,8,9,10,11,12],\"y\":[0.0,0.0,0.0,0.0,0.0,0.0,0.0,0.0,0.0,0.0,0.0,0.0,0.0],\"type\":\"scatter\"},{\"mode\":\"lines+markers\",\"name\":\"user_14\",\"x\":[0,1,2,3,4,5,6,7,8,9,10,11,12],\"y\":[0.0,0.0,0.0,0.0,0.0,0.0,0.0,0.0,1.0,1.0,1.0,1.0,18.0],\"type\":\"scatter\"},{\"mode\":\"lines+markers\",\"name\":\"user_15\",\"x\":[0,1,2,3,4,5,6,7,8,9,10,11,12],\"y\":[0.0,0.0,0.0,0.0,0.0,0.0,0.0,0.0,0.0,0.0,0.0,0.0,0.0],\"type\":\"scatter\"},{\"mode\":\"lines+markers\",\"name\":\"user_16\",\"x\":[0,1,2,3,4,5,6,7,8,9,10,11,12],\"y\":[0.0,0.0,0.0,0.0,0.0,0.0,0.0,0.0,0.0,0.0,0.0,0.0,0.0],\"type\":\"scatter\"},{\"mode\":\"lines+markers\",\"name\":\"user_17\",\"x\":[0,1,2,3,4,5,6,7,8,9,10,11,12],\"y\":[0.0,1.0,1.0,1.0,1.0,1.0,1.0,1.0,1.0,1.0,1.0,1.0,1.0],\"type\":\"scatter\"},{\"mode\":\"lines+markers\",\"name\":\"user_18\",\"x\":[0,1,2,3,4,5,6,7,8,9,10,11,12],\"y\":[0.0,0.0,0.0,0.0,0.0,0.0,0.0,0.0,0.0,0.0,0.0,0.0,0.0],\"type\":\"scatter\"},{\"mode\":\"lines+markers\",\"name\":\"user_19\",\"x\":[0,1,2,3,4,5,6,7,8,9,10,11,12],\"y\":[0.0,0.0,0.0,0.0,0.0,0.0,0.0,0.0,0.0,0.0,0.0,0.0,0.0],\"type\":\"scatter\"},{\"mode\":\"lines+markers\",\"name\":\"user_2\",\"x\":[0,1,2,3,4,5,6,7,8,9,10,11,12],\"y\":[0.0,0.0,0.0,0.0,0.0,0.0,0.0,0.0,57.0,58.0,58.0,58.0,58.0],\"type\":\"scatter\"},{\"mode\":\"lines+markers\",\"name\":\"user_20\",\"x\":[0,1,2,3,4,5,6,7,8,9,10,11,12],\"y\":[0.0,0.0,0.0,0.0,0.0,0.0,0.0,0.0,0.0,0.0,0.0,0.0,0.0],\"type\":\"scatter\"},{\"mode\":\"lines+markers\",\"name\":\"user_21\",\"x\":[0,1,2,3,4,5,6,7,8,9,10,11,12],\"y\":[0.0,0.0,0.0,0.0,0.0,0.0,0.0,0.0,0.0,0.0,0.0,0.0,0.0],\"type\":\"scatter\"},{\"mode\":\"lines+markers\",\"name\":\"user_22\",\"x\":[0,1,2,3,4,5,6,7,8,9,10,11,12],\"y\":[0.0,0.0,0.0,0.0,0.0,0.0,1.0,1.0,1.0,1.0,1.0,1.0,1.0],\"type\":\"scatter\"},{\"mode\":\"lines+markers\",\"name\":\"user_24\",\"x\":[0,1,2,3,4,5,6,7,8,9,10,11,12],\"y\":[0.0,0.0,0.0,0.0,0.0,0.0,0.0,0.0,0.0,0.0,0.0,0.0,0.0],\"type\":\"scatter\"},{\"mode\":\"lines+markers\",\"name\":\"user_25\",\"x\":[0,1,2,3,4,5,6,7,8,9,10,11,12],\"y\":[0.0,0.0,0.0,0.0,0.0,0.0,0.0,0.0,0.0,0.0,0.0,5.0,27.0],\"type\":\"scatter\"},{\"mode\":\"lines+markers\",\"name\":\"user_26\",\"x\":[0,1,2,3,4,5,6,7,8,9,10,11,12],\"y\":[0.0,0.0,0.0,0.0,0.0,0.0,0.0,0.0,0.0,0.0,0.0,0.0,0.0],\"type\":\"scatter\"},{\"mode\":\"lines+markers\",\"name\":\"user_27\",\"x\":[0,1,2,3,4,5,6,7,8,9,10,11,12],\"y\":[0.0,0.0,0.0,0.0,0.0,0.0,0.0,0.0,0.0,0.0,0.0,0.0,0.0],\"type\":\"scatter\"},{\"mode\":\"lines+markers\",\"name\":\"user_28\",\"x\":[0,1,2,3,4,5,6,7,8,9,10,11,12],\"y\":[0.0,0.0,0.0,0.0,0.0,0.0,0.0,0.0,0.0,0.0,0.0,0.0,0.0],\"type\":\"scatter\"},{\"mode\":\"lines+markers\",\"name\":\"user_29\",\"x\":[0,1,2,3,4,5,6,7,8,9,10,11,12],\"y\":[0.0,0.0,0.0,0.0,0.0,0.0,0.0,0.0,0.0,0.0,0.0,0.0,0.0],\"type\":\"scatter\"},{\"mode\":\"lines+markers\",\"name\":\"user_3\",\"x\":[0,1,2,3,4,5,6,7,8,9,10,11,12],\"y\":[0.0,0.0,0.0,0.0,0.0,0.0,0.0,0.0,0.0,0.0,1.0,28.0,29.0],\"type\":\"scatter\"},{\"mode\":\"lines+markers\",\"name\":\"user_30\",\"x\":[0,1,2,3,4,5,6,7,8,9,10,11,12],\"y\":[0.0,0.0,0.0,1.0,2.0,2.0,4.0,5.0,5.0,5.0,12.0,12.0,12.0],\"type\":\"scatter\"},{\"mode\":\"lines+markers\",\"name\":\"user_31\",\"x\":[0,1,2,3,4,5,6,7,8,9,10,11,12],\"y\":[0.0,0.0,0.0,0.0,0.0,0.0,0.0,0.0,0.0,0.0,1.0,1.0,4.0],\"type\":\"scatter\"},{\"mode\":\"lines+markers\",\"name\":\"user_4\",\"x\":[0,1,2,3,4,5,6,7,8,9,10,11,12],\"y\":[7.0,7.0,11.0,11.0,20.0,27.0,35.0,48.0,53.0,53.0,71.0,83.0,83.0],\"type\":\"scatter\"},{\"mode\":\"lines+markers\",\"name\":\"user_6\",\"x\":[0,1,2,3,4,5,6,7,8,9,10,11,12],\"y\":[0.0,0.0,0.0,0.0,0.0,0.0,0.0,0.0,0.0,0.0,0.0,0.0,0.0],\"type\":\"scatter\"},{\"mode\":\"lines+markers\",\"name\":\"user_8\",\"x\":[0,1,2,3,4,5,6,7,8,9,10,11,12],\"y\":[0.0,0.0,0.0,0.0,0.0,0.0,0.0,0.0,0.0,0.0,0.0,0.0,0.0],\"type\":\"scatter\"}]},{\"data\":[{\"mode\":\"lines+markers\",\"name\":\"user_1\",\"x\":[0,1,2,3,4,5,6,7,8,9,10,11,12,13],\"y\":[0.0,0.0,0.0,0.0,0.0,0.0,0.0,0.0,0.0,0.0,0.0,0.0,0.0,0.0],\"type\":\"scatter\"},{\"mode\":\"lines+markers\",\"name\":\"user_10\",\"x\":[0,1,2,3,4,5,6,7,8,9,10,11,12,13],\"y\":[0.0,0.0,0.0,0.0,0.0,0.0,0.0,0.0,0.0,0.0,0.0,0.0,0.0,0.0],\"type\":\"scatter\"},{\"mode\":\"lines+markers\",\"name\":\"user_11\",\"x\":[0,1,2,3,4,5,6,7,8,9,10,11,12,13],\"y\":[0.0,0.0,0.0,0.0,0.0,0.0,1.0,1.0,1.0,1.0,1.0,1.0,1.0,1.0],\"type\":\"scatter\"},{\"mode\":\"lines+markers\",\"name\":\"user_12\",\"x\":[0,1,2,3,4,5,6,7,8,9,10,11,12,13],\"y\":[0.0,0.0,0.0,0.0,0.0,0.0,0.0,0.0,0.0,0.0,0.0,0.0,0.0,0.0],\"type\":\"scatter\"},{\"mode\":\"lines+markers\",\"name\":\"user_13\",\"x\":[0,1,2,3,4,5,6,7,8,9,10,11,12,13],\"y\":[0.0,0.0,0.0,0.0,0.0,0.0,0.0,0.0,0.0,0.0,0.0,0.0,0.0,0.0],\"type\":\"scatter\"},{\"mode\":\"lines+markers\",\"name\":\"user_14\",\"x\":[0,1,2,3,4,5,6,7,8,9,10,11,12,13],\"y\":[0.0,0.0,0.0,0.0,0.0,0.0,0.0,0.0,1.0,1.0,1.0,1.0,18.0,25.0],\"type\":\"scatter\"},{\"mode\":\"lines+markers\",\"name\":\"user_15\",\"x\":[0,1,2,3,4,5,6,7,8,9,10,11,12,13],\"y\":[0.0,0.0,0.0,0.0,0.0,0.0,0.0,0.0,0.0,0.0,0.0,0.0,0.0,0.0],\"type\":\"scatter\"},{\"mode\":\"lines+markers\",\"name\":\"user_16\",\"x\":[0,1,2,3,4,5,6,7,8,9,10,11,12,13],\"y\":[0.0,0.0,0.0,0.0,0.0,0.0,0.0,0.0,0.0,0.0,0.0,0.0,0.0,0.0],\"type\":\"scatter\"},{\"mode\":\"lines+markers\",\"name\":\"user_17\",\"x\":[0,1,2,3,4,5,6,7,8,9,10,11,12,13],\"y\":[0.0,1.0,1.0,1.0,1.0,1.0,1.0,1.0,1.0,1.0,1.0,1.0,1.0,1.0],\"type\":\"scatter\"},{\"mode\":\"lines+markers\",\"name\":\"user_18\",\"x\":[0,1,2,3,4,5,6,7,8,9,10,11,12,13],\"y\":[0.0,0.0,0.0,0.0,0.0,0.0,0.0,0.0,0.0,0.0,0.0,0.0,0.0,0.0],\"type\":\"scatter\"},{\"mode\":\"lines+markers\",\"name\":\"user_19\",\"x\":[0,1,2,3,4,5,6,7,8,9,10,11,12,13],\"y\":[0.0,0.0,0.0,0.0,0.0,0.0,0.0,0.0,0.0,0.0,0.0,0.0,0.0,0.0],\"type\":\"scatter\"},{\"mode\":\"lines+markers\",\"name\":\"user_2\",\"x\":[0,1,2,3,4,5,6,7,8,9,10,11,12,13],\"y\":[0.0,0.0,0.0,0.0,0.0,0.0,0.0,0.0,57.0,58.0,58.0,58.0,58.0,62.0],\"type\":\"scatter\"},{\"mode\":\"lines+markers\",\"name\":\"user_20\",\"x\":[0,1,2,3,4,5,6,7,8,9,10,11,12,13],\"y\":[0.0,0.0,0.0,0.0,0.0,0.0,0.0,0.0,0.0,0.0,0.0,0.0,0.0,0.0],\"type\":\"scatter\"},{\"mode\":\"lines+markers\",\"name\":\"user_21\",\"x\":[0,1,2,3,4,5,6,7,8,9,10,11,12,13],\"y\":[0.0,0.0,0.0,0.0,0.0,0.0,0.0,0.0,0.0,0.0,0.0,0.0,0.0,7.0],\"type\":\"scatter\"},{\"mode\":\"lines+markers\",\"name\":\"user_22\",\"x\":[0,1,2,3,4,5,6,7,8,9,10,11,12,13],\"y\":[0.0,0.0,0.0,0.0,0.0,0.0,1.0,1.0,1.0,1.0,1.0,1.0,1.0,1.0],\"type\":\"scatter\"},{\"mode\":\"lines+markers\",\"name\":\"user_24\",\"x\":[0,1,2,3,4,5,6,7,8,9,10,11,12,13],\"y\":[0.0,0.0,0.0,0.0,0.0,0.0,0.0,0.0,0.0,0.0,0.0,0.0,0.0,0.0],\"type\":\"scatter\"},{\"mode\":\"lines+markers\",\"name\":\"user_25\",\"x\":[0,1,2,3,4,5,6,7,8,9,10,11,12,13],\"y\":[0.0,0.0,0.0,0.0,0.0,0.0,0.0,0.0,0.0,0.0,0.0,5.0,27.0,29.0],\"type\":\"scatter\"},{\"mode\":\"lines+markers\",\"name\":\"user_26\",\"x\":[0,1,2,3,4,5,6,7,8,9,10,11,12,13],\"y\":[0.0,0.0,0.0,0.0,0.0,0.0,0.0,0.0,0.0,0.0,0.0,0.0,0.0,35.0],\"type\":\"scatter\"},{\"mode\":\"lines+markers\",\"name\":\"user_27\",\"x\":[0,1,2,3,4,5,6,7,8,9,10,11,12,13],\"y\":[0.0,0.0,0.0,0.0,0.0,0.0,0.0,0.0,0.0,0.0,0.0,0.0,0.0,0.0],\"type\":\"scatter\"},{\"mode\":\"lines+markers\",\"name\":\"user_28\",\"x\":[0,1,2,3,4,5,6,7,8,9,10,11,12,13],\"y\":[0.0,0.0,0.0,0.0,0.0,0.0,0.0,0.0,0.0,0.0,0.0,0.0,0.0,0.0],\"type\":\"scatter\"},{\"mode\":\"lines+markers\",\"name\":\"user_29\",\"x\":[0,1,2,3,4,5,6,7,8,9,10,11,12,13],\"y\":[0.0,0.0,0.0,0.0,0.0,0.0,0.0,0.0,0.0,0.0,0.0,0.0,0.0,0.0],\"type\":\"scatter\"},{\"mode\":\"lines+markers\",\"name\":\"user_3\",\"x\":[0,1,2,3,4,5,6,7,8,9,10,11,12,13],\"y\":[0.0,0.0,0.0,0.0,0.0,0.0,0.0,0.0,0.0,0.0,1.0,28.0,29.0,31.0],\"type\":\"scatter\"},{\"mode\":\"lines+markers\",\"name\":\"user_30\",\"x\":[0,1,2,3,4,5,6,7,8,9,10,11,12,13],\"y\":[0.0,0.0,0.0,1.0,2.0,2.0,4.0,5.0,5.0,5.0,12.0,12.0,12.0,17.0],\"type\":\"scatter\"},{\"mode\":\"lines+markers\",\"name\":\"user_31\",\"x\":[0,1,2,3,4,5,6,7,8,9,10,11,12,13],\"y\":[0.0,0.0,0.0,0.0,0.0,0.0,0.0,0.0,0.0,0.0,1.0,1.0,4.0,4.0],\"type\":\"scatter\"},{\"mode\":\"lines+markers\",\"name\":\"user_4\",\"x\":[0,1,2,3,4,5,6,7,8,9,10,11,12,13],\"y\":[7.0,7.0,11.0,11.0,20.0,27.0,35.0,48.0,53.0,53.0,71.0,83.0,83.0,83.0],\"type\":\"scatter\"},{\"mode\":\"lines+markers\",\"name\":\"user_6\",\"x\":[0,1,2,3,4,5,6,7,8,9,10,11,12,13],\"y\":[0.0,0.0,0.0,0.0,0.0,0.0,0.0,0.0,0.0,0.0,0.0,0.0,0.0,0.0],\"type\":\"scatter\"},{\"mode\":\"lines+markers\",\"name\":\"user_8\",\"x\":[0,1,2,3,4,5,6,7,8,9,10,11,12,13],\"y\":[0.0,0.0,0.0,0.0,0.0,0.0,0.0,0.0,0.0,0.0,0.0,0.0,0.0,0.0],\"type\":\"scatter\"}]},{\"data\":[{\"mode\":\"lines+markers\",\"name\":\"user_1\",\"x\":[0,1,2,3,4,5,6,7,8,9,10,11,12,13,14],\"y\":[0.0,0.0,0.0,0.0,0.0,0.0,0.0,0.0,0.0,0.0,0.0,0.0,0.0,0.0,0.0],\"type\":\"scatter\"},{\"mode\":\"lines+markers\",\"name\":\"user_10\",\"x\":[0,1,2,3,4,5,6,7,8,9,10,11,12,13,14],\"y\":[0.0,0.0,0.0,0.0,0.0,0.0,0.0,0.0,0.0,0.0,0.0,0.0,0.0,0.0,0.0],\"type\":\"scatter\"},{\"mode\":\"lines+markers\",\"name\":\"user_11\",\"x\":[0,1,2,3,4,5,6,7,8,9,10,11,12,13,14],\"y\":[0.0,0.0,0.0,0.0,0.0,0.0,1.0,1.0,1.0,1.0,1.0,1.0,1.0,1.0,1.0],\"type\":\"scatter\"},{\"mode\":\"lines+markers\",\"name\":\"user_12\",\"x\":[0,1,2,3,4,5,6,7,8,9,10,11,12,13,14],\"y\":[0.0,0.0,0.0,0.0,0.0,0.0,0.0,0.0,0.0,0.0,0.0,0.0,0.0,0.0,0.0],\"type\":\"scatter\"},{\"mode\":\"lines+markers\",\"name\":\"user_13\",\"x\":[0,1,2,3,4,5,6,7,8,9,10,11,12,13,14],\"y\":[0.0,0.0,0.0,0.0,0.0,0.0,0.0,0.0,0.0,0.0,0.0,0.0,0.0,0.0,2.0],\"type\":\"scatter\"},{\"mode\":\"lines+markers\",\"name\":\"user_14\",\"x\":[0,1,2,3,4,5,6,7,8,9,10,11,12,13,14],\"y\":[0.0,0.0,0.0,0.0,0.0,0.0,0.0,0.0,1.0,1.0,1.0,1.0,18.0,25.0,49.0],\"type\":\"scatter\"},{\"mode\":\"lines+markers\",\"name\":\"user_15\",\"x\":[0,1,2,3,4,5,6,7,8,9,10,11,12,13,14],\"y\":[0.0,0.0,0.0,0.0,0.0,0.0,0.0,0.0,0.0,0.0,0.0,0.0,0.0,0.0,0.0],\"type\":\"scatter\"},{\"mode\":\"lines+markers\",\"name\":\"user_16\",\"x\":[0,1,2,3,4,5,6,7,8,9,10,11,12,13,14],\"y\":[0.0,0.0,0.0,0.0,0.0,0.0,0.0,0.0,0.0,0.0,0.0,0.0,0.0,0.0,0.0],\"type\":\"scatter\"},{\"mode\":\"lines+markers\",\"name\":\"user_17\",\"x\":[0,1,2,3,4,5,6,7,8,9,10,11,12,13,14],\"y\":[0.0,1.0,1.0,1.0,1.0,1.0,1.0,1.0,1.0,1.0,1.0,1.0,1.0,1.0,1.0],\"type\":\"scatter\"},{\"mode\":\"lines+markers\",\"name\":\"user_18\",\"x\":[0,1,2,3,4,5,6,7,8,9,10,11,12,13,14],\"y\":[0.0,0.0,0.0,0.0,0.0,0.0,0.0,0.0,0.0,0.0,0.0,0.0,0.0,0.0,7.0],\"type\":\"scatter\"},{\"mode\":\"lines+markers\",\"name\":\"user_19\",\"x\":[0,1,2,3,4,5,6,7,8,9,10,11,12,13,14],\"y\":[0.0,0.0,0.0,0.0,0.0,0.0,0.0,0.0,0.0,0.0,0.0,0.0,0.0,0.0,0.0],\"type\":\"scatter\"},{\"mode\":\"lines+markers\",\"name\":\"user_2\",\"x\":[0,1,2,3,4,5,6,7,8,9,10,11,12,13,14],\"y\":[0.0,0.0,0.0,0.0,0.0,0.0,0.0,0.0,57.0,58.0,58.0,58.0,58.0,62.0,74.0],\"type\":\"scatter\"},{\"mode\":\"lines+markers\",\"name\":\"user_20\",\"x\":[0,1,2,3,4,5,6,7,8,9,10,11,12,13,14],\"y\":[0.0,0.0,0.0,0.0,0.0,0.0,0.0,0.0,0.0,0.0,0.0,0.0,0.0,0.0,11.0],\"type\":\"scatter\"},{\"mode\":\"lines+markers\",\"name\":\"user_21\",\"x\":[0,1,2,3,4,5,6,7,8,9,10,11,12,13,14],\"y\":[0.0,0.0,0.0,0.0,0.0,0.0,0.0,0.0,0.0,0.0,0.0,0.0,0.0,7.0,7.0],\"type\":\"scatter\"},{\"mode\":\"lines+markers\",\"name\":\"user_22\",\"x\":[0,1,2,3,4,5,6,7,8,9,10,11,12,13,14],\"y\":[0.0,0.0,0.0,0.0,0.0,0.0,1.0,1.0,1.0,1.0,1.0,1.0,1.0,1.0,1.0],\"type\":\"scatter\"},{\"mode\":\"lines+markers\",\"name\":\"user_24\",\"x\":[0,1,2,3,4,5,6,7,8,9,10,11,12,13,14],\"y\":[0.0,0.0,0.0,0.0,0.0,0.0,0.0,0.0,0.0,0.0,0.0,0.0,0.0,0.0,0.0],\"type\":\"scatter\"},{\"mode\":\"lines+markers\",\"name\":\"user_25\",\"x\":[0,1,2,3,4,5,6,7,8,9,10,11,12,13,14],\"y\":[0.0,0.0,0.0,0.0,0.0,0.0,0.0,0.0,0.0,0.0,0.0,5.0,27.0,29.0,33.0],\"type\":\"scatter\"},{\"mode\":\"lines+markers\",\"name\":\"user_26\",\"x\":[0,1,2,3,4,5,6,7,8,9,10,11,12,13,14],\"y\":[0.0,0.0,0.0,0.0,0.0,0.0,0.0,0.0,0.0,0.0,0.0,0.0,0.0,35.0,35.0],\"type\":\"scatter\"},{\"mode\":\"lines+markers\",\"name\":\"user_27\",\"x\":[0,1,2,3,4,5,6,7,8,9,10,11,12,13,14],\"y\":[0.0,0.0,0.0,0.0,0.0,0.0,0.0,0.0,0.0,0.0,0.0,0.0,0.0,0.0,0.0],\"type\":\"scatter\"},{\"mode\":\"lines+markers\",\"name\":\"user_28\",\"x\":[0,1,2,3,4,5,6,7,8,9,10,11,12,13,14],\"y\":[0.0,0.0,0.0,0.0,0.0,0.0,0.0,0.0,0.0,0.0,0.0,0.0,0.0,0.0,0.0],\"type\":\"scatter\"},{\"mode\":\"lines+markers\",\"name\":\"user_29\",\"x\":[0,1,2,3,4,5,6,7,8,9,10,11,12,13,14],\"y\":[0.0,0.0,0.0,0.0,0.0,0.0,0.0,0.0,0.0,0.0,0.0,0.0,0.0,0.0,5.0],\"type\":\"scatter\"},{\"mode\":\"lines+markers\",\"name\":\"user_3\",\"x\":[0,1,2,3,4,5,6,7,8,9,10,11,12,13,14],\"y\":[0.0,0.0,0.0,0.0,0.0,0.0,0.0,0.0,0.0,0.0,1.0,28.0,29.0,31.0,54.0],\"type\":\"scatter\"},{\"mode\":\"lines+markers\",\"name\":\"user_30\",\"x\":[0,1,2,3,4,5,6,7,8,9,10,11,12,13,14],\"y\":[0.0,0.0,0.0,1.0,2.0,2.0,4.0,5.0,5.0,5.0,12.0,12.0,12.0,17.0,17.0],\"type\":\"scatter\"},{\"mode\":\"lines+markers\",\"name\":\"user_31\",\"x\":[0,1,2,3,4,5,6,7,8,9,10,11,12,13,14],\"y\":[0.0,0.0,0.0,0.0,0.0,0.0,0.0,0.0,0.0,0.0,1.0,1.0,4.0,4.0,6.0],\"type\":\"scatter\"},{\"mode\":\"lines+markers\",\"name\":\"user_4\",\"x\":[0,1,2,3,4,5,6,7,8,9,10,11,12,13,14],\"y\":[7.0,7.0,11.0,11.0,20.0,27.0,35.0,48.0,53.0,53.0,71.0,83.0,83.0,83.0,87.0],\"type\":\"scatter\"},{\"mode\":\"lines+markers\",\"name\":\"user_6\",\"x\":[0,1,2,3,4,5,6,7,8,9,10,11,12,13,14],\"y\":[0.0,0.0,0.0,0.0,0.0,0.0,0.0,0.0,0.0,0.0,0.0,0.0,0.0,0.0,0.0],\"type\":\"scatter\"},{\"mode\":\"lines+markers\",\"name\":\"user_8\",\"x\":[0,1,2,3,4,5,6,7,8,9,10,11,12,13,14],\"y\":[0.0,0.0,0.0,0.0,0.0,0.0,0.0,0.0,0.0,0.0,0.0,0.0,0.0,0.0,0.0],\"type\":\"scatter\"}]},{\"data\":[{\"mode\":\"lines+markers\",\"name\":\"user_1\",\"x\":[0,1,2,3,4,5,6,7,8,9,10,11,12,13,14,15],\"y\":[0.0,0.0,0.0,0.0,0.0,0.0,0.0,0.0,0.0,0.0,0.0,0.0,0.0,0.0,0.0,0.0],\"type\":\"scatter\"},{\"mode\":\"lines+markers\",\"name\":\"user_10\",\"x\":[0,1,2,3,4,5,6,7,8,9,10,11,12,13,14,15],\"y\":[0.0,0.0,0.0,0.0,0.0,0.0,0.0,0.0,0.0,0.0,0.0,0.0,0.0,0.0,0.0,7.0],\"type\":\"scatter\"},{\"mode\":\"lines+markers\",\"name\":\"user_11\",\"x\":[0,1,2,3,4,5,6,7,8,9,10,11,12,13,14,15],\"y\":[0.0,0.0,0.0,0.0,0.0,0.0,1.0,1.0,1.0,1.0,1.0,1.0,1.0,1.0,1.0,1.0],\"type\":\"scatter\"},{\"mode\":\"lines+markers\",\"name\":\"user_12\",\"x\":[0,1,2,3,4,5,6,7,8,9,10,11,12,13,14,15],\"y\":[0.0,0.0,0.0,0.0,0.0,0.0,0.0,0.0,0.0,0.0,0.0,0.0,0.0,0.0,0.0,0.0],\"type\":\"scatter\"},{\"mode\":\"lines+markers\",\"name\":\"user_13\",\"x\":[0,1,2,3,4,5,6,7,8,9,10,11,12,13,14,15],\"y\":[0.0,0.0,0.0,0.0,0.0,0.0,0.0,0.0,0.0,0.0,0.0,0.0,0.0,0.0,2.0,30.0],\"type\":\"scatter\"},{\"mode\":\"lines+markers\",\"name\":\"user_14\",\"x\":[0,1,2,3,4,5,6,7,8,9,10,11,12,13,14,15],\"y\":[0.0,0.0,0.0,0.0,0.0,0.0,0.0,0.0,1.0,1.0,1.0,1.0,18.0,25.0,49.0,92.0],\"type\":\"scatter\"},{\"mode\":\"lines+markers\",\"name\":\"user_15\",\"x\":[0,1,2,3,4,5,6,7,8,9,10,11,12,13,14,15],\"y\":[0.0,0.0,0.0,0.0,0.0,0.0,0.0,0.0,0.0,0.0,0.0,0.0,0.0,0.0,0.0,0.0],\"type\":\"scatter\"},{\"mode\":\"lines+markers\",\"name\":\"user_16\",\"x\":[0,1,2,3,4,5,6,7,8,9,10,11,12,13,14,15],\"y\":[0.0,0.0,0.0,0.0,0.0,0.0,0.0,0.0,0.0,0.0,0.0,0.0,0.0,0.0,0.0,3.0],\"type\":\"scatter\"},{\"mode\":\"lines+markers\",\"name\":\"user_17\",\"x\":[0,1,2,3,4,5,6,7,8,9,10,11,12,13,14,15],\"y\":[0.0,1.0,1.0,1.0,1.0,1.0,1.0,1.0,1.0,1.0,1.0,1.0,1.0,1.0,1.0,3.0],\"type\":\"scatter\"},{\"mode\":\"lines+markers\",\"name\":\"user_18\",\"x\":[0,1,2,3,4,5,6,7,8,9,10,11,12,13,14,15],\"y\":[0.0,0.0,0.0,0.0,0.0,0.0,0.0,0.0,0.0,0.0,0.0,0.0,0.0,0.0,7.0,7.0],\"type\":\"scatter\"},{\"mode\":\"lines+markers\",\"name\":\"user_19\",\"x\":[0,1,2,3,4,5,6,7,8,9,10,11,12,13,14,15],\"y\":[0.0,0.0,0.0,0.0,0.0,0.0,0.0,0.0,0.0,0.0,0.0,0.0,0.0,0.0,0.0,0.0],\"type\":\"scatter\"},{\"mode\":\"lines+markers\",\"name\":\"user_2\",\"x\":[0,1,2,3,4,5,6,7,8,9,10,11,12,13,14,15],\"y\":[0.0,0.0,0.0,0.0,0.0,0.0,0.0,0.0,57.0,58.0,58.0,58.0,58.0,62.0,74.0,78.0],\"type\":\"scatter\"},{\"mode\":\"lines+markers\",\"name\":\"user_20\",\"x\":[0,1,2,3,4,5,6,7,8,9,10,11,12,13,14,15],\"y\":[0.0,0.0,0.0,0.0,0.0,0.0,0.0,0.0,0.0,0.0,0.0,0.0,0.0,0.0,11.0,11.0],\"type\":\"scatter\"},{\"mode\":\"lines+markers\",\"name\":\"user_21\",\"x\":[0,1,2,3,4,5,6,7,8,9,10,11,12,13,14,15],\"y\":[0.0,0.0,0.0,0.0,0.0,0.0,0.0,0.0,0.0,0.0,0.0,0.0,0.0,7.0,7.0,7.0],\"type\":\"scatter\"},{\"mode\":\"lines+markers\",\"name\":\"user_22\",\"x\":[0,1,2,3,4,5,6,7,8,9,10,11,12,13,14,15],\"y\":[0.0,0.0,0.0,0.0,0.0,0.0,1.0,1.0,1.0,1.0,1.0,1.0,1.0,1.0,1.0,1.0],\"type\":\"scatter\"},{\"mode\":\"lines+markers\",\"name\":\"user_24\",\"x\":[0,1,2,3,4,5,6,7,8,9,10,11,12,13,14,15],\"y\":[0.0,0.0,0.0,0.0,0.0,0.0,0.0,0.0,0.0,0.0,0.0,0.0,0.0,0.0,0.0,0.0],\"type\":\"scatter\"},{\"mode\":\"lines+markers\",\"name\":\"user_25\",\"x\":[0,1,2,3,4,5,6,7,8,9,10,11,12,13,14,15],\"y\":[0.0,0.0,0.0,0.0,0.0,0.0,0.0,0.0,0.0,0.0,0.0,5.0,27.0,29.0,33.0,54.0],\"type\":\"scatter\"},{\"mode\":\"lines+markers\",\"name\":\"user_26\",\"x\":[0,1,2,3,4,5,6,7,8,9,10,11,12,13,14,15],\"y\":[0.0,0.0,0.0,0.0,0.0,0.0,0.0,0.0,0.0,0.0,0.0,0.0,0.0,35.0,35.0,35.0],\"type\":\"scatter\"},{\"mode\":\"lines+markers\",\"name\":\"user_27\",\"x\":[0,1,2,3,4,5,6,7,8,9,10,11,12,13,14,15],\"y\":[0.0,0.0,0.0,0.0,0.0,0.0,0.0,0.0,0.0,0.0,0.0,0.0,0.0,0.0,0.0,0.0],\"type\":\"scatter\"},{\"mode\":\"lines+markers\",\"name\":\"user_28\",\"x\":[0,1,2,3,4,5,6,7,8,9,10,11,12,13,14,15],\"y\":[0.0,0.0,0.0,0.0,0.0,0.0,0.0,0.0,0.0,0.0,0.0,0.0,0.0,0.0,0.0,2.0],\"type\":\"scatter\"},{\"mode\":\"lines+markers\",\"name\":\"user_29\",\"x\":[0,1,2,3,4,5,6,7,8,9,10,11,12,13,14,15],\"y\":[0.0,0.0,0.0,0.0,0.0,0.0,0.0,0.0,0.0,0.0,0.0,0.0,0.0,0.0,5.0,18.0],\"type\":\"scatter\"},{\"mode\":\"lines+markers\",\"name\":\"user_3\",\"x\":[0,1,2,3,4,5,6,7,8,9,10,11,12,13,14,15],\"y\":[0.0,0.0,0.0,0.0,0.0,0.0,0.0,0.0,0.0,0.0,1.0,28.0,29.0,31.0,54.0,56.0],\"type\":\"scatter\"},{\"mode\":\"lines+markers\",\"name\":\"user_30\",\"x\":[0,1,2,3,4,5,6,7,8,9,10,11,12,13,14,15],\"y\":[0.0,0.0,0.0,1.0,2.0,2.0,4.0,5.0,5.0,5.0,12.0,12.0,12.0,17.0,17.0,17.0],\"type\":\"scatter\"},{\"mode\":\"lines+markers\",\"name\":\"user_31\",\"x\":[0,1,2,3,4,5,6,7,8,9,10,11,12,13,14,15],\"y\":[0.0,0.0,0.0,0.0,0.0,0.0,0.0,0.0,0.0,0.0,1.0,1.0,4.0,4.0,6.0,6.0],\"type\":\"scatter\"},{\"mode\":\"lines+markers\",\"name\":\"user_4\",\"x\":[0,1,2,3,4,5,6,7,8,9,10,11,12,13,14,15],\"y\":[7.0,7.0,11.0,11.0,20.0,27.0,35.0,48.0,53.0,53.0,71.0,83.0,83.0,83.0,87.0,125.0],\"type\":\"scatter\"},{\"mode\":\"lines+markers\",\"name\":\"user_6\",\"x\":[0,1,2,3,4,5,6,7,8,9,10,11,12,13,14,15],\"y\":[0.0,0.0,0.0,0.0,0.0,0.0,0.0,0.0,0.0,0.0,0.0,0.0,0.0,0.0,0.0,0.0],\"type\":\"scatter\"},{\"mode\":\"lines+markers\",\"name\":\"user_8\",\"x\":[0,1,2,3,4,5,6,7,8,9,10,11,12,13,14,15],\"y\":[0.0,0.0,0.0,0.0,0.0,0.0,0.0,0.0,0.0,0.0,0.0,0.0,0.0,0.0,0.0,0.0],\"type\":\"scatter\"}]},{\"data\":[{\"mode\":\"lines+markers\",\"name\":\"user_1\",\"x\":[0,1,2,3,4,5,6,7,8,9,10,11,12,13,14,15,16],\"y\":[0.0,0.0,0.0,0.0,0.0,0.0,0.0,0.0,0.0,0.0,0.0,0.0,0.0,0.0,0.0,0.0,0.0],\"type\":\"scatter\"},{\"mode\":\"lines+markers\",\"name\":\"user_10\",\"x\":[0,1,2,3,4,5,6,7,8,9,10,11,12,13,14,15,16],\"y\":[0.0,0.0,0.0,0.0,0.0,0.0,0.0,0.0,0.0,0.0,0.0,0.0,0.0,0.0,0.0,7.0,21.0],\"type\":\"scatter\"},{\"mode\":\"lines+markers\",\"name\":\"user_11\",\"x\":[0,1,2,3,4,5,6,7,8,9,10,11,12,13,14,15,16],\"y\":[0.0,0.0,0.0,0.0,0.0,0.0,1.0,1.0,1.0,1.0,1.0,1.0,1.0,1.0,1.0,1.0,1.0],\"type\":\"scatter\"},{\"mode\":\"lines+markers\",\"name\":\"user_12\",\"x\":[0,1,2,3,4,5,6,7,8,9,10,11,12,13,14,15,16],\"y\":[0.0,0.0,0.0,0.0,0.0,0.0,0.0,0.0,0.0,0.0,0.0,0.0,0.0,0.0,0.0,0.0,0.0],\"type\":\"scatter\"},{\"mode\":\"lines+markers\",\"name\":\"user_13\",\"x\":[0,1,2,3,4,5,6,7,8,9,10,11,12,13,14,15,16],\"y\":[0.0,0.0,0.0,0.0,0.0,0.0,0.0,0.0,0.0,0.0,0.0,0.0,0.0,0.0,2.0,30.0,30.0],\"type\":\"scatter\"},{\"mode\":\"lines+markers\",\"name\":\"user_14\",\"x\":[0,1,2,3,4,5,6,7,8,9,10,11,12,13,14,15,16],\"y\":[0.0,0.0,0.0,0.0,0.0,0.0,0.0,0.0,1.0,1.0,1.0,1.0,18.0,25.0,49.0,92.0,92.0],\"type\":\"scatter\"},{\"mode\":\"lines+markers\",\"name\":\"user_15\",\"x\":[0,1,2,3,4,5,6,7,8,9,10,11,12,13,14,15,16],\"y\":[0.0,0.0,0.0,0.0,0.0,0.0,0.0,0.0,0.0,0.0,0.0,0.0,0.0,0.0,0.0,0.0,0.0],\"type\":\"scatter\"},{\"mode\":\"lines+markers\",\"name\":\"user_16\",\"x\":[0,1,2,3,4,5,6,7,8,9,10,11,12,13,14,15,16],\"y\":[0.0,0.0,0.0,0.0,0.0,0.0,0.0,0.0,0.0,0.0,0.0,0.0,0.0,0.0,0.0,3.0,3.0],\"type\":\"scatter\"},{\"mode\":\"lines+markers\",\"name\":\"user_17\",\"x\":[0,1,2,3,4,5,6,7,8,9,10,11,12,13,14,15,16],\"y\":[0.0,1.0,1.0,1.0,1.0,1.0,1.0,1.0,1.0,1.0,1.0,1.0,1.0,1.0,1.0,3.0,3.0],\"type\":\"scatter\"},{\"mode\":\"lines+markers\",\"name\":\"user_18\",\"x\":[0,1,2,3,4,5,6,7,8,9,10,11,12,13,14,15,16],\"y\":[0.0,0.0,0.0,0.0,0.0,0.0,0.0,0.0,0.0,0.0,0.0,0.0,0.0,0.0,7.0,7.0,8.0],\"type\":\"scatter\"},{\"mode\":\"lines+markers\",\"name\":\"user_19\",\"x\":[0,1,2,3,4,5,6,7,8,9,10,11,12,13,14,15,16],\"y\":[0.0,0.0,0.0,0.0,0.0,0.0,0.0,0.0,0.0,0.0,0.0,0.0,0.0,0.0,0.0,0.0,0.0],\"type\":\"scatter\"},{\"mode\":\"lines+markers\",\"name\":\"user_2\",\"x\":[0,1,2,3,4,5,6,7,8,9,10,11,12,13,14,15,16],\"y\":[0.0,0.0,0.0,0.0,0.0,0.0,0.0,0.0,57.0,58.0,58.0,58.0,58.0,62.0,74.0,78.0,93.0],\"type\":\"scatter\"},{\"mode\":\"lines+markers\",\"name\":\"user_20\",\"x\":[0,1,2,3,4,5,6,7,8,9,10,11,12,13,14,15,16],\"y\":[0.0,0.0,0.0,0.0,0.0,0.0,0.0,0.0,0.0,0.0,0.0,0.0,0.0,0.0,11.0,11.0,11.0],\"type\":\"scatter\"},{\"mode\":\"lines+markers\",\"name\":\"user_21\",\"x\":[0,1,2,3,4,5,6,7,8,9,10,11,12,13,14,15,16],\"y\":[0.0,0.0,0.0,0.0,0.0,0.0,0.0,0.0,0.0,0.0,0.0,0.0,0.0,7.0,7.0,7.0,7.0],\"type\":\"scatter\"},{\"mode\":\"lines+markers\",\"name\":\"user_22\",\"x\":[0,1,2,3,4,5,6,7,8,9,10,11,12,13,14,15,16],\"y\":[0.0,0.0,0.0,0.0,0.0,0.0,1.0,1.0,1.0,1.0,1.0,1.0,1.0,1.0,1.0,1.0,1.0],\"type\":\"scatter\"},{\"mode\":\"lines+markers\",\"name\":\"user_24\",\"x\":[0,1,2,3,4,5,6,7,8,9,10,11,12,13,14,15,16],\"y\":[0.0,0.0,0.0,0.0,0.0,0.0,0.0,0.0,0.0,0.0,0.0,0.0,0.0,0.0,0.0,0.0,9.0],\"type\":\"scatter\"},{\"mode\":\"lines+markers\",\"name\":\"user_25\",\"x\":[0,1,2,3,4,5,6,7,8,9,10,11,12,13,14,15,16],\"y\":[0.0,0.0,0.0,0.0,0.0,0.0,0.0,0.0,0.0,0.0,0.0,5.0,27.0,29.0,33.0,54.0,57.0],\"type\":\"scatter\"},{\"mode\":\"lines+markers\",\"name\":\"user_26\",\"x\":[0,1,2,3,4,5,6,7,8,9,10,11,12,13,14,15,16],\"y\":[0.0,0.0,0.0,0.0,0.0,0.0,0.0,0.0,0.0,0.0,0.0,0.0,0.0,35.0,35.0,35.0,52.0],\"type\":\"scatter\"},{\"mode\":\"lines+markers\",\"name\":\"user_27\",\"x\":[0,1,2,3,4,5,6,7,8,9,10,11,12,13,14,15,16],\"y\":[0.0,0.0,0.0,0.0,0.0,0.0,0.0,0.0,0.0,0.0,0.0,0.0,0.0,0.0,0.0,0.0,0.0],\"type\":\"scatter\"},{\"mode\":\"lines+markers\",\"name\":\"user_28\",\"x\":[0,1,2,3,4,5,6,7,8,9,10,11,12,13,14,15,16],\"y\":[0.0,0.0,0.0,0.0,0.0,0.0,0.0,0.0,0.0,0.0,0.0,0.0,0.0,0.0,0.0,2.0,20.0],\"type\":\"scatter\"},{\"mode\":\"lines+markers\",\"name\":\"user_29\",\"x\":[0,1,2,3,4,5,6,7,8,9,10,11,12,13,14,15,16],\"y\":[0.0,0.0,0.0,0.0,0.0,0.0,0.0,0.0,0.0,0.0,0.0,0.0,0.0,0.0,5.0,18.0,34.0],\"type\":\"scatter\"},{\"mode\":\"lines+markers\",\"name\":\"user_3\",\"x\":[0,1,2,3,4,5,6,7,8,9,10,11,12,13,14,15,16],\"y\":[0.0,0.0,0.0,0.0,0.0,0.0,0.0,0.0,0.0,0.0,1.0,28.0,29.0,31.0,54.0,56.0,56.0],\"type\":\"scatter\"},{\"mode\":\"lines+markers\",\"name\":\"user_30\",\"x\":[0,1,2,3,4,5,6,7,8,9,10,11,12,13,14,15,16],\"y\":[0.0,0.0,0.0,1.0,2.0,2.0,4.0,5.0,5.0,5.0,12.0,12.0,12.0,17.0,17.0,17.0,17.0],\"type\":\"scatter\"},{\"mode\":\"lines+markers\",\"name\":\"user_31\",\"x\":[0,1,2,3,4,5,6,7,8,9,10,11,12,13,14,15,16],\"y\":[0.0,0.0,0.0,0.0,0.0,0.0,0.0,0.0,0.0,0.0,1.0,1.0,4.0,4.0,6.0,6.0,6.0],\"type\":\"scatter\"},{\"mode\":\"lines+markers\",\"name\":\"user_4\",\"x\":[0,1,2,3,4,5,6,7,8,9,10,11,12,13,14,15,16],\"y\":[7.0,7.0,11.0,11.0,20.0,27.0,35.0,48.0,53.0,53.0,71.0,83.0,83.0,83.0,87.0,125.0,137.0],\"type\":\"scatter\"},{\"mode\":\"lines+markers\",\"name\":\"user_6\",\"x\":[0,1,2,3,4,5,6,7,8,9,10,11,12,13,14,15,16],\"y\":[0.0,0.0,0.0,0.0,0.0,0.0,0.0,0.0,0.0,0.0,0.0,0.0,0.0,0.0,0.0,0.0,1.0],\"type\":\"scatter\"},{\"mode\":\"lines+markers\",\"name\":\"user_8\",\"x\":[0,1,2,3,4,5,6,7,8,9,10,11,12,13,14,15,16],\"y\":[0.0,0.0,0.0,0.0,0.0,0.0,0.0,0.0,0.0,0.0,0.0,0.0,0.0,0.0,0.0,0.0,0.0],\"type\":\"scatter\"}]},{\"data\":[{\"mode\":\"lines+markers\",\"name\":\"user_1\",\"x\":[0,1,2,3,4,5,6,7,8,9,10,11,12,13,14,15,16,17],\"y\":[0.0,0.0,0.0,0.0,0.0,0.0,0.0,0.0,0.0,0.0,0.0,0.0,0.0,0.0,0.0,0.0,0.0,11.0],\"type\":\"scatter\"},{\"mode\":\"lines+markers\",\"name\":\"user_10\",\"x\":[0,1,2,3,4,5,6,7,8,9,10,11,12,13,14,15,16,17],\"y\":[0.0,0.0,0.0,0.0,0.0,0.0,0.0,0.0,0.0,0.0,0.0,0.0,0.0,0.0,0.0,7.0,21.0,59.0],\"type\":\"scatter\"},{\"mode\":\"lines+markers\",\"name\":\"user_11\",\"x\":[0,1,2,3,4,5,6,7,8,9,10,11,12,13,14,15,16,17],\"y\":[0.0,0.0,0.0,0.0,0.0,0.0,1.0,1.0,1.0,1.0,1.0,1.0,1.0,1.0,1.0,1.0,1.0,1.0],\"type\":\"scatter\"},{\"mode\":\"lines+markers\",\"name\":\"user_12\",\"x\":[0,1,2,3,4,5,6,7,8,9,10,11,12,13,14,15,16,17],\"y\":[0.0,0.0,0.0,0.0,0.0,0.0,0.0,0.0,0.0,0.0,0.0,0.0,0.0,0.0,0.0,0.0,0.0,4.0],\"type\":\"scatter\"},{\"mode\":\"lines+markers\",\"name\":\"user_13\",\"x\":[0,1,2,3,4,5,6,7,8,9,10,11,12,13,14,15,16,17],\"y\":[0.0,0.0,0.0,0.0,0.0,0.0,0.0,0.0,0.0,0.0,0.0,0.0,0.0,0.0,2.0,30.0,30.0,32.0],\"type\":\"scatter\"},{\"mode\":\"lines+markers\",\"name\":\"user_14\",\"x\":[0,1,2,3,4,5,6,7,8,9,10,11,12,13,14,15,16,17],\"y\":[0.0,0.0,0.0,0.0,0.0,0.0,0.0,0.0,1.0,1.0,1.0,1.0,18.0,25.0,49.0,92.0,92.0,99.0],\"type\":\"scatter\"},{\"mode\":\"lines+markers\",\"name\":\"user_15\",\"x\":[0,1,2,3,4,5,6,7,8,9,10,11,12,13,14,15,16,17],\"y\":[0.0,0.0,0.0,0.0,0.0,0.0,0.0,0.0,0.0,0.0,0.0,0.0,0.0,0.0,0.0,0.0,0.0,3.0],\"type\":\"scatter\"},{\"mode\":\"lines+markers\",\"name\":\"user_16\",\"x\":[0,1,2,3,4,5,6,7,8,9,10,11,12,13,14,15,16,17],\"y\":[0.0,0.0,0.0,0.0,0.0,0.0,0.0,0.0,0.0,0.0,0.0,0.0,0.0,0.0,0.0,3.0,3.0,10.0],\"type\":\"scatter\"},{\"mode\":\"lines+markers\",\"name\":\"user_17\",\"x\":[0,1,2,3,4,5,6,7,8,9,10,11,12,13,14,15,16,17],\"y\":[0.0,1.0,1.0,1.0,1.0,1.0,1.0,1.0,1.0,1.0,1.0,1.0,1.0,1.0,1.0,3.0,3.0,6.0],\"type\":\"scatter\"},{\"mode\":\"lines+markers\",\"name\":\"user_18\",\"x\":[0,1,2,3,4,5,6,7,8,9,10,11,12,13,14,15,16,17],\"y\":[0.0,0.0,0.0,0.0,0.0,0.0,0.0,0.0,0.0,0.0,0.0,0.0,0.0,0.0,7.0,7.0,8.0,31.0],\"type\":\"scatter\"},{\"mode\":\"lines+markers\",\"name\":\"user_19\",\"x\":[0,1,2,3,4,5,6,7,8,9,10,11,12,13,14,15,16,17],\"y\":[0.0,0.0,0.0,0.0,0.0,0.0,0.0,0.0,0.0,0.0,0.0,0.0,0.0,0.0,0.0,0.0,0.0,25.0],\"type\":\"scatter\"},{\"mode\":\"lines+markers\",\"name\":\"user_2\",\"x\":[0,1,2,3,4,5,6,7,8,9,10,11,12,13,14,15,16,17],\"y\":[0.0,0.0,0.0,0.0,0.0,0.0,0.0,0.0,57.0,58.0,58.0,58.0,58.0,62.0,74.0,78.0,93.0,95.0],\"type\":\"scatter\"},{\"mode\":\"lines+markers\",\"name\":\"user_20\",\"x\":[0,1,2,3,4,5,6,7,8,9,10,11,12,13,14,15,16,17],\"y\":[0.0,0.0,0.0,0.0,0.0,0.0,0.0,0.0,0.0,0.0,0.0,0.0,0.0,0.0,11.0,11.0,11.0,54.0],\"type\":\"scatter\"},{\"mode\":\"lines+markers\",\"name\":\"user_21\",\"x\":[0,1,2,3,4,5,6,7,8,9,10,11,12,13,14,15,16,17],\"y\":[0.0,0.0,0.0,0.0,0.0,0.0,0.0,0.0,0.0,0.0,0.0,0.0,0.0,7.0,7.0,7.0,7.0,9.0],\"type\":\"scatter\"},{\"mode\":\"lines+markers\",\"name\":\"user_22\",\"x\":[0,1,2,3,4,5,6,7,8,9,10,11,12,13,14,15,16,17],\"y\":[0.0,0.0,0.0,0.0,0.0,0.0,1.0,1.0,1.0,1.0,1.0,1.0,1.0,1.0,1.0,1.0,1.0,2.0],\"type\":\"scatter\"},{\"mode\":\"lines+markers\",\"name\":\"user_24\",\"x\":[0,1,2,3,4,5,6,7,8,9,10,11,12,13,14,15,16,17],\"y\":[0.0,0.0,0.0,0.0,0.0,0.0,0.0,0.0,0.0,0.0,0.0,0.0,0.0,0.0,0.0,0.0,9.0,34.0],\"type\":\"scatter\"},{\"mode\":\"lines+markers\",\"name\":\"user_25\",\"x\":[0,1,2,3,4,5,6,7,8,9,10,11,12,13,14,15,16,17],\"y\":[0.0,0.0,0.0,0.0,0.0,0.0,0.0,0.0,0.0,0.0,0.0,5.0,27.0,29.0,33.0,54.0,57.0,77.0],\"type\":\"scatter\"},{\"mode\":\"lines+markers\",\"name\":\"user_26\",\"x\":[0,1,2,3,4,5,6,7,8,9,10,11,12,13,14,15,16,17],\"y\":[0.0,0.0,0.0,0.0,0.0,0.0,0.0,0.0,0.0,0.0,0.0,0.0,0.0,35.0,35.0,35.0,52.0,67.0],\"type\":\"scatter\"},{\"mode\":\"lines+markers\",\"name\":\"user_27\",\"x\":[0,1,2,3,4,5,6,7,8,9,10,11,12,13,14,15,16,17],\"y\":[0.0,0.0,0.0,0.0,0.0,0.0,0.0,0.0,0.0,0.0,0.0,0.0,0.0,0.0,0.0,0.0,0.0,8.0],\"type\":\"scatter\"},{\"mode\":\"lines+markers\",\"name\":\"user_28\",\"x\":[0,1,2,3,4,5,6,7,8,9,10,11,12,13,14,15,16,17],\"y\":[0.0,0.0,0.0,0.0,0.0,0.0,0.0,0.0,0.0,0.0,0.0,0.0,0.0,0.0,0.0,2.0,20.0,26.0],\"type\":\"scatter\"},{\"mode\":\"lines+markers\",\"name\":\"user_29\",\"x\":[0,1,2,3,4,5,6,7,8,9,10,11,12,13,14,15,16,17],\"y\":[0.0,0.0,0.0,0.0,0.0,0.0,0.0,0.0,0.0,0.0,0.0,0.0,0.0,0.0,5.0,18.0,34.0,35.0],\"type\":\"scatter\"},{\"mode\":\"lines+markers\",\"name\":\"user_3\",\"x\":[0,1,2,3,4,5,6,7,8,9,10,11,12,13,14,15,16,17],\"y\":[0.0,0.0,0.0,0.0,0.0,0.0,0.0,0.0,0.0,0.0,1.0,28.0,29.0,31.0,54.0,56.0,56.0,58.0],\"type\":\"scatter\"},{\"mode\":\"lines+markers\",\"name\":\"user_30\",\"x\":[0,1,2,3,4,5,6,7,8,9,10,11,12,13,14,15,16,17],\"y\":[0.0,0.0,0.0,1.0,2.0,2.0,4.0,5.0,5.0,5.0,12.0,12.0,12.0,17.0,17.0,17.0,17.0,19.0],\"type\":\"scatter\"},{\"mode\":\"lines+markers\",\"name\":\"user_31\",\"x\":[0,1,2,3,4,5,6,7,8,9,10,11,12,13,14,15,16,17],\"y\":[0.0,0.0,0.0,0.0,0.0,0.0,0.0,0.0,0.0,0.0,1.0,1.0,4.0,4.0,6.0,6.0,6.0,8.0],\"type\":\"scatter\"},{\"mode\":\"lines+markers\",\"name\":\"user_4\",\"x\":[0,1,2,3,4,5,6,7,8,9,10,11,12,13,14,15,16,17],\"y\":[7.0,7.0,11.0,11.0,20.0,27.0,35.0,48.0,53.0,53.0,71.0,83.0,83.0,83.0,87.0,125.0,137.0,164.0],\"type\":\"scatter\"},{\"mode\":\"lines+markers\",\"name\":\"user_6\",\"x\":[0,1,2,3,4,5,6,7,8,9,10,11,12,13,14,15,16,17],\"y\":[0.0,0.0,0.0,0.0,0.0,0.0,0.0,0.0,0.0,0.0,0.0,0.0,0.0,0.0,0.0,0.0,1.0,2.0],\"type\":\"scatter\"},{\"mode\":\"lines+markers\",\"name\":\"user_8\",\"x\":[0,1,2,3,4,5,6,7,8,9,10,11,12,13,14,15,16,17],\"y\":[0.0,0.0,0.0,0.0,0.0,0.0,0.0,0.0,0.0,0.0,0.0,0.0,0.0,0.0,0.0,0.0,0.0,8.0],\"type\":\"scatter\"}]},{\"data\":[{\"mode\":\"lines+markers\",\"name\":\"user_1\",\"x\":[0,1,2,3,4,5,6,7,8,9,10,11,12,13,14,15,16,17,18],\"y\":[0.0,0.0,0.0,0.0,0.0,0.0,0.0,0.0,0.0,0.0,0.0,0.0,0.0,0.0,0.0,0.0,0.0,11.0,11.0],\"type\":\"scatter\"},{\"mode\":\"lines+markers\",\"name\":\"user_10\",\"x\":[0,1,2,3,4,5,6,7,8,9,10,11,12,13,14,15,16,17,18],\"y\":[0.0,0.0,0.0,0.0,0.0,0.0,0.0,0.0,0.0,0.0,0.0,0.0,0.0,0.0,0.0,7.0,21.0,59.0,59.0],\"type\":\"scatter\"},{\"mode\":\"lines+markers\",\"name\":\"user_11\",\"x\":[0,1,2,3,4,5,6,7,8,9,10,11,12,13,14,15,16,17,18],\"y\":[0.0,0.0,0.0,0.0,0.0,0.0,1.0,1.0,1.0,1.0,1.0,1.0,1.0,1.0,1.0,1.0,1.0,1.0,1.0],\"type\":\"scatter\"},{\"mode\":\"lines+markers\",\"name\":\"user_12\",\"x\":[0,1,2,3,4,5,6,7,8,9,10,11,12,13,14,15,16,17,18],\"y\":[0.0,0.0,0.0,0.0,0.0,0.0,0.0,0.0,0.0,0.0,0.0,0.0,0.0,0.0,0.0,0.0,0.0,4.0,4.0],\"type\":\"scatter\"},{\"mode\":\"lines+markers\",\"name\":\"user_13\",\"x\":[0,1,2,3,4,5,6,7,8,9,10,11,12,13,14,15,16,17,18],\"y\":[0.0,0.0,0.0,0.0,0.0,0.0,0.0,0.0,0.0,0.0,0.0,0.0,0.0,0.0,2.0,30.0,30.0,32.0,32.0],\"type\":\"scatter\"},{\"mode\":\"lines+markers\",\"name\":\"user_14\",\"x\":[0,1,2,3,4,5,6,7,8,9,10,11,12,13,14,15,16,17,18],\"y\":[0.0,0.0,0.0,0.0,0.0,0.0,0.0,0.0,1.0,1.0,1.0,1.0,18.0,25.0,49.0,92.0,92.0,99.0,99.0],\"type\":\"scatter\"},{\"mode\":\"lines+markers\",\"name\":\"user_15\",\"x\":[0,1,2,3,4,5,6,7,8,9,10,11,12,13,14,15,16,17,18],\"y\":[0.0,0.0,0.0,0.0,0.0,0.0,0.0,0.0,0.0,0.0,0.0,0.0,0.0,0.0,0.0,0.0,0.0,3.0,3.0],\"type\":\"scatter\"},{\"mode\":\"lines+markers\",\"name\":\"user_16\",\"x\":[0,1,2,3,4,5,6,7,8,9,10,11,12,13,14,15,16,17,18],\"y\":[0.0,0.0,0.0,0.0,0.0,0.0,0.0,0.0,0.0,0.0,0.0,0.0,0.0,0.0,0.0,3.0,3.0,10.0,10.0],\"type\":\"scatter\"},{\"mode\":\"lines+markers\",\"name\":\"user_17\",\"x\":[0,1,2,3,4,5,6,7,8,9,10,11,12,13,14,15,16,17,18],\"y\":[0.0,1.0,1.0,1.0,1.0,1.0,1.0,1.0,1.0,1.0,1.0,1.0,1.0,1.0,1.0,3.0,3.0,6.0,6.0],\"type\":\"scatter\"},{\"mode\":\"lines+markers\",\"name\":\"user_18\",\"x\":[0,1,2,3,4,5,6,7,8,9,10,11,12,13,14,15,16,17,18],\"y\":[0.0,0.0,0.0,0.0,0.0,0.0,0.0,0.0,0.0,0.0,0.0,0.0,0.0,0.0,7.0,7.0,8.0,31.0,31.0],\"type\":\"scatter\"},{\"mode\":\"lines+markers\",\"name\":\"user_19\",\"x\":[0,1,2,3,4,5,6,7,8,9,10,11,12,13,14,15,16,17,18],\"y\":[0.0,0.0,0.0,0.0,0.0,0.0,0.0,0.0,0.0,0.0,0.0,0.0,0.0,0.0,0.0,0.0,0.0,25.0,29.0],\"type\":\"scatter\"},{\"mode\":\"lines+markers\",\"name\":\"user_2\",\"x\":[0,1,2,3,4,5,6,7,8,9,10,11,12,13,14,15,16,17,18],\"y\":[0.0,0.0,0.0,0.0,0.0,0.0,0.0,0.0,57.0,58.0,58.0,58.0,58.0,62.0,74.0,78.0,93.0,95.0,95.0],\"type\":\"scatter\"},{\"mode\":\"lines+markers\",\"name\":\"user_20\",\"x\":[0,1,2,3,4,5,6,7,8,9,10,11,12,13,14,15,16,17,18],\"y\":[0.0,0.0,0.0,0.0,0.0,0.0,0.0,0.0,0.0,0.0,0.0,0.0,0.0,0.0,11.0,11.0,11.0,54.0,54.0],\"type\":\"scatter\"},{\"mode\":\"lines+markers\",\"name\":\"user_21\",\"x\":[0,1,2,3,4,5,6,7,8,9,10,11,12,13,14,15,16,17,18],\"y\":[0.0,0.0,0.0,0.0,0.0,0.0,0.0,0.0,0.0,0.0,0.0,0.0,0.0,7.0,7.0,7.0,7.0,9.0,9.0],\"type\":\"scatter\"},{\"mode\":\"lines+markers\",\"name\":\"user_22\",\"x\":[0,1,2,3,4,5,6,7,8,9,10,11,12,13,14,15,16,17,18],\"y\":[0.0,0.0,0.0,0.0,0.0,0.0,1.0,1.0,1.0,1.0,1.0,1.0,1.0,1.0,1.0,1.0,1.0,2.0,2.0],\"type\":\"scatter\"},{\"mode\":\"lines+markers\",\"name\":\"user_24\",\"x\":[0,1,2,3,4,5,6,7,8,9,10,11,12,13,14,15,16,17,18],\"y\":[0.0,0.0,0.0,0.0,0.0,0.0,0.0,0.0,0.0,0.0,0.0,0.0,0.0,0.0,0.0,0.0,9.0,34.0,34.0],\"type\":\"scatter\"},{\"mode\":\"lines+markers\",\"name\":\"user_25\",\"x\":[0,1,2,3,4,5,6,7,8,9,10,11,12,13,14,15,16,17,18],\"y\":[0.0,0.0,0.0,0.0,0.0,0.0,0.0,0.0,0.0,0.0,0.0,5.0,27.0,29.0,33.0,54.0,57.0,77.0,77.0],\"type\":\"scatter\"},{\"mode\":\"lines+markers\",\"name\":\"user_26\",\"x\":[0,1,2,3,4,5,6,7,8,9,10,11,12,13,14,15,16,17,18],\"y\":[0.0,0.0,0.0,0.0,0.0,0.0,0.0,0.0,0.0,0.0,0.0,0.0,0.0,35.0,35.0,35.0,52.0,67.0,67.0],\"type\":\"scatter\"},{\"mode\":\"lines+markers\",\"name\":\"user_27\",\"x\":[0,1,2,3,4,5,6,7,8,9,10,11,12,13,14,15,16,17,18],\"y\":[0.0,0.0,0.0,0.0,0.0,0.0,0.0,0.0,0.0,0.0,0.0,0.0,0.0,0.0,0.0,0.0,0.0,8.0,8.0],\"type\":\"scatter\"},{\"mode\":\"lines+markers\",\"name\":\"user_28\",\"x\":[0,1,2,3,4,5,6,7,8,9,10,11,12,13,14,15,16,17,18],\"y\":[0.0,0.0,0.0,0.0,0.0,0.0,0.0,0.0,0.0,0.0,0.0,0.0,0.0,0.0,0.0,2.0,20.0,26.0,27.0],\"type\":\"scatter\"},{\"mode\":\"lines+markers\",\"name\":\"user_29\",\"x\":[0,1,2,3,4,5,6,7,8,9,10,11,12,13,14,15,16,17,18],\"y\":[0.0,0.0,0.0,0.0,0.0,0.0,0.0,0.0,0.0,0.0,0.0,0.0,0.0,0.0,5.0,18.0,34.0,35.0,35.0],\"type\":\"scatter\"},{\"mode\":\"lines+markers\",\"name\":\"user_3\",\"x\":[0,1,2,3,4,5,6,7,8,9,10,11,12,13,14,15,16,17,18],\"y\":[0.0,0.0,0.0,0.0,0.0,0.0,0.0,0.0,0.0,0.0,1.0,28.0,29.0,31.0,54.0,56.0,56.0,58.0,58.0],\"type\":\"scatter\"},{\"mode\":\"lines+markers\",\"name\":\"user_30\",\"x\":[0,1,2,3,4,5,6,7,8,9,10,11,12,13,14,15,16,17,18],\"y\":[0.0,0.0,0.0,1.0,2.0,2.0,4.0,5.0,5.0,5.0,12.0,12.0,12.0,17.0,17.0,17.0,17.0,19.0,19.0],\"type\":\"scatter\"},{\"mode\":\"lines+markers\",\"name\":\"user_31\",\"x\":[0,1,2,3,4,5,6,7,8,9,10,11,12,13,14,15,16,17,18],\"y\":[0.0,0.0,0.0,0.0,0.0,0.0,0.0,0.0,0.0,0.0,1.0,1.0,4.0,4.0,6.0,6.0,6.0,8.0,8.0],\"type\":\"scatter\"},{\"mode\":\"lines+markers\",\"name\":\"user_4\",\"x\":[0,1,2,3,4,5,6,7,8,9,10,11,12,13,14,15,16,17,18],\"y\":[7.0,7.0,11.0,11.0,20.0,27.0,35.0,48.0,53.0,53.0,71.0,83.0,83.0,83.0,87.0,125.0,137.0,164.0,164.0],\"type\":\"scatter\"},{\"mode\":\"lines+markers\",\"name\":\"user_6\",\"x\":[0,1,2,3,4,5,6,7,8,9,10,11,12,13,14,15,16,17,18],\"y\":[0.0,0.0,0.0,0.0,0.0,0.0,0.0,0.0,0.0,0.0,0.0,0.0,0.0,0.0,0.0,0.0,1.0,2.0,2.0],\"type\":\"scatter\"},{\"mode\":\"lines+markers\",\"name\":\"user_8\",\"x\":[0,1,2,3,4,5,6,7,8,9,10,11,12,13,14,15,16,17,18],\"y\":[0.0,0.0,0.0,0.0,0.0,0.0,0.0,0.0,0.0,0.0,0.0,0.0,0.0,0.0,0.0,0.0,0.0,8.0,8.0],\"type\":\"scatter\"}]},{\"data\":[{\"mode\":\"lines+markers\",\"name\":\"user_1\",\"x\":[0,1,2,3,4,5,6,7,8,9,10,11,12,13,14,15,16,17,18,19],\"y\":[0.0,0.0,0.0,0.0,0.0,0.0,0.0,0.0,0.0,0.0,0.0,0.0,0.0,0.0,0.0,0.0,0.0,11.0,11.0],\"type\":\"scatter\"},{\"mode\":\"lines+markers\",\"name\":\"user_10\",\"x\":[0,1,2,3,4,5,6,7,8,9,10,11,12,13,14,15,16,17,18,19],\"y\":[0.0,0.0,0.0,0.0,0.0,0.0,0.0,0.0,0.0,0.0,0.0,0.0,0.0,0.0,0.0,7.0,21.0,59.0,59.0],\"type\":\"scatter\"},{\"mode\":\"lines+markers\",\"name\":\"user_11\",\"x\":[0,1,2,3,4,5,6,7,8,9,10,11,12,13,14,15,16,17,18,19],\"y\":[0.0,0.0,0.0,0.0,0.0,0.0,1.0,1.0,1.0,1.0,1.0,1.0,1.0,1.0,1.0,1.0,1.0,1.0,1.0],\"type\":\"scatter\"},{\"mode\":\"lines+markers\",\"name\":\"user_12\",\"x\":[0,1,2,3,4,5,6,7,8,9,10,11,12,13,14,15,16,17,18,19],\"y\":[0.0,0.0,0.0,0.0,0.0,0.0,0.0,0.0,0.0,0.0,0.0,0.0,0.0,0.0,0.0,0.0,0.0,4.0,4.0],\"type\":\"scatter\"},{\"mode\":\"lines+markers\",\"name\":\"user_13\",\"x\":[0,1,2,3,4,5,6,7,8,9,10,11,12,13,14,15,16,17,18,19],\"y\":[0.0,0.0,0.0,0.0,0.0,0.0,0.0,0.0,0.0,0.0,0.0,0.0,0.0,0.0,2.0,30.0,30.0,32.0,32.0],\"type\":\"scatter\"},{\"mode\":\"lines+markers\",\"name\":\"user_14\",\"x\":[0,1,2,3,4,5,6,7,8,9,10,11,12,13,14,15,16,17,18,19],\"y\":[0.0,0.0,0.0,0.0,0.0,0.0,0.0,0.0,1.0,1.0,1.0,1.0,18.0,25.0,49.0,92.0,92.0,99.0,99.0],\"type\":\"scatter\"},{\"mode\":\"lines+markers\",\"name\":\"user_15\",\"x\":[0,1,2,3,4,5,6,7,8,9,10,11,12,13,14,15,16,17,18,19],\"y\":[0.0,0.0,0.0,0.0,0.0,0.0,0.0,0.0,0.0,0.0,0.0,0.0,0.0,0.0,0.0,0.0,0.0,3.0,3.0],\"type\":\"scatter\"},{\"mode\":\"lines+markers\",\"name\":\"user_16\",\"x\":[0,1,2,3,4,5,6,7,8,9,10,11,12,13,14,15,16,17,18,19],\"y\":[0.0,0.0,0.0,0.0,0.0,0.0,0.0,0.0,0.0,0.0,0.0,0.0,0.0,0.0,0.0,3.0,3.0,10.0,10.0],\"type\":\"scatter\"},{\"mode\":\"lines+markers\",\"name\":\"user_17\",\"x\":[0,1,2,3,4,5,6,7,8,9,10,11,12,13,14,15,16,17,18,19],\"y\":[0.0,1.0,1.0,1.0,1.0,1.0,1.0,1.0,1.0,1.0,1.0,1.0,1.0,1.0,1.0,3.0,3.0,6.0,6.0],\"type\":\"scatter\"},{\"mode\":\"lines+markers\",\"name\":\"user_18\",\"x\":[0,1,2,3,4,5,6,7,8,9,10,11,12,13,14,15,16,17,18,19],\"y\":[0.0,0.0,0.0,0.0,0.0,0.0,0.0,0.0,0.0,0.0,0.0,0.0,0.0,0.0,7.0,7.0,8.0,31.0,31.0],\"type\":\"scatter\"},{\"mode\":\"lines+markers\",\"name\":\"user_19\",\"x\":[0,1,2,3,4,5,6,7,8,9,10,11,12,13,14,15,16,17,18,19],\"y\":[0.0,0.0,0.0,0.0,0.0,0.0,0.0,0.0,0.0,0.0,0.0,0.0,0.0,0.0,0.0,0.0,0.0,25.0,29.0],\"type\":\"scatter\"},{\"mode\":\"lines+markers\",\"name\":\"user_2\",\"x\":[0,1,2,3,4,5,6,7,8,9,10,11,12,13,14,15,16,17,18,19],\"y\":[0.0,0.0,0.0,0.0,0.0,0.0,0.0,0.0,57.0,58.0,58.0,58.0,58.0,62.0,74.0,78.0,93.0,95.0,95.0],\"type\":\"scatter\"},{\"mode\":\"lines+markers\",\"name\":\"user_20\",\"x\":[0,1,2,3,4,5,6,7,8,9,10,11,12,13,14,15,16,17,18,19],\"y\":[0.0,0.0,0.0,0.0,0.0,0.0,0.0,0.0,0.0,0.0,0.0,0.0,0.0,0.0,11.0,11.0,11.0,54.0,54.0],\"type\":\"scatter\"},{\"mode\":\"lines+markers\",\"name\":\"user_21\",\"x\":[0,1,2,3,4,5,6,7,8,9,10,11,12,13,14,15,16,17,18,19],\"y\":[0.0,0.0,0.0,0.0,0.0,0.0,0.0,0.0,0.0,0.0,0.0,0.0,0.0,7.0,7.0,7.0,7.0,9.0,9.0],\"type\":\"scatter\"},{\"mode\":\"lines+markers\",\"name\":\"user_22\",\"x\":[0,1,2,3,4,5,6,7,8,9,10,11,12,13,14,15,16,17,18,19],\"y\":[0.0,0.0,0.0,0.0,0.0,0.0,1.0,1.0,1.0,1.0,1.0,1.0,1.0,1.0,1.0,1.0,1.0,2.0,2.0],\"type\":\"scatter\"},{\"mode\":\"lines+markers\",\"name\":\"user_24\",\"x\":[0,1,2,3,4,5,6,7,8,9,10,11,12,13,14,15,16,17,18,19],\"y\":[0.0,0.0,0.0,0.0,0.0,0.0,0.0,0.0,0.0,0.0,0.0,0.0,0.0,0.0,0.0,0.0,9.0,34.0,34.0],\"type\":\"scatter\"},{\"mode\":\"lines+markers\",\"name\":\"user_25\",\"x\":[0,1,2,3,4,5,6,7,8,9,10,11,12,13,14,15,16,17,18,19],\"y\":[0.0,0.0,0.0,0.0,0.0,0.0,0.0,0.0,0.0,0.0,0.0,5.0,27.0,29.0,33.0,54.0,57.0,77.0,77.0],\"type\":\"scatter\"},{\"mode\":\"lines+markers\",\"name\":\"user_26\",\"x\":[0,1,2,3,4,5,6,7,8,9,10,11,12,13,14,15,16,17,18,19],\"y\":[0.0,0.0,0.0,0.0,0.0,0.0,0.0,0.0,0.0,0.0,0.0,0.0,0.0,35.0,35.0,35.0,52.0,67.0,67.0],\"type\":\"scatter\"},{\"mode\":\"lines+markers\",\"name\":\"user_27\",\"x\":[0,1,2,3,4,5,6,7,8,9,10,11,12,13,14,15,16,17,18,19],\"y\":[0.0,0.0,0.0,0.0,0.0,0.0,0.0,0.0,0.0,0.0,0.0,0.0,0.0,0.0,0.0,0.0,0.0,8.0,8.0],\"type\":\"scatter\"},{\"mode\":\"lines+markers\",\"name\":\"user_28\",\"x\":[0,1,2,3,4,5,6,7,8,9,10,11,12,13,14,15,16,17,18,19],\"y\":[0.0,0.0,0.0,0.0,0.0,0.0,0.0,0.0,0.0,0.0,0.0,0.0,0.0,0.0,0.0,2.0,20.0,26.0,27.0],\"type\":\"scatter\"},{\"mode\":\"lines+markers\",\"name\":\"user_29\",\"x\":[0,1,2,3,4,5,6,7,8,9,10,11,12,13,14,15,16,17,18,19],\"y\":[0.0,0.0,0.0,0.0,0.0,0.0,0.0,0.0,0.0,0.0,0.0,0.0,0.0,0.0,5.0,18.0,34.0,35.0,35.0],\"type\":\"scatter\"},{\"mode\":\"lines+markers\",\"name\":\"user_3\",\"x\":[0,1,2,3,4,5,6,7,8,9,10,11,12,13,14,15,16,17,18,19],\"y\":[0.0,0.0,0.0,0.0,0.0,0.0,0.0,0.0,0.0,0.0,1.0,28.0,29.0,31.0,54.0,56.0,56.0,58.0,58.0],\"type\":\"scatter\"},{\"mode\":\"lines+markers\",\"name\":\"user_30\",\"x\":[0,1,2,3,4,5,6,7,8,9,10,11,12,13,14,15,16,17,18,19],\"y\":[0.0,0.0,0.0,1.0,2.0,2.0,4.0,5.0,5.0,5.0,12.0,12.0,12.0,17.0,17.0,17.0,17.0,19.0,19.0],\"type\":\"scatter\"},{\"mode\":\"lines+markers\",\"name\":\"user_31\",\"x\":[0,1,2,3,4,5,6,7,8,9,10,11,12,13,14,15,16,17,18,19],\"y\":[0.0,0.0,0.0,0.0,0.0,0.0,0.0,0.0,0.0,0.0,1.0,1.0,4.0,4.0,6.0,6.0,6.0,8.0,8.0],\"type\":\"scatter\"},{\"mode\":\"lines+markers\",\"name\":\"user_4\",\"x\":[0,1,2,3,4,5,6,7,8,9,10,11,12,13,14,15,16,17,18,19],\"y\":[7.0,7.0,11.0,11.0,20.0,27.0,35.0,48.0,53.0,53.0,71.0,83.0,83.0,83.0,87.0,125.0,137.0,164.0,164.0],\"type\":\"scatter\"},{\"mode\":\"lines+markers\",\"name\":\"user_6\",\"x\":[0,1,2,3,4,5,6,7,8,9,10,11,12,13,14,15,16,17,18,19],\"y\":[0.0,0.0,0.0,0.0,0.0,0.0,0.0,0.0,0.0,0.0,0.0,0.0,0.0,0.0,0.0,0.0,1.0,2.0,2.0],\"type\":\"scatter\"},{\"mode\":\"lines+markers\",\"name\":\"user_8\",\"x\":[0,1,2,3,4,5,6,7,8,9,10,11,12,13,14,15,16,17,18,19],\"y\":[0.0,0.0,0.0,0.0,0.0,0.0,0.0,0.0,0.0,0.0,0.0,0.0,0.0,0.0,0.0,0.0,0.0,8.0,8.0],\"type\":\"scatter\"}]}]);\n",
       "                        }).then(function(){\n",
       "                            \n",
       "var gd = document.getElementById('97dc8f19-970f-46cb-8e41-2d3c00e3a503');\n",
       "var x = new MutationObserver(function (mutations, observer) {{\n",
       "        var display = window.getComputedStyle(gd).display;\n",
       "        if (!display || display === 'none') {{\n",
       "            console.log([gd, 'removed!']);\n",
       "            Plotly.purge(gd);\n",
       "            observer.disconnect();\n",
       "        }}\n",
       "}});\n",
       "\n",
       "// Listen for the removal of the full notebook cells\n",
       "var notebookContainer = gd.closest('#notebook-container');\n",
       "if (notebookContainer) {{\n",
       "    x.observe(notebookContainer, {childList: true});\n",
       "}}\n",
       "\n",
       "// Listen for the clearing of the current output cell\n",
       "var outputEl = gd.closest('.output');\n",
       "if (outputEl) {{\n",
       "    x.observe(outputEl, {childList: true});\n",
       "}}\n",
       "\n",
       "                        })                };                });            </script>        </div>"
      ]
     },
     "metadata": {},
     "output_type": "display_data"
    }
   ],
   "source": [
    "fig = go.Figure(\n",
    "    data=initial_data,\n",
    "    layout={\n",
    "        'width': 1200,\n",
    "        'height': 600,\n",
    "        'title': 'Dynamic of commits per user in project1',\n",
    "        'xaxis': {'range': (0, len(df.columns) + 1), 'dtick': 2},\n",
    "        'yaxis': {'range': (0, round(max(df.max()) + 2, -1) + 1)},\n",
    "        'updatemenus': [{\n",
    "            'type': 'buttons',\n",
    "            'buttons': [{'method': 'animate', 'label': 'play', 'args': [None]}]\n",
    "            }]}, frames=frames)\n",
    "fig.show()"
   ]
  },
  {
   "cell_type": "code",
   "execution_count": 23,
   "metadata": {},
   "outputs": [],
   "source": [
    "conn.close()"
   ]
  }
 ],
 "metadata": {
  "kernelspec": {
   "display_name": "Python 3",
   "language": "python",
   "name": "python3"
  },
  "language_info": {
   "codemirror_mode": {
    "name": "ipython",
    "version": 3
   },
   "file_extension": ".py",
   "mimetype": "text/x-python",
   "name": "python",
   "nbconvert_exporter": "python",
   "pygments_lexer": "ipython3",
   "version": "3.10.12"
  }
 },
 "nbformat": 4,
 "nbformat_minor": 2
}
